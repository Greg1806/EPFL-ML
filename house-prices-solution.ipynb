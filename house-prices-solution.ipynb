{
 "cells": [
  {
   "cell_type": "markdown",
   "metadata": {},
   "source": [
    "## 3. Part 2 - House prices\n",
    "\n",
    "In this second part, you will work on the house prices data set assembled and published by Dean De Cock. It's a set of 2,930 observations with 82 attributes each. The goal is to use the first 2,430 ones to fit and evaluate different models and use them to make predictions for the last 500 ones. Note that we don't provide the prices for those 500 houses, your task is to estimate them.\n",
    "\n",
    "### Project files\n",
    "\n",
    "Download the $house-prices.zip$ archive from the resource section. You should see the following files\n",
    "\n",
    "* Detailed data description - documentation.txt\n",
    "* The 2,430 data points with prices - house-prices.csv\n",
    "* The remaining 500 without prices - house-prices-test.csv\n",
    "* Example submission file - predictions-example.csv\n",
    "* Data set source - source.txt\n",
    "\n",
    "Create a $house-prices-solution.ipynb$ notebook to write your analysis. The notebook should also run with the $exts-ml$ environment.\n",
    "\n",
    "### A quick look at the data\n",
    "\n",
    "Here are the first five entries from $house-prices.csv$\n",
    "\n",
    "https://d7whxh71cqykp.cloudfront.net/uploads/image/data/3784/houses-df.png\n",
    "\n",
    "You can find a detailed description of each variable in the $documentation.txt$ file, but there are a few things to know.\n",
    "\n",
    "* The $Order$ and PID variables are identifiers. They are not useful to predict house prices.\n",
    "* The variables are not necessarily encoded consistently. For instance, MS SubClass (the type of dwelling) and MS Zoning (zoning classification) are both categorical variables, but one is encoded with numerical values and the other with short labels.\n",
    "* The data isn't clean: there are incorrect and missing values, outliers and inconsistencies\n",
    "\n",
    "You should address all these issues during the **data cleaning** stage.\n",
    "\n",
    "### Data cleaning\n",
    "\n",
    "Your analysis should include the necessary **data cleaning steps**. For instance\n",
    "\n",
    "* Find and handle incorrect, missing values\n",
    "* Correct inconsistencies in the variables\n",
    "* Handle outliers\n",
    "\n",
    "You are free to choose your preferred approach to handle each step. For instance, you might want to replace missing values with the average or the most frequent value or create an missing category. In any case, **justify your choices!**\n",
    "\n",
    "### Feature encoding\n",
    "\n",
    "Your analysis should include the necessary **feature encoding steps**. The $documentation.txt$ file labels each variable with its type. For categorical ones, it uses the ordinal, nominal and discrete classification.\n",
    "\n",
    "* Ordinal variables - you can order the categories\n",
    "* Nominal variables - no possible ordering\n",
    "* Discrete variables - categories are integer values\n",
    "\n",
    "The encoding depends on the type of variable and its meaning. For instance, the kitchen quality variable is on a scale from excellent to poor. Hence, it's an ordinal variable, and you can choose to apply one-hot encoding or define a numerical scale ex. excellent corresponds to 5 and poor to 1. In any case, **justify your choices**!\n",
    "\n",
    "### Feature engineering\n",
    "\n",
    "Your analysis should also include **feature engineering**. Here are a few ideas\n",
    "\n",
    "* Create indicator variables ex. year of construction is older than some threshold\n",
    "* Transformations ex. log-transforms, polynomials\n",
    "\n",
    "Suggestion: write down your feature engineering ideas during the data exploration stage.\n",
    "\n",
    "*Warning: Be careful when adding total counts (ex. the total number of rooms, living surface) and other linear combinations of the input features. Those variables don't add \"modeling power\" to the model if you keep the original features in the data and can lead to ill-conditioning and numerical issues. On the other hand, if you create such variables and remove the original features, it can be seen as a way to compress the information on fewer dimensions which can be useful for the simple and intermediate models where the number of variables is limited.*"
   ]
  },
  {
   "cell_type": "markdown",
   "metadata": {},
   "source": [
    "### Model fitting\n",
    "\n",
    "Your analysis should include an appropriate **baseline** and evaluate three different models ranging in complexity\n",
    "\n",
    "* A **simple model** with two variables (three with the target variable)\n",
    "* An **intermediate model** (between 10 and 20 variables)\n",
    "* A **complex model** with all variables\n",
    "\n",
    "The number of variables is only given as an indication, it's not a strict range. Also, it corresponds to the variables count before one-hot encoding. For the simple and intermediate models, you can choose the variables. You are free to choose your preferred approach for this variable selection step, but you should include a short comment to **explain your choice**.\n",
    "\n",
    "*Example: I decide to choose variables v1, v2 and v3 for my simple model because I think that they provide a good overview of the house - or - I choose these variables because they are the most correlated with the target - or - I decide to test the SelectKBest object that I found in Scikit-learn to do automatic feature selection.*"
   ]
  },
  {
   "cell_type": "markdown",
   "metadata": {},
   "source": [
    "### Regularization\n",
    "\n",
    "Your analysis should include **regularization** for at least the complex model, tune its strength with **grid search** and plot the **validation curves.**\n",
    "\n",
    "### Communicating the results\n",
    "\n",
    "You are free to use any appropriate cost function to fit your models, with or without prices transformation ex. log-transformed. You can also choose the train/test split ratio ex. 50-50 split. However, **explain your choices** in the notebook.\n",
    "\n",
    "You can also track different metrics to evaluate the performance of your models. However, make sure to print the **mean absolute error** (MAE) score **in dollars** for each one.\n",
    "\n",
    "*Example: My simple model has an MAE of 25,123 thousand dollars - or - The mean MAE score of my model is .. ± .. dollars (std)*\n",
    "\n",
    "Your analysis should also include a final visualization which summarizes the different models MAE scores. For instance, using a bar chart\n",
    "\n",
    "https://d7whxh71cqykp.cloudfront.net/uploads/image/data/3785/bar-chart.svg\n",
    "\n",
    "or even a box-plot if you decided to evaluate your models on several train/test splits\n",
    "\n",
    "https://d7whxh71cqykp.cloudfront.net/uploads/image/data/3786/box-plot.svg"
   ]
  },
  {
   "cell_type": "markdown",
   "metadata": {},
   "source": [
    "### Compute predictions\n",
    "\n",
    "Make predictions for the 500 new houses from $house-prices-test.csv$ using each model and save them in a $.csv$ file.\n",
    "\n",
    "* Predictions from your simple model - predictions-simple-model.csv\n",
    "* Predictions from your intermediate model - predictions-intermediate-model.csv\n",
    "* Predictions from your complex model - predictions-complex-model.csv\n",
    "\n",
    "Your .csv files should contain two columns: the house PID and the predicted price. You can find a sample submission file in $predictions-example.csv$. \n",
    "<br>**Note**: The numbers in this example file are arbitrary and do not have any characteristics or relationships to the true values of the prediction set."
   ]
  },
  {
   "cell_type": "code",
   "execution_count": 1,
   "metadata": {},
   "outputs": [],
   "source": [
    "import pandas as pd\n",
    "import numpy as np\n",
    "%matplotlib inline\n",
    "import matplotlib.pyplot as plt"
   ]
  },
  {
   "cell_type": "code",
   "execution_count": 2,
   "metadata": {},
   "outputs": [
    {
     "name": "stdout",
     "output_type": "stream",
     "text": [
      "Data shape: (2430, 82)\n",
      "Data test shape: (500, 81)\n"
     ]
    }
   ],
   "source": [
    "data = pd.read_csv(r'house-price\\house-prices.csv')\n",
    "data_test = pd.read_csv(r'house-price\\house-prices-test.csv')\n",
    "print('Data shape:',data.shape)\n",
    "print('Data test shape:',data_test.shape)"
   ]
  },
  {
   "cell_type": "markdown",
   "metadata": {},
   "source": [
    "## (A) Data cleaning"
   ]
  },
  {
   "cell_type": "code",
   "execution_count": 3,
   "metadata": {},
   "outputs": [
    {
     "data": {
      "text/html": [
       "<div>\n",
       "<style scoped>\n",
       "    .dataframe tbody tr th:only-of-type {\n",
       "        vertical-align: middle;\n",
       "    }\n",
       "\n",
       "    .dataframe tbody tr th {\n",
       "        vertical-align: top;\n",
       "    }\n",
       "\n",
       "    .dataframe thead th {\n",
       "        text-align: right;\n",
       "    }\n",
       "</style>\n",
       "<table border=\"1\" class=\"dataframe\">\n",
       "  <thead>\n",
       "    <tr style=\"text-align: right;\">\n",
       "      <th></th>\n",
       "      <th>Order</th>\n",
       "      <th>PID</th>\n",
       "      <th>MS SubClass</th>\n",
       "      <th>Lot Frontage</th>\n",
       "      <th>Lot Area</th>\n",
       "      <th>Overall Qual</th>\n",
       "      <th>Overall Cond</th>\n",
       "      <th>Year Built</th>\n",
       "      <th>Year Remod/Add</th>\n",
       "      <th>Mas Vnr Area</th>\n",
       "      <th>...</th>\n",
       "      <th>Wood Deck SF</th>\n",
       "      <th>Open Porch SF</th>\n",
       "      <th>Enclosed Porch</th>\n",
       "      <th>3Ssn Porch</th>\n",
       "      <th>Screen Porch</th>\n",
       "      <th>Pool Area</th>\n",
       "      <th>Misc Val</th>\n",
       "      <th>Mo Sold</th>\n",
       "      <th>Yr Sold</th>\n",
       "      <th>SalePrice</th>\n",
       "    </tr>\n",
       "  </thead>\n",
       "  <tbody>\n",
       "    <tr>\n",
       "      <th>count</th>\n",
       "      <td>2430.000000</td>\n",
       "      <td>2.430000e+03</td>\n",
       "      <td>2430.000000</td>\n",
       "      <td>2010.000000</td>\n",
       "      <td>2430.000000</td>\n",
       "      <td>2430.000000</td>\n",
       "      <td>2430.000000</td>\n",
       "      <td>2430.000000</td>\n",
       "      <td>2430.000000</td>\n",
       "      <td>2410.000000</td>\n",
       "      <td>...</td>\n",
       "      <td>2430.000000</td>\n",
       "      <td>2430.000000</td>\n",
       "      <td>2430.000000</td>\n",
       "      <td>2430.000000</td>\n",
       "      <td>2430.000000</td>\n",
       "      <td>2430.000000</td>\n",
       "      <td>2430.000000</td>\n",
       "      <td>2430.000000</td>\n",
       "      <td>2430.000000</td>\n",
       "      <td>2430.000000</td>\n",
       "    </tr>\n",
       "    <tr>\n",
       "      <th>mean</th>\n",
       "      <td>1469.478189</td>\n",
       "      <td>7.149375e+08</td>\n",
       "      <td>57.092593</td>\n",
       "      <td>69.201990</td>\n",
       "      <td>10243.557613</td>\n",
       "      <td>6.088889</td>\n",
       "      <td>5.569959</td>\n",
       "      <td>1971.167490</td>\n",
       "      <td>1984.238683</td>\n",
       "      <td>101.995436</td>\n",
       "      <td>...</td>\n",
       "      <td>93.917695</td>\n",
       "      <td>47.091770</td>\n",
       "      <td>22.294650</td>\n",
       "      <td>2.471605</td>\n",
       "      <td>16.529218</td>\n",
       "      <td>2.401235</td>\n",
       "      <td>56.179835</td>\n",
       "      <td>6.209465</td>\n",
       "      <td>2007.783539</td>\n",
       "      <td>180199.692593</td>\n",
       "    </tr>\n",
       "    <tr>\n",
       "      <th>std</th>\n",
       "      <td>843.236520</td>\n",
       "      <td>1.887339e+08</td>\n",
       "      <td>42.903254</td>\n",
       "      <td>23.486988</td>\n",
       "      <td>8353.925254</td>\n",
       "      <td>1.414621</td>\n",
       "      <td>1.116442</td>\n",
       "      <td>30.207931</td>\n",
       "      <td>20.751163</td>\n",
       "      <td>176.611699</td>\n",
       "      <td>...</td>\n",
       "      <td>128.106940</td>\n",
       "      <td>67.123846</td>\n",
       "      <td>62.386414</td>\n",
       "      <td>24.880245</td>\n",
       "      <td>56.822227</td>\n",
       "      <td>36.111988</td>\n",
       "      <td>616.661541</td>\n",
       "      <td>2.721942</td>\n",
       "      <td>1.311843</td>\n",
       "      <td>79607.467171</td>\n",
       "    </tr>\n",
       "    <tr>\n",
       "      <th>min</th>\n",
       "      <td>1.000000</td>\n",
       "      <td>5.263011e+08</td>\n",
       "      <td>20.000000</td>\n",
       "      <td>21.000000</td>\n",
       "      <td>1470.000000</td>\n",
       "      <td>1.000000</td>\n",
       "      <td>1.000000</td>\n",
       "      <td>1875.000000</td>\n",
       "      <td>1950.000000</td>\n",
       "      <td>0.000000</td>\n",
       "      <td>...</td>\n",
       "      <td>0.000000</td>\n",
       "      <td>0.000000</td>\n",
       "      <td>0.000000</td>\n",
       "      <td>0.000000</td>\n",
       "      <td>0.000000</td>\n",
       "      <td>0.000000</td>\n",
       "      <td>0.000000</td>\n",
       "      <td>1.000000</td>\n",
       "      <td>2006.000000</td>\n",
       "      <td>12789.000000</td>\n",
       "    </tr>\n",
       "    <tr>\n",
       "      <th>25%</th>\n",
       "      <td>749.250000</td>\n",
       "      <td>5.284770e+08</td>\n",
       "      <td>20.000000</td>\n",
       "      <td>58.000000</td>\n",
       "      <td>7482.000000</td>\n",
       "      <td>5.000000</td>\n",
       "      <td>5.000000</td>\n",
       "      <td>1954.000000</td>\n",
       "      <td>1966.000000</td>\n",
       "      <td>0.000000</td>\n",
       "      <td>...</td>\n",
       "      <td>0.000000</td>\n",
       "      <td>0.000000</td>\n",
       "      <td>0.000000</td>\n",
       "      <td>0.000000</td>\n",
       "      <td>0.000000</td>\n",
       "      <td>0.000000</td>\n",
       "      <td>0.000000</td>\n",
       "      <td>4.000000</td>\n",
       "      <td>2007.000000</td>\n",
       "      <td>129000.000000</td>\n",
       "    </tr>\n",
       "    <tr>\n",
       "      <th>50%</th>\n",
       "      <td>1470.500000</td>\n",
       "      <td>5.354541e+08</td>\n",
       "      <td>50.000000</td>\n",
       "      <td>68.000000</td>\n",
       "      <td>9500.000000</td>\n",
       "      <td>6.000000</td>\n",
       "      <td>5.000000</td>\n",
       "      <td>1973.000000</td>\n",
       "      <td>1993.000000</td>\n",
       "      <td>0.000000</td>\n",
       "      <td>...</td>\n",
       "      <td>0.000000</td>\n",
       "      <td>27.000000</td>\n",
       "      <td>0.000000</td>\n",
       "      <td>0.000000</td>\n",
       "      <td>0.000000</td>\n",
       "      <td>0.000000</td>\n",
       "      <td>0.000000</td>\n",
       "      <td>6.000000</td>\n",
       "      <td>2008.000000</td>\n",
       "      <td>160000.000000</td>\n",
       "    </tr>\n",
       "    <tr>\n",
       "      <th>75%</th>\n",
       "      <td>2193.500000</td>\n",
       "      <td>9.071352e+08</td>\n",
       "      <td>70.000000</td>\n",
       "      <td>80.000000</td>\n",
       "      <td>11604.500000</td>\n",
       "      <td>7.000000</td>\n",
       "      <td>6.000000</td>\n",
       "      <td>2000.000000</td>\n",
       "      <td>2003.000000</td>\n",
       "      <td>164.750000</td>\n",
       "      <td>...</td>\n",
       "      <td>168.000000</td>\n",
       "      <td>70.000000</td>\n",
       "      <td>0.000000</td>\n",
       "      <td>0.000000</td>\n",
       "      <td>0.000000</td>\n",
       "      <td>0.000000</td>\n",
       "      <td>0.000000</td>\n",
       "      <td>8.000000</td>\n",
       "      <td>2009.000000</td>\n",
       "      <td>213099.750000</td>\n",
       "    </tr>\n",
       "    <tr>\n",
       "      <th>max</th>\n",
       "      <td>2930.000000</td>\n",
       "      <td>1.007100e+09</td>\n",
       "      <td>190.000000</td>\n",
       "      <td>313.000000</td>\n",
       "      <td>215245.000000</td>\n",
       "      <td>10.000000</td>\n",
       "      <td>9.000000</td>\n",
       "      <td>2010.000000</td>\n",
       "      <td>2010.000000</td>\n",
       "      <td>1600.000000</td>\n",
       "      <td>...</td>\n",
       "      <td>1424.000000</td>\n",
       "      <td>742.000000</td>\n",
       "      <td>1012.000000</td>\n",
       "      <td>508.000000</td>\n",
       "      <td>490.000000</td>\n",
       "      <td>800.000000</td>\n",
       "      <td>17000.000000</td>\n",
       "      <td>12.000000</td>\n",
       "      <td>2010.000000</td>\n",
       "      <td>755000.000000</td>\n",
       "    </tr>\n",
       "  </tbody>\n",
       "</table>\n",
       "<p>8 rows × 39 columns</p>\n",
       "</div>"
      ],
      "text/plain": [
       "             Order           PID  MS SubClass  Lot Frontage       Lot Area  \\\n",
       "count  2430.000000  2.430000e+03  2430.000000   2010.000000    2430.000000   \n",
       "mean   1469.478189  7.149375e+08    57.092593     69.201990   10243.557613   \n",
       "std     843.236520  1.887339e+08    42.903254     23.486988    8353.925254   \n",
       "min       1.000000  5.263011e+08    20.000000     21.000000    1470.000000   \n",
       "25%     749.250000  5.284770e+08    20.000000     58.000000    7482.000000   \n",
       "50%    1470.500000  5.354541e+08    50.000000     68.000000    9500.000000   \n",
       "75%    2193.500000  9.071352e+08    70.000000     80.000000   11604.500000   \n",
       "max    2930.000000  1.007100e+09   190.000000    313.000000  215245.000000   \n",
       "\n",
       "       Overall Qual  Overall Cond   Year Built  Year Remod/Add  Mas Vnr Area  \\\n",
       "count   2430.000000   2430.000000  2430.000000     2430.000000   2410.000000   \n",
       "mean       6.088889      5.569959  1971.167490     1984.238683    101.995436   \n",
       "std        1.414621      1.116442    30.207931       20.751163    176.611699   \n",
       "min        1.000000      1.000000  1875.000000     1950.000000      0.000000   \n",
       "25%        5.000000      5.000000  1954.000000     1966.000000      0.000000   \n",
       "50%        6.000000      5.000000  1973.000000     1993.000000      0.000000   \n",
       "75%        7.000000      6.000000  2000.000000     2003.000000    164.750000   \n",
       "max       10.000000      9.000000  2010.000000     2010.000000   1600.000000   \n",
       "\n",
       "       ...  Wood Deck SF  Open Porch SF  Enclosed Porch   3Ssn Porch  \\\n",
       "count  ...   2430.000000    2430.000000     2430.000000  2430.000000   \n",
       "mean   ...     93.917695      47.091770       22.294650     2.471605   \n",
       "std    ...    128.106940      67.123846       62.386414    24.880245   \n",
       "min    ...      0.000000       0.000000        0.000000     0.000000   \n",
       "25%    ...      0.000000       0.000000        0.000000     0.000000   \n",
       "50%    ...      0.000000      27.000000        0.000000     0.000000   \n",
       "75%    ...    168.000000      70.000000        0.000000     0.000000   \n",
       "max    ...   1424.000000     742.000000     1012.000000   508.000000   \n",
       "\n",
       "       Screen Porch    Pool Area      Misc Val      Mo Sold      Yr Sold  \\\n",
       "count   2430.000000  2430.000000   2430.000000  2430.000000  2430.000000   \n",
       "mean      16.529218     2.401235     56.179835     6.209465  2007.783539   \n",
       "std       56.822227    36.111988    616.661541     2.721942     1.311843   \n",
       "min        0.000000     0.000000      0.000000     1.000000  2006.000000   \n",
       "25%        0.000000     0.000000      0.000000     4.000000  2007.000000   \n",
       "50%        0.000000     0.000000      0.000000     6.000000  2008.000000   \n",
       "75%        0.000000     0.000000      0.000000     8.000000  2009.000000   \n",
       "max      490.000000   800.000000  17000.000000    12.000000  2010.000000   \n",
       "\n",
       "           SalePrice  \n",
       "count    2430.000000  \n",
       "mean   180199.692593  \n",
       "std     79607.467171  \n",
       "min     12789.000000  \n",
       "25%    129000.000000  \n",
       "50%    160000.000000  \n",
       "75%    213099.750000  \n",
       "max    755000.000000  \n",
       "\n",
       "[8 rows x 39 columns]"
      ]
     },
     "execution_count": 3,
     "metadata": {},
     "output_type": "execute_result"
    }
   ],
   "source": [
    "data.describe()"
   ]
  },
  {
   "cell_type": "code",
   "execution_count": 4,
   "metadata": {},
   "outputs": [
    {
     "data": {
      "text/plain": [
       "Index(['Order', 'PID', 'MS SubClass', 'MS Zoning', 'Lot Frontage', 'Lot Area',\n",
       "       'Street', 'Alley', 'Lot Shape', 'Land Contour', 'Utilities',\n",
       "       'Lot Config', 'Land Slope', 'Neighborhood', 'Condition 1',\n",
       "       'Condition 2', 'Bldg Type', 'House Style', 'Overall Qual',\n",
       "       'Overall Cond', 'Year Built', 'Year Remod/Add', 'Roof Style',\n",
       "       'Roof Matl', 'Exterior 1st', 'Exterior 2nd', 'Mas Vnr Type',\n",
       "       'Mas Vnr Area', 'Exter Qual', 'Exter Cond', 'Foundation', 'Bsmt Qual',\n",
       "       'Bsmt Cond', 'Bsmt Exposure', 'BsmtFin Type 1', 'BsmtFin SF 1',\n",
       "       'BsmtFin Type 2', 'BsmtFin SF 2', 'Bsmt Unf SF', 'Total Bsmt SF',\n",
       "       'Heating', 'Heating QC', 'Central Air', 'Electrical', '1st Flr SF',\n",
       "       '2nd Flr SF', 'Low Qual Fin SF', 'Gr Liv Area', 'Bsmt Full Bath',\n",
       "       'Bsmt Half Bath', 'Full Bath', 'Half Bath', 'Bedroom AbvGr',\n",
       "       'Kitchen AbvGr', 'Kitchen Qual', 'TotRms AbvGrd', 'Functional',\n",
       "       'Fireplaces', 'Fireplace Qu', 'Garage Type', 'Garage Yr Blt',\n",
       "       'Garage Finish', 'Garage Cars', 'Garage Area', 'Garage Qual',\n",
       "       'Garage Cond', 'Paved Drive', 'Wood Deck SF', 'Open Porch SF',\n",
       "       'Enclosed Porch', '3Ssn Porch', 'Screen Porch', 'Pool Area', 'Pool QC',\n",
       "       'Fence', 'Misc Feature', 'Misc Val', 'Mo Sold', 'Yr Sold', 'Sale Type',\n",
       "       'Sale Condition', 'SalePrice'],\n",
       "      dtype='object')"
      ]
     },
     "execution_count": 4,
     "metadata": {},
     "output_type": "execute_result"
    }
   ],
   "source": [
    "data.columns"
   ]
  },
  {
   "cell_type": "markdown",
   "metadata": {},
   "source": [
    "### MS SubClass (Nominal) - clean"
   ]
  },
  {
   "cell_type": "code",
   "execution_count": 5,
   "metadata": {},
   "outputs": [
    {
     "data": {
      "text/plain": [
       "array([ 60,  20, 160, 190,  50,  70, 120,  30,  90,  85,  45,  80, 180,\n",
       "        75,  40, 150], dtype=int64)"
      ]
     },
     "execution_count": 5,
     "metadata": {},
     "output_type": "execute_result"
    }
   ],
   "source": [
    "# Don't seem to be any issue with this variable but will need to use one-hot encoding [Nominal]\n",
    "data['MS SubClass'].unique()"
   ]
  },
  {
   "cell_type": "code",
   "execution_count": 6,
   "metadata": {},
   "outputs": [
    {
     "data": {
      "text/plain": [
       "array([ 50,  20,  60,  30,  80, 160,  90, 120,  70, 180, 190,  75,  45,\n",
       "        85,  40], dtype=int64)"
      ]
     },
     "execution_count": 6,
     "metadata": {},
     "output_type": "execute_result"
    }
   ],
   "source": [
    "data_test['MS SubClass'].unique()"
   ]
  },
  {
   "cell_type": "markdown",
   "metadata": {},
   "source": [
    "### MS Zoning (Nominal) - clean"
   ]
  },
  {
   "cell_type": "code",
   "execution_count": 7,
   "metadata": {},
   "outputs": [
    {
     "data": {
      "text/plain": [
       "array(['RL', 'RM', 'FV', 'I (all)', 'C (all)', 'RH', 'A (agr)'],\n",
       "      dtype=object)"
      ]
     },
     "execution_count": 7,
     "metadata": {},
     "output_type": "execute_result"
    }
   ],
   "source": [
    "# Don't seem to be any issue with this variable but will need to use one-hot-encoding [Nominal]\n",
    "data['MS Zoning'].unique()"
   ]
  },
  {
   "cell_type": "code",
   "execution_count": 8,
   "metadata": {},
   "outputs": [
    {
     "data": {
      "text/plain": [
       "array(['RL', 'C (all)', 'FV', 'RH', 'RM'], dtype=object)"
      ]
     },
     "execution_count": 8,
     "metadata": {},
     "output_type": "execute_result"
    }
   ],
   "source": [
    "data_test['MS Zoning'].unique()"
   ]
  },
  {
   "cell_type": "markdown",
   "metadata": {},
   "source": [
    "### Lot Frontage (Continous) - fill na & handle outliers"
   ]
  },
  {
   "cell_type": "code",
   "execution_count": 9,
   "metadata": {},
   "outputs": [
    {
     "name": "stderr",
     "output_type": "stream",
     "text": [
      "C:\\Users\\glaurent\\AppData\\Local\\Continuum\\anaconda3\\envs\\exts-ml\\lib\\site-packages\\numpy\\lib\\histograms.py:754: RuntimeWarning: invalid value encountered in greater_equal\n",
      "  keep = (tmp_a >= first_edge)\n",
      "C:\\Users\\glaurent\\AppData\\Local\\Continuum\\anaconda3\\envs\\exts-ml\\lib\\site-packages\\numpy\\lib\\histograms.py:755: RuntimeWarning: invalid value encountered in less_equal\n",
      "  keep &= (tmp_a <= last_edge)\n"
     ]
    },
    {
     "data": {
      "image/png": "[encoded data removed]",
      "text/plain": [
       "<Figure size 432x288 with 1 Axes>"
      ]
     },
     "metadata": {
      "needs_background": "light"
     },
     "output_type": "display_data"
    }
   ],
   "source": [
    "plt.hist(data['Lot Frontage'],bins=20)\n",
    "#plt.scatter(data['Lot Frontage'], data['SalePrice'])\n",
    "plt.title('Lot Frontage - Before cleaning')\n",
    "plt.show()"
   ]
  },
  {
   "cell_type": "code",
   "execution_count": 10,
   "metadata": {},
   "outputs": [
    {
     "data": {
      "text/plain": [
       "2"
      ]
     },
     "execution_count": 10,
     "metadata": {},
     "output_type": "execute_result"
    }
   ],
   "source": [
    "# Decision to handle outliers before handling NA. This would avoid impacting mean and std\n",
    "# In fact above comment wouldn't impact as I decided to consier outliers above 250 $ instead of using z-score which would have been impacted but lower boundary at 0\n",
    "\n",
    "#data[(np.abs((data['Lot Frontage']- data['Lot Frontage'].mean()) / data['Lot Frontage'].std()) > 5)]['Lot Frontage']\n",
    "#(np.abs((data['Lot Frontage']- data['Lot Frontage'].mean()) / data['Lot Frontage'].std()) > 2).sum()\n",
    "\n",
    "outlier = data['Lot Frontage'] > 250\n",
    "outlier.sum()"
   ]
  },
  {
   "cell_type": "code",
   "execution_count": 11,
   "metadata": {},
   "outputs": [
    {
     "name": "stdout",
     "output_type": "stream",
     "text": [
      "Count NA values: 420\n",
      "Mean value 69\n"
     ]
    }
   ],
   "source": [
    "print('Count NA values:',data['Lot Frontage'].isnull().sum())\n",
    "print('Mean value {:.0f}'.format(data['Lot Frontage'].mean()))"
   ]
  },
  {
   "cell_type": "code",
   "execution_count": 12,
   "metadata": {},
   "outputs": [
    {
     "data": {
      "image/png": "[encoded data removed]",
      "text/plain": [
       "<Figure size 432x288 with 1 Axes>"
      ]
     },
     "metadata": {
      "needs_background": "light"
     },
     "output_type": "display_data"
    }
   ],
   "source": [
    "# replace NA values with mean\n",
    "data['Lot Frontage'].fillna(value=data['Lot Frontage'].mean(),inplace=True)\n",
    "plt.hist(data[~outlier]['Lot Frontage'],bins=20)\n",
    "plt.title('Lot Frontage - After cleaning')\n",
    "plt.show()"
   ]
  },
  {
   "cell_type": "code",
   "execution_count": 13,
   "metadata": {},
   "outputs": [
    {
     "name": "stdout",
     "output_type": "stream",
     "text": [
      "70\n"
     ]
    }
   ],
   "source": [
    "# handle test data\n",
    "print(data_test['Lot Frontage'].isnull().sum())\n",
    "data_test['Lot Frontage'].fillna(value=data['Lot Frontage'].mean(),inplace=True)"
   ]
  },
  {
   "cell_type": "markdown",
   "metadata": {},
   "source": [
    "### Lot Area (Continuous) - handle outliers"
   ]
  },
  {
   "cell_type": "code",
   "execution_count": 14,
   "metadata": {},
   "outputs": [
    {
     "data": {
      "text/plain": [
       "0"
      ]
     },
     "execution_count": 14,
     "metadata": {},
     "output_type": "execute_result"
    }
   ],
   "source": [
    "# No NA values\n",
    "data['Lot Area'].isnull().sum()"
   ]
  },
  {
   "cell_type": "code",
   "execution_count": 15,
   "metadata": {},
   "outputs": [
    {
     "data": {
      "image/png": "[encoded data removed]",
      "text/plain": [
       "<Figure size 432x288 with 1 Axes>"
      ]
     },
     "metadata": {
      "needs_background": "light"
     },
     "output_type": "display_data"
    }
   ],
   "source": [
    "plt.hist(data['Lot Area'], bins=50)\n",
    "plt.title('Lot Area - Before cleaning')\n",
    "plt.show()"
   ]
  },
  {
   "cell_type": "code",
   "execution_count": 16,
   "metadata": {},
   "outputs": [
    {
     "data": {
      "text/plain": [
       "34       56600\n",
       "71       39290\n",
       "101      32668\n",
       "113      57200\n",
       "267     164660\n",
       "279      31220\n",
       "341      33120\n",
       "441      53107\n",
       "466      39384\n",
       "537      29959\n",
       "685      70761\n",
       "842      50271\n",
       "979      43500\n",
       "1064     33983\n",
       "1235     45600\n",
       "1304     27650\n",
       "1464     51974\n",
       "1500     63887\n",
       "1513    159000\n",
       "1612     39104\n",
       "1752     36500\n",
       "1799     53227\n",
       "1802     35133\n",
       "1815     41600\n",
       "1886     27697\n",
       "1898     28698\n",
       "1970     31770\n",
       "2056     47007\n",
       "2061     46589\n",
       "2183     34650\n",
       "2228     32463\n",
       "2257    215245\n",
       "2316    115149\n",
       "2396     31250\n",
       "2409     50102\n",
       "Name: Lot Area, dtype: int64"
      ]
     },
     "execution_count": 16,
     "metadata": {},
     "output_type": "execute_result"
    }
   ],
   "source": [
    "data[(np.abs((data['Lot Area']- data['Lot Area'].mean()) / data['Lot Area'].std()) > 2)]['Lot Area']"
   ]
  },
  {
   "cell_type": "code",
   "execution_count": 17,
   "metadata": {},
   "outputs": [
    {
     "data": {
      "text/plain": [
       "35"
      ]
     },
     "execution_count": 17,
     "metadata": {},
     "output_type": "execute_result"
    }
   ],
   "source": [
    "# Decided to remove outliers with z-score higher than 2. Looking at data it seems reasonable to consider tham as outliers and only removes 35 data points\n",
    "# Interesting to note that the total number of rows considered outliers is stay which means both values considered as Lot Forntage outliers are also Lot Area outliers\n",
    "outlier = (np.abs((data['Lot Area']- data['Lot Area'].mean()) / data['Lot Area'].std()) > 2) | outlier\n",
    "outlier.sum()"
   ]
  },
  {
   "cell_type": "code",
   "execution_count": 18,
   "metadata": {},
   "outputs": [
    {
     "data": {
      "image/png": "[encoded data removed]",
      "text/plain": [
       "<Figure size 432x288 with 1 Axes>"
      ]
     },
     "metadata": {
      "needs_background": "light"
     },
     "output_type": "display_data"
    }
   ],
   "source": [
    "plt.hist(data[~outlier]['Lot Area'], bins=50)\n",
    "plt.title('Lot Area - Before cleaning')\n",
    "plt.show()"
   ]
  },
  {
   "cell_type": "code",
   "execution_count": 19,
   "metadata": {},
   "outputs": [
    {
     "data": {
      "text/plain": [
       "0"
      ]
     },
     "execution_count": 19,
     "metadata": {},
     "output_type": "execute_result"
    }
   ],
   "source": [
    "# handle test data\n",
    "data_test['Lot Area'].isnull().sum()"
   ]
  },
  {
   "cell_type": "markdown",
   "metadata": {},
   "source": [
    "### Street (Nominal) - clean"
   ]
  },
  {
   "cell_type": "code",
   "execution_count": 20,
   "metadata": {},
   "outputs": [
    {
     "data": {
      "text/plain": [
       "array(['Pave', 'Grvl'], dtype=object)"
      ]
     },
     "execution_count": 20,
     "metadata": {},
     "output_type": "execute_result"
    }
   ],
   "source": [
    "data['Street'].unique()"
   ]
  },
  {
   "cell_type": "code",
   "execution_count": 21,
   "metadata": {},
   "outputs": [
    {
     "data": {
      "text/plain": [
       "array(['Pave', 'Grvl'], dtype=object)"
      ]
     },
     "execution_count": 21,
     "metadata": {},
     "output_type": "execute_result"
    }
   ],
   "source": [
    "# handle test data\n",
    "data_test['Street'].unique()"
   ]
  },
  {
   "cell_type": "markdown",
   "metadata": {},
   "source": [
    "### Alley (Nominal) - fill na"
   ]
  },
  {
   "cell_type": "code",
   "execution_count": 22,
   "metadata": {},
   "outputs": [
    {
     "data": {
      "text/plain": [
       "array([nan, 'Grvl', 'Pave'], dtype=object)"
      ]
     },
     "execution_count": 22,
     "metadata": {},
     "output_type": "execute_result"
    }
   ],
   "source": [
    "data['Alley'].unique()"
   ]
  },
  {
   "cell_type": "code",
   "execution_count": 23,
   "metadata": {},
   "outputs": [
    {
     "data": {
      "text/html": [
       "<div>\n",
       "<style scoped>\n",
       "    .dataframe tbody tr th:only-of-type {\n",
       "        vertical-align: middle;\n",
       "    }\n",
       "\n",
       "    .dataframe tbody tr th {\n",
       "        vertical-align: top;\n",
       "    }\n",
       "\n",
       "    .dataframe thead th {\n",
       "        text-align: right;\n",
       "    }\n",
       "</style>\n",
       "<table border=\"1\" class=\"dataframe\">\n",
       "  <thead>\n",
       "    <tr style=\"text-align: right;\">\n",
       "      <th></th>\n",
       "      <th>Order</th>\n",
       "    </tr>\n",
       "    <tr>\n",
       "      <th>Alley</th>\n",
       "      <th></th>\n",
       "    </tr>\n",
       "  </thead>\n",
       "  <tbody>\n",
       "    <tr>\n",
       "      <th>Grvl</th>\n",
       "      <td>104</td>\n",
       "    </tr>\n",
       "    <tr>\n",
       "      <th>No access</th>\n",
       "      <td>2267</td>\n",
       "    </tr>\n",
       "    <tr>\n",
       "      <th>Pave</th>\n",
       "      <td>59</td>\n",
       "    </tr>\n",
       "  </tbody>\n",
       "</table>\n",
       "</div>"
      ],
      "text/plain": [
       "           Order\n",
       "Alley           \n",
       "Grvl         104\n",
       "No access   2267\n",
       "Pave          59"
      ]
     },
     "execution_count": 23,
     "metadata": {},
     "output_type": "execute_result"
    }
   ],
   "source": [
    "# large number of 'No access'\n",
    "data['Alley'].fillna(value='No access',inplace=True)\n",
    "data[['Alley','Order']].groupby('Alley').count()"
   ]
  },
  {
   "cell_type": "code",
   "execution_count": 24,
   "metadata": {},
   "outputs": [
    {
     "data": {
      "text/plain": [
       "array([nan, 'Pave', 'Grvl'], dtype=object)"
      ]
     },
     "execution_count": 24,
     "metadata": {},
     "output_type": "execute_result"
    }
   ],
   "source": [
    "# handle test data\n",
    "data_test['Alley'].unique()"
   ]
  },
  {
   "cell_type": "code",
   "execution_count": 25,
   "metadata": {},
   "outputs": [
    {
     "data": {
      "text/html": [
       "<div>\n",
       "<style scoped>\n",
       "    .dataframe tbody tr th:only-of-type {\n",
       "        vertical-align: middle;\n",
       "    }\n",
       "\n",
       "    .dataframe tbody tr th {\n",
       "        vertical-align: top;\n",
       "    }\n",
       "\n",
       "    .dataframe thead th {\n",
       "        text-align: right;\n",
       "    }\n",
       "</style>\n",
       "<table border=\"1\" class=\"dataframe\">\n",
       "  <thead>\n",
       "    <tr style=\"text-align: right;\">\n",
       "      <th></th>\n",
       "      <th>Order</th>\n",
       "    </tr>\n",
       "    <tr>\n",
       "      <th>Alley</th>\n",
       "      <th></th>\n",
       "    </tr>\n",
       "  </thead>\n",
       "  <tbody>\n",
       "    <tr>\n",
       "      <th>Grvl</th>\n",
       "      <td>16</td>\n",
       "    </tr>\n",
       "    <tr>\n",
       "      <th>No access</th>\n",
       "      <td>465</td>\n",
       "    </tr>\n",
       "    <tr>\n",
       "      <th>Pave</th>\n",
       "      <td>19</td>\n",
       "    </tr>\n",
       "  </tbody>\n",
       "</table>\n",
       "</div>"
      ],
      "text/plain": [
       "           Order\n",
       "Alley           \n",
       "Grvl          16\n",
       "No access    465\n",
       "Pave          19"
      ]
     },
     "execution_count": 25,
     "metadata": {},
     "output_type": "execute_result"
    }
   ],
   "source": [
    "# large number of 'No access'\n",
    "data_test['Alley'].fillna(value='No access',inplace=True)\n",
    "data_test[['Alley','Order']].groupby('Alley').count()"
   ]
  },
  {
   "cell_type": "markdown",
   "metadata": {},
   "source": [
    "### Lot Shape (Ordinal) - Regroup categories"
   ]
  },
  {
   "cell_type": "code",
   "execution_count": 26,
   "metadata": {},
   "outputs": [
    {
     "data": {
      "text/plain": [
       "array(['IR1', 'Reg', 'IR2', 'IR3'], dtype=object)"
      ]
     },
     "execution_count": 26,
     "metadata": {},
     "output_type": "execute_result"
    }
   ],
   "source": [
    "data['Lot Shape'].unique()"
   ]
  },
  {
   "cell_type": "code",
   "execution_count": 27,
   "metadata": {},
   "outputs": [
    {
     "data": {
      "text/html": [
       "<div>\n",
       "<style scoped>\n",
       "    .dataframe tbody tr th:only-of-type {\n",
       "        vertical-align: middle;\n",
       "    }\n",
       "\n",
       "    .dataframe tbody tr th {\n",
       "        vertical-align: top;\n",
       "    }\n",
       "\n",
       "    .dataframe thead th {\n",
       "        text-align: right;\n",
       "    }\n",
       "</style>\n",
       "<table border=\"1\" class=\"dataframe\">\n",
       "  <thead>\n",
       "    <tr style=\"text-align: right;\">\n",
       "      <th></th>\n",
       "      <th>SalePrice</th>\n",
       "    </tr>\n",
       "    <tr>\n",
       "      <th>Lot Shape</th>\n",
       "      <th></th>\n",
       "    </tr>\n",
       "  </thead>\n",
       "  <tbody>\n",
       "    <tr>\n",
       "      <th>IR1</th>\n",
       "      <td>210918.299043</td>\n",
       "    </tr>\n",
       "    <tr>\n",
       "      <th>IR2</th>\n",
       "      <td>227798.257576</td>\n",
       "    </tr>\n",
       "    <tr>\n",
       "      <th>IR3</th>\n",
       "      <td>211418.928571</td>\n",
       "    </tr>\n",
       "    <tr>\n",
       "      <th>Reg</th>\n",
       "      <td>160873.847424</td>\n",
       "    </tr>\n",
       "  </tbody>\n",
       "</table>\n",
       "</div>"
      ],
      "text/plain": [
       "               SalePrice\n",
       "Lot Shape               \n",
       "IR1        210918.299043\n",
       "IR2        227798.257576\n",
       "IR3        211418.928571\n",
       "Reg        160873.847424"
      ]
     },
     "execution_count": 27,
     "metadata": {},
     "output_type": "execute_result"
    }
   ],
   "source": [
    "# SalePrice difference seems to be mostly between Regular vs Irregular (no matter which category). Therefore decide to regrou pirregulars together\n",
    "data[['Lot Shape','SalePrice']].groupby('Lot Shape').mean()"
   ]
  },
  {
   "cell_type": "code",
   "execution_count": 28,
   "metadata": {},
   "outputs": [],
   "source": [
    "# Update for both train and test set\n",
    "data['Lot Shape'].replace({'IR1': 'IR','IR2': 'IR','IR3': 'IR'},inplace=True)\n",
    "data_test['Lot Shape'].replace({'IR1': 'IR','IR2': 'IR','IR3': 'IR'},inplace=True)"
   ]
  },
  {
   "cell_type": "markdown",
   "metadata": {},
   "source": [
    "### Land Contour (Nominal) - clean"
   ]
  },
  {
   "cell_type": "code",
   "execution_count": 29,
   "metadata": {},
   "outputs": [
    {
     "data": {
      "text/plain": [
       "array(['Lvl', 'Bnk', 'HLS', 'Low'], dtype=object)"
      ]
     },
     "execution_count": 29,
     "metadata": {},
     "output_type": "execute_result"
    }
   ],
   "source": [
    "data['Land Contour'].unique()"
   ]
  },
  {
   "cell_type": "code",
   "execution_count": 30,
   "metadata": {},
   "outputs": [
    {
     "data": {
      "text/plain": [
       "array(['HLS', 'Low', 'Lvl', 'Bnk'], dtype=object)"
      ]
     },
     "execution_count": 30,
     "metadata": {},
     "output_type": "execute_result"
    }
   ],
   "source": [
    "# handle test data\n",
    "data_test['Land Contour'].unique()"
   ]
  },
  {
   "cell_type": "markdown",
   "metadata": {},
   "source": [
    "### Utilities (Ordinal) - convert to numerical scale"
   ]
  },
  {
   "cell_type": "code",
   "execution_count": 31,
   "metadata": {},
   "outputs": [
    {
     "data": {
      "text/plain": [
       "array(['AllPub', 'NoSewr', 'NoSeWa'], dtype=object)"
      ]
     },
     "execution_count": 31,
     "metadata": {},
     "output_type": "execute_result"
    }
   ],
   "source": [
    "# No ELO values\n",
    "data['Utilities'].unique()"
   ]
  },
  {
   "cell_type": "code",
   "execution_count": 32,
   "metadata": {},
   "outputs": [],
   "source": [
    "# Decide to convert to numerical based on number of utility type available\n",
    "# Update for both train and test set\n",
    "data['Utilities'].replace({'AllPub': 5,'NoSewr': 3,'NoSeWa': 2,'ELO':1},inplace=True)\n",
    "data_test['Utilities'].replace({'AllPub': 5,'NoSewr': 3,'NoSeWa': 2,'ELO':1},inplace=True)"
   ]
  },
  {
   "cell_type": "markdown",
   "metadata": {},
   "source": [
    "### Lot Config (Nominal) - clean"
   ]
  },
  {
   "cell_type": "code",
   "execution_count": 33,
   "metadata": {},
   "outputs": [
    {
     "data": {
      "text/plain": [
       "array(['Inside', 'Corner', 'CulDSac', 'FR2', 'FR3'], dtype=object)"
      ]
     },
     "execution_count": 33,
     "metadata": {},
     "output_type": "execute_result"
    }
   ],
   "source": [
    "data['Lot Config'].unique()"
   ]
  },
  {
   "cell_type": "code",
   "execution_count": 34,
   "metadata": {},
   "outputs": [
    {
     "data": {
      "text/plain": [
       "array(['Corner', 'Inside', 'CulDSac', 'FR2', 'FR3'], dtype=object)"
      ]
     },
     "execution_count": 34,
     "metadata": {},
     "output_type": "execute_result"
    }
   ],
   "source": [
    "# handle test data\n",
    "data_test['Lot Config'].unique()"
   ]
  },
  {
   "cell_type": "markdown",
   "metadata": {},
   "source": [
    "### Land Slope (Ordinal) - clean"
   ]
  },
  {
   "cell_type": "code",
   "execution_count": 35,
   "metadata": {},
   "outputs": [
    {
     "data": {
      "text/plain": [
       "array(['Gtl', 'Mod', 'Sev'], dtype=object)"
      ]
     },
     "execution_count": 35,
     "metadata": {},
     "output_type": "execute_result"
    }
   ],
   "source": [
    "data['Land Slope'].unique()"
   ]
  },
  {
   "cell_type": "code",
   "execution_count": 36,
   "metadata": {},
   "outputs": [
    {
     "name": "stderr",
     "output_type": "stream",
     "text": [
      "C:\\Users\\glaurent\\AppData\\Local\\Continuum\\anaconda3\\envs\\exts-ml\\lib\\site-packages\\pandas\\core\\groupby\\generic.py:1315: FutureWarning: using a dict with renaming is deprecated and will be removed in a future version\n",
      "  return super(DataFrameGroupBy, self).aggregate(arg, *args, **kwargs)\n"
     ]
    },
    {
     "data": {
      "text/html": [
       "<div>\n",
       "<style scoped>\n",
       "    .dataframe tbody tr th:only-of-type {\n",
       "        vertical-align: middle;\n",
       "    }\n",
       "\n",
       "    .dataframe tbody tr th {\n",
       "        vertical-align: top;\n",
       "    }\n",
       "\n",
       "    .dataframe thead tr th {\n",
       "        text-align: left;\n",
       "    }\n",
       "\n",
       "    .dataframe thead tr:last-of-type th {\n",
       "        text-align: right;\n",
       "    }\n",
       "</style>\n",
       "<table border=\"1\" class=\"dataframe\">\n",
       "  <thead>\n",
       "    <tr>\n",
       "      <th></th>\n",
       "      <th colspan=\"2\" halign=\"left\">Order</th>\n",
       "    </tr>\n",
       "    <tr>\n",
       "      <th></th>\n",
       "      <th>Count</th>\n",
       "      <th>Mean</th>\n",
       "    </tr>\n",
       "    <tr>\n",
       "      <th>Land Slope</th>\n",
       "      <th></th>\n",
       "      <th></th>\n",
       "    </tr>\n",
       "  </thead>\n",
       "  <tbody>\n",
       "    <tr>\n",
       "      <th>Gtl</th>\n",
       "      <td>2312</td>\n",
       "      <td>1465.721021</td>\n",
       "    </tr>\n",
       "    <tr>\n",
       "      <th>Mod</th>\n",
       "      <td>102</td>\n",
       "      <td>1549.401961</td>\n",
       "    </tr>\n",
       "    <tr>\n",
       "      <th>Sev</th>\n",
       "      <td>16</td>\n",
       "      <td>1502.875000</td>\n",
       "    </tr>\n",
       "  </tbody>\n",
       "</table>\n",
       "</div>"
      ],
      "text/plain": [
       "           Order             \n",
       "           Count         Mean\n",
       "Land Slope                   \n",
       "Gtl         2312  1465.721021\n",
       "Mod          102  1549.401961\n",
       "Sev           16  1502.875000"
      ]
     },
     "execution_count": 36,
     "metadata": {},
     "output_type": "execute_result"
    }
   ],
   "source": [
    "# Very low number of Mod and Sev. Decide to keep as it is\n",
    "data[['Land Slope','Order']].groupby('Land Slope').agg({'Order':{'Count':'count','Mean':'mean'}})"
   ]
  },
  {
   "cell_type": "code",
   "execution_count": 37,
   "metadata": {},
   "outputs": [
    {
     "data": {
      "text/plain": [
       "array(['Mod', 'Gtl'], dtype=object)"
      ]
     },
     "execution_count": 37,
     "metadata": {},
     "output_type": "execute_result"
    }
   ],
   "source": [
    "# handle test data\n",
    "data_test['Land Slope'].unique()"
   ]
  },
  {
   "cell_type": "markdown",
   "metadata": {},
   "source": [
    "### Neighbordhood (Nominal) - clean"
   ]
  },
  {
   "cell_type": "code",
   "execution_count": 38,
   "metadata": {},
   "outputs": [
    {
     "data": {
      "text/plain": [
       "array(['Gilbert', 'NAmes', 'MeadowV', 'OldTown', 'SawyerW', 'Somerst',\n",
       "       'Timber', 'Edwards', 'NWAmes', 'Mitchel', 'CollgCr', 'NridgHt',\n",
       "       'IDOTRR', 'NoRidge', 'GrnHill', 'Crawfor', 'StoneBr', 'BrDale',\n",
       "       'BrkSide', 'Landmrk', 'SWISU', 'Sawyer', 'ClearCr', 'Greens',\n",
       "       'Veenker', 'Blueste', 'NPkVill', 'Blmngtn'], dtype=object)"
      ]
     },
     "execution_count": 38,
     "metadata": {},
     "output_type": "execute_result"
    }
   ],
   "source": [
    "data['Neighborhood'].unique()"
   ]
  },
  {
   "cell_type": "code",
   "execution_count": 39,
   "metadata": {},
   "outputs": [
    {
     "data": {
      "text/plain": [
       "array(['Crawfor', 'CollgCr', 'NridgHt', 'NAmes', 'IDOTRR', 'SawyerW',\n",
       "       'Edwards', 'Timber', 'SWISU', 'Somerst', 'Gilbert', 'NoRidge',\n",
       "       'NWAmes', 'Sawyer', 'Blmngtn', 'OldTown', 'Mitchel', 'BrkSide',\n",
       "       'ClearCr', 'MeadowV', 'Blueste', 'NPkVill', 'BrDale', 'StoneBr',\n",
       "       'Veenker'], dtype=object)"
      ]
     },
     "execution_count": 39,
     "metadata": {},
     "output_type": "execute_result"
    }
   ],
   "source": [
    "# handle test data\n",
    "data_test['Neighborhood'].unique()"
   ]
  },
  {
   "cell_type": "markdown",
   "metadata": {},
   "source": [
    "### Condition 1 & 2 (Nominal) - Clean"
   ]
  },
  {
   "cell_type": "code",
   "execution_count": 40,
   "metadata": {},
   "outputs": [
    {
     "data": {
      "text/plain": [
       "array(['Norm', 'Feedr', 'PosN', 'RRAe', 'Artery', 'PosA', 'RRAn', 'RRNn',\n",
       "       'RRNe'], dtype=object)"
      ]
     },
     "execution_count": 40,
     "metadata": {},
     "output_type": "execute_result"
    }
   ],
   "source": [
    "data['Condition 1'].unique()"
   ]
  },
  {
   "cell_type": "code",
   "execution_count": 41,
   "metadata": {},
   "outputs": [
    {
     "data": {
      "text/plain": [
       "array(['Norm', 'PosA', 'Feedr', 'Artery', 'RRNn', 'PosN', 'RRAe', 'RRAn'],\n",
       "      dtype=object)"
      ]
     },
     "execution_count": 41,
     "metadata": {},
     "output_type": "execute_result"
    }
   ],
   "source": [
    "data['Condition 2'].unique()"
   ]
  },
  {
   "cell_type": "code",
   "execution_count": 42,
   "metadata": {},
   "outputs": [
    {
     "data": {
      "text/plain": [
       "array(['Norm', 'Feedr', 'Artery', 'RRAn', 'RRNe', 'PosN', 'RRNn', 'RRAe',\n",
       "       'PosA'], dtype=object)"
      ]
     },
     "execution_count": 42,
     "metadata": {},
     "output_type": "execute_result"
    }
   ],
   "source": [
    "# handle test data\n",
    "data_test['Condition 1'].unique()"
   ]
  },
  {
   "cell_type": "code",
   "execution_count": 43,
   "metadata": {},
   "outputs": [
    {
     "data": {
      "text/plain": [
       "array(['Norm', 'PosN', 'Feedr'], dtype=object)"
      ]
     },
     "execution_count": 43,
     "metadata": {},
     "output_type": "execute_result"
    }
   ],
   "source": [
    "# handle test data\n",
    "data_test['Condition 2'].unique()"
   ]
  },
  {
   "cell_type": "markdown",
   "metadata": {},
   "source": [
    "### Bldg Type (Nominal) - clean"
   ]
  },
  {
   "cell_type": "code",
   "execution_count": 44,
   "metadata": {},
   "outputs": [
    {
     "data": {
      "text/plain": [
       "array(['1Fam', 'Twnhs', '2fmCon', 'TwnhsE', 'Duplex'], dtype=object)"
      ]
     },
     "execution_count": 44,
     "metadata": {},
     "output_type": "execute_result"
    }
   ],
   "source": [
    "data['Bldg Type'].unique()"
   ]
  },
  {
   "cell_type": "markdown",
   "metadata": {},
   "source": [
    "### House Style (Nominal) - clean"
   ]
  },
  {
   "cell_type": "code",
   "execution_count": 45,
   "metadata": {},
   "outputs": [
    {
     "data": {
      "text/plain": [
       "array(['2Story', '1Story', '2.5Unf', '1.5Fin', 'SFoyer', '1.5Unf', 'SLvl',\n",
       "       '2.5Fin'], dtype=object)"
      ]
     },
     "execution_count": 45,
     "metadata": {},
     "output_type": "execute_result"
    }
   ],
   "source": [
    "data['House Style'].unique()"
   ]
  },
  {
   "cell_type": "markdown",
   "metadata": {},
   "source": [
    "### Overall Qual & Overall Cond (Ordinal) - clean"
   ]
  },
  {
   "cell_type": "code",
   "execution_count": 46,
   "metadata": {},
   "outputs": [
    {
     "data": {
      "text/plain": [
       "array([ 7,  6,  4,  5,  8,  9, 10,  3,  1,  2], dtype=int64)"
      ]
     },
     "execution_count": 46,
     "metadata": {},
     "output_type": "execute_result"
    }
   ],
   "source": [
    "data['Overall Qual'].unique()"
   ]
  },
  {
   "cell_type": "code",
   "execution_count": 47,
   "metadata": {},
   "outputs": [
    {
     "data": {
      "text/plain": [
       "array([5, 6, 4, 8, 7, 1, 9, 3, 2], dtype=int64)"
      ]
     },
     "execution_count": 47,
     "metadata": {},
     "output_type": "execute_result"
    }
   ],
   "source": [
    "data['Overall Cond'].unique()"
   ]
  },
  {
   "cell_type": "code",
   "execution_count": 48,
   "metadata": {},
   "outputs": [
    {
     "data": {
      "text/plain": [
       "0"
      ]
     },
     "execution_count": 48,
     "metadata": {},
     "output_type": "execute_result"
    }
   ],
   "source": [
    "data['Overall Qual'].isnull().sum()"
   ]
  },
  {
   "cell_type": "code",
   "execution_count": 49,
   "metadata": {},
   "outputs": [
    {
     "data": {
      "text/plain": [
       "0"
      ]
     },
     "execution_count": 49,
     "metadata": {},
     "output_type": "execute_result"
    }
   ],
   "source": [
    "data['Overall Cond'].isnull().sum()"
   ]
  },
  {
   "cell_type": "code",
   "execution_count": 50,
   "metadata": {},
   "outputs": [
    {
     "name": "stdout",
     "output_type": "stream",
     "text": [
      "0\n",
      "0\n"
     ]
    }
   ],
   "source": [
    "# handle test data\n",
    "print(data_test['Overall Qual'].isnull().sum())\n",
    "print(data_test['Overall Cond'].isnull().sum())"
   ]
  },
  {
   "cell_type": "markdown",
   "metadata": {},
   "source": [
    "### Year Built (Discrete) - clean (potential of bucketing)"
   ]
  },
  {
   "cell_type": "code",
   "execution_count": 51,
   "metadata": {},
   "outputs": [
    {
     "data": {
      "image/png": "[encoded data removed]",
      "text/plain": [
       "<Figure size 432x288 with 1 Axes>"
      ]
     },
     "metadata": {
      "needs_background": "light"
     },
     "output_type": "display_data"
    }
   ],
   "source": [
    "plt.plot(data[['Year Built','Order']].groupby('Year Built').count())\n",
    "plt.title('Year Built')\n",
    "plt.show()"
   ]
  },
  {
   "cell_type": "code",
   "execution_count": 52,
   "metadata": {},
   "outputs": [
    {
     "data": {
      "image/png": "[encoded data removed]",
      "text/plain": [
       "<Figure size 432x288 with 1 Axes>"
      ]
     },
     "metadata": {
      "needs_background": "light"
     },
     "output_type": "display_data"
    }
   ],
   "source": [
    "data['Year Built'] = round(data['Year Built'],-1)\n",
    "data[['Year Built','Order']].groupby('Year Built').count().plot(kind='bar')\n",
    "plt.show()"
   ]
  },
  {
   "cell_type": "code",
   "execution_count": 53,
   "metadata": {},
   "outputs": [],
   "source": [
    "# handle test data\n",
    "data_test['Year Built'] = round(data_test['Year Built'],-1)"
   ]
  },
  {
   "cell_type": "markdown",
   "metadata": {},
   "source": [
    "### Year Remod/Add (Discrete) - handle value stuck on 1950"
   ]
  },
  {
   "cell_type": "code",
   "execution_count": 54,
   "metadata": {},
   "outputs": [
    {
     "name": "stdout",
     "output_type": "stream",
     "text": [
      "Count Nan: 0\n"
     ]
    },
    {
     "data": {
      "image/png": "[encoded data removed]",
      "text/plain": [
       "<Figure size 432x288 with 1 Axes>"
      ]
     },
     "metadata": {
      "needs_background": "light"
     },
     "output_type": "display_data"
    }
   ],
   "source": [
    "# seems strange that we have that many data around 1950 ond not data before\n",
    "# Suggest to make some adjustements where 'Year Built' is \n",
    "print('Count Nan:',data['Year Remod/Add'].isnull().sum())\n",
    "plt.plot(data[['Year Remod/Add','Order']].groupby('Year Remod/Add').count())\n",
    "plt.title('Year Remod/Add')\n",
    "plt.show()"
   ]
  },
  {
   "cell_type": "code",
   "execution_count": 55,
   "metadata": {},
   "outputs": [
    {
     "name": "stdout",
     "output_type": "stream",
     "text": [
      "Count values on 1950: 294\n"
     ]
    },
    {
     "data": {
      "image/png": "[encoded data removed]",
      "text/plain": [
       "<Figure size 432x288 with 1 Axes>"
      ]
     },
     "metadata": {
      "needs_background": "light"
     },
     "output_type": "display_data"
    }
   ],
   "source": [
    "print('Count values on 1950:',data['Year Remod/Add'].apply(lambda x: np.where(x == 1950, np.nan,x)).isnull().sum())\n",
    "# updating those values with Nan as data are probably incorrect\n",
    "data['Year Remod/Add'] = data['Year Remod/Add'].apply(lambda x: np.where(x == 1950, np.nan,x))\n",
    "# Also rounding results to 10\n",
    "data['Year Remod/Add'] = round(data['Year Remod/Add'],-1)\n",
    "data[['Year Remod/Add','Order']].groupby('Year Remod/Add').count().plot(kind='bar')\n",
    "plt.show()"
   ]
  },
  {
   "cell_type": "code",
   "execution_count": 56,
   "metadata": {},
   "outputs": [],
   "source": [
    "# handle test data\n",
    "# updating those values with Nan as data are probably incorrect\n",
    "data_test['Year Remod/Add'] = data_test['Year Remod/Add'].apply(lambda x: np.where(x == 1950, np.nan,x))\n",
    "# Also rounding results to 10\n",
    "data_test['Year Remod/Add'] = round(data_test['Year Remod/Add'],-1)"
   ]
  },
  {
   "cell_type": "markdown",
   "metadata": {},
   "source": [
    "### Roof Style & Roof Matl (Nominal) - clean"
   ]
  },
  {
   "cell_type": "code",
   "execution_count": 57,
   "metadata": {},
   "outputs": [
    {
     "data": {
      "text/plain": [
       "array(['Gable', 'Hip', 'Flat', 'Gambrel', 'Mansard', 'Shed'], dtype=object)"
      ]
     },
     "execution_count": 57,
     "metadata": {},
     "output_type": "execute_result"
    }
   ],
   "source": [
    "data['Roof Style'].unique()"
   ]
  },
  {
   "cell_type": "code",
   "execution_count": 58,
   "metadata": {},
   "outputs": [
    {
     "data": {
      "text/plain": [
       "array(['CompShg', 'Tar&Grv', 'WdShake', 'WdShngl', 'Metal', 'ClyTile',\n",
       "       'Membran'], dtype=object)"
      ]
     },
     "execution_count": 58,
     "metadata": {},
     "output_type": "execute_result"
    }
   ],
   "source": [
    "data['Roof Matl'].unique()"
   ]
  },
  {
   "cell_type": "code",
   "execution_count": 59,
   "metadata": {},
   "outputs": [
    {
     "data": {
      "text/plain": [
       "array(['Gable', 'Mansard', 'Hip', 'Gambrel', 'Flat'], dtype=object)"
      ]
     },
     "execution_count": 59,
     "metadata": {},
     "output_type": "execute_result"
    }
   ],
   "source": [
    "# handle test data\n",
    "data_test['Roof Style'].unique()"
   ]
  },
  {
   "cell_type": "code",
   "execution_count": 60,
   "metadata": {},
   "outputs": [
    {
     "data": {
      "text/plain": [
       "array(['CompShg', 'Tar&Grv', 'WdShake', 'WdShngl', 'Metal', 'ClyTile',\n",
       "       'Membran'], dtype=object)"
      ]
     },
     "execution_count": 60,
     "metadata": {},
     "output_type": "execute_result"
    }
   ],
   "source": [
    "data['Roof Matl'].unique()"
   ]
  },
  {
   "cell_type": "markdown",
   "metadata": {},
   "source": [
    "### Exterior 1st & 2nd (Nominal) - clean"
   ]
  },
  {
   "cell_type": "code",
   "execution_count": 61,
   "metadata": {},
   "outputs": [
    {
     "data": {
      "text/plain": [
       "array(['VinylSd', 'Wd Sdng', 'CemntBd', 'BrkFace', 'MetalSd', 'Plywood',\n",
       "       'HdBoard', 'Stucco', 'Stone', 'CBlock', 'AsbShng', 'WdShing',\n",
       "       'BrkComm', 'PreCast', 'AsphShn', 'ImStucc'], dtype=object)"
      ]
     },
     "execution_count": 61,
     "metadata": {},
     "output_type": "execute_result"
    }
   ],
   "source": [
    "data['Exterior 1st'].unique()"
   ]
  },
  {
   "cell_type": "code",
   "execution_count": 62,
   "metadata": {},
   "outputs": [
    {
     "data": {
      "text/plain": [
       "array(['VinylSd', 'Wd Sdng', 'CmentBd', 'BrkFace', 'MetalSd', 'Plywood',\n",
       "       'HdBoard', 'Stucco', 'Wd Shng', 'CBlock', 'Stone', 'ImStucc',\n",
       "       'AsbShng', 'Brk Cmn', 'AsphShn', 'PreCast'], dtype=object)"
      ]
     },
     "execution_count": 62,
     "metadata": {},
     "output_type": "execute_result"
    }
   ],
   "source": [
    "data['Exterior 2nd'].unique()"
   ]
  },
  {
   "cell_type": "code",
   "execution_count": 63,
   "metadata": {},
   "outputs": [
    {
     "data": {
      "text/plain": [
       "array(['MetalSd', 'VinylSd', 'Wd Sdng', 'AsbShng', 'Plywood', 'HdBoard',\n",
       "       'CemntBd', 'WdShing', 'BrkFace', 'Stucco'], dtype=object)"
      ]
     },
     "execution_count": 63,
     "metadata": {},
     "output_type": "execute_result"
    }
   ],
   "source": [
    "# handle test data\n",
    "data_test['Exterior 1st'].unique()"
   ]
  },
  {
   "cell_type": "code",
   "execution_count": 64,
   "metadata": {},
   "outputs": [
    {
     "data": {
      "text/plain": [
       "array(['MetalSd', 'VinylSd', 'Wd Sdng', 'AsbShng', 'Plywood', 'CmentBd',\n",
       "       'Wd Shng', 'HdBoard', 'Stucco', 'BrkFace', 'Brk Cmn', 'Stone',\n",
       "       'ImStucc', 'Other', 'CBlock'], dtype=object)"
      ]
     },
     "execution_count": 64,
     "metadata": {},
     "output_type": "execute_result"
    }
   ],
   "source": [
    "data_test['Exterior 2nd'].unique()"
   ]
  },
  {
   "cell_type": "markdown",
   "metadata": {},
   "source": [
    "### Mas Vnr Type (Nominal) - handle NAs"
   ]
  },
  {
   "cell_type": "code",
   "execution_count": 65,
   "metadata": {},
   "outputs": [
    {
     "data": {
      "text/plain": [
       "array(['None', 'BrkFace', 'Stone', nan, 'BrkCmn', 'CBlock'], dtype=object)"
      ]
     },
     "execution_count": 65,
     "metadata": {},
     "output_type": "execute_result"
    }
   ],
   "source": [
    "data['Mas Vnr Type'].unique()"
   ]
  },
  {
   "cell_type": "code",
   "execution_count": 66,
   "metadata": {},
   "outputs": [
    {
     "data": {
      "text/html": [
       "<div>\n",
       "<style scoped>\n",
       "    .dataframe tbody tr th:only-of-type {\n",
       "        vertical-align: middle;\n",
       "    }\n",
       "\n",
       "    .dataframe tbody tr th {\n",
       "        vertical-align: top;\n",
       "    }\n",
       "\n",
       "    .dataframe thead th {\n",
       "        text-align: right;\n",
       "    }\n",
       "</style>\n",
       "<table border=\"1\" class=\"dataframe\">\n",
       "  <thead>\n",
       "    <tr style=\"text-align: right;\">\n",
       "      <th></th>\n",
       "      <th>Order</th>\n",
       "    </tr>\n",
       "    <tr>\n",
       "      <th>Mas Vnr Type</th>\n",
       "      <th></th>\n",
       "    </tr>\n",
       "  </thead>\n",
       "  <tbody>\n",
       "    <tr>\n",
       "      <th>BrkCmn</th>\n",
       "      <td>21</td>\n",
       "    </tr>\n",
       "    <tr>\n",
       "      <th>BrkFace</th>\n",
       "      <td>736</td>\n",
       "    </tr>\n",
       "    <tr>\n",
       "      <th>CBlock</th>\n",
       "      <td>1</td>\n",
       "    </tr>\n",
       "    <tr>\n",
       "      <th>None</th>\n",
       "      <td>1442</td>\n",
       "    </tr>\n",
       "    <tr>\n",
       "      <th>Stone</th>\n",
       "      <td>210</td>\n",
       "    </tr>\n",
       "  </tbody>\n",
       "</table>\n",
       "</div>"
      ],
      "text/plain": [
       "              Order\n",
       "Mas Vnr Type       \n",
       "BrkCmn           21\n",
       "BrkFace         736\n",
       "CBlock            1\n",
       "None           1442\n",
       "Stone           210"
      ]
     },
     "execution_count": 66,
     "metadata": {},
     "output_type": "execute_result"
    }
   ],
   "source": [
    "data[['Mas Vnr Type','Order']].groupby('Mas Vnr Type').count()"
   ]
  },
  {
   "cell_type": "code",
   "execution_count": 67,
   "metadata": {},
   "outputs": [
    {
     "name": "stdout",
     "output_type": "stream",
     "text": [
      "Count NA: 20\n"
     ]
    }
   ],
   "source": [
    "# I decided to replace NAs with None as it is the higher number of value and assume best representation as well\n",
    "print('Count NA:',data['Mas Vnr Type'].isnull().sum())\n",
    "data['Mas Vnr Type'].fillna(value='None',inplace=True)"
   ]
  },
  {
   "cell_type": "code",
   "execution_count": 68,
   "metadata": {},
   "outputs": [],
   "source": [
    "# handle test data\n",
    "data_test['Mas Vnr Type'].fillna(value='None',inplace=True)"
   ]
  },
  {
   "cell_type": "markdown",
   "metadata": {},
   "source": [
    "### Mas Vnr Area (Continous) - handle outlier (1x)"
   ]
  },
  {
   "cell_type": "code",
   "execution_count": 69,
   "metadata": {},
   "outputs": [
    {
     "data": {
      "image/png": "[encoded data removed]",
      "text/plain": [
       "<Figure size 432x288 with 1 Axes>"
      ]
     },
     "metadata": {
      "needs_background": "light"
     },
     "output_type": "display_data"
    }
   ],
   "source": [
    "# This is a large number of properties with Mas Vnr Area = 0 but seems aligned with Mas Vnr Type = None numbers.\n",
    "plt.hist(data['Mas Vnr Area'], bins=100)\n",
    "plt.title('Mas Vnr Area - Before cleaning')\n",
    "plt.show()"
   ]
  },
  {
   "cell_type": "code",
   "execution_count": 70,
   "metadata": {},
   "outputs": [
    {
     "name": "stdout",
     "output_type": "stream",
     "text": [
      "Count NA: 20\n"
     ]
    }
   ],
   "source": [
    "# This is a large number of properties with Mas Vnr Area = 0 but seems aligned with Mas Vnr Type = None numbers.\n",
    "print('Count NA:',data['Mas Vnr Area'].isnull().sum())\n",
    "data['Mas Vnr Area'].fillna(value=0,inplace=True)"
   ]
  },
  {
   "cell_type": "code",
   "execution_count": 71,
   "metadata": {},
   "outputs": [
    {
     "data": {
      "image/png": "[encoded data removed]",
      "text/plain": [
       "<Figure size 432x288 with 1 Axes>"
      ]
     },
     "metadata": {
      "needs_background": "light"
     },
     "output_type": "display_data"
    }
   ],
   "source": [
    "plt.hist(data[data['Mas Vnr Area'] > 100]['Mas Vnr Area'], bins=100)\n",
    "plt.title('Mas Vnr Area - After removing NaNs and 0 cleaning')\n",
    "plt.show()"
   ]
  },
  {
   "cell_type": "code",
   "execution_count": 72,
   "metadata": {},
   "outputs": [
    {
     "data": {
      "text/plain": [
       "36"
      ]
     },
     "execution_count": 72,
     "metadata": {},
     "output_type": "execute_result"
    }
   ],
   "source": [
    "# Decided to tag as outlier the one value above 1500\n",
    "outlier = (data['Mas Vnr Area']  > 1500) | outlier\n",
    "outlier.sum()"
   ]
  },
  {
   "cell_type": "code",
   "execution_count": 73,
   "metadata": {},
   "outputs": [],
   "source": [
    "# handle test data\n",
    "data_test['Mas Vnr Area'].fillna(value=0,inplace=True)"
   ]
  },
  {
   "cell_type": "markdown",
   "metadata": {},
   "source": [
    "### Exter Qual & Exter Cond (Ordinal) - convert to numerical scale"
   ]
  },
  {
   "cell_type": "code",
   "execution_count": 74,
   "metadata": {},
   "outputs": [
    {
     "data": {
      "text/plain": [
       "array(['Gd', 'TA', 'Fa', 'Ex'], dtype=object)"
      ]
     },
     "execution_count": 74,
     "metadata": {},
     "output_type": "execute_result"
    }
   ],
   "source": [
    "data['Exter Qual'].unique()"
   ]
  },
  {
   "cell_type": "code",
   "execution_count": 75,
   "metadata": {},
   "outputs": [
    {
     "data": {
      "text/plain": [
       "array(['TA', 'Gd', 'Fa', 'Ex', 'Po'], dtype=object)"
      ]
     },
     "execution_count": 75,
     "metadata": {},
     "output_type": "execute_result"
    }
   ],
   "source": [
    "data['Exter Cond'].unique()"
   ]
  },
  {
   "cell_type": "code",
   "execution_count": 76,
   "metadata": {},
   "outputs": [],
   "source": [
    "# Decide to convert to numerical based\n",
    "# Update for both train and test set\n",
    "data['Exter Qual'].replace({'Ex': 5,'Gd': 4,'TA': 3,'Fa':2,'Po':1},inplace=True)\n",
    "data_test['Exter Qual'].replace({'Ex': 5,'Gd': 4,'TA': 3,'Fa':2,'Po':1},inplace=True)"
   ]
  },
  {
   "cell_type": "code",
   "execution_count": 77,
   "metadata": {},
   "outputs": [],
   "source": [
    "# Decide to convert to numerical based\n",
    "# Update for both train and test set\n",
    "data['Exter Cond'].replace({'Ex': 5,'Gd': 4,'TA': 3,'Fa':2,'Po':1},inplace=True)\n",
    "data_test['Exter Cond'].replace({'Ex': 5,'Gd': 4,'TA': 3,'Fa':2,'Po':1},inplace=True)"
   ]
  },
  {
   "cell_type": "markdown",
   "metadata": {},
   "source": [
    "### Foundation (Nominal) - clean"
   ]
  },
  {
   "cell_type": "code",
   "execution_count": 78,
   "metadata": {},
   "outputs": [
    {
     "data": {
      "text/plain": [
       "array(['PConc', 'CBlock', 'BrkTil', 'Slab', 'Stone', 'Wood'], dtype=object)"
      ]
     },
     "execution_count": 78,
     "metadata": {},
     "output_type": "execute_result"
    }
   ],
   "source": [
    "data['Foundation'].unique()"
   ]
  },
  {
   "cell_type": "code",
   "execution_count": 79,
   "metadata": {},
   "outputs": [
    {
     "data": {
      "text/plain": [
       "array(['CBlock', 'PConc', 'Stone', 'Slab', 'BrkTil'], dtype=object)"
      ]
     },
     "execution_count": 79,
     "metadata": {},
     "output_type": "execute_result"
    }
   ],
   "source": [
    "# handle test data\n",
    "data_test['Foundation'].unique()"
   ]
  },
  {
   "cell_type": "markdown",
   "metadata": {},
   "source": [
    "### Bsmt Qual & Bsmt Cond & Bsmt Exposure (Ordinal) - convert to numerical scale"
   ]
  },
  {
   "cell_type": "code",
   "execution_count": 80,
   "metadata": {},
   "outputs": [
    {
     "data": {
      "text/plain": [
       "array(['Gd', 'TA', 'Ex', nan, 'Fa', 'Po'], dtype=object)"
      ]
     },
     "execution_count": 80,
     "metadata": {},
     "output_type": "execute_result"
    }
   ],
   "source": [
    "data['Bsmt Qual'].unique()"
   ]
  },
  {
   "cell_type": "code",
   "execution_count": 81,
   "metadata": {},
   "outputs": [
    {
     "data": {
      "text/plain": [
       "array(['TA', 'Gd', 'Fa', nan, 'Ex', 'Po'], dtype=object)"
      ]
     },
     "execution_count": 81,
     "metadata": {},
     "output_type": "execute_result"
    }
   ],
   "source": [
    "data['Bsmt Cond'].unique()"
   ]
  },
  {
   "cell_type": "code",
   "execution_count": 82,
   "metadata": {},
   "outputs": [
    {
     "data": {
      "text/plain": [
       "array(['No', 'Av', 'Mn', 'Gd', nan], dtype=object)"
      ]
     },
     "execution_count": 82,
     "metadata": {},
     "output_type": "execute_result"
    }
   ],
   "source": [
    "data['Bsmt Exposure'].unique()"
   ]
  },
  {
   "cell_type": "code",
   "execution_count": 83,
   "metadata": {},
   "outputs": [],
   "source": [
    "data['Bsmt Qual'].replace({'Ex': 5,'Gd': 4,'TA': 3,'Fa':2,'Po':1},inplace=True)\n",
    "data_test['Bsmt Qual'].replace({'Ex': 5,'Gd': 4,'TA': 3,'Fa':2,'Po':1},inplace=True)\n",
    "data['Bsmt Qual'].fillna(value=0,inplace=True)\n",
    "data_test['Bsmt Qual'].fillna(value=0,inplace=True)"
   ]
  },
  {
   "cell_type": "code",
   "execution_count": 84,
   "metadata": {},
   "outputs": [],
   "source": [
    "data['Bsmt Cond'].replace({'Ex': 5,'Gd': 4,'TA': 3,'Fa':2,'Po':1},inplace=True)\n",
    "data_test['Bsmt Cond'].replace({'Ex': 5,'Gd': 4,'TA': 3,'Fa':2,'Po':1},inplace=True)\n",
    "data['Bsmt Cond'].fillna(value=0,inplace=True)\n",
    "data_test['Bsmt Cond'].fillna(value=0,inplace=True)"
   ]
  },
  {
   "cell_type": "code",
   "execution_count": 85,
   "metadata": {},
   "outputs": [],
   "source": [
    "data['Bsmt Exposure'].replace({'Gd': 4,'Av': 3,'Mn': 2,'No':1},inplace=True)\n",
    "data_test['Bsmt Exposure'].replace({'Gd': 4,'Av': 3,'Mn': 2,'No':1},inplace=True)\n",
    "data['Bsmt Exposure'].fillna(value=0,inplace=True)\n",
    "data_test['Bsmt Exposure'].fillna(value=0,inplace=True)"
   ]
  },
  {
   "cell_type": "markdown",
   "metadata": {},
   "source": [
    "### BsmtFin Type 1 & BsmtFin Type 2 (Ordinal) - convert to numerical scale"
   ]
  },
  {
   "cell_type": "code",
   "execution_count": 86,
   "metadata": {},
   "outputs": [
    {
     "data": {
      "text/plain": [
       "array(['GLQ', 'Unf', 'Rec', 'LwQ', 'BLQ', 'ALQ', nan], dtype=object)"
      ]
     },
     "execution_count": 86,
     "metadata": {},
     "output_type": "execute_result"
    }
   ],
   "source": [
    "data['BsmtFin Type 1'].unique()"
   ]
  },
  {
   "cell_type": "code",
   "execution_count": 87,
   "metadata": {},
   "outputs": [
    {
     "data": {
      "text/plain": [
       "array(['Unf', 'LwQ', 'BLQ', nan, 'Rec', 'ALQ', 'GLQ'], dtype=object)"
      ]
     },
     "execution_count": 87,
     "metadata": {},
     "output_type": "execute_result"
    }
   ],
   "source": [
    "data['BsmtFin Type 2'].unique()"
   ]
  },
  {
   "cell_type": "code",
   "execution_count": 88,
   "metadata": {},
   "outputs": [],
   "source": [
    "data['BsmtFin Type 1'].replace({'GLQ':6,'ALQ':5,'BLQ':4,'Rec':3,'LwQ':2,'Unf':1},inplace=True)\n",
    "data_test['BsmtFin Type 1'].replace({'GLQ':6,'ALQ':5,'BLQ':4,'Rec':3,'LwQ':2,'Unf':1},inplace=True)\n",
    "data['BsmtFin Type 1'].fillna(value=0,inplace=True)\n",
    "data_test['BsmtFin Type 1'].fillna(value=0,inplace=True)"
   ]
  },
  {
   "cell_type": "code",
   "execution_count": 89,
   "metadata": {},
   "outputs": [],
   "source": [
    "data['BsmtFin Type 2'].replace({'GLQ':6,'ALQ':5,'BLQ':4,'Rec':3,'LwQ':2,'Unf':1},inplace=True)\n",
    "data_test['BsmtFin Type 2'].replace({'GLQ':6,'ALQ':5,'BLQ':4,'Rec':3,'LwQ':2,'Unf':1},inplace=True)\n",
    "data['BsmtFin Type 2'].fillna(value=0,inplace=True)\n",
    "data_test['BsmtFin Type 2'].fillna(value=0,inplace=True)"
   ]
  },
  {
   "cell_type": "markdown",
   "metadata": {},
   "source": [
    "### BsmtFin SF 1 + 2 & Bsmt UNF SF & Total Bsmt SF (Continuous) - handle outliers"
   ]
  },
  {
   "cell_type": "code",
   "execution_count": 90,
   "metadata": {},
   "outputs": [
    {
     "name": "stdout",
     "output_type": "stream",
     "text": [
      "Count NaN SF 1: 1\n",
      "Count >0 SF 1: 1656\n"
     ]
    },
    {
     "data": {
      "image/png": "[encoded data removed]",
      "text/plain": [
       "<Figure size 432x288 with 1 Axes>"
      ]
     },
     "metadata": {
      "needs_background": "light"
     },
     "output_type": "display_data"
    }
   ],
   "source": [
    "print('Count NaN SF 1:',data['BsmtFin SF 1'].isnull().sum())\n",
    "print('Count >0 SF 1:',data[data['BsmtFin SF 1']>0]['BsmtFin SF 1'].count())\n",
    "data['BsmtFin SF 1'].fillna(value=0,inplace=True)\n",
    "data_test['BsmtFin SF 1'].fillna(value=0,inplace=True) # handle test data\n",
    "plt.hist(data[data['BsmtFin SF 1'] > 0]['BsmtFin SF 1'], bins=100)\n",
    "plt.title('BsmtFin SF 1 - > 0')\n",
    "plt.show()"
   ]
  },
  {
   "cell_type": "code",
   "execution_count": 91,
   "metadata": {},
   "outputs": [
    {
     "data": {
      "text/plain": [
       "36"
      ]
     },
     "execution_count": 91,
     "metadata": {},
     "output_type": "execute_result"
    }
   ],
   "source": [
    "# Decide to tag as outlier values above 3000\n",
    "outlier = (data['BsmtFin SF 1']  > 3000) | outlier\n",
    "outlier.sum()\n",
    "# We stay at 36 it means value which were outliers for this variable where also outliers in other variables"
   ]
  },
  {
   "cell_type": "code",
   "execution_count": 92,
   "metadata": {},
   "outputs": [
    {
     "name": "stdout",
     "output_type": "stream",
     "text": [
      "Count NaN SF 2: 1\n",
      "Count >0 SF 2: 294\n"
     ]
    },
    {
     "data": {
      "image/png": "[encoded data removed]",
      "text/plain": [
       "<Figure size 432x288 with 1 Axes>"
      ]
     },
     "metadata": {
      "needs_background": "light"
     },
     "output_type": "display_data"
    }
   ],
   "source": [
    "print('Count NaN SF 2:',data['BsmtFin SF 2'].isnull().sum())\n",
    "print('Count >0 SF 2:',data[data['BsmtFin SF 2']>0]['BsmtFin SF 2'].count())\n",
    "data['BsmtFin SF 2'].fillna(value=0,inplace=True)\n",
    "data_test['BsmtFin SF 2'].fillna(value=0,inplace=True) # handle test data\n",
    "plt.hist(data[data['BsmtFin SF 2'] > 0]['BsmtFin SF 2'], bins=100)\n",
    "plt.title('BsmtFin SF 2 - > 0')\n",
    "plt.show()\n",
    "# Overall less than 300 values above 0. Decide not to remove any values as outliers here"
   ]
  },
  {
   "cell_type": "code",
   "execution_count": 93,
   "metadata": {},
   "outputs": [
    {
     "name": "stdout",
     "output_type": "stream",
     "text": [
      "Count NaN Unf: 1\n",
      "Count >0 Unf: 2219\n"
     ]
    },
    {
     "data": {
      "image/png": "[encoded data removed]",
      "text/plain": [
       "<Figure size 432x288 with 1 Axes>"
      ]
     },
     "metadata": {
      "needs_background": "light"
     },
     "output_type": "display_data"
    }
   ],
   "source": [
    "print('Count NaN Unf:',data['Bsmt Unf SF'].isnull().sum())\n",
    "print('Count >0 Unf:',data[data['Bsmt Unf SF']>0]['Bsmt Unf SF'].count())\n",
    "data['Bsmt Unf SF'].fillna(value=0,inplace=True)\n",
    "data_test['Bsmt Unf SF'].fillna(value=0,inplace=True) # handle test data\n",
    "plt.hist(data[data['Bsmt Unf SF'] > 0]['Bsmt Unf SF'], bins=100)\n",
    "plt.title('Bsmt Unf SF - > 0')\n",
    "plt.show()\n",
    "# Decide to not consider as values as outliers"
   ]
  },
  {
   "cell_type": "code",
   "execution_count": 94,
   "metadata": {},
   "outputs": [
    {
     "name": "stdout",
     "output_type": "stream",
     "text": [
      "Count NaN Total Bsmt: 1\n",
      "Count >0 Total Bsmt: 2359\n"
     ]
    },
    {
     "data": {
      "image/png": "[encoded data removed]",
      "text/plain": [
       "<Figure size 432x288 with 1 Axes>"
      ]
     },
     "metadata": {
      "needs_background": "light"
     },
     "output_type": "display_data"
    }
   ],
   "source": [
    "print('Count NaN Total Bsmt:',data['Total Bsmt SF'].isnull().sum())\n",
    "print('Count >0 Total Bsmt:',data[data['Total Bsmt SF']>0]['Total Bsmt SF'].count())\n",
    "data['Total Bsmt SF'].fillna(value=0,inplace=True)\n",
    "data_test['Total Bsmt SF'].fillna(value=0,inplace=True) # handle test data\n",
    "plt.hist(data[data['Total Bsmt SF'] > -1]['Total Bsmt SF'], bins=100)\n",
    "plt.title('Total Bsmt SF')\n",
    "plt.show()"
   ]
  },
  {
   "cell_type": "code",
   "execution_count": 95,
   "metadata": {},
   "outputs": [
    {
     "data": {
      "text/plain": [
       "21"
      ]
     },
     "execution_count": 95,
     "metadata": {},
     "output_type": "execute_result"
    }
   ],
   "source": [
    "(np.abs((data[data['Total Bsmt SF']>0]['Total Bsmt SF'] - data[data['Total Bsmt SF']>0]['Total Bsmt SF'].mean()) / data[data['Total Bsmt SF']>0]['Total Bsmt SF'].std()) > 3).sum()\n",
    "# Considering only values above 0 to identify outliers\n",
    "# 21 z-score values above abs(3) - choose 3 std as 2 seems too restrictive"
   ]
  },
  {
   "cell_type": "code",
   "execution_count": 96,
   "metadata": {},
   "outputs": [
    {
     "data": {
      "text/plain": [
       "71      5095.0\n",
       "102     2396.0\n",
       "237     2444.0\n",
       "309     2524.0\n",
       "321     2535.0\n",
       "503     2552.0\n",
       "534     2418.0\n",
       "602     3206.0\n",
       "1102    2633.0\n",
       "1191    2458.0\n",
       "1201    2492.0\n",
       "1213    2630.0\n",
       "1464    2660.0\n",
       "1500    6110.0\n",
       "1519    2330.0\n",
       "1588    2452.0\n",
       "1602    2461.0\n",
       "1843    2846.0\n",
       "1856    2392.0\n",
       "2393    3094.0\n",
       "2411    2320.0\n",
       "Name: Total Bsmt SF, dtype: float64"
      ]
     },
     "execution_count": 96,
     "metadata": {},
     "output_type": "execute_result"
    }
   ],
   "source": [
    "mean_total_sf = data[data['Total Bsmt SF']>0]['Total Bsmt SF'].mean()\n",
    "std_total_sf = data[data['Total Bsmt SF']>0]['Total Bsmt SF'].std()\n",
    "data[((data['Total Bsmt SF'] != 0) & ((np.abs(data['Total Bsmt SF']-mean_total_sf) / std_total_sf) > 3))]['Total Bsmt SF']"
   ]
  },
  {
   "cell_type": "code",
   "execution_count": 97,
   "metadata": {},
   "outputs": [
    {
     "data": {
      "text/plain": [
       "54"
      ]
     },
     "execution_count": 97,
     "metadata": {},
     "output_type": "execute_result"
    }
   ],
   "source": [
    "#((data['Total Bsmt SF'] != 0) & ((np.abs(data['Total Bsmt SF']-mean_total_sf) / std_total_sf) > 3))\n",
    "outlier = ((data['Total Bsmt SF'] != 0) & ((np.abs(data['Total Bsmt SF']-mean_total_sf) / std_total_sf) > 3)) | outlier\n",
    "outlier.sum()\n",
    "# We now have 18 more outliers (54 - 36). Means there was some minor overlap (3 entries)"
   ]
  },
  {
   "cell_type": "markdown",
   "metadata": {},
   "source": [
    "### Heating (Nominal) - clean"
   ]
  },
  {
   "cell_type": "code",
   "execution_count": 98,
   "metadata": {},
   "outputs": [
    {
     "data": {
      "text/plain": [
       "array(['GasA', 'GasW', 'Wall', 'Grav', 'OthW', 'Floor'], dtype=object)"
      ]
     },
     "execution_count": 98,
     "metadata": {},
     "output_type": "execute_result"
    }
   ],
   "source": [
    "data['Heating'].unique()"
   ]
  },
  {
   "cell_type": "code",
   "execution_count": 99,
   "metadata": {},
   "outputs": [
    {
     "data": {
      "text/plain": [
       "array(['GasA', 'GasW', 'Grav', 'Wall', 'OthW'], dtype=object)"
      ]
     },
     "execution_count": 99,
     "metadata": {},
     "output_type": "execute_result"
    }
   ],
   "source": [
    "# handle test data\n",
    "data_test['Heating'].unique()"
   ]
  },
  {
   "cell_type": "markdown",
   "metadata": {},
   "source": [
    "### HeatingQC (Ordinal) - convert to numerical scale"
   ]
  },
  {
   "cell_type": "code",
   "execution_count": 100,
   "metadata": {},
   "outputs": [],
   "source": [
    "# Decide to create scale starting at 1 as 0 would have means inexistant\n",
    "data['Heating QC'].replace({'Ex':5,'Gd':4,'TA':3,'Fa':2,'Po':1},inplace=True)\n",
    "data_test['Heating QC'].replace({'Ex':5,'Gd':4,'TA':3,'Fa':2,'Po':1},inplace=True)"
   ]
  },
  {
   "cell_type": "markdown",
   "metadata": {},
   "source": [
    "### Central Air (Nominal) - clean"
   ]
  },
  {
   "cell_type": "code",
   "execution_count": 101,
   "metadata": {},
   "outputs": [
    {
     "data": {
      "text/plain": [
       "array(['Y', 'N'], dtype=object)"
      ]
     },
     "execution_count": 101,
     "metadata": {},
     "output_type": "execute_result"
    }
   ],
   "source": [
    "data['Central Air'].unique()"
   ]
  },
  {
   "cell_type": "code",
   "execution_count": 102,
   "metadata": {},
   "outputs": [
    {
     "data": {
      "text/plain": [
       "array(['Y', 'N'], dtype=object)"
      ]
     },
     "execution_count": 102,
     "metadata": {},
     "output_type": "execute_result"
    }
   ],
   "source": [
    "# handle test data\n",
    "data_test['Central Air'].unique()"
   ]
  },
  {
   "cell_type": "markdown",
   "metadata": {},
   "source": [
    "### Electrical (Ordinal) - handle Nan"
   ]
  },
  {
   "cell_type": "code",
   "execution_count": 103,
   "metadata": {},
   "outputs": [
    {
     "name": "stdout",
     "output_type": "stream",
     "text": [
      "Count NaN: 1\n"
     ]
    },
    {
     "data": {
      "text/plain": [
       "array(['SBrkr', 'FuseF', 'FuseA', 'FuseP', nan, 'Mix'], dtype=object)"
      ]
     },
     "execution_count": 103,
     "metadata": {},
     "output_type": "execute_result"
    }
   ],
   "source": [
    "print('Count NaN:',data['Electrical'].isnull().sum())\n",
    "data['Electrical'].unique()\n",
    "# I don't know the scale of quality between each types and therefore deciding to keep as Nominal"
   ]
  },
  {
   "cell_type": "code",
   "execution_count": 104,
   "metadata": {},
   "outputs": [
    {
     "data": {
      "text/html": [
       "<div>\n",
       "<style scoped>\n",
       "    .dataframe tbody tr th:only-of-type {\n",
       "        vertical-align: middle;\n",
       "    }\n",
       "\n",
       "    .dataframe tbody tr th {\n",
       "        vertical-align: top;\n",
       "    }\n",
       "\n",
       "    .dataframe thead th {\n",
       "        text-align: right;\n",
       "    }\n",
       "</style>\n",
       "<table border=\"1\" class=\"dataframe\">\n",
       "  <thead>\n",
       "    <tr style=\"text-align: right;\">\n",
       "      <th></th>\n",
       "      <th>Order</th>\n",
       "    </tr>\n",
       "    <tr>\n",
       "      <th>Electrical</th>\n",
       "      <th></th>\n",
       "    </tr>\n",
       "  </thead>\n",
       "  <tbody>\n",
       "    <tr>\n",
       "      <th>SBrkr</th>\n",
       "      <td>2223</td>\n",
       "    </tr>\n",
       "    <tr>\n",
       "      <th>FuseA</th>\n",
       "      <td>160</td>\n",
       "    </tr>\n",
       "    <tr>\n",
       "      <th>FuseF</th>\n",
       "      <td>38</td>\n",
       "    </tr>\n",
       "    <tr>\n",
       "      <th>FuseP</th>\n",
       "      <td>7</td>\n",
       "    </tr>\n",
       "    <tr>\n",
       "      <th>Mix</th>\n",
       "      <td>1</td>\n",
       "    </tr>\n",
       "  </tbody>\n",
       "</table>\n",
       "</div>"
      ],
      "text/plain": [
       "            Order\n",
       "Electrical       \n",
       "SBrkr        2223\n",
       "FuseA         160\n",
       "FuseF          38\n",
       "FuseP           7\n",
       "Mix             1"
      ]
     },
     "execution_count": 104,
     "metadata": {},
     "output_type": "execute_result"
    }
   ],
   "source": [
    "# check what is the most common type to assign the only Nan to this type\n",
    "data[['Electrical','Order']].groupby('Electrical').count().sort_values(by='Order',ascending=False)"
   ]
  },
  {
   "cell_type": "code",
   "execution_count": 105,
   "metadata": {},
   "outputs": [],
   "source": [
    "data['Electrical'].fillna(value='SBrkr',inplace=True)"
   ]
  },
  {
   "cell_type": "code",
   "execution_count": 106,
   "metadata": {},
   "outputs": [],
   "source": [
    "# handle test data\n",
    "data_test['Electrical'].fillna(value='SBrkr',inplace=True)"
   ]
  },
  {
   "cell_type": "markdown",
   "metadata": {},
   "source": [
    "### 1st & 2nd Flr SF (Continuous) - handle outliers 1st Floor"
   ]
  },
  {
   "cell_type": "code",
   "execution_count": 107,
   "metadata": {},
   "outputs": [
    {
     "data": {
      "image/png": "[encoded data removed]",
      "text/plain": [
       "<Figure size 432x288 with 1 Axes>"
      ]
     },
     "metadata": {
      "needs_background": "light"
     },
     "output_type": "display_data"
    }
   ],
   "source": [
    "plt.hist(data['1st Flr SF'],bins=50)\n",
    "plt.title('1st Floor Square feet distribution')\n",
    "plt.show()"
   ]
  },
  {
   "cell_type": "code",
   "execution_count": 108,
   "metadata": {},
   "outputs": [],
   "source": [
    "# creating function for z-score as I realize I am re-writting this part of the code several times\n",
    "def z_score(x):\n",
    "    return np.abs((x - x.mean()) / x.std())"
   ]
  },
  {
   "cell_type": "code",
   "execution_count": 109,
   "metadata": {},
   "outputs": [
    {
     "data": {
      "text/plain": [
       "23"
      ]
     },
     "execution_count": 109,
     "metadata": {},
     "output_type": "execute_result"
    }
   ],
   "source": [
    "(z_score(data['1st Flr SF']) > 3).sum()\n",
    "# considering 3 std for outliers we can identify 23 of them. Let's have a look at them"
   ]
  },
  {
   "cell_type": "code",
   "execution_count": 110,
   "metadata": {},
   "outputs": [
    {
     "data": {
      "text/plain": [
       "71      5095\n",
       "89      2898\n",
       "101     2515\n",
       "102     2411\n",
       "237     2444\n",
       "272     2726\n",
       "309     2524\n",
       "321     2470\n",
       "503     2552\n",
       "534     2464\n",
       "834     2422\n",
       "1102    2633\n",
       "1191    2490\n",
       "1201    2492\n",
       "1213    2674\n",
       "1500    4692\n",
       "1519    2364\n",
       "1588    2452\n",
       "1602    2497\n",
       "1843    2696\n",
       "1856    2392\n",
       "2056    3820\n",
       "2393    2402\n",
       "Name: 1st Flr SF, dtype: int64"
      ]
     },
     "execution_count": 110,
     "metadata": {},
     "output_type": "execute_result"
    }
   ],
   "source": [
    "data[z_score(data['1st Flr SF']) > 3]['1st Flr SF']\n",
    "# All of them are large surface"
   ]
  },
  {
   "cell_type": "code",
   "execution_count": 111,
   "metadata": {},
   "outputs": [
    {
     "data": {
      "text/plain": [
       "57"
      ]
     },
     "execution_count": 111,
     "metadata": {},
     "output_type": "execute_result"
    }
   ],
   "source": [
    "outlier = (z_score(data['1st Flr SF']) > 3) | outlier\n",
    "outlier.sum()\n",
    "# We now have 3 more outliers (57 - 54). Means there was major overlap (3 entries)"
   ]
  },
  {
   "cell_type": "code",
   "execution_count": 112,
   "metadata": {},
   "outputs": [
    {
     "data": {
      "image/png": "[encoded data removed]",
      "text/plain": [
       "<Figure size 432x288 with 1 Axes>"
      ]
     },
     "metadata": {
      "needs_background": "light"
     },
     "output_type": "display_data"
    }
   ],
   "source": [
    "plt.hist(data['2nd Flr SF'],bins=50)\n",
    "plt.title('2nd Floor Square feet distribution')\n",
    "plt.show()"
   ]
  },
  {
   "cell_type": "code",
   "execution_count": 113,
   "metadata": {},
   "outputs": [
    {
     "data": {
      "image/png": "[encoded data removed]",
      "text/plain": [
       "<Figure size 432x288 with 1 Axes>"
      ]
     },
     "metadata": {
      "needs_background": "light"
     },
     "output_type": "display_data"
    }
   ],
   "source": [
    "plt.hist(data[data['2nd Flr SF'] > 0]['2nd Flr SF'],bins=50)\n",
    "plt.title('2nd Floor Square feet distribution | >0')\n",
    "plt.show()\n",
    "# Decided to not remove any outliers"
   ]
  },
  {
   "cell_type": "markdown",
   "metadata": {},
   "source": [
    "### Low Qual Fin SF (Continous) - clean"
   ]
  },
  {
   "cell_type": "code",
   "execution_count": 114,
   "metadata": {},
   "outputs": [
    {
     "name": "stdout",
     "output_type": "stream",
     "text": [
      "Count Low Qual = 0: 2400\n"
     ]
    },
    {
     "data": {
      "image/png": "[encoded data removed]",
      "text/plain": [
       "<Figure size 432x288 with 1 Axes>"
      ]
     },
     "metadata": {
      "needs_background": "light"
     },
     "output_type": "display_data"
    }
   ],
   "source": [
    "print('Count Low Qual = 0:',(data['Low Qual Fin SF'] == 0).sum())\n",
    "plt.hist(data[data['Low Qual Fin SF'] != 0]['Low Qual Fin SF'], bins=50)\n",
    "plt.title('Low Quality finished square feet | >0')\n",
    "plt.show()"
   ]
  },
  {
   "cell_type": "markdown",
   "metadata": {},
   "source": [
    "### Gr Liv Area (Continous)"
   ]
  },
  {
   "cell_type": "code",
   "execution_count": 115,
   "metadata": {},
   "outputs": [
    {
     "data": {
      "image/png": "[encoded data removed]",
      "text/plain": [
       "<Figure size 432x288 with 1 Axes>"
      ]
     },
     "metadata": {
      "needs_background": "light"
     },
     "output_type": "display_data"
    }
   ],
   "source": [
    "plt.hist(data['Gr Liv Area'], bins=50)\n",
    "plt.title('Above ground living area square feet')\n",
    "plt.show()"
   ]
  },
  {
   "cell_type": "code",
   "execution_count": 116,
   "metadata": {},
   "outputs": [
    {
     "name": "stdout",
     "output_type": "stream",
     "text": [
      "Count data points above 3 std: 16\n"
     ]
    },
    {
     "data": {
      "text/plain": [
       "71      5095\n",
       "102     4476\n",
       "237     4316\n",
       "306     3672\n",
       "635     3086\n",
       "647     3608\n",
       "838     3500\n",
       "895     3078\n",
       "1072    3395\n",
       "1152    3238\n",
       "1500    5642\n",
       "1582    3112\n",
       "1724    3390\n",
       "1927    3194\n",
       "2056    3820\n",
       "2092    3493\n",
       "Name: Gr Liv Area, dtype: int64"
      ]
     },
     "execution_count": 116,
     "metadata": {},
     "output_type": "execute_result"
    }
   ],
   "source": [
    "print('Count data points above 3 std:',(z_score(data['Gr Liv Area']) > 3).sum())\n",
    "data[(z_score(data['Gr Liv Area']) > 3)]['Gr Liv Area']\n",
    "# below list of entries to be tagged as outliers"
   ]
  },
  {
   "cell_type": "code",
   "execution_count": 117,
   "metadata": {},
   "outputs": [
    {
     "data": {
      "text/plain": [
       "68"
      ]
     },
     "execution_count": 117,
     "metadata": {},
     "output_type": "execute_result"
    }
   ],
   "source": [
    "outlier = (z_score(data['Gr Liv Area']) > 3) | outlier\n",
    "outlier.sum()\n",
    "# We now have 11 more outliers (68 - 57). Means there was some overlap (5 entries)"
   ]
  },
  {
   "cell_type": "markdown",
   "metadata": {},
   "source": [
    "### Bsmt Full Bath & Bsmt Half Bath & Full Bath & Half Bath (Discrete) - handle NaNs"
   ]
  },
  {
   "cell_type": "code",
   "execution_count": 118,
   "metadata": {},
   "outputs": [
    {
     "name": "stdout",
     "output_type": "stream",
     "text": [
      "Count NaNs: 2\n"
     ]
    },
    {
     "data": {
      "text/plain": [
       "array([ 0.,  1., nan,  3.,  2.])"
      ]
     },
     "execution_count": 118,
     "metadata": {},
     "output_type": "execute_result"
    }
   ],
   "source": [
    "print('Count NaNs:',data['Bsmt Full Bath'].isnull().sum())\n",
    "data['Bsmt Full Bath'].unique()"
   ]
  },
  {
   "cell_type": "code",
   "execution_count": 119,
   "metadata": {},
   "outputs": [],
   "source": [
    "# fill NaNs with 0 as no data probably means 0\n",
    "data['Bsmt Full Bath'].fillna(value=0, inplace=True)\n",
    "data_test['Bsmt Full Bath'].fillna(value=0, inplace=True) # handle test data"
   ]
  },
  {
   "cell_type": "code",
   "execution_count": 120,
   "metadata": {},
   "outputs": [
    {
     "name": "stdout",
     "output_type": "stream",
     "text": [
      "Count NaNs: 2\n"
     ]
    },
    {
     "data": {
      "text/plain": [
       "array([ 0.,  1., nan,  2.])"
      ]
     },
     "execution_count": 120,
     "metadata": {},
     "output_type": "execute_result"
    }
   ],
   "source": [
    "print('Count NaNs:',data['Bsmt Half Bath'].isnull().sum())\n",
    "data['Bsmt Half Bath'].unique()"
   ]
  },
  {
   "cell_type": "code",
   "execution_count": 121,
   "metadata": {},
   "outputs": [],
   "source": [
    "# fill NaNs with 0 as no data probably means 0\n",
    "data['Bsmt Half Bath'].fillna(value=0, inplace=True)\n",
    "data_test['Bsmt Half Bath'].fillna(value=0, inplace=True) # handle test data"
   ]
  },
  {
   "cell_type": "code",
   "execution_count": 122,
   "metadata": {},
   "outputs": [
    {
     "name": "stdout",
     "output_type": "stream",
     "text": [
      "Count NaNs: 0\n"
     ]
    },
    {
     "data": {
      "text/plain": [
       "array([2, 1, 3, 0, 4], dtype=int64)"
      ]
     },
     "execution_count": 122,
     "metadata": {},
     "output_type": "execute_result"
    }
   ],
   "source": [
    "print('Count NaNs:',data['Full Bath'].isnull().sum())\n",
    "data['Full Bath'].unique()"
   ]
  },
  {
   "cell_type": "code",
   "execution_count": 123,
   "metadata": {},
   "outputs": [
    {
     "name": "stdout",
     "output_type": "stream",
     "text": [
      "Count NaNs: 0\n"
     ]
    },
    {
     "data": {
      "text/plain": [
       "array([1, 0, 2], dtype=int64)"
      ]
     },
     "execution_count": 123,
     "metadata": {},
     "output_type": "execute_result"
    }
   ],
   "source": [
    "print('Count NaNs:',data['Full Bath'].isnull().sum())\n",
    "data['Half Bath'].unique()"
   ]
  },
  {
   "cell_type": "code",
   "execution_count": 124,
   "metadata": {},
   "outputs": [
    {
     "data": {
      "text/plain": [
       "array([1, 2, 0, 3, 4], dtype=int64)"
      ]
     },
     "execution_count": 124,
     "metadata": {},
     "output_type": "execute_result"
    }
   ],
   "source": [
    "# handle test data\n",
    "data_test['Full Bath'].unique()"
   ]
  },
  {
   "cell_type": "code",
   "execution_count": 125,
   "metadata": {},
   "outputs": [
    {
     "data": {
      "text/plain": [
       "array([1, 0, 2], dtype=int64)"
      ]
     },
     "execution_count": 125,
     "metadata": {},
     "output_type": "execute_result"
    }
   ],
   "source": [
    "data_test['Half Bath'].unique()"
   ]
  },
  {
   "cell_type": "markdown",
   "metadata": {},
   "source": [
    "### Bedroom & Kitchen (Discrete) - clean but watch column name"
   ]
  },
  {
   "cell_type": "code",
   "execution_count": 126,
   "metadata": {},
   "outputs": [
    {
     "name": "stdout",
     "output_type": "stream",
     "text": [
      "Count NaNs: 0\n"
     ]
    },
    {
     "data": {
      "text/plain": [
       "array([4, 2, 3, 1, 5, 0, 6, 8], dtype=int64)"
      ]
     },
     "execution_count": 126,
     "metadata": {},
     "output_type": "execute_result"
    }
   ],
   "source": [
    "print('Count NaNs:',data['Bedroom AbvGr'].isnull().sum())\n",
    "data['Bedroom AbvGr'].unique()"
   ]
  },
  {
   "cell_type": "code",
   "execution_count": 127,
   "metadata": {},
   "outputs": [
    {
     "name": "stdout",
     "output_type": "stream",
     "text": [
      "Count NaNs: 0\n"
     ]
    },
    {
     "data": {
      "text/plain": [
       "array([1, 2, 3, 0], dtype=int64)"
      ]
     },
     "execution_count": 127,
     "metadata": {},
     "output_type": "execute_result"
    }
   ],
   "source": [
    "print('Count NaNs:',data['Kitchen AbvGr'].isnull().sum())\n",
    "data['Kitchen AbvGr'].unique()"
   ]
  },
  {
   "cell_type": "markdown",
   "metadata": {},
   "source": [
    "### Kitchen Qual (Ordinal) - convert to numerical scale"
   ]
  },
  {
   "cell_type": "code",
   "execution_count": 128,
   "metadata": {},
   "outputs": [
    {
     "name": "stdout",
     "output_type": "stream",
     "text": [
      "Count NaNs: 0\n"
     ]
    },
    {
     "data": {
      "text/plain": [
       "array(['Gd', 'TA', 'Ex', 'Fa', 'Po'], dtype=object)"
      ]
     },
     "execution_count": 128,
     "metadata": {},
     "output_type": "execute_result"
    }
   ],
   "source": [
    "print('Count NaNs:',data['Kitchen Qual'].isnull().sum())\n",
    "data['Kitchen Qual'].unique()"
   ]
  },
  {
   "cell_type": "code",
   "execution_count": 129,
   "metadata": {},
   "outputs": [],
   "source": [
    "data['Kitchen Qual'].replace({'Ex':5,'Gd':4,'TA':3,'Fa':2,'Po':1},inplace=True)\n",
    "data_test['Kitchen Qual'].replace({'Ex':5,'Gd':4,'TA':3,'Fa':2,'Po':1},inplace=True)"
   ]
  },
  {
   "cell_type": "markdown",
   "metadata": {},
   "source": [
    "### TotRmsAbvGrd (Discrete) - clean"
   ]
  },
  {
   "cell_type": "code",
   "execution_count": 130,
   "metadata": {},
   "outputs": [
    {
     "name": "stdout",
     "output_type": "stream",
     "text": [
      "Count NaNs: 0\n"
     ]
    },
    {
     "data": {
      "text/plain": [
       "array([ 8,  5,  6,  9,  7,  4, 10, 12, 11, 15,  3,  2, 14, 13],\n",
       "      dtype=int64)"
      ]
     },
     "execution_count": 130,
     "metadata": {},
     "output_type": "execute_result"
    }
   ],
   "source": [
    "print('Count NaNs:',data['TotRms AbvGrd'].isnull().sum())\n",
    "data['TotRms AbvGrd'].unique()"
   ]
  },
  {
   "cell_type": "markdown",
   "metadata": {},
   "source": [
    "### Functional (Ordinal) - convert to numerical scale"
   ]
  },
  {
   "cell_type": "code",
   "execution_count": 131,
   "metadata": {},
   "outputs": [
    {
     "name": "stdout",
     "output_type": "stream",
     "text": [
      "Count NaNs: 0\n"
     ]
    },
    {
     "data": {
      "text/plain": [
       "array(['Typ', 'Mod', 'Maj1', 'Min2', 'Min1', 'Maj2', 'Sal', 'Sev'],\n",
       "      dtype=object)"
      ]
     },
     "execution_count": 131,
     "metadata": {},
     "output_type": "execute_result"
    }
   ],
   "source": [
    "print('Count NaNs:',data['Functional'].isnull().sum())\n",
    "data['Functional'].unique()"
   ]
  },
  {
   "cell_type": "code",
   "execution_count": 132,
   "metadata": {},
   "outputs": [],
   "source": [
    "data['Functional'].replace({'Typ':8,'Min1':7,'Min2':6,'Mod':5,'Maj1':4,'Maj2':3,'Sev':2,'Sal':1},inplace=True)\n",
    "data_test['Functional'].replace({'Typ':8,'Min1':7,'Min2':6,'Mod':5,'Maj1':4,'Maj2':3,'Sev':2,'Sal':1},inplace=True)"
   ]
  },
  {
   "cell_type": "markdown",
   "metadata": {},
   "source": [
    "### Fireplaces (Discrete) - clean"
   ]
  },
  {
   "cell_type": "code",
   "execution_count": 133,
   "metadata": {},
   "outputs": [
    {
     "name": "stdout",
     "output_type": "stream",
     "text": [
      "Count NaNs: 0\n"
     ]
    },
    {
     "data": {
      "text/plain": [
       "array([1, 0, 2, 3, 4], dtype=int64)"
      ]
     },
     "execution_count": 133,
     "metadata": {},
     "output_type": "execute_result"
    }
   ],
   "source": [
    "print('Count NaNs:',data['Fireplaces'].isnull().sum())\n",
    "data['Fireplaces'].unique()"
   ]
  },
  {
   "cell_type": "code",
   "execution_count": 134,
   "metadata": {},
   "outputs": [
    {
     "data": {
      "text/plain": [
       "array([1, 0, 2, 3], dtype=int64)"
      ]
     },
     "execution_count": 134,
     "metadata": {},
     "output_type": "execute_result"
    }
   ],
   "source": [
    "# handle test data\n",
    "data_test['Fireplaces'].unique()"
   ]
  },
  {
   "cell_type": "markdown",
   "metadata": {},
   "source": [
    "### FireplacesQu (Ordinal) - convert to numerical scale"
   ]
  },
  {
   "cell_type": "code",
   "execution_count": 135,
   "metadata": {},
   "outputs": [
    {
     "name": "stdout",
     "output_type": "stream",
     "text": [
      "Count NaNs: 1186\n"
     ]
    },
    {
     "data": {
      "text/plain": [
       "array(['TA', 'Gd', nan, 'Fa', 'Po', 'Ex'], dtype=object)"
      ]
     },
     "execution_count": 135,
     "metadata": {},
     "output_type": "execute_result"
    }
   ],
   "source": [
    "print('Count NaNs:',data['Fireplace Qu'].isnull().sum())\n",
    "data['Fireplace Qu'].unique()"
   ]
  },
  {
   "cell_type": "code",
   "execution_count": 136,
   "metadata": {},
   "outputs": [],
   "source": [
    "data['Fireplace Qu'].replace({'Ex':5,'Gd':4,'TA':3,'Fa':2,'Po':1},inplace=True)\n",
    "data['Fireplace Qu'].fillna(value=0,inplace=True)\n",
    "data_test['Fireplace Qu'].replace({'Ex':5,'Gd':4,'TA':3,'Fa':2,'Po':1},inplace=True)\n",
    "data_test['Fireplace Qu'].fillna(value=0,inplace=True)"
   ]
  },
  {
   "cell_type": "markdown",
   "metadata": {},
   "source": [
    "### Garage Type (Nominal) - handle NaNs"
   ]
  },
  {
   "cell_type": "code",
   "execution_count": 137,
   "metadata": {},
   "outputs": [
    {
     "name": "stdout",
     "output_type": "stream",
     "text": [
      "Count NaNs: 136\n"
     ]
    },
    {
     "data": {
      "text/plain": [
       "array(['BuiltIn', 'Attchd', 'Detchd', nan, '2Types', 'Basment', 'CarPort'],\n",
       "      dtype=object)"
      ]
     },
     "execution_count": 137,
     "metadata": {},
     "output_type": "execute_result"
    }
   ],
   "source": [
    "print('Count NaNs:',data['Garage Type'].isnull().sum())\n",
    "data['Garage Type'].unique()"
   ]
  },
  {
   "cell_type": "code",
   "execution_count": 138,
   "metadata": {},
   "outputs": [],
   "source": [
    "# NaN mean 'No Garage'\n",
    "data['Garage Type'].fillna(value='No Garage',inplace=True)\n",
    "data_test['Garage Type'].fillna(value='No Garage',inplace=True) # handle test data"
   ]
  },
  {
   "cell_type": "markdown",
   "metadata": {},
   "source": [
    "### Garage Yr Blt (Discrete) - handle NaNs"
   ]
  },
  {
   "cell_type": "code",
   "execution_count": 139,
   "metadata": {},
   "outputs": [
    {
     "name": "stdout",
     "output_type": "stream",
     "text": [
      "Count NaNs: 138\n"
     ]
    },
    {
     "data": {
      "image/png": "[encoded data removed]",
      "text/plain": [
       "<Figure size 432x288 with 1 Axes>"
      ]
     },
     "metadata": {
      "needs_background": "light"
     },
     "output_type": "display_data"
    }
   ],
   "source": [
    "print('Count NaNs:',data['Garage Yr Blt'].isnull().sum())\n",
    "data[['Garage Yr Blt','Order']].groupby('Garage Yr Blt').count().plot()\n",
    "plt.show()"
   ]
  },
  {
   "cell_type": "code",
   "execution_count": 140,
   "metadata": {},
   "outputs": [],
   "source": [
    "x = data[data['Garage Yr Blt'] > 2010]['Garage Yr Blt']\n",
    "data['Garage Yr Blt'].replace(x,np.nan,inplace=True)\n",
    "data['Garage Yr Blt'] = round(data['Garage Yr Blt'],-1)\n",
    "\n",
    "# handle test data\n",
    "y = data_test[data_test['Garage Yr Blt'] > 2010]['Garage Yr Blt']\n",
    "data_test['Garage Yr Blt'].replace(x,np.nan,inplace=True)\n",
    "data_test['Garage Yr Blt'] = round(data_test['Garage Yr Blt'],-1)"
   ]
  },
  {
   "cell_type": "code",
   "execution_count": 141,
   "metadata": {},
   "outputs": [
    {
     "data": {
      "image/png": "[encoded data removed]",
      "text/plain": [
       "<Figure size 432x288 with 1 Axes>"
      ]
     },
     "metadata": {
      "needs_background": "light"
     },
     "output_type": "display_data"
    }
   ],
   "source": [
    "data[['Garage Yr Blt','Order']].groupby('Garage Yr Blt').count().plot(kind='bar')\n",
    "plt.show()"
   ]
  },
  {
   "cell_type": "code",
   "execution_count": 142,
   "metadata": {},
   "outputs": [],
   "source": [
    "# how to handle Nans? Use year build of house? or is there no garage? \n",
    "# Based on previous variable it could be related to having no Garage. Suggest to keep NaNs?\n",
    "# data['Garage Yr Blt'].fillna(value=data['Year Built'],inplace=True)"
   ]
  },
  {
   "cell_type": "markdown",
   "metadata": {},
   "source": [
    "### Garage Finish (Ordinal) - convert to numerical scale"
   ]
  },
  {
   "cell_type": "code",
   "execution_count": 143,
   "metadata": {},
   "outputs": [
    {
     "name": "stdout",
     "output_type": "stream",
     "text": [
      "Count NaNs: 138\n"
     ]
    },
    {
     "data": {
      "text/plain": [
       "array(['Fin', 'Unf', 'RFn', nan], dtype=object)"
      ]
     },
     "execution_count": 143,
     "metadata": {},
     "output_type": "execute_result"
    }
   ],
   "source": [
    "print('Count NaNs:',data['Garage Finish'].isnull().sum())\n",
    "data['Garage Finish'].unique()\n",
    "# keep NaNs as is as per previous variable discussion"
   ]
  },
  {
   "cell_type": "code",
   "execution_count": 144,
   "metadata": {},
   "outputs": [],
   "source": [
    "data['Garage Finish'].replace({'Fin':3,'RFn':2,'Unf':1},inplace=True)\n",
    "data_test['Garage Finish'].replace({'Fin':3,'RFn':2,'Unf':1},inplace=True)"
   ]
  },
  {
   "cell_type": "markdown",
   "metadata": {},
   "source": [
    "### Garage Cars (Discrete) - clean"
   ]
  },
  {
   "cell_type": "code",
   "execution_count": 145,
   "metadata": {},
   "outputs": [
    {
     "name": "stdout",
     "output_type": "stream",
     "text": [
      "Count NaNs: 1\n"
     ]
    },
    {
     "data": {
      "text/plain": [
       "array([ 2.,  1.,  3.,  0.,  4., nan])"
      ]
     },
     "execution_count": 145,
     "metadata": {},
     "output_type": "execute_result"
    }
   ],
   "source": [
    "print('Count NaNs:',data['Garage Cars'].isnull().sum())\n",
    "data['Garage Cars'].unique()\n",
    "# keep NaNs as is as per previous variable discussion"
   ]
  },
  {
   "cell_type": "code",
   "execution_count": 146,
   "metadata": {},
   "outputs": [],
   "source": [
    "data['Garage Cars'].fillna(value=0,inplace=True)\n",
    "data_test['Garage Cars'].fillna(value=0,inplace=True) # handle test data"
   ]
  },
  {
   "cell_type": "markdown",
   "metadata": {},
   "source": [
    "### Garage Area (Continuous)"
   ]
  },
  {
   "cell_type": "code",
   "execution_count": 147,
   "metadata": {},
   "outputs": [
    {
     "name": "stdout",
     "output_type": "stream",
     "text": [
      "Count NaNs: 1\n"
     ]
    }
   ],
   "source": [
    "print('Count NaNs:',data['Garage Area'].isnull().sum())\n",
    "data['Garage Area'].fillna(value=0,inplace=True)\n",
    "data_test['Garage Area'].fillna(value=0,inplace=True) # handle test data"
   ]
  },
  {
   "cell_type": "code",
   "execution_count": 148,
   "metadata": {},
   "outputs": [
    {
     "data": {
      "image/png": "[encoded data removed]",
      "text/plain": [
       "<Figure size 432x288 with 1 Axes>"
      ]
     },
     "metadata": {
      "needs_background": "light"
     },
     "output_type": "display_data"
    }
   ],
   "source": [
    "plt.hist(data[data['Garage Area'] > 0]['Garage Area'], bins=50)\n",
    "plt.title('Garage Area | > 0')\n",
    "plt.show()"
   ]
  },
  {
   "cell_type": "code",
   "execution_count": 149,
   "metadata": {},
   "outputs": [
    {
     "data": {
      "text/plain": [
       "71      1154.0\n",
       "339     1134.0\n",
       "473     1314.0\n",
       "580     1166.0\n",
       "600     1092.0\n",
       "690     1138.0\n",
       "1176    1488.0\n",
       "1212    1231.0\n",
       "1464    1110.0\n",
       "1479    1390.0\n",
       "1500    1418.0\n",
       "1631    1248.0\n",
       "1950    1069.0\n",
       "1956    1348.0\n",
       "2075    1085.0\n",
       "2228    1356.0\n",
       "2411    1174.0\n",
       "Name: Garage Area, dtype: float64"
      ]
     },
     "execution_count": 149,
     "metadata": {},
     "output_type": "execute_result"
    }
   ],
   "source": [
    "mean_garage = data[data['Garage Area']>0]['Garage Area'].mean()\n",
    "std_garage = data[data['Garage Area']>0]['Garage Area'].std()\n",
    "data[((data['Garage Area'] != 0) & ((np.abs(data['Garage Area']-mean_garage) / std_garage) > 3))]['Garage Area']"
   ]
  },
  {
   "cell_type": "code",
   "execution_count": 150,
   "metadata": {},
   "outputs": [
    {
     "data": {
      "text/plain": [
       "80"
      ]
     },
     "execution_count": 150,
     "metadata": {},
     "output_type": "execute_result"
    }
   ],
   "source": [
    "outlier = ((data['Garage Area'] != 0) & ((np.abs(data['Garage Area']-mean_garage) / std_garage) > 3)) | outlier\n",
    "outlier.sum()\n",
    "# We now have 12 more outliers (80 - 68). Means there was some overlap (5 entries)"
   ]
  },
  {
   "cell_type": "markdown",
   "metadata": {},
   "source": [
    "### Garage Qual & Garage Cond (Ordinal) - convert to numerical scale"
   ]
  },
  {
   "cell_type": "code",
   "execution_count": 151,
   "metadata": {},
   "outputs": [
    {
     "name": "stdout",
     "output_type": "stream",
     "text": [
      "Count NaNs: 138\n"
     ]
    },
    {
     "data": {
      "text/plain": [
       "array(['TA', 'Fa', nan, 'Gd', 'Ex', 'Po'], dtype=object)"
      ]
     },
     "execution_count": 151,
     "metadata": {},
     "output_type": "execute_result"
    }
   ],
   "source": [
    "print('Count NaNs:',data['Garage Qual'].isnull().sum())\n",
    "data['Garage Qual'].unique()\n",
    "# keep NaNs as is as per previous variables discussion"
   ]
  },
  {
   "cell_type": "code",
   "execution_count": 152,
   "metadata": {},
   "outputs": [],
   "source": [
    "data['Garage Qual'].replace({'Ex':5,'Gd':4,'TA':3,'Fa':2,'Po':1},inplace=True)\n",
    "#data['Garage Qual'].fillna(value=0,inplace=True)\n",
    "data_test['Garage Qual'].replace({'Ex':5,'Gd':4,'TA':3,'Fa':2,'Po':1},inplace=True)\n",
    "#data_test['Garage Qual'].fillna(value=0,inplace=True)"
   ]
  },
  {
   "cell_type": "code",
   "execution_count": 153,
   "metadata": {},
   "outputs": [
    {
     "name": "stdout",
     "output_type": "stream",
     "text": [
      "Count NaNs: 138\n"
     ]
    },
    {
     "data": {
      "text/plain": [
       "array(['TA', nan, 'Fa', 'Gd', 'Ex', 'Po'], dtype=object)"
      ]
     },
     "execution_count": 153,
     "metadata": {},
     "output_type": "execute_result"
    }
   ],
   "source": [
    "print('Count NaNs:',data['Garage Cond'].isnull().sum())\n",
    "data['Garage Cond'].unique()\n",
    "# keep NaNs as is as per previous variables discussion"
   ]
  },
  {
   "cell_type": "code",
   "execution_count": 154,
   "metadata": {},
   "outputs": [],
   "source": [
    "data['Garage Cond'].replace({'Ex':5,'Gd':4,'TA':3,'Fa':2,'Po':1},inplace=True)\n",
    "#data['Garage Qual'].fillna(value=0,inplace=True)\n",
    "data_test['Garage Cond'].replace({'Ex':5,'Gd':4,'TA':3,'Fa':2,'Po':1},inplace=True)\n",
    "#data_test['Garage Qual'].fillna(value=0,inplace=True)"
   ]
  },
  {
   "cell_type": "markdown",
   "metadata": {},
   "source": [
    "### Paved Drive (Ordinal) - clean"
   ]
  },
  {
   "cell_type": "code",
   "execution_count": 155,
   "metadata": {},
   "outputs": [
    {
     "name": "stdout",
     "output_type": "stream",
     "text": [
      "Count NaNs: 138\n"
     ]
    },
    {
     "data": {
      "text/plain": [
       "array([ 3., nan,  2.,  4.,  5.,  1.])"
      ]
     },
     "execution_count": 155,
     "metadata": {},
     "output_type": "execute_result"
    }
   ],
   "source": [
    "print('Count NaNs:',data['Garage Cond'].isnull().sum())\n",
    "data['Garage Cond'].unique()\n",
    "# keep NaNs as is as per previous variables discussion\n",
    "# keep as nominal instead of converting as different people may have different preferences on this. I don't see it as been ordinal"
   ]
  },
  {
   "cell_type": "code",
   "execution_count": 156,
   "metadata": {},
   "outputs": [
    {
     "data": {
      "text/plain": [
       "array([2, 3, nan, 4, 5], dtype=object)"
      ]
     },
     "execution_count": 156,
     "metadata": {},
     "output_type": "execute_result"
    }
   ],
   "source": [
    "# handle test data\n",
    "data_test['Garage Cond'].unique()"
   ]
  },
  {
   "cell_type": "markdown",
   "metadata": {},
   "source": [
    "### Wood Deck SF (Continous) - handle outliers"
   ]
  },
  {
   "cell_type": "code",
   "execution_count": 157,
   "metadata": {},
   "outputs": [
    {
     "name": "stdout",
     "output_type": "stream",
     "text": [
      "Count NaNs: 0\n"
     ]
    },
    {
     "data": {
      "image/png": "[encoded data removed]",
      "text/plain": [
       "<Figure size 432x288 with 1 Axes>"
      ]
     },
     "metadata": {
      "needs_background": "light"
     },
     "output_type": "display_data"
    }
   ],
   "source": [
    "print('Count NaNs:',data['Wood Deck SF'].isnull().sum())\n",
    "plt.hist(data[data['Wood Deck SF'] > 0]['Wood Deck SF'], bins=50)\n",
    "plt.title('Wood Deck SF | > 0')\n",
    "plt.show()"
   ]
  },
  {
   "cell_type": "code",
   "execution_count": 158,
   "metadata": {},
   "outputs": [
    {
     "data": {
      "text/plain": [
       "81"
      ]
     },
     "execution_count": 158,
     "metadata": {},
     "output_type": "execute_result"
    }
   ],
   "source": [
    "# Decided to consider values above 800 as outliers\n",
    "outlier = (data['Wood Deck SF'] > 800) | outlier\n",
    "outlier.sum()\n",
    "# We now have 1 more outliers (81 - 80)"
   ]
  },
  {
   "cell_type": "markdown",
   "metadata": {},
   "source": [
    "### Open Porch SF & Enclosed Porch & 3-Ssn & Screen Porch (Continuous) - handle outliers"
   ]
  },
  {
   "cell_type": "code",
   "execution_count": 159,
   "metadata": {},
   "outputs": [
    {
     "name": "stdout",
     "output_type": "stream",
     "text": [
      "Count NaNs: 0\n"
     ]
    },
    {
     "data": {
      "image/png": "[encoded data removed]",
      "text/plain": [
       "<Figure size 432x288 with 1 Axes>"
      ]
     },
     "metadata": {
      "needs_background": "light"
     },
     "output_type": "display_data"
    }
   ],
   "source": [
    "print('Count NaNs:',data['Open Porch SF'].isnull().sum())\n",
    "plt.hist(data[data['Open Porch SF'] > 0]['Open Porch SF'], bins=50)\n",
    "plt.title('Open Porch surface | > 0')\n",
    "plt.show()"
   ]
  },
  {
   "cell_type": "code",
   "execution_count": 160,
   "metadata": {},
   "outputs": [
    {
     "data": {
      "text/plain": [
       "86"
      ]
     },
     "execution_count": 160,
     "metadata": {},
     "output_type": "execute_result"
    }
   ],
   "source": [
    "# Decided to consider values above 500 as outliers\n",
    "outlier = (data['Open Porch SF'] > 500) | outlier\n",
    "outlier.sum()\n",
    "# We now have 5 more outliers (86 - 81)"
   ]
  },
  {
   "cell_type": "code",
   "execution_count": 161,
   "metadata": {},
   "outputs": [
    {
     "name": "stdout",
     "output_type": "stream",
     "text": [
      "Count NaNs: 0\n"
     ]
    },
    {
     "data": {
      "image/png": "[encoded data removed]",
      "text/plain": [
       "<Figure size 432x288 with 1 Axes>"
      ]
     },
     "metadata": {
      "needs_background": "light"
     },
     "output_type": "display_data"
    }
   ],
   "source": [
    "print('Count NaNs:',data['Enclosed Porch'].isnull().sum())\n",
    "plt.hist(data[data['Enclosed Porch'] > 0]['Enclosed Porch'], bins=50)\n",
    "plt.title('Enclosed Porch surface | > 0')\n",
    "plt.show()"
   ]
  },
  {
   "cell_type": "code",
   "execution_count": 162,
   "metadata": {},
   "outputs": [
    {
     "data": {
      "text/plain": [
       "88"
      ]
     },
     "execution_count": 162,
     "metadata": {},
     "output_type": "execute_result"
    }
   ],
   "source": [
    "# Decided to consider values above 400 as outliers\n",
    "outlier = (data['Enclosed Porch'] > 400) | outlier\n",
    "outlier.sum()\n",
    "# We now have 2 more outliers (88 - 86)"
   ]
  },
  {
   "cell_type": "code",
   "execution_count": 163,
   "metadata": {},
   "outputs": [
    {
     "name": "stdout",
     "output_type": "stream",
     "text": [
      "Count NaNs: 0\n"
     ]
    },
    {
     "data": {
      "image/png": "[encoded data removed]",
      "text/plain": [
       "<Figure size 432x288 with 1 Axes>"
      ]
     },
     "metadata": {
      "needs_background": "light"
     },
     "output_type": "display_data"
    }
   ],
   "source": [
    "print('Count NaNs:',data['3Ssn Porch'].isnull().sum())\n",
    "plt.hist(data[data['3Ssn Porch'] > 0]['3Ssn Porch'], bins=50)\n",
    "plt.title('3Ssn Porch surface | > 0')\n",
    "plt.show()\n",
    "# Not considerung any outliers given the low number of data"
   ]
  },
  {
   "cell_type": "code",
   "execution_count": 164,
   "metadata": {},
   "outputs": [
    {
     "name": "stdout",
     "output_type": "stream",
     "text": [
      "Count NaNs: 0\n"
     ]
    },
    {
     "data": {
      "image/png": "[encoded data removed]",
      "text/plain": [
       "<Figure size 432x288 with 1 Axes>"
      ]
     },
     "metadata": {
      "needs_background": "light"
     },
     "output_type": "display_data"
    }
   ],
   "source": [
    "print('Count NaNs:',data['Screen Porch'].isnull().sum())\n",
    "plt.hist(data[data['Screen Porch'] > 0]['Screen Porch'], bins=50)\n",
    "plt.title('Screen Porch surface | > 0')\n",
    "plt.show()\n",
    "# Not considerung any outliers given the low number of data"
   ]
  },
  {
   "cell_type": "markdown",
   "metadata": {},
   "source": [
    "### Pool Area (Continous) - clean"
   ]
  },
  {
   "cell_type": "code",
   "execution_count": 165,
   "metadata": {},
   "outputs": [
    {
     "name": "stdout",
     "output_type": "stream",
     "text": [
      "Count NaNs: 0\n"
     ]
    },
    {
     "data": {
      "image/png": "[encoded data removed]",
      "text/plain": [
       "<Figure size 432x288 with 1 Axes>"
      ]
     },
     "metadata": {
      "needs_background": "light"
     },
     "output_type": "display_data"
    }
   ],
   "source": [
    "print('Count NaNs:',data['Pool Area'].isnull().sum())\n",
    "plt.hist(data[data['Pool Area'] > 0]['Pool Area'], bins=50)\n",
    "plt.title('Pool Area | > 0')\n",
    "plt.show()\n",
    "# Not considerung any outliers given the low number of data"
   ]
  },
  {
   "cell_type": "markdown",
   "metadata": {},
   "source": [
    "### Pool QC (Ordinal) - convert to numerical scale"
   ]
  },
  {
   "cell_type": "code",
   "execution_count": 166,
   "metadata": {},
   "outputs": [
    {
     "name": "stdout",
     "output_type": "stream",
     "text": [
      "Count NaNs: 2418\n"
     ]
    },
    {
     "data": {
      "text/plain": [
       "array([nan, 'Fa', 'Ex', 'TA', 'Gd'], dtype=object)"
      ]
     },
     "execution_count": 166,
     "metadata": {},
     "output_type": "execute_result"
    }
   ],
   "source": [
    "print('Count NaNs:',data['Pool QC'].isnull().sum())\n",
    "data['Pool QC'].unique()"
   ]
  },
  {
   "cell_type": "code",
   "execution_count": 167,
   "metadata": {},
   "outputs": [],
   "source": [
    "data['Pool QC'].replace({'Ex':4,'Gd':3,'TA':2,'Fa':1},inplace=True)\n",
    "data['Pool QC'].fillna(value=0,inplace=True)\n",
    "data_test['Pool QC'].replace({'Ex':4,'Gd':3,'TA':2,'Fa':1},inplace=True)\n",
    "data_test['Pool QC'].fillna(value=0,inplace=True)"
   ]
  },
  {
   "cell_type": "markdown",
   "metadata": {},
   "source": [
    "### Fence (Ordinal) - convert to numerical scale"
   ]
  },
  {
   "cell_type": "code",
   "execution_count": 168,
   "metadata": {},
   "outputs": [
    {
     "name": "stdout",
     "output_type": "stream",
     "text": [
      "Count NaNs: 1941\n"
     ]
    },
    {
     "data": {
      "text/plain": [
       "array([nan, 'MnPrv', 'MnWw', 'GdPrv', 'GdWo'], dtype=object)"
      ]
     },
     "execution_count": 168,
     "metadata": {},
     "output_type": "execute_result"
    }
   ],
   "source": [
    "print('Count NaNs:',data['Fence'].isnull().sum())\n",
    "data['Fence'].unique()"
   ]
  },
  {
   "cell_type": "code",
   "execution_count": 169,
   "metadata": {},
   "outputs": [],
   "source": [
    "data['Fence'].replace({'GdPrv':4,'MnPrv':3,'GdWo':2,'MnWw':1},inplace=True)\n",
    "data['Fence'].fillna(value=0,inplace=True)\n",
    "data_test['Fence'].replace({'GdPrv':4,'MnPrv':3,'GdWo':2,'MnWw':1},inplace=True)\n",
    "data_test['Fence'].fillna(value=0,inplace=True)"
   ]
  },
  {
   "cell_type": "markdown",
   "metadata": {},
   "source": [
    "### Misc Feature (Nominal) - handle NaNs"
   ]
  },
  {
   "cell_type": "code",
   "execution_count": 170,
   "metadata": {},
   "outputs": [
    {
     "name": "stdout",
     "output_type": "stream",
     "text": [
      "Count NaNs: 2340\n"
     ]
    },
    {
     "data": {
      "text/plain": [
       "array([nan, 'Shed', 'Othr', 'Elev', 'Gar2', 'TenC'], dtype=object)"
      ]
     },
     "execution_count": 170,
     "metadata": {},
     "output_type": "execute_result"
    }
   ],
   "source": [
    "print('Count NaNs:',data['Misc Feature'].isnull().sum())\n",
    "data['Misc Feature'].unique()"
   ]
  },
  {
   "cell_type": "code",
   "execution_count": 171,
   "metadata": {},
   "outputs": [],
   "source": [
    "data['Misc Feature'].fillna(value='None',inplace=True)\n",
    "data_test['Misc Feature'].fillna(value='None',inplace=True) # handle test data"
   ]
  },
  {
   "cell_type": "markdown",
   "metadata": {},
   "source": [
    "### Misc Val (Continuous) - clean"
   ]
  },
  {
   "cell_type": "code",
   "execution_count": 172,
   "metadata": {},
   "outputs": [
    {
     "name": "stdout",
     "output_type": "stream",
     "text": [
      "Count NaNs: 0\n"
     ]
    },
    {
     "data": {
      "image/png": "[encoded data removed]",
      "text/plain": [
       "<Figure size 432x288 with 1 Axes>"
      ]
     },
     "metadata": {
      "needs_background": "light"
     },
     "output_type": "display_data"
    }
   ],
   "source": [
    "print('Count NaNs:',data['Misc Val'].isnull().sum())\n",
    "plt.hist(data[data['Misc Val'] > 0]['Misc Val'], bins=50)\n",
    "plt.title('Miscellaneous value | > 0')\n",
    "plt.show()\n",
    "# Not considerung any outliers given the low number of data"
   ]
  },
  {
   "cell_type": "markdown",
   "metadata": {},
   "source": [
    "### Mo Sold & Yr Sold (Discrete) - clean"
   ]
  },
  {
   "cell_type": "code",
   "execution_count": 173,
   "metadata": {},
   "outputs": [
    {
     "name": "stdout",
     "output_type": "stream",
     "text": [
      "Count NaNs: 0\n"
     ]
    },
    {
     "data": {
      "text/plain": [
       "array([ 4,  6,  1,  5,  9,  3, 11,  2, 12,  7,  8, 10], dtype=int64)"
      ]
     },
     "execution_count": 173,
     "metadata": {},
     "output_type": "execute_result"
    }
   ],
   "source": [
    "print('Count NaNs:',data['Mo Sold'].isnull().sum())\n",
    "data['Mo Sold'].unique()"
   ]
  },
  {
   "cell_type": "code",
   "execution_count": 174,
   "metadata": {},
   "outputs": [
    {
     "data": {
      "text/html": [
       "<div>\n",
       "<style scoped>\n",
       "    .dataframe tbody tr th:only-of-type {\n",
       "        vertical-align: middle;\n",
       "    }\n",
       "\n",
       "    .dataframe tbody tr th {\n",
       "        vertical-align: top;\n",
       "    }\n",
       "\n",
       "    .dataframe thead th {\n",
       "        text-align: right;\n",
       "    }\n",
       "</style>\n",
       "<table border=\"1\" class=\"dataframe\">\n",
       "  <thead>\n",
       "    <tr style=\"text-align: right;\">\n",
       "      <th></th>\n",
       "      <th>Order</th>\n",
       "    </tr>\n",
       "    <tr>\n",
       "      <th>Mo Sold</th>\n",
       "      <th></th>\n",
       "    </tr>\n",
       "  </thead>\n",
       "  <tbody>\n",
       "    <tr>\n",
       "      <th>1</th>\n",
       "      <td>108</td>\n",
       "    </tr>\n",
       "    <tr>\n",
       "      <th>2</th>\n",
       "      <td>109</td>\n",
       "    </tr>\n",
       "    <tr>\n",
       "      <th>3</th>\n",
       "      <td>187</td>\n",
       "    </tr>\n",
       "    <tr>\n",
       "      <th>4</th>\n",
       "      <td>227</td>\n",
       "    </tr>\n",
       "    <tr>\n",
       "      <th>5</th>\n",
       "      <td>335</td>\n",
       "    </tr>\n",
       "    <tr>\n",
       "      <th>6</th>\n",
       "      <td>422</td>\n",
       "    </tr>\n",
       "    <tr>\n",
       "      <th>7</th>\n",
       "      <td>374</td>\n",
       "    </tr>\n",
       "    <tr>\n",
       "      <th>8</th>\n",
       "      <td>186</td>\n",
       "    </tr>\n",
       "    <tr>\n",
       "      <th>9</th>\n",
       "      <td>135</td>\n",
       "    </tr>\n",
       "    <tr>\n",
       "      <th>10</th>\n",
       "      <td>143</td>\n",
       "    </tr>\n",
       "    <tr>\n",
       "      <th>11</th>\n",
       "      <td>112</td>\n",
       "    </tr>\n",
       "    <tr>\n",
       "      <th>12</th>\n",
       "      <td>92</td>\n",
       "    </tr>\n",
       "  </tbody>\n",
       "</table>\n",
       "</div>"
      ],
      "text/plain": [
       "         Order\n",
       "Mo Sold       \n",
       "1          108\n",
       "2          109\n",
       "3          187\n",
       "4          227\n",
       "5          335\n",
       "6          422\n",
       "7          374\n",
       "8          186\n",
       "9          135\n",
       "10         143\n",
       "11         112\n",
       "12          92"
      ]
     },
     "execution_count": 174,
     "metadata": {},
     "output_type": "execute_result"
    }
   ],
   "source": [
    "data[['Mo Sold','Order']].groupby('Mo Sold').count()\n",
    "# checking if distribution seems unbiased - seems ok"
   ]
  },
  {
   "cell_type": "code",
   "execution_count": 175,
   "metadata": {},
   "outputs": [
    {
     "name": "stdout",
     "output_type": "stream",
     "text": [
      "Count NaNs: 0\n"
     ]
    },
    {
     "data": {
      "text/plain": [
       "array([2009, 2006, 2007, 2010, 2008], dtype=int64)"
      ]
     },
     "execution_count": 175,
     "metadata": {},
     "output_type": "execute_result"
    }
   ],
   "source": [
    "print('Count NaNs:',data['Yr Sold'].isnull().sum())\n",
    "data['Yr Sold'].unique()"
   ]
  },
  {
   "cell_type": "code",
   "execution_count": 176,
   "metadata": {},
   "outputs": [
    {
     "data": {
      "text/html": [
       "<div>\n",
       "<style scoped>\n",
       "    .dataframe tbody tr th:only-of-type {\n",
       "        vertical-align: middle;\n",
       "    }\n",
       "\n",
       "    .dataframe tbody tr th {\n",
       "        vertical-align: top;\n",
       "    }\n",
       "\n",
       "    .dataframe thead th {\n",
       "        text-align: right;\n",
       "    }\n",
       "</style>\n",
       "<table border=\"1\" class=\"dataframe\">\n",
       "  <thead>\n",
       "    <tr style=\"text-align: right;\">\n",
       "      <th></th>\n",
       "      <th>Order</th>\n",
       "    </tr>\n",
       "    <tr>\n",
       "      <th>Yr Sold</th>\n",
       "      <th></th>\n",
       "    </tr>\n",
       "  </thead>\n",
       "  <tbody>\n",
       "    <tr>\n",
       "      <th>2006</th>\n",
       "      <td>514</td>\n",
       "    </tr>\n",
       "    <tr>\n",
       "      <th>2007</th>\n",
       "      <td>584</td>\n",
       "    </tr>\n",
       "    <tr>\n",
       "      <th>2008</th>\n",
       "      <td>530</td>\n",
       "    </tr>\n",
       "    <tr>\n",
       "      <th>2009</th>\n",
       "      <td>518</td>\n",
       "    </tr>\n",
       "    <tr>\n",
       "      <th>2010</th>\n",
       "      <td>284</td>\n",
       "    </tr>\n",
       "  </tbody>\n",
       "</table>\n",
       "</div>"
      ],
      "text/plain": [
       "         Order\n",
       "Yr Sold       \n",
       "2006       514\n",
       "2007       584\n",
       "2008       530\n",
       "2009       518\n",
       "2010       284"
      ]
     },
     "execution_count": 176,
     "metadata": {},
     "output_type": "execute_result"
    }
   ],
   "source": [
    "data[['Yr Sold','Order']].groupby('Yr Sold').count()\n",
    "# checking if distribution seems unbiased - seems ok"
   ]
  },
  {
   "cell_type": "markdown",
   "metadata": {},
   "source": [
    "### Sale Type & Sale Condition (Nominal) - clean"
   ]
  },
  {
   "cell_type": "code",
   "execution_count": 177,
   "metadata": {},
   "outputs": [
    {
     "name": "stdout",
     "output_type": "stream",
     "text": [
      "Count NaNs: 0\n"
     ]
    },
    {
     "data": {
      "text/plain": [
       "array(['WD ', 'New', 'ConLD', 'ConLI', 'CWD', 'COD', 'Oth', 'Con',\n",
       "       'ConLw', 'VWD'], dtype=object)"
      ]
     },
     "execution_count": 177,
     "metadata": {},
     "output_type": "execute_result"
    }
   ],
   "source": [
    "print('Count NaNs:',data['Sale Type'].isnull().sum())\n",
    "data['Sale Type'].unique()"
   ]
  },
  {
   "cell_type": "code",
   "execution_count": 178,
   "metadata": {},
   "outputs": [
    {
     "name": "stdout",
     "output_type": "stream",
     "text": [
      "Count NaNs: 0\n"
     ]
    },
    {
     "data": {
      "text/plain": [
       "array(['Normal', 'Family', 'Partial', 'Abnorml', 'Alloca', 'AdjLand'],\n",
       "      dtype=object)"
      ]
     },
     "execution_count": 178,
     "metadata": {},
     "output_type": "execute_result"
    }
   ],
   "source": [
    "print('Count NaNs:',data['Sale Condition'].isnull().sum())\n",
    "data['Sale Condition'].unique()"
   ]
  },
  {
   "cell_type": "code",
   "execution_count": 179,
   "metadata": {},
   "outputs": [
    {
     "data": {
      "text/plain": [
       "array(['WD ', 'New', 'COD', 'ConLD', 'ConLw', 'CWD', 'ConLI', 'Oth'],\n",
       "      dtype=object)"
      ]
     },
     "execution_count": 179,
     "metadata": {},
     "output_type": "execute_result"
    }
   ],
   "source": [
    "# handle test data\n",
    "data_test['Sale Type'].unique()"
   ]
  },
  {
   "cell_type": "code",
   "execution_count": 180,
   "metadata": {},
   "outputs": [
    {
     "data": {
      "text/plain": [
       "array(['Normal', 'Partial', 'Family', 'Abnorml', 'Alloca', 'AdjLand'],\n",
       "      dtype=object)"
      ]
     },
     "execution_count": 180,
     "metadata": {},
     "output_type": "execute_result"
    }
   ],
   "source": [
    "data_test['Sale Condition'].unique()"
   ]
  },
  {
   "cell_type": "markdown",
   "metadata": {},
   "source": [
    "### SalePrice (Continuous)"
   ]
  },
  {
   "cell_type": "code",
   "execution_count": 181,
   "metadata": {},
   "outputs": [
    {
     "name": "stdout",
     "output_type": "stream",
     "text": [
      "Count NaNs: 0\n"
     ]
    },
    {
     "data": {
      "image/png": "[encoded data removed]",
      "text/plain": [
       "<Figure size 432x288 with 1 Axes>"
      ]
     },
     "metadata": {
      "needs_background": "light"
     },
     "output_type": "display_data"
    }
   ],
   "source": [
    "print('Count NaNs:',data['SalePrice'].isnull().sum())\n",
    "plt.hist(data[data['SalePrice'] > 0]['SalePrice'], bins=50)\n",
    "plt.title('Sale Price')\n",
    "plt.show()\n",
    "# Not considerung any outliers given the low number of data"
   ]
  },
  {
   "cell_type": "code",
   "execution_count": 182,
   "metadata": {},
   "outputs": [
    {
     "name": "stdout",
     "output_type": "stream",
     "text": [
      "Sale Price > 3 std: 36\n"
     ]
    }
   ],
   "source": [
    "print('Sale Price > 3 std:',(z_score(data['SalePrice']) > 3).sum())"
   ]
  },
  {
   "cell_type": "code",
   "execution_count": 183,
   "metadata": {},
   "outputs": [
    {
     "data": {
      "text/plain": [
       "50      556581\n",
       "102     745000\n",
       "237     755000\n",
       "321     615000\n",
       "339     423000\n",
       "386     457347\n",
       "418     426000\n",
       "503     479069\n",
       "580     501837\n",
       "647     475000\n",
       "735     492000\n",
       "838     584500\n",
       "854     421250\n",
       "1102    466500\n",
       "1143    455000\n",
       "1191    468000\n",
       "1201    552000\n",
       "1213    610000\n",
       "1387    451950\n",
       "1464    591587\n",
       "1519    611657\n",
       "1588    445000\n",
       "1686    470000\n",
       "1696    462000\n",
       "1724    545224\n",
       "1759    425000\n",
       "1760    437154\n",
       "1843    500000\n",
       "1956    475000\n",
       "2142    582933\n",
       "2163    446261\n",
       "2285    535000\n",
       "2335    440000\n",
       "2372    441929\n",
       "2393    555000\n",
       "2411    500067\n",
       "Name: SalePrice, dtype: int64"
      ]
     },
     "execution_count": 183,
     "metadata": {},
     "output_type": "execute_result"
    }
   ],
   "source": [
    "data[z_score(data['SalePrice']) > 3]['SalePrice']\n",
    "# all outliers are high prices"
   ]
  },
  {
   "cell_type": "code",
   "execution_count": 184,
   "metadata": {},
   "outputs": [
    {
     "data": {
      "text/plain": [
       "104"
      ]
     },
     "execution_count": 184,
     "metadata": {},
     "output_type": "execute_result"
    }
   ],
   "source": [
    "# Decided to tag as outliers values above 3 std away from mean\n",
    "outlier = (z_score(data['SalePrice']) > 3) | outlier\n",
    "outlier.sum()\n",
    "# We now have 18 more outliers (104 - 88)"
   ]
  },
  {
   "cell_type": "markdown",
   "metadata": {},
   "source": [
    "### Identifying data removed as considered as outlier\n",
    "\n",
    "As we some while working on each variable we tend to consider as outliers high values as usually lower limit is 0. Is this a correct way of doing it? Looking at the scatter plot it seems we would be able to predict correctly with the data points available."
   ]
  },
  {
   "cell_type": "code",
   "execution_count": 185,
   "metadata": {},
   "outputs": [
    {
     "data": {
      "image/png": "[encoded data removed]",
      "text/plain": [
       "<Figure size 432x288 with 1 Axes>"
      ]
     },
     "metadata": {
      "needs_background": "light"
     },
     "output_type": "display_data"
    }
   ],
   "source": [
    "plt.scatter('SalePrice','Gr Liv Area',data=data,c=outlier)\n",
    "plt.xlabel('SalePrice')\n",
    "plt.ylabel('Ground living Area')\n",
    "plt.title('Outliers identified')\n",
    "plt.legend()\n",
    "plt.show()\n",
    "# how to show two colors for True and False outliers in legend?"
   ]
  },
  {
   "cell_type": "markdown",
   "metadata": {},
   "source": [
    "## (C) Feature engineering"
   ]
  },
  {
   "cell_type": "markdown",
   "metadata": {},
   "source": [
    "*Feature engineering technics*\n",
    "* Applying transformations - log,sqrt, poly\n",
    "* Create indicator variables\n",
    "* Combine numerical variable\n",
    "* Combine binary variable\n",
    "* other functions"
   ]
  },
  {
   "cell_type": "markdown",
   "metadata": {},
   "source": [
    "### (i) Applying transformations (log)"
   ]
  },
  {
   "cell_type": "code",
   "execution_count": 186,
   "metadata": {},
   "outputs": [],
   "source": [
    "import seaborn as sns\n",
    "from scipy.stats import norm"
   ]
  },
  {
   "cell_type": "code",
   "execution_count": 187,
   "metadata": {},
   "outputs": [],
   "source": [
    "# Copy data set to create data engineered\n",
    "data_eng = data.copy()"
   ]
  },
  {
   "cell_type": "code",
   "execution_count": 188,
   "metadata": {},
   "outputs": [
    {
     "data": {
      "image/png": "[encoded data removed]",
      "text/plain": [
       "<Figure size 432x288 with 1 Axes>"
      ]
     },
     "metadata": {
      "needs_background": "light"
     },
     "output_type": "display_data"
    }
   ],
   "source": [
    "sns.distplot(data['Lot Area'], bins=20, fit=norm)\n",
    "plt.show()"
   ]
  },
  {
   "cell_type": "code",
   "execution_count": 189,
   "metadata": {},
   "outputs": [
    {
     "data": {
      "image/png": "[encoded data removed]",
      "text/plain": [
       "<Figure size 432x288 with 1 Axes>"
      ]
     },
     "metadata": {
      "needs_background": "light"
     },
     "output_type": "display_data"
    }
   ],
   "source": [
    "sns.distplot(data_test['Lot Area'], bins=20, fit=norm)\n",
    "plt.show()"
   ]
  },
  {
   "cell_type": "code",
   "execution_count": 190,
   "metadata": {},
   "outputs": [
    {
     "data": {
      "image/png": "[encoded data removed]",
      "text/plain": [
       "<Figure size 432x288 with 1 Axes>"
      ]
     },
     "metadata": {
      "needs_background": "light"
     },
     "output_type": "display_data"
    }
   ],
   "source": [
    "sns.distplot(np.log(data['Lot Area']), bins=20, fit=norm)\n",
    "plt.show()"
   ]
  },
  {
   "cell_type": "code",
   "execution_count": 191,
   "metadata": {},
   "outputs": [
    {
     "data": {
      "image/png": "[encoded data removed]",
      "text/plain": [
       "<Figure size 432x288 with 1 Axes>"
      ]
     },
     "metadata": {
      "needs_background": "light"
     },
     "output_type": "display_data"
    }
   ],
   "source": [
    "sns.distplot(np.log(data_test['Lot Area']), bins=20, fit=norm)\n",
    "plt.show()"
   ]
  },
  {
   "cell_type": "code",
   "execution_count": 192,
   "metadata": {},
   "outputs": [],
   "source": [
    "# Apply logarithmic transformation to Lot Area to remove skewed distribution\n",
    "data_eng['Lot Area'] = np.log(data_eng['Lot Area'])\n",
    "data_test['Lot Area'] = np.log(data_test['Lot Area']) # handle test data"
   ]
  },
  {
   "cell_type": "code",
   "execution_count": 193,
   "metadata": {},
   "outputs": [
    {
     "data": {
      "image/png": "[encoded data removed]",
      "text/plain": [
       "<Figure size 432x288 with 1 Axes>"
      ]
     },
     "metadata": {
      "needs_background": "light"
     },
     "output_type": "display_data"
    }
   ],
   "source": [
    "sns.distplot(data['SalePrice'], bins=20, fit=norm)\n",
    "plt.show()"
   ]
  },
  {
   "cell_type": "code",
   "execution_count": 194,
   "metadata": {},
   "outputs": [
    {
     "data": {
      "image/png": "[encoded data removed]",
      "text/plain": [
       "<Figure size 432x288 with 1 Axes>"
      ]
     },
     "metadata": {
      "needs_background": "light"
     },
     "output_type": "display_data"
    }
   ],
   "source": [
    "sns.distplot(np.log(data['SalePrice']), bins=20, fit=norm)\n",
    "plt.show()"
   ]
  },
  {
   "cell_type": "code",
   "execution_count": 195,
   "metadata": {},
   "outputs": [],
   "source": [
    "# Decided not to apply log transformation at this stage to SalePrice as when removing outliers had already a positive effect on distribution. Log applied later."
   ]
  },
  {
   "cell_type": "markdown",
   "metadata": {},
   "source": [
    "### (ii) Create indicator variable"
   ]
  },
  {
   "cell_type": "code",
   "execution_count": 196,
   "metadata": {},
   "outputs": [],
   "source": [
    "# Create indicator to define if house was built or remod in last 10 years => NEW\n",
    "data_eng['New or remod'] = ((data_eng['Year Built'] >= 2010) | (data_eng['Year Remod/Add'] >= 2010))*1\n",
    "data_eng['New or remod'] = data_eng['New or remod'].map({0:'old',1:'new'})\n",
    "# handle test data\n",
    "data_test['New or remod'] = ((data_test['Year Built'] >= 2010) | (data_test['Year Remod/Add'] >= 2010))*1\n",
    "data_test['New or remod'] = data_test['New or remod'].map({0:'old',1:'new'})"
   ]
  },
  {
   "cell_type": "code",
   "execution_count": 197,
   "metadata": {},
   "outputs": [],
   "source": [
    "# Create indicator to count number of \"positive conditions\" - (between 0 and 2)\n",
    "data_eng['Condition Count'] = np.max(data_eng['Condition 1'] != 'Norm')*1 + (data_eng['Condition 2'] != 'Norm')*1\n",
    "# handle test data\n",
    "data_test['Condition Count'] = np.max(data_test['Condition 1'] != 'Norm')*1 + (data_test['Condition 2'] != 'Norm')*1"
   ]
  },
  {
   "cell_type": "markdown",
   "metadata": {},
   "source": [
    "### (iii) Combine numerical variable"
   ]
  },
  {
   "cell_type": "code",
   "execution_count": 198,
   "metadata": {},
   "outputs": [],
   "source": [
    "# Sum number of baths and remove both current fields as believe it does't make major difference if Bath in Basement or not\n",
    "data_eng['Bath'] = data_eng['Bsmt Full Bath'] + data_eng['Full Bath'] + data_eng['Bsmt Half Bath']/2 + data_eng['Half Bath']/2\n",
    "data_eng.drop(columns=['Bsmt Full Bath','Full Bath','Bsmt Half Bath','Half Bath'],inplace=True)\n",
    "\n",
    "# handle test data\n",
    "data_test['Bath'] = data_test['Bsmt Full Bath'] + data_test['Full Bath'] + data_test['Bsmt Half Bath']/2 + data_test['Half Bath']/2\n",
    "data_test.drop(columns=['Bsmt Full Bath','Full Bath','Bsmt Half Bath','Half Bath'],inplace=True)"
   ]
  },
  {
   "cell_type": "code",
   "execution_count": 199,
   "metadata": {},
   "outputs": [],
   "source": [
    "# Sum total floor surface and remove two indiviual variables\n",
    "data_eng['Flr SF'] = data_eng['1st Flr SF'] + data_eng['2nd Flr SF']\n",
    "data_eng.drop(columns=['1st Flr SF','2nd Flr SF'],inplace=True)\n",
    "# In addition apply polynomial featuring\n",
    "#data_eng['Flr SF deg2'] = data_eng['Flr SF']**2\n",
    "#data_eng['Flr SF deg3'] = data_eng['Flr SF']**3\n",
    "\n",
    "# handle test data\n",
    "data_test['Flr SF'] = data_test['1st Flr SF'] + data_test['2nd Flr SF']\n",
    "data_test.drop(columns=['1st Flr SF','2nd Flr SF'],inplace=True)"
   ]
  },
  {
   "cell_type": "markdown",
   "metadata": {},
   "source": [
    "## (B) Feature encoding\n",
    "\n",
    "### One-hot encoding - Nominal variable and Ordinal variable which haven't been converted to numerical scale"
   ]
  },
  {
   "cell_type": "code",
   "execution_count": 200,
   "metadata": {},
   "outputs": [],
   "source": [
    "# Nominal variables + Ordinal variable not converted to numerical scale\n",
    "data_encoded_nom = pd.get_dummies(data_eng, columns=['MS SubClass','MS Zoning','Street','Alley','Land Contour','Lot Config','Neighborhood','Condition 1','Condition 2','Bldg Type','House Style','Roof Matl','Exterior 1st','Exterior 2nd','Mas Vnr Type','Foundation','Heating','Central Air','Garage Type','Misc Feature','Sale Type','Sale Condition','Roof Style','New or remod'], drop_first=True)\n",
    "data_encoded_ord = pd.get_dummies(data_encoded_nom, columns=['Lot Shape','Land Slope','Electrical','Paved Drive'], drop_first=True)\n",
    "data_encoded_disc = pd.get_dummies(data_encoded_ord, columns=['Year Built','Year Remod/Add','Garage Yr Blt','Mo Sold','Yr Sold'], drop_first=True)\n",
    "data_preprocessed = data_encoded_disc\n",
    "\n",
    "# handle test data\n",
    "data_test = pd.get_dummies(data_test, columns=['MS SubClass','MS Zoning','Street','Alley','Land Contour','Lot Config','Neighborhood','Condition 1','Condition 2','Bldg Type','House Style','Roof Matl','Exterior 1st','Exterior 2nd','Mas Vnr Type','Foundation','Heating','Central Air','Garage Type','Misc Feature','Sale Type','Sale Condition','Roof Style','New or remod'], drop_first=True)\n",
    "data_test = pd.get_dummies(data_test, columns=['Lot Shape','Land Slope','Electrical','Paved Drive'], drop_first=True)\n",
    "data_test = pd.get_dummies(data_test, columns=['Year Built','Year Remod/Add','Garage Yr Blt','Mo Sold','Yr Sold'], drop_first=True)\n",
    "data_test = data_test"
   ]
  },
  {
   "cell_type": "code",
   "execution_count": 201,
   "metadata": {},
   "outputs": [
    {
     "name": "stdout",
     "output_type": "stream",
     "text": [
      "# columns after nominal encoding: 222\n",
      "# columns after ordinal encoding: 227\n",
      "# columns after nominal discrete: 267\n"
     ]
    }
   ],
   "source": [
    "print('# columns after nominal encoding:',data_encoded_nom.shape[1])\n",
    "print('# columns after ordinal encoding:',data_encoded_ord.shape[1])\n",
    "print('# columns after nominal discrete:',data_encoded_disc.shape[1])"
   ]
  },
  {
   "cell_type": "code",
   "execution_count": 202,
   "metadata": {},
   "outputs": [
    {
     "data": {
      "text/html": [
       "<div>\n",
       "<style scoped>\n",
       "    .dataframe tbody tr th:only-of-type {\n",
       "        vertical-align: middle;\n",
       "    }\n",
       "\n",
       "    .dataframe tbody tr th {\n",
       "        vertical-align: top;\n",
       "    }\n",
       "\n",
       "    .dataframe thead th {\n",
       "        text-align: right;\n",
       "    }\n",
       "</style>\n",
       "<table border=\"1\" class=\"dataframe\">\n",
       "  <thead>\n",
       "    <tr style=\"text-align: right;\">\n",
       "      <th></th>\n",
       "      <th>Order</th>\n",
       "      <th>PID</th>\n",
       "      <th>Lot Frontage</th>\n",
       "      <th>Lot Area</th>\n",
       "      <th>Utilities</th>\n",
       "      <th>Overall Qual</th>\n",
       "      <th>Overall Cond</th>\n",
       "      <th>Mas Vnr Area</th>\n",
       "      <th>Exter Qual</th>\n",
       "      <th>Exter Cond</th>\n",
       "      <th>Bsmt Qual</th>\n",
       "      <th>Bsmt Cond</th>\n",
       "      <th>Bsmt Exposure</th>\n",
       "      <th>BsmtFin Type 1</th>\n",
       "      <th>BsmtFin SF 1</th>\n",
       "      <th>BsmtFin Type 2</th>\n",
       "      <th>BsmtFin SF 2</th>\n",
       "      <th>Bsmt Unf SF</th>\n",
       "      <th>Total Bsmt SF</th>\n",
       "      <th>Heating QC</th>\n",
       "      <th>Low Qual Fin SF</th>\n",
       "      <th>Gr Liv Area</th>\n",
       "      <th>Bedroom AbvGr</th>\n",
       "      <th>Kitchen AbvGr</th>\n",
       "      <th>Kitchen Qual</th>\n",
       "      <th>TotRms AbvGrd</th>\n",
       "      <th>Functional</th>\n",
       "      <th>Fireplaces</th>\n",
       "      <th>Fireplace Qu</th>\n",
       "      <th>Garage Finish</th>\n",
       "      <th>Garage Cars</th>\n",
       "      <th>Garage Area</th>\n",
       "      <th>Garage Qual</th>\n",
       "      <th>Garage Cond</th>\n",
       "      <th>Wood Deck SF</th>\n",
       "      <th>Open Porch SF</th>\n",
       "      <th>Enclosed Porch</th>\n",
       "      <th>3Ssn Porch</th>\n",
       "      <th>Screen Porch</th>\n",
       "      <th>Pool Area</th>\n",
       "      <th>Pool QC</th>\n",
       "      <th>Fence</th>\n",
       "      <th>Misc Val</th>\n",
       "      <th>SalePrice</th>\n",
       "      <th>Condition Count</th>\n",
       "      <th>Bath</th>\n",
       "      <th>Flr SF</th>\n",
       "      <th>MS SubClass_30</th>\n",
       "      <th>MS SubClass_40</th>\n",
       "      <th>MS SubClass_45</th>\n",
       "      <th>MS SubClass_50</th>\n",
       "      <th>MS SubClass_60</th>\n",
       "      <th>MS SubClass_70</th>\n",
       "      <th>MS SubClass_75</th>\n",
       "      <th>MS SubClass_80</th>\n",
       "      <th>MS SubClass_85</th>\n",
       "      <th>MS SubClass_90</th>\n",
       "      <th>MS SubClass_120</th>\n",
       "      <th>MS SubClass_150</th>\n",
       "      <th>MS SubClass_160</th>\n",
       "      <th>MS SubClass_180</th>\n",
       "      <th>MS SubClass_190</th>\n",
       "      <th>MS Zoning_C (all)</th>\n",
       "      <th>MS Zoning_FV</th>\n",
       "      <th>MS Zoning_I (all)</th>\n",
       "      <th>MS Zoning_RH</th>\n",
       "      <th>MS Zoning_RL</th>\n",
       "      <th>MS Zoning_RM</th>\n",
       "      <th>Street_Pave</th>\n",
       "      <th>Alley_No access</th>\n",
       "      <th>Alley_Pave</th>\n",
       "      <th>Land Contour_HLS</th>\n",
       "      <th>Land Contour_Low</th>\n",
       "      <th>Land Contour_Lvl</th>\n",
       "      <th>Lot Config_CulDSac</th>\n",
       "      <th>Lot Config_FR2</th>\n",
       "      <th>Lot Config_FR3</th>\n",
       "      <th>Lot Config_Inside</th>\n",
       "      <th>Neighborhood_Blueste</th>\n",
       "      <th>Neighborhood_BrDale</th>\n",
       "      <th>Neighborhood_BrkSide</th>\n",
       "      <th>Neighborhood_ClearCr</th>\n",
       "      <th>Neighborhood_CollgCr</th>\n",
       "      <th>Neighborhood_Crawfor</th>\n",
       "      <th>Neighborhood_Edwards</th>\n",
       "      <th>Neighborhood_Gilbert</th>\n",
       "      <th>Neighborhood_Greens</th>\n",
       "      <th>Neighborhood_GrnHill</th>\n",
       "      <th>Neighborhood_IDOTRR</th>\n",
       "      <th>Neighborhood_Landmrk</th>\n",
       "      <th>Neighborhood_MeadowV</th>\n",
       "      <th>Neighborhood_Mitchel</th>\n",
       "      <th>Neighborhood_NAmes</th>\n",
       "      <th>Neighborhood_NPkVill</th>\n",
       "      <th>Neighborhood_NWAmes</th>\n",
       "      <th>Neighborhood_NoRidge</th>\n",
       "      <th>Neighborhood_NridgHt</th>\n",
       "      <th>Neighborhood_OldTown</th>\n",
       "      <th>Neighborhood_SWISU</th>\n",
       "      <th>Neighborhood_Sawyer</th>\n",
       "      <th>Neighborhood_SawyerW</th>\n",
       "      <th>Neighborhood_Somerst</th>\n",
       "      <th>Neighborhood_StoneBr</th>\n",
       "      <th>Neighborhood_Timber</th>\n",
       "      <th>Neighborhood_Veenker</th>\n",
       "      <th>Condition 1_Feedr</th>\n",
       "      <th>Condition 1_Norm</th>\n",
       "      <th>Condition 1_PosA</th>\n",
       "      <th>Condition 1_PosN</th>\n",
       "      <th>Condition 1_RRAe</th>\n",
       "      <th>Condition 1_RRAn</th>\n",
       "      <th>Condition 1_RRNe</th>\n",
       "      <th>Condition 1_RRNn</th>\n",
       "      <th>Condition 2_Feedr</th>\n",
       "      <th>Condition 2_Norm</th>\n",
       "      <th>Condition 2_PosA</th>\n",
       "      <th>Condition 2_PosN</th>\n",
       "      <th>Condition 2_RRAe</th>\n",
       "      <th>Condition 2_RRAn</th>\n",
       "      <th>Condition 2_RRNn</th>\n",
       "      <th>Bldg Type_2fmCon</th>\n",
       "      <th>Bldg Type_Duplex</th>\n",
       "      <th>Bldg Type_Twnhs</th>\n",
       "      <th>Bldg Type_TwnhsE</th>\n",
       "      <th>House Style_1.5Unf</th>\n",
       "      <th>House Style_1Story</th>\n",
       "      <th>House Style_2.5Fin</th>\n",
       "      <th>House Style_2.5Unf</th>\n",
       "      <th>House Style_2Story</th>\n",
       "      <th>House Style_SFoyer</th>\n",
       "      <th>House Style_SLvl</th>\n",
       "      <th>Roof Matl_CompShg</th>\n",
       "      <th>Roof Matl_Membran</th>\n",
       "      <th>Roof Matl_Metal</th>\n",
       "      <th>Roof Matl_Tar&amp;Grv</th>\n",
       "      <th>Roof Matl_WdShake</th>\n",
       "      <th>Roof Matl_WdShngl</th>\n",
       "      <th>Exterior 1st_AsphShn</th>\n",
       "      <th>Exterior 1st_BrkComm</th>\n",
       "      <th>Exterior 1st_BrkFace</th>\n",
       "      <th>Exterior 1st_CBlock</th>\n",
       "      <th>Exterior 1st_CemntBd</th>\n",
       "      <th>Exterior 1st_HdBoard</th>\n",
       "      <th>Exterior 1st_ImStucc</th>\n",
       "      <th>Exterior 1st_MetalSd</th>\n",
       "      <th>Exterior 1st_Plywood</th>\n",
       "      <th>Exterior 1st_PreCast</th>\n",
       "      <th>Exterior 1st_Stone</th>\n",
       "      <th>Exterior 1st_Stucco</th>\n",
       "      <th>Exterior 1st_VinylSd</th>\n",
       "      <th>Exterior 1st_Wd Sdng</th>\n",
       "      <th>Exterior 1st_WdShing</th>\n",
       "      <th>Exterior 2nd_AsphShn</th>\n",
       "      <th>Exterior 2nd_Brk Cmn</th>\n",
       "      <th>Exterior 2nd_BrkFace</th>\n",
       "      <th>Exterior 2nd_CBlock</th>\n",
       "      <th>Exterior 2nd_CmentBd</th>\n",
       "      <th>Exterior 2nd_HdBoard</th>\n",
       "      <th>Exterior 2nd_ImStucc</th>\n",
       "      <th>Exterior 2nd_MetalSd</th>\n",
       "      <th>Exterior 2nd_Plywood</th>\n",
       "      <th>Exterior 2nd_PreCast</th>\n",
       "      <th>Exterior 2nd_Stone</th>\n",
       "      <th>Exterior 2nd_Stucco</th>\n",
       "      <th>Exterior 2nd_VinylSd</th>\n",
       "      <th>Exterior 2nd_Wd Sdng</th>\n",
       "      <th>Exterior 2nd_Wd Shng</th>\n",
       "      <th>Mas Vnr Type_BrkFace</th>\n",
       "      <th>Mas Vnr Type_CBlock</th>\n",
       "      <th>Mas Vnr Type_None</th>\n",
       "      <th>Mas Vnr Type_Stone</th>\n",
       "      <th>Foundation_CBlock</th>\n",
       "      <th>Foundation_PConc</th>\n",
       "      <th>Foundation_Slab</th>\n",
       "      <th>Foundation_Stone</th>\n",
       "      <th>Foundation_Wood</th>\n",
       "      <th>Heating_GasA</th>\n",
       "      <th>Heating_GasW</th>\n",
       "      <th>Heating_Grav</th>\n",
       "      <th>Heating_OthW</th>\n",
       "      <th>Heating_Wall</th>\n",
       "      <th>Central Air_Y</th>\n",
       "      <th>Garage Type_Attchd</th>\n",
       "      <th>Garage Type_Basment</th>\n",
       "      <th>Garage Type_BuiltIn</th>\n",
       "      <th>Garage Type_CarPort</th>\n",
       "      <th>Garage Type_Detchd</th>\n",
       "      <th>Garage Type_No Garage</th>\n",
       "      <th>Misc Feature_Gar2</th>\n",
       "      <th>Misc Feature_None</th>\n",
       "      <th>Misc Feature_Othr</th>\n",
       "      <th>Misc Feature_Shed</th>\n",
       "      <th>Misc Feature_TenC</th>\n",
       "      <th>Sale Type_CWD</th>\n",
       "      <th>Sale Type_Con</th>\n",
       "      <th>Sale Type_ConLD</th>\n",
       "      <th>Sale Type_ConLI</th>\n",
       "      <th>Sale Type_ConLw</th>\n",
       "      <th>Sale Type_New</th>\n",
       "      <th>Sale Type_Oth</th>\n",
       "      <th>Sale Type_VWD</th>\n",
       "      <th>Sale Type_WD</th>\n",
       "      <th>Sale Condition_AdjLand</th>\n",
       "      <th>Sale Condition_Alloca</th>\n",
       "      <th>Sale Condition_Family</th>\n",
       "      <th>Sale Condition_Normal</th>\n",
       "      <th>Sale Condition_Partial</th>\n",
       "      <th>Roof Style_Gable</th>\n",
       "      <th>Roof Style_Gambrel</th>\n",
       "      <th>Roof Style_Hip</th>\n",
       "      <th>Roof Style_Mansard</th>\n",
       "      <th>Roof Style_Shed</th>\n",
       "      <th>New or remod_old</th>\n",
       "      <th>Lot Shape_Reg</th>\n",
       "      <th>Land Slope_Mod</th>\n",
       "      <th>Land Slope_Sev</th>\n",
       "      <th>Electrical_FuseF</th>\n",
       "      <th>Electrical_FuseP</th>\n",
       "      <th>Electrical_Mix</th>\n",
       "      <th>Electrical_SBrkr</th>\n",
       "      <th>Paved Drive_P</th>\n",
       "      <th>Paved Drive_Y</th>\n",
       "      <th>Year Built_1890</th>\n",
       "      <th>Year Built_1900</th>\n",
       "      <th>Year Built_1910</th>\n",
       "      <th>Year Built_1920</th>\n",
       "      <th>Year Built_1930</th>\n",
       "      <th>Year Built_1940</th>\n",
       "      <th>Year Built_1950</th>\n",
       "      <th>Year Built_1960</th>\n",
       "      <th>Year Built_1970</th>\n",
       "      <th>Year Built_1980</th>\n",
       "      <th>Year Built_1990</th>\n",
       "      <th>Year Built_2000</th>\n",
       "      <th>Year Built_2010</th>\n",
       "      <th>Year Remod/Add_1960.0</th>\n",
       "      <th>Year Remod/Add_1970.0</th>\n",
       "      <th>Year Remod/Add_1980.0</th>\n",
       "      <th>Year Remod/Add_1990.0</th>\n",
       "      <th>Year Remod/Add_2000.0</th>\n",
       "      <th>Year Remod/Add_2010.0</th>\n",
       "      <th>Garage Yr Blt_1910.0</th>\n",
       "      <th>Garage Yr Blt_1920.0</th>\n",
       "      <th>Garage Yr Blt_1930.0</th>\n",
       "      <th>Garage Yr Blt_1940.0</th>\n",
       "      <th>Garage Yr Blt_1950.0</th>\n",
       "      <th>Garage Yr Blt_1960.0</th>\n",
       "      <th>Garage Yr Blt_1970.0</th>\n",
       "      <th>Garage Yr Blt_1980.0</th>\n",
       "      <th>Garage Yr Blt_1990.0</th>\n",
       "      <th>Garage Yr Blt_2000.0</th>\n",
       "      <th>Garage Yr Blt_2010.0</th>\n",
       "      <th>Mo Sold_2</th>\n",
       "      <th>Mo Sold_3</th>\n",
       "      <th>Mo Sold_4</th>\n",
       "      <th>Mo Sold_5</th>\n",
       "      <th>Mo Sold_6</th>\n",
       "      <th>Mo Sold_7</th>\n",
       "      <th>Mo Sold_8</th>\n",
       "      <th>Mo Sold_9</th>\n",
       "      <th>Mo Sold_10</th>\n",
       "      <th>Mo Sold_11</th>\n",
       "      <th>Mo Sold_12</th>\n",
       "      <th>Yr Sold_2007</th>\n",
       "      <th>Yr Sold_2008</th>\n",
       "      <th>Yr Sold_2009</th>\n",
       "      <th>Yr Sold_2010</th>\n",
       "    </tr>\n",
       "  </thead>\n",
       "  <tbody>\n",
       "    <tr>\n",
       "      <th>0</th>\n",
       "      <td>484</td>\n",
       "      <td>528275070</td>\n",
       "      <td>69.20199</td>\n",
       "      <td>9.081939</td>\n",
       "      <td>5</td>\n",
       "      <td>7</td>\n",
       "      <td>5</td>\n",
       "      <td>0.0</td>\n",
       "      <td>4</td>\n",
       "      <td>3</td>\n",
       "      <td>4.0</td>\n",
       "      <td>3.0</td>\n",
       "      <td>1.0</td>\n",
       "      <td>6.0</td>\n",
       "      <td>300.0</td>\n",
       "      <td>1.0</td>\n",
       "      <td>0.0</td>\n",
       "      <td>652.0</td>\n",
       "      <td>952.0</td>\n",
       "      <td>5</td>\n",
       "      <td>0</td>\n",
       "      <td>2256</td>\n",
       "      <td>4</td>\n",
       "      <td>1</td>\n",
       "      <td>4</td>\n",
       "      <td>8</td>\n",
       "      <td>8</td>\n",
       "      <td>1</td>\n",
       "      <td>3.0</td>\n",
       "      <td>3.0</td>\n",
       "      <td>2.0</td>\n",
       "      <td>554.0</td>\n",
       "      <td>3.0</td>\n",
       "      <td>3.0</td>\n",
       "      <td>224</td>\n",
       "      <td>54</td>\n",
       "      <td>0</td>\n",
       "      <td>0</td>\n",
       "      <td>0</td>\n",
       "      <td>0</td>\n",
       "      <td>0.0</td>\n",
       "      <td>0.0</td>\n",
       "      <td>0</td>\n",
       "      <td>236000</td>\n",
       "      <td>1</td>\n",
       "      <td>2.5</td>\n",
       "      <td>2256</td>\n",
       "      <td>0</td>\n",
       "      <td>0</td>\n",
       "      <td>0</td>\n",
       "      <td>0</td>\n",
       "      <td>1</td>\n",
       "      <td>0</td>\n",
       "      <td>0</td>\n",
       "      <td>0</td>\n",
       "      <td>0</td>\n",
       "      <td>0</td>\n",
       "      <td>0</td>\n",
       "      <td>0</td>\n",
       "      <td>0</td>\n",
       "      <td>0</td>\n",
       "      <td>0</td>\n",
       "      <td>0</td>\n",
       "      <td>0</td>\n",
       "      <td>0</td>\n",
       "      <td>0</td>\n",
       "      <td>1</td>\n",
       "      <td>0</td>\n",
       "      <td>1</td>\n",
       "      <td>1</td>\n",
       "      <td>0</td>\n",
       "      <td>0</td>\n",
       "      <td>0</td>\n",
       "      <td>1</td>\n",
       "      <td>0</td>\n",
       "      <td>0</td>\n",
       "      <td>0</td>\n",
       "      <td>1</td>\n",
       "      <td>0</td>\n",
       "      <td>0</td>\n",
       "      <td>0</td>\n",
       "      <td>0</td>\n",
       "      <td>0</td>\n",
       "      <td>0</td>\n",
       "      <td>0</td>\n",
       "      <td>1</td>\n",
       "      <td>0</td>\n",
       "      <td>0</td>\n",
       "      <td>0</td>\n",
       "      <td>0</td>\n",
       "      <td>0</td>\n",
       "      <td>0</td>\n",
       "      <td>0</td>\n",
       "      <td>0</td>\n",
       "      <td>0</td>\n",
       "      <td>0</td>\n",
       "      <td>0</td>\n",
       "      <td>0</td>\n",
       "      <td>0</td>\n",
       "      <td>0</td>\n",
       "      <td>0</td>\n",
       "      <td>0</td>\n",
       "      <td>0</td>\n",
       "      <td>0</td>\n",
       "      <td>0</td>\n",
       "      <td>0</td>\n",
       "      <td>1</td>\n",
       "      <td>0</td>\n",
       "      <td>0</td>\n",
       "      <td>0</td>\n",
       "      <td>0</td>\n",
       "      <td>0</td>\n",
       "      <td>0</td>\n",
       "      <td>0</td>\n",
       "      <td>1</td>\n",
       "      <td>0</td>\n",
       "      <td>0</td>\n",
       "      <td>0</td>\n",
       "      <td>0</td>\n",
       "      <td>0</td>\n",
       "      <td>0</td>\n",
       "      <td>0</td>\n",
       "      <td>0</td>\n",
       "      <td>0</td>\n",
       "      <td>0</td>\n",
       "      <td>0</td>\n",
       "      <td>0</td>\n",
       "      <td>0</td>\n",
       "      <td>1</td>\n",
       "      <td>0</td>\n",
       "      <td>0</td>\n",
       "      <td>1</td>\n",
       "      <td>0</td>\n",
       "      <td>0</td>\n",
       "      <td>0</td>\n",
       "      <td>0</td>\n",
       "      <td>0</td>\n",
       "      <td>0</td>\n",
       "      <td>0</td>\n",
       "      <td>0</td>\n",
       "      <td>0</td>\n",
       "      <td>0</td>\n",
       "      <td>0</td>\n",
       "      <td>0</td>\n",
       "      <td>0</td>\n",
       "      <td>0</td>\n",
       "      <td>0</td>\n",
       "      <td>0</td>\n",
       "      <td>0</td>\n",
       "      <td>1</td>\n",
       "      <td>0</td>\n",
       "      <td>0</td>\n",
       "      <td>0</td>\n",
       "      <td>0</td>\n",
       "      <td>0</td>\n",
       "      <td>0</td>\n",
       "      <td>0</td>\n",
       "      <td>0</td>\n",
       "      <td>0</td>\n",
       "      <td>0</td>\n",
       "      <td>0</td>\n",
       "      <td>0</td>\n",
       "      <td>0</td>\n",
       "      <td>0</td>\n",
       "      <td>1</td>\n",
       "      <td>0</td>\n",
       "      <td>0</td>\n",
       "      <td>0</td>\n",
       "      <td>0</td>\n",
       "      <td>1</td>\n",
       "      <td>0</td>\n",
       "      <td>0</td>\n",
       "      <td>1</td>\n",
       "      <td>0</td>\n",
       "      <td>0</td>\n",
       "      <td>0</td>\n",
       "      <td>1</td>\n",
       "      <td>0</td>\n",
       "      <td>0</td>\n",
       "      <td>0</td>\n",
       "      <td>0</td>\n",
       "      <td>1</td>\n",
       "      <td>0</td>\n",
       "      <td>0</td>\n",
       "      <td>1</td>\n",
       "      <td>0</td>\n",
       "      <td>0</td>\n",
       "      <td>0</td>\n",
       "      <td>0</td>\n",
       "      <td>1</td>\n",
       "      <td>0</td>\n",
       "      <td>0</td>\n",
       "      <td>0</td>\n",
       "      <td>0</td>\n",
       "      <td>0</td>\n",
       "      <td>0</td>\n",
       "      <td>0</td>\n",
       "      <td>0</td>\n",
       "      <td>0</td>\n",
       "      <td>0</td>\n",
       "      <td>0</td>\n",
       "      <td>1</td>\n",
       "      <td>0</td>\n",
       "      <td>0</td>\n",
       "      <td>0</td>\n",
       "      <td>1</td>\n",
       "      <td>0</td>\n",
       "      <td>1</td>\n",
       "      <td>0</td>\n",
       "      <td>0</td>\n",
       "      <td>0</td>\n",
       "      <td>0</td>\n",
       "      <td>1</td>\n",
       "      <td>0</td>\n",
       "      <td>0</td>\n",
       "      <td>0</td>\n",
       "      <td>0</td>\n",
       "      <td>0</td>\n",
       "      <td>0</td>\n",
       "      <td>1</td>\n",
       "      <td>0</td>\n",
       "      <td>1</td>\n",
       "      <td>0</td>\n",
       "      <td>0</td>\n",
       "      <td>0</td>\n",
       "      <td>0</td>\n",
       "      <td>0</td>\n",
       "      <td>0</td>\n",
       "      <td>0</td>\n",
       "      <td>0</td>\n",
       "      <td>0</td>\n",
       "      <td>0</td>\n",
       "      <td>0</td>\n",
       "      <td>1</td>\n",
       "      <td>0</td>\n",
       "      <td>0</td>\n",
       "      <td>0</td>\n",
       "      <td>0</td>\n",
       "      <td>0</td>\n",
       "      <td>1</td>\n",
       "      <td>0</td>\n",
       "      <td>0</td>\n",
       "      <td>0</td>\n",
       "      <td>0</td>\n",
       "      <td>0</td>\n",
       "      <td>0</td>\n",
       "      <td>0</td>\n",
       "      <td>0</td>\n",
       "      <td>0</td>\n",
       "      <td>0</td>\n",
       "      <td>1</td>\n",
       "      <td>0</td>\n",
       "      <td>0</td>\n",
       "      <td>0</td>\n",
       "      <td>1</td>\n",
       "      <td>0</td>\n",
       "      <td>0</td>\n",
       "      <td>0</td>\n",
       "      <td>0</td>\n",
       "      <td>0</td>\n",
       "      <td>0</td>\n",
       "      <td>0</td>\n",
       "      <td>0</td>\n",
       "      <td>0</td>\n",
       "      <td>0</td>\n",
       "      <td>1</td>\n",
       "      <td>0</td>\n",
       "    </tr>\n",
       "    <tr>\n",
       "      <th>1</th>\n",
       "      <td>2586</td>\n",
       "      <td>535305120</td>\n",
       "      <td>75.00000</td>\n",
       "      <td>9.227197</td>\n",
       "      <td>5</td>\n",
       "      <td>6</td>\n",
       "      <td>6</td>\n",
       "      <td>522.0</td>\n",
       "      <td>3</td>\n",
       "      <td>3</td>\n",
       "      <td>3.0</td>\n",
       "      <td>3.0</td>\n",
       "      <td>1.0</td>\n",
       "      <td>1.0</td>\n",
       "      <td>0.0</td>\n",
       "      <td>1.0</td>\n",
       "      <td>0.0</td>\n",
       "      <td>216.0</td>\n",
       "      <td>216.0</td>\n",
       "      <td>3</td>\n",
       "      <td>0</td>\n",
       "      <td>1575</td>\n",
       "      <td>2</td>\n",
       "      <td>1</td>\n",
       "      <td>4</td>\n",
       "      <td>5</td>\n",
       "      <td>8</td>\n",
       "      <td>1</td>\n",
       "      <td>4.0</td>\n",
       "      <td>1.0</td>\n",
       "      <td>2.0</td>\n",
       "      <td>400.0</td>\n",
       "      <td>3.0</td>\n",
       "      <td>3.0</td>\n",
       "      <td>0</td>\n",
       "      <td>0</td>\n",
       "      <td>0</td>\n",
       "      <td>0</td>\n",
       "      <td>0</td>\n",
       "      <td>0</td>\n",
       "      <td>0.0</td>\n",
       "      <td>0.0</td>\n",
       "      <td>0</td>\n",
       "      <td>155000</td>\n",
       "      <td>1</td>\n",
       "      <td>1.5</td>\n",
       "      <td>1575</td>\n",
       "      <td>0</td>\n",
       "      <td>0</td>\n",
       "      <td>0</td>\n",
       "      <td>0</td>\n",
       "      <td>0</td>\n",
       "      <td>0</td>\n",
       "      <td>0</td>\n",
       "      <td>0</td>\n",
       "      <td>0</td>\n",
       "      <td>0</td>\n",
       "      <td>0</td>\n",
       "      <td>0</td>\n",
       "      <td>0</td>\n",
       "      <td>0</td>\n",
       "      <td>0</td>\n",
       "      <td>0</td>\n",
       "      <td>0</td>\n",
       "      <td>0</td>\n",
       "      <td>0</td>\n",
       "      <td>1</td>\n",
       "      <td>0</td>\n",
       "      <td>1</td>\n",
       "      <td>1</td>\n",
       "      <td>0</td>\n",
       "      <td>0</td>\n",
       "      <td>0</td>\n",
       "      <td>1</td>\n",
       "      <td>0</td>\n",
       "      <td>0</td>\n",
       "      <td>0</td>\n",
       "      <td>0</td>\n",
       "      <td>0</td>\n",
       "      <td>0</td>\n",
       "      <td>0</td>\n",
       "      <td>0</td>\n",
       "      <td>0</td>\n",
       "      <td>0</td>\n",
       "      <td>0</td>\n",
       "      <td>0</td>\n",
       "      <td>0</td>\n",
       "      <td>0</td>\n",
       "      <td>0</td>\n",
       "      <td>0</td>\n",
       "      <td>0</td>\n",
       "      <td>0</td>\n",
       "      <td>1</td>\n",
       "      <td>0</td>\n",
       "      <td>0</td>\n",
       "      <td>0</td>\n",
       "      <td>0</td>\n",
       "      <td>0</td>\n",
       "      <td>0</td>\n",
       "      <td>0</td>\n",
       "      <td>0</td>\n",
       "      <td>0</td>\n",
       "      <td>0</td>\n",
       "      <td>0</td>\n",
       "      <td>0</td>\n",
       "      <td>0</td>\n",
       "      <td>1</td>\n",
       "      <td>0</td>\n",
       "      <td>0</td>\n",
       "      <td>0</td>\n",
       "      <td>0</td>\n",
       "      <td>0</td>\n",
       "      <td>0</td>\n",
       "      <td>0</td>\n",
       "      <td>1</td>\n",
       "      <td>0</td>\n",
       "      <td>0</td>\n",
       "      <td>0</td>\n",
       "      <td>0</td>\n",
       "      <td>0</td>\n",
       "      <td>0</td>\n",
       "      <td>0</td>\n",
       "      <td>0</td>\n",
       "      <td>0</td>\n",
       "      <td>0</td>\n",
       "      <td>1</td>\n",
       "      <td>0</td>\n",
       "      <td>0</td>\n",
       "      <td>0</td>\n",
       "      <td>0</td>\n",
       "      <td>0</td>\n",
       "      <td>1</td>\n",
       "      <td>0</td>\n",
       "      <td>0</td>\n",
       "      <td>0</td>\n",
       "      <td>0</td>\n",
       "      <td>0</td>\n",
       "      <td>0</td>\n",
       "      <td>0</td>\n",
       "      <td>0</td>\n",
       "      <td>0</td>\n",
       "      <td>0</td>\n",
       "      <td>0</td>\n",
       "      <td>0</td>\n",
       "      <td>0</td>\n",
       "      <td>0</td>\n",
       "      <td>0</td>\n",
       "      <td>0</td>\n",
       "      <td>0</td>\n",
       "      <td>0</td>\n",
       "      <td>1</td>\n",
       "      <td>0</td>\n",
       "      <td>0</td>\n",
       "      <td>0</td>\n",
       "      <td>0</td>\n",
       "      <td>0</td>\n",
       "      <td>0</td>\n",
       "      <td>0</td>\n",
       "      <td>0</td>\n",
       "      <td>0</td>\n",
       "      <td>0</td>\n",
       "      <td>0</td>\n",
       "      <td>0</td>\n",
       "      <td>0</td>\n",
       "      <td>0</td>\n",
       "      <td>1</td>\n",
       "      <td>0</td>\n",
       "      <td>1</td>\n",
       "      <td>0</td>\n",
       "      <td>0</td>\n",
       "      <td>0</td>\n",
       "      <td>1</td>\n",
       "      <td>0</td>\n",
       "      <td>0</td>\n",
       "      <td>0</td>\n",
       "      <td>0</td>\n",
       "      <td>1</td>\n",
       "      <td>0</td>\n",
       "      <td>0</td>\n",
       "      <td>0</td>\n",
       "      <td>0</td>\n",
       "      <td>1</td>\n",
       "      <td>1</td>\n",
       "      <td>0</td>\n",
       "      <td>0</td>\n",
       "      <td>0</td>\n",
       "      <td>0</td>\n",
       "      <td>0</td>\n",
       "      <td>0</td>\n",
       "      <td>1</td>\n",
       "      <td>0</td>\n",
       "      <td>0</td>\n",
       "      <td>0</td>\n",
       "      <td>0</td>\n",
       "      <td>0</td>\n",
       "      <td>0</td>\n",
       "      <td>0</td>\n",
       "      <td>0</td>\n",
       "      <td>0</td>\n",
       "      <td>0</td>\n",
       "      <td>0</td>\n",
       "      <td>1</td>\n",
       "      <td>0</td>\n",
       "      <td>0</td>\n",
       "      <td>0</td>\n",
       "      <td>1</td>\n",
       "      <td>0</td>\n",
       "      <td>0</td>\n",
       "      <td>0</td>\n",
       "      <td>1</td>\n",
       "      <td>0</td>\n",
       "      <td>0</td>\n",
       "      <td>1</td>\n",
       "      <td>1</td>\n",
       "      <td>0</td>\n",
       "      <td>0</td>\n",
       "      <td>0</td>\n",
       "      <td>0</td>\n",
       "      <td>0</td>\n",
       "      <td>1</td>\n",
       "      <td>0</td>\n",
       "      <td>1</td>\n",
       "      <td>0</td>\n",
       "      <td>0</td>\n",
       "      <td>0</td>\n",
       "      <td>0</td>\n",
       "      <td>0</td>\n",
       "      <td>0</td>\n",
       "      <td>1</td>\n",
       "      <td>0</td>\n",
       "      <td>0</td>\n",
       "      <td>0</td>\n",
       "      <td>0</td>\n",
       "      <td>0</td>\n",
       "      <td>0</td>\n",
       "      <td>0</td>\n",
       "      <td>0</td>\n",
       "      <td>0</td>\n",
       "      <td>0</td>\n",
       "      <td>0</td>\n",
       "      <td>0</td>\n",
       "      <td>0</td>\n",
       "      <td>0</td>\n",
       "      <td>0</td>\n",
       "      <td>0</td>\n",
       "      <td>1</td>\n",
       "      <td>0</td>\n",
       "      <td>0</td>\n",
       "      <td>0</td>\n",
       "      <td>0</td>\n",
       "      <td>0</td>\n",
       "      <td>0</td>\n",
       "      <td>0</td>\n",
       "      <td>0</td>\n",
       "      <td>0</td>\n",
       "      <td>0</td>\n",
       "      <td>1</td>\n",
       "      <td>0</td>\n",
       "      <td>0</td>\n",
       "      <td>0</td>\n",
       "      <td>0</td>\n",
       "      <td>0</td>\n",
       "      <td>0</td>\n",
       "      <td>0</td>\n",
       "      <td>0</td>\n",
       "      <td>0</td>\n",
       "      <td>0</td>\n",
       "    </tr>\n",
       "    <tr>\n",
       "      <th>2</th>\n",
       "      <td>2289</td>\n",
       "      <td>923228250</td>\n",
       "      <td>21.00000</td>\n",
       "      <td>7.601402</td>\n",
       "      <td>5</td>\n",
       "      <td>4</td>\n",
       "      <td>5</td>\n",
       "      <td>80.0</td>\n",
       "      <td>3</td>\n",
       "      <td>3</td>\n",
       "      <td>3.0</td>\n",
       "      <td>3.0</td>\n",
       "      <td>1.0</td>\n",
       "      <td>1.0</td>\n",
       "      <td>0.0</td>\n",
       "      <td>1.0</td>\n",
       "      <td>0.0</td>\n",
       "      <td>546.0</td>\n",
       "      <td>546.0</td>\n",
       "      <td>2</td>\n",
       "      <td>0</td>\n",
       "      <td>1092</td>\n",
       "      <td>3</td>\n",
       "      <td>1</td>\n",
       "      <td>3</td>\n",
       "      <td>6</td>\n",
       "      <td>8</td>\n",
       "      <td>0</td>\n",
       "      <td>0.0</td>\n",
       "      <td>1.0</td>\n",
       "      <td>1.0</td>\n",
       "      <td>286.0</td>\n",
       "      <td>3.0</td>\n",
       "      <td>3.0</td>\n",
       "      <td>0</td>\n",
       "      <td>0</td>\n",
       "      <td>0</td>\n",
       "      <td>0</td>\n",
       "      <td>0</td>\n",
       "      <td>0</td>\n",
       "      <td>0.0</td>\n",
       "      <td>0.0</td>\n",
       "      <td>0</td>\n",
       "      <td>75000</td>\n",
       "      <td>1</td>\n",
       "      <td>1.5</td>\n",
       "      <td>1092</td>\n",
       "      <td>0</td>\n",
       "      <td>0</td>\n",
       "      <td>0</td>\n",
       "      <td>0</td>\n",
       "      <td>0</td>\n",
       "      <td>0</td>\n",
       "      <td>0</td>\n",
       "      <td>0</td>\n",
       "      <td>0</td>\n",
       "      <td>0</td>\n",
       "      <td>0</td>\n",
       "      <td>0</td>\n",
       "      <td>1</td>\n",
       "      <td>0</td>\n",
       "      <td>0</td>\n",
       "      <td>0</td>\n",
       "      <td>0</td>\n",
       "      <td>0</td>\n",
       "      <td>0</td>\n",
       "      <td>0</td>\n",
       "      <td>1</td>\n",
       "      <td>1</td>\n",
       "      <td>1</td>\n",
       "      <td>0</td>\n",
       "      <td>0</td>\n",
       "      <td>0</td>\n",
       "      <td>1</td>\n",
       "      <td>0</td>\n",
       "      <td>0</td>\n",
       "      <td>0</td>\n",
       "      <td>1</td>\n",
       "      <td>0</td>\n",
       "      <td>0</td>\n",
       "      <td>0</td>\n",
       "      <td>0</td>\n",
       "      <td>0</td>\n",
       "      <td>0</td>\n",
       "      <td>0</td>\n",
       "      <td>0</td>\n",
       "      <td>0</td>\n",
       "      <td>0</td>\n",
       "      <td>0</td>\n",
       "      <td>0</td>\n",
       "      <td>1</td>\n",
       "      <td>0</td>\n",
       "      <td>0</td>\n",
       "      <td>0</td>\n",
       "      <td>0</td>\n",
       "      <td>0</td>\n",
       "      <td>0</td>\n",
       "      <td>0</td>\n",
       "      <td>0</td>\n",
       "      <td>0</td>\n",
       "      <td>0</td>\n",
       "      <td>0</td>\n",
       "      <td>0</td>\n",
       "      <td>0</td>\n",
       "      <td>0</td>\n",
       "      <td>0</td>\n",
       "      <td>1</td>\n",
       "      <td>0</td>\n",
       "      <td>0</td>\n",
       "      <td>0</td>\n",
       "      <td>0</td>\n",
       "      <td>0</td>\n",
       "      <td>0</td>\n",
       "      <td>0</td>\n",
       "      <td>1</td>\n",
       "      <td>0</td>\n",
       "      <td>0</td>\n",
       "      <td>0</td>\n",
       "      <td>0</td>\n",
       "      <td>0</td>\n",
       "      <td>0</td>\n",
       "      <td>0</td>\n",
       "      <td>1</td>\n",
       "      <td>0</td>\n",
       "      <td>0</td>\n",
       "      <td>0</td>\n",
       "      <td>0</td>\n",
       "      <td>0</td>\n",
       "      <td>1</td>\n",
       "      <td>0</td>\n",
       "      <td>0</td>\n",
       "      <td>1</td>\n",
       "      <td>0</td>\n",
       "      <td>0</td>\n",
       "      <td>0</td>\n",
       "      <td>0</td>\n",
       "      <td>0</td>\n",
       "      <td>0</td>\n",
       "      <td>0</td>\n",
       "      <td>0</td>\n",
       "      <td>0</td>\n",
       "      <td>1</td>\n",
       "      <td>0</td>\n",
       "      <td>0</td>\n",
       "      <td>0</td>\n",
       "      <td>0</td>\n",
       "      <td>0</td>\n",
       "      <td>0</td>\n",
       "      <td>0</td>\n",
       "      <td>0</td>\n",
       "      <td>0</td>\n",
       "      <td>0</td>\n",
       "      <td>0</td>\n",
       "      <td>0</td>\n",
       "      <td>0</td>\n",
       "      <td>0</td>\n",
       "      <td>1</td>\n",
       "      <td>0</td>\n",
       "      <td>0</td>\n",
       "      <td>0</td>\n",
       "      <td>0</td>\n",
       "      <td>0</td>\n",
       "      <td>0</td>\n",
       "      <td>0</td>\n",
       "      <td>0</td>\n",
       "      <td>0</td>\n",
       "      <td>0</td>\n",
       "      <td>1</td>\n",
       "      <td>0</td>\n",
       "      <td>0</td>\n",
       "      <td>0</td>\n",
       "      <td>1</td>\n",
       "      <td>0</td>\n",
       "      <td>0</td>\n",
       "      <td>0</td>\n",
       "      <td>0</td>\n",
       "      <td>1</td>\n",
       "      <td>0</td>\n",
       "      <td>0</td>\n",
       "      <td>0</td>\n",
       "      <td>0</td>\n",
       "      <td>1</td>\n",
       "      <td>1</td>\n",
       "      <td>0</td>\n",
       "      <td>0</td>\n",
       "      <td>0</td>\n",
       "      <td>0</td>\n",
       "      <td>0</td>\n",
       "      <td>0</td>\n",
       "      <td>1</td>\n",
       "      <td>0</td>\n",
       "      <td>0</td>\n",
       "      <td>0</td>\n",
       "      <td>0</td>\n",
       "      <td>0</td>\n",
       "      <td>0</td>\n",
       "      <td>0</td>\n",
       "      <td>0</td>\n",
       "      <td>0</td>\n",
       "      <td>0</td>\n",
       "      <td>0</td>\n",
       "      <td>1</td>\n",
       "      <td>0</td>\n",
       "      <td>0</td>\n",
       "      <td>0</td>\n",
       "      <td>1</td>\n",
       "      <td>0</td>\n",
       "      <td>1</td>\n",
       "      <td>0</td>\n",
       "      <td>0</td>\n",
       "      <td>0</td>\n",
       "      <td>0</td>\n",
       "      <td>1</td>\n",
       "      <td>1</td>\n",
       "      <td>0</td>\n",
       "      <td>0</td>\n",
       "      <td>0</td>\n",
       "      <td>0</td>\n",
       "      <td>0</td>\n",
       "      <td>1</td>\n",
       "      <td>0</td>\n",
       "      <td>1</td>\n",
       "      <td>0</td>\n",
       "      <td>0</td>\n",
       "      <td>0</td>\n",
       "      <td>0</td>\n",
       "      <td>0</td>\n",
       "      <td>0</td>\n",
       "      <td>0</td>\n",
       "      <td>0</td>\n",
       "      <td>1</td>\n",
       "      <td>0</td>\n",
       "      <td>0</td>\n",
       "      <td>0</td>\n",
       "      <td>0</td>\n",
       "      <td>0</td>\n",
       "      <td>1</td>\n",
       "      <td>0</td>\n",
       "      <td>0</td>\n",
       "      <td>0</td>\n",
       "      <td>0</td>\n",
       "      <td>0</td>\n",
       "      <td>0</td>\n",
       "      <td>0</td>\n",
       "      <td>0</td>\n",
       "      <td>0</td>\n",
       "      <td>0</td>\n",
       "      <td>1</td>\n",
       "      <td>0</td>\n",
       "      <td>0</td>\n",
       "      <td>0</td>\n",
       "      <td>0</td>\n",
       "      <td>0</td>\n",
       "      <td>0</td>\n",
       "      <td>0</td>\n",
       "      <td>0</td>\n",
       "      <td>0</td>\n",
       "      <td>0</td>\n",
       "      <td>0</td>\n",
       "      <td>0</td>\n",
       "      <td>0</td>\n",
       "      <td>0</td>\n",
       "      <td>0</td>\n",
       "      <td>1</td>\n",
       "      <td>0</td>\n",
       "      <td>0</td>\n",
       "      <td>0</td>\n",
       "    </tr>\n",
       "    <tr>\n",
       "      <th>3</th>\n",
       "      <td>142</td>\n",
       "      <td>535152150</td>\n",
       "      <td>70.00000</td>\n",
       "      <td>9.264071</td>\n",
       "      <td>5</td>\n",
       "      <td>5</td>\n",
       "      <td>5</td>\n",
       "      <td>0.0</td>\n",
       "      <td>3</td>\n",
       "      <td>3</td>\n",
       "      <td>3.0</td>\n",
       "      <td>3.0</td>\n",
       "      <td>1.0</td>\n",
       "      <td>3.0</td>\n",
       "      <td>1018.0</td>\n",
       "      <td>1.0</td>\n",
       "      <td>0.0</td>\n",
       "      <td>380.0</td>\n",
       "      <td>1398.0</td>\n",
       "      <td>4</td>\n",
       "      <td>0</td>\n",
       "      <td>1700</td>\n",
       "      <td>4</td>\n",
       "      <td>1</td>\n",
       "      <td>4</td>\n",
       "      <td>6</td>\n",
       "      <td>8</td>\n",
       "      <td>1</td>\n",
       "      <td>4.0</td>\n",
       "      <td>2.0</td>\n",
       "      <td>2.0</td>\n",
       "      <td>447.0</td>\n",
       "      <td>3.0</td>\n",
       "      <td>3.0</td>\n",
       "      <td>0</td>\n",
       "      <td>38</td>\n",
       "      <td>0</td>\n",
       "      <td>0</td>\n",
       "      <td>0</td>\n",
       "      <td>0</td>\n",
       "      <td>0.0</td>\n",
       "      <td>0.0</td>\n",
       "      <td>0</td>\n",
       "      <td>165500</td>\n",
       "      <td>1</td>\n",
       "      <td>2.0</td>\n",
       "      <td>1700</td>\n",
       "      <td>0</td>\n",
       "      <td>0</td>\n",
       "      <td>0</td>\n",
       "      <td>0</td>\n",
       "      <td>0</td>\n",
       "      <td>0</td>\n",
       "      <td>0</td>\n",
       "      <td>0</td>\n",
       "      <td>0</td>\n",
       "      <td>0</td>\n",
       "      <td>0</td>\n",
       "      <td>0</td>\n",
       "      <td>0</td>\n",
       "      <td>0</td>\n",
       "      <td>0</td>\n",
       "      <td>0</td>\n",
       "      <td>0</td>\n",
       "      <td>0</td>\n",
       "      <td>0</td>\n",
       "      <td>1</td>\n",
       "      <td>0</td>\n",
       "      <td>1</td>\n",
       "      <td>1</td>\n",
       "      <td>0</td>\n",
       "      <td>0</td>\n",
       "      <td>0</td>\n",
       "      <td>1</td>\n",
       "      <td>0</td>\n",
       "      <td>0</td>\n",
       "      <td>0</td>\n",
       "      <td>1</td>\n",
       "      <td>0</td>\n",
       "      <td>0</td>\n",
       "      <td>0</td>\n",
       "      <td>0</td>\n",
       "      <td>0</td>\n",
       "      <td>0</td>\n",
       "      <td>0</td>\n",
       "      <td>0</td>\n",
       "      <td>0</td>\n",
       "      <td>0</td>\n",
       "      <td>0</td>\n",
       "      <td>0</td>\n",
       "      <td>0</td>\n",
       "      <td>0</td>\n",
       "      <td>1</td>\n",
       "      <td>0</td>\n",
       "      <td>0</td>\n",
       "      <td>0</td>\n",
       "      <td>0</td>\n",
       "      <td>0</td>\n",
       "      <td>0</td>\n",
       "      <td>0</td>\n",
       "      <td>0</td>\n",
       "      <td>0</td>\n",
       "      <td>0</td>\n",
       "      <td>0</td>\n",
       "      <td>0</td>\n",
       "      <td>0</td>\n",
       "      <td>1</td>\n",
       "      <td>0</td>\n",
       "      <td>0</td>\n",
       "      <td>0</td>\n",
       "      <td>0</td>\n",
       "      <td>0</td>\n",
       "      <td>0</td>\n",
       "      <td>0</td>\n",
       "      <td>1</td>\n",
       "      <td>0</td>\n",
       "      <td>0</td>\n",
       "      <td>0</td>\n",
       "      <td>0</td>\n",
       "      <td>0</td>\n",
       "      <td>0</td>\n",
       "      <td>0</td>\n",
       "      <td>0</td>\n",
       "      <td>0</td>\n",
       "      <td>0</td>\n",
       "      <td>1</td>\n",
       "      <td>0</td>\n",
       "      <td>0</td>\n",
       "      <td>0</td>\n",
       "      <td>0</td>\n",
       "      <td>0</td>\n",
       "      <td>1</td>\n",
       "      <td>0</td>\n",
       "      <td>0</td>\n",
       "      <td>0</td>\n",
       "      <td>0</td>\n",
       "      <td>0</td>\n",
       "      <td>0</td>\n",
       "      <td>0</td>\n",
       "      <td>1</td>\n",
       "      <td>0</td>\n",
       "      <td>0</td>\n",
       "      <td>0</td>\n",
       "      <td>0</td>\n",
       "      <td>0</td>\n",
       "      <td>0</td>\n",
       "      <td>0</td>\n",
       "      <td>0</td>\n",
       "      <td>0</td>\n",
       "      <td>0</td>\n",
       "      <td>0</td>\n",
       "      <td>0</td>\n",
       "      <td>0</td>\n",
       "      <td>0</td>\n",
       "      <td>1</td>\n",
       "      <td>0</td>\n",
       "      <td>0</td>\n",
       "      <td>0</td>\n",
       "      <td>0</td>\n",
       "      <td>0</td>\n",
       "      <td>0</td>\n",
       "      <td>0</td>\n",
       "      <td>0</td>\n",
       "      <td>0</td>\n",
       "      <td>0</td>\n",
       "      <td>0</td>\n",
       "      <td>0</td>\n",
       "      <td>0</td>\n",
       "      <td>0</td>\n",
       "      <td>1</td>\n",
       "      <td>0</td>\n",
       "      <td>1</td>\n",
       "      <td>0</td>\n",
       "      <td>0</td>\n",
       "      <td>0</td>\n",
       "      <td>0</td>\n",
       "      <td>1</td>\n",
       "      <td>0</td>\n",
       "      <td>0</td>\n",
       "      <td>0</td>\n",
       "      <td>0</td>\n",
       "      <td>1</td>\n",
       "      <td>1</td>\n",
       "      <td>0</td>\n",
       "      <td>0</td>\n",
       "      <td>0</td>\n",
       "      <td>0</td>\n",
       "      <td>0</td>\n",
       "      <td>0</td>\n",
       "      <td>1</td>\n",
       "      <td>0</td>\n",
       "      <td>0</td>\n",
       "      <td>0</td>\n",
       "      <td>0</td>\n",
       "      <td>0</td>\n",
       "      <td>0</td>\n",
       "      <td>0</td>\n",
       "      <td>0</td>\n",
       "      <td>0</td>\n",
       "      <td>0</td>\n",
       "      <td>0</td>\n",
       "      <td>1</td>\n",
       "      <td>0</td>\n",
       "      <td>0</td>\n",
       "      <td>0</td>\n",
       "      <td>1</td>\n",
       "      <td>0</td>\n",
       "      <td>0</td>\n",
       "      <td>0</td>\n",
       "      <td>1</td>\n",
       "      <td>0</td>\n",
       "      <td>0</td>\n",
       "      <td>1</td>\n",
       "      <td>0</td>\n",
       "      <td>0</td>\n",
       "      <td>0</td>\n",
       "      <td>0</td>\n",
       "      <td>0</td>\n",
       "      <td>0</td>\n",
       "      <td>1</td>\n",
       "      <td>0</td>\n",
       "      <td>1</td>\n",
       "      <td>0</td>\n",
       "      <td>0</td>\n",
       "      <td>0</td>\n",
       "      <td>0</td>\n",
       "      <td>0</td>\n",
       "      <td>0</td>\n",
       "      <td>0</td>\n",
       "      <td>1</td>\n",
       "      <td>0</td>\n",
       "      <td>0</td>\n",
       "      <td>0</td>\n",
       "      <td>0</td>\n",
       "      <td>0</td>\n",
       "      <td>1</td>\n",
       "      <td>0</td>\n",
       "      <td>0</td>\n",
       "      <td>0</td>\n",
       "      <td>0</td>\n",
       "      <td>0</td>\n",
       "      <td>0</td>\n",
       "      <td>0</td>\n",
       "      <td>0</td>\n",
       "      <td>0</td>\n",
       "      <td>0</td>\n",
       "      <td>1</td>\n",
       "      <td>0</td>\n",
       "      <td>0</td>\n",
       "      <td>0</td>\n",
       "      <td>0</td>\n",
       "      <td>0</td>\n",
       "      <td>0</td>\n",
       "      <td>0</td>\n",
       "      <td>1</td>\n",
       "      <td>0</td>\n",
       "      <td>0</td>\n",
       "      <td>0</td>\n",
       "      <td>0</td>\n",
       "      <td>0</td>\n",
       "      <td>0</td>\n",
       "      <td>0</td>\n",
       "      <td>0</td>\n",
       "      <td>0</td>\n",
       "      <td>0</td>\n",
       "      <td>0</td>\n",
       "      <td>1</td>\n",
       "    </tr>\n",
       "    <tr>\n",
       "      <th>4</th>\n",
       "      <td>2042</td>\n",
       "      <td>903475060</td>\n",
       "      <td>60.00000</td>\n",
       "      <td>9.222269</td>\n",
       "      <td>5</td>\n",
       "      <td>7</td>\n",
       "      <td>4</td>\n",
       "      <td>0.0</td>\n",
       "      <td>2</td>\n",
       "      <td>3</td>\n",
       "      <td>3.0</td>\n",
       "      <td>3.0</td>\n",
       "      <td>1.0</td>\n",
       "      <td>1.0</td>\n",
       "      <td>0.0</td>\n",
       "      <td>1.0</td>\n",
       "      <td>0.0</td>\n",
       "      <td>925.0</td>\n",
       "      <td>925.0</td>\n",
       "      <td>3</td>\n",
       "      <td>0</td>\n",
       "      <td>1889</td>\n",
       "      <td>4</td>\n",
       "      <td>2</td>\n",
       "      <td>3</td>\n",
       "      <td>9</td>\n",
       "      <td>8</td>\n",
       "      <td>1</td>\n",
       "      <td>4.0</td>\n",
       "      <td>1.0</td>\n",
       "      <td>1.0</td>\n",
       "      <td>308.0</td>\n",
       "      <td>3.0</td>\n",
       "      <td>3.0</td>\n",
       "      <td>0</td>\n",
       "      <td>0</td>\n",
       "      <td>264</td>\n",
       "      <td>0</td>\n",
       "      <td>0</td>\n",
       "      <td>0</td>\n",
       "      <td>0.0</td>\n",
       "      <td>3.0</td>\n",
       "      <td>0</td>\n",
       "      <td>122000</td>\n",
       "      <td>1</td>\n",
       "      <td>1.5</td>\n",
       "      <td>1889</td>\n",
       "      <td>0</td>\n",
       "      <td>0</td>\n",
       "      <td>0</td>\n",
       "      <td>0</td>\n",
       "      <td>0</td>\n",
       "      <td>0</td>\n",
       "      <td>0</td>\n",
       "      <td>0</td>\n",
       "      <td>0</td>\n",
       "      <td>0</td>\n",
       "      <td>0</td>\n",
       "      <td>0</td>\n",
       "      <td>0</td>\n",
       "      <td>0</td>\n",
       "      <td>1</td>\n",
       "      <td>0</td>\n",
       "      <td>0</td>\n",
       "      <td>0</td>\n",
       "      <td>0</td>\n",
       "      <td>0</td>\n",
       "      <td>1</td>\n",
       "      <td>1</td>\n",
       "      <td>1</td>\n",
       "      <td>0</td>\n",
       "      <td>0</td>\n",
       "      <td>0</td>\n",
       "      <td>0</td>\n",
       "      <td>0</td>\n",
       "      <td>0</td>\n",
       "      <td>0</td>\n",
       "      <td>1</td>\n",
       "      <td>0</td>\n",
       "      <td>0</td>\n",
       "      <td>0</td>\n",
       "      <td>0</td>\n",
       "      <td>0</td>\n",
       "      <td>0</td>\n",
       "      <td>0</td>\n",
       "      <td>0</td>\n",
       "      <td>0</td>\n",
       "      <td>0</td>\n",
       "      <td>0</td>\n",
       "      <td>0</td>\n",
       "      <td>0</td>\n",
       "      <td>0</td>\n",
       "      <td>0</td>\n",
       "      <td>0</td>\n",
       "      <td>0</td>\n",
       "      <td>0</td>\n",
       "      <td>0</td>\n",
       "      <td>1</td>\n",
       "      <td>0</td>\n",
       "      <td>0</td>\n",
       "      <td>0</td>\n",
       "      <td>0</td>\n",
       "      <td>0</td>\n",
       "      <td>0</td>\n",
       "      <td>0</td>\n",
       "      <td>1</td>\n",
       "      <td>0</td>\n",
       "      <td>0</td>\n",
       "      <td>0</td>\n",
       "      <td>0</td>\n",
       "      <td>0</td>\n",
       "      <td>0</td>\n",
       "      <td>0</td>\n",
       "      <td>0</td>\n",
       "      <td>1</td>\n",
       "      <td>0</td>\n",
       "      <td>0</td>\n",
       "      <td>0</td>\n",
       "      <td>0</td>\n",
       "      <td>0</td>\n",
       "      <td>1</td>\n",
       "      <td>0</td>\n",
       "      <td>0</td>\n",
       "      <td>0</td>\n",
       "      <td>0</td>\n",
       "      <td>0</td>\n",
       "      <td>0</td>\n",
       "      <td>1</td>\n",
       "      <td>0</td>\n",
       "      <td>0</td>\n",
       "      <td>0</td>\n",
       "      <td>1</td>\n",
       "      <td>0</td>\n",
       "      <td>0</td>\n",
       "      <td>0</td>\n",
       "      <td>0</td>\n",
       "      <td>0</td>\n",
       "      <td>0</td>\n",
       "      <td>0</td>\n",
       "      <td>0</td>\n",
       "      <td>0</td>\n",
       "      <td>0</td>\n",
       "      <td>0</td>\n",
       "      <td>0</td>\n",
       "      <td>0</td>\n",
       "      <td>0</td>\n",
       "      <td>0</td>\n",
       "      <td>0</td>\n",
       "      <td>0</td>\n",
       "      <td>0</td>\n",
       "      <td>1</td>\n",
       "      <td>0</td>\n",
       "      <td>0</td>\n",
       "      <td>0</td>\n",
       "      <td>0</td>\n",
       "      <td>0</td>\n",
       "      <td>0</td>\n",
       "      <td>0</td>\n",
       "      <td>0</td>\n",
       "      <td>0</td>\n",
       "      <td>0</td>\n",
       "      <td>0</td>\n",
       "      <td>0</td>\n",
       "      <td>0</td>\n",
       "      <td>0</td>\n",
       "      <td>1</td>\n",
       "      <td>0</td>\n",
       "      <td>0</td>\n",
       "      <td>0</td>\n",
       "      <td>1</td>\n",
       "      <td>0</td>\n",
       "      <td>1</td>\n",
       "      <td>0</td>\n",
       "      <td>0</td>\n",
       "      <td>0</td>\n",
       "      <td>0</td>\n",
       "      <td>1</td>\n",
       "      <td>0</td>\n",
       "      <td>0</td>\n",
       "      <td>0</td>\n",
       "      <td>0</td>\n",
       "      <td>0</td>\n",
       "      <td>0</td>\n",
       "      <td>0</td>\n",
       "      <td>0</td>\n",
       "      <td>0</td>\n",
       "      <td>1</td>\n",
       "      <td>0</td>\n",
       "      <td>0</td>\n",
       "      <td>1</td>\n",
       "      <td>0</td>\n",
       "      <td>0</td>\n",
       "      <td>0</td>\n",
       "      <td>0</td>\n",
       "      <td>0</td>\n",
       "      <td>0</td>\n",
       "      <td>0</td>\n",
       "      <td>0</td>\n",
       "      <td>0</td>\n",
       "      <td>0</td>\n",
       "      <td>0</td>\n",
       "      <td>1</td>\n",
       "      <td>0</td>\n",
       "      <td>0</td>\n",
       "      <td>0</td>\n",
       "      <td>1</td>\n",
       "      <td>0</td>\n",
       "      <td>0</td>\n",
       "      <td>0</td>\n",
       "      <td>1</td>\n",
       "      <td>0</td>\n",
       "      <td>0</td>\n",
       "      <td>1</td>\n",
       "      <td>0</td>\n",
       "      <td>0</td>\n",
       "      <td>0</td>\n",
       "      <td>1</td>\n",
       "      <td>0</td>\n",
       "      <td>0</td>\n",
       "      <td>0</td>\n",
       "      <td>0</td>\n",
       "      <td>0</td>\n",
       "      <td>0</td>\n",
       "      <td>0</td>\n",
       "      <td>1</td>\n",
       "      <td>0</td>\n",
       "      <td>0</td>\n",
       "      <td>0</td>\n",
       "      <td>0</td>\n",
       "      <td>0</td>\n",
       "      <td>0</td>\n",
       "      <td>0</td>\n",
       "      <td>0</td>\n",
       "      <td>0</td>\n",
       "      <td>0</td>\n",
       "      <td>0</td>\n",
       "      <td>0</td>\n",
       "      <td>0</td>\n",
       "      <td>0</td>\n",
       "      <td>0</td>\n",
       "      <td>0</td>\n",
       "      <td>0</td>\n",
       "      <td>0</td>\n",
       "      <td>0</td>\n",
       "      <td>0</td>\n",
       "      <td>0</td>\n",
       "      <td>1</td>\n",
       "      <td>0</td>\n",
       "      <td>0</td>\n",
       "      <td>0</td>\n",
       "      <td>0</td>\n",
       "      <td>0</td>\n",
       "      <td>0</td>\n",
       "      <td>0</td>\n",
       "      <td>0</td>\n",
       "      <td>0</td>\n",
       "      <td>0</td>\n",
       "      <td>0</td>\n",
       "      <td>0</td>\n",
       "      <td>0</td>\n",
       "      <td>0</td>\n",
       "      <td>0</td>\n",
       "      <td>0</td>\n",
       "      <td>1</td>\n",
       "      <td>0</td>\n",
       "      <td>0</td>\n",
       "      <td>0</td>\n",
       "    </tr>\n",
       "  </tbody>\n",
       "</table>\n",
       "</div>"
      ],
      "text/plain": [
       "   Order        PID  Lot Frontage  Lot Area Utilities  Overall Qual  \\\n",
       "0    484  528275070      69.20199  9.081939         5             7   \n",
       "1   2586  535305120      75.00000  9.227197         5             6   \n",
       "2   2289  923228250      21.00000  7.601402         5             4   \n",
       "3    142  535152150      70.00000  9.264071         5             5   \n",
       "4   2042  903475060      60.00000  9.222269         5             7   \n",
       "\n",
       "   Overall Cond  Mas Vnr Area Exter Qual  Exter Cond  Bsmt Qual  Bsmt Cond  \\\n",
       "0             5           0.0          4           3        4.0        3.0   \n",
       "1             6         522.0          3           3        3.0        3.0   \n",
       "2             5          80.0          3           3        3.0        3.0   \n",
       "3             5           0.0          3           3        3.0        3.0   \n",
       "4             4           0.0          2           3        3.0        3.0   \n",
       "\n",
       "   Bsmt Exposure  BsmtFin Type 1  BsmtFin SF 1  BsmtFin Type 2  BsmtFin SF 2  \\\n",
       "0            1.0             6.0         300.0             1.0           0.0   \n",
       "1            1.0             1.0           0.0             1.0           0.0   \n",
       "2            1.0             1.0           0.0             1.0           0.0   \n",
       "3            1.0             3.0        1018.0             1.0           0.0   \n",
       "4            1.0             1.0           0.0             1.0           0.0   \n",
       "\n",
       "   Bsmt Unf SF  Total Bsmt SF  Heating QC  Low Qual Fin SF  Gr Liv Area  \\\n",
       "0        652.0          952.0           5                0         2256   \n",
       "1        216.0          216.0           3                0         1575   \n",
       "2        546.0          546.0           2                0         1092   \n",
       "3        380.0         1398.0           4                0         1700   \n",
       "4        925.0          925.0           3                0         1889   \n",
       "\n",
       "   Bedroom AbvGr  Kitchen AbvGr  Kitchen Qual  TotRms AbvGrd  Functional  \\\n",
       "0              4              1             4              8           8   \n",
       "1              2              1             4              5           8   \n",
       "2              3              1             3              6           8   \n",
       "3              4              1             4              6           8   \n",
       "4              4              2             3              9           8   \n",
       "\n",
       "   Fireplaces  Fireplace Qu  Garage Finish  Garage Cars  Garage Area  \\\n",
       "0           1           3.0            3.0          2.0        554.0   \n",
       "1           1           4.0            1.0          2.0        400.0   \n",
       "2           0           0.0            1.0          1.0        286.0   \n",
       "3           1           4.0            2.0          2.0        447.0   \n",
       "4           1           4.0            1.0          1.0        308.0   \n",
       "\n",
       "   Garage Qual  Garage Cond  Wood Deck SF  Open Porch SF  Enclosed Porch  \\\n",
       "0          3.0          3.0           224             54               0   \n",
       "1          3.0          3.0             0              0               0   \n",
       "2          3.0          3.0             0              0               0   \n",
       "3          3.0          3.0             0             38               0   \n",
       "4          3.0          3.0             0              0             264   \n",
       "\n",
       "   3Ssn Porch  Screen Porch  Pool Area  Pool QC  Fence  Misc Val  SalePrice  \\\n",
       "0           0             0          0      0.0    0.0         0     236000   \n",
       "1           0             0          0      0.0    0.0         0     155000   \n",
       "2           0             0          0      0.0    0.0         0      75000   \n",
       "3           0             0          0      0.0    0.0         0     165500   \n",
       "4           0             0          0      0.0    3.0         0     122000   \n",
       "\n",
       "   Condition Count  Bath  Flr SF  MS SubClass_30  MS SubClass_40  \\\n",
       "0                1   2.5    2256               0               0   \n",
       "1                1   1.5    1575               0               0   \n",
       "2                1   1.5    1092               0               0   \n",
       "3                1   2.0    1700               0               0   \n",
       "4                1   1.5    1889               0               0   \n",
       "\n",
       "   MS SubClass_45  MS SubClass_50  MS SubClass_60  MS SubClass_70  \\\n",
       "0               0               0               1               0   \n",
       "1               0               0               0               0   \n",
       "2               0               0               0               0   \n",
       "3               0               0               0               0   \n",
       "4               0               0               0               0   \n",
       "\n",
       "   MS SubClass_75  MS SubClass_80  MS SubClass_85  MS SubClass_90  \\\n",
       "0               0               0               0               0   \n",
       "1               0               0               0               0   \n",
       "2               0               0               0               0   \n",
       "3               0               0               0               0   \n",
       "4               0               0               0               0   \n",
       "\n",
       "   MS SubClass_120  MS SubClass_150  MS SubClass_160  MS SubClass_180  \\\n",
       "0                0                0                0                0   \n",
       "1                0                0                0                0   \n",
       "2                0                0                1                0   \n",
       "3                0                0                0                0   \n",
       "4                0                0                0                0   \n",
       "\n",
       "   MS SubClass_190  MS Zoning_C (all)  MS Zoning_FV  MS Zoning_I (all)  \\\n",
       "0                0                  0             0                  0   \n",
       "1                0                  0             0                  0   \n",
       "2                0                  0             0                  0   \n",
       "3                0                  0             0                  0   \n",
       "4                1                  0             0                  0   \n",
       "\n",
       "   MS Zoning_RH  MS Zoning_RL  MS Zoning_RM  Street_Pave  Alley_No access  \\\n",
       "0             0             1             0            1                1   \n",
       "1             0             1             0            1                1   \n",
       "2             0             0             1            1                1   \n",
       "3             0             1             0            1                1   \n",
       "4             0             0             1            1                1   \n",
       "\n",
       "   Alley_Pave  Land Contour_HLS  Land Contour_Low  Land Contour_Lvl  \\\n",
       "0           0                 0                 0                 1   \n",
       "1           0                 0                 0                 1   \n",
       "2           0                 0                 0                 1   \n",
       "3           0                 0                 0                 1   \n",
       "4           0                 0                 0                 0   \n",
       "\n",
       "   Lot Config_CulDSac  Lot Config_FR2  Lot Config_FR3  Lot Config_Inside  \\\n",
       "0                   0               0               0                  1   \n",
       "1                   0               0               0                  0   \n",
       "2                   0               0               0                  1   \n",
       "3                   0               0               0                  1   \n",
       "4                   0               0               0                  1   \n",
       "\n",
       "   Neighborhood_Blueste  Neighborhood_BrDale  Neighborhood_BrkSide  \\\n",
       "0                     0                    0                     0   \n",
       "1                     0                    0                     0   \n",
       "2                     0                    0                     0   \n",
       "3                     0                    0                     0   \n",
       "4                     0                    0                     0   \n",
       "\n",
       "   Neighborhood_ClearCr  Neighborhood_CollgCr  Neighborhood_Crawfor  \\\n",
       "0                     0                     0                     0   \n",
       "1                     0                     0                     0   \n",
       "2                     0                     0                     0   \n",
       "3                     0                     0                     0   \n",
       "4                     0                     0                     0   \n",
       "\n",
       "   Neighborhood_Edwards  Neighborhood_Gilbert  Neighborhood_Greens  \\\n",
       "0                     0                     1                    0   \n",
       "1                     0                     0                    0   \n",
       "2                     0                     0                    0   \n",
       "3                     0                     0                    0   \n",
       "4                     0                     0                    0   \n",
       "\n",
       "   Neighborhood_GrnHill  Neighborhood_IDOTRR  Neighborhood_Landmrk  \\\n",
       "0                     0                    0                     0   \n",
       "1                     0                    0                     0   \n",
       "2                     0                    0                     0   \n",
       "3                     0                    0                     0   \n",
       "4                     0                    0                     0   \n",
       "\n",
       "   Neighborhood_MeadowV  Neighborhood_Mitchel  Neighborhood_NAmes  \\\n",
       "0                     0                     0                   0   \n",
       "1                     0                     0                   1   \n",
       "2                     1                     0                   0   \n",
       "3                     0                     0                   1   \n",
       "4                     0                     0                   0   \n",
       "\n",
       "   Neighborhood_NPkVill  Neighborhood_NWAmes  Neighborhood_NoRidge  \\\n",
       "0                     0                    0                     0   \n",
       "1                     0                    0                     0   \n",
       "2                     0                    0                     0   \n",
       "3                     0                    0                     0   \n",
       "4                     0                    0                     0   \n",
       "\n",
       "   Neighborhood_NridgHt  Neighborhood_OldTown  Neighborhood_SWISU  \\\n",
       "0                     0                     0                   0   \n",
       "1                     0                     0                   0   \n",
       "2                     0                     0                   0   \n",
       "3                     0                     0                   0   \n",
       "4                     0                     1                   0   \n",
       "\n",
       "   Neighborhood_Sawyer  Neighborhood_SawyerW  Neighborhood_Somerst  \\\n",
       "0                    0                     0                     0   \n",
       "1                    0                     0                     0   \n",
       "2                    0                     0                     0   \n",
       "3                    0                     0                     0   \n",
       "4                    0                     0                     0   \n",
       "\n",
       "   Neighborhood_StoneBr  Neighborhood_Timber  Neighborhood_Veenker  \\\n",
       "0                     0                    0                     0   \n",
       "1                     0                    0                     0   \n",
       "2                     0                    0                     0   \n",
       "3                     0                    0                     0   \n",
       "4                     0                    0                     0   \n",
       "\n",
       "   Condition 1_Feedr  Condition 1_Norm  Condition 1_PosA  Condition 1_PosN  \\\n",
       "0                  0                 1                 0                 0   \n",
       "1                  0                 1                 0                 0   \n",
       "2                  0                 1                 0                 0   \n",
       "3                  0                 1                 0                 0   \n",
       "4                  1                 0                 0                 0   \n",
       "\n",
       "   Condition 1_RRAe  Condition 1_RRAn  Condition 1_RRNe  Condition 1_RRNn  \\\n",
       "0                 0                 0                 0                 0   \n",
       "1                 0                 0                 0                 0   \n",
       "2                 0                 0                 0                 0   \n",
       "3                 0                 0                 0                 0   \n",
       "4                 0                 0                 0                 0   \n",
       "\n",
       "   Condition 2_Feedr  Condition 2_Norm  Condition 2_PosA  Condition 2_PosN  \\\n",
       "0                  0                 1                 0                 0   \n",
       "1                  0                 1                 0                 0   \n",
       "2                  0                 1                 0                 0   \n",
       "3                  0                 1                 0                 0   \n",
       "4                  0                 1                 0                 0   \n",
       "\n",
       "   Condition 2_RRAe  Condition 2_RRAn  Condition 2_RRNn  Bldg Type_2fmCon  \\\n",
       "0                 0                 0                 0                 0   \n",
       "1                 0                 0                 0                 0   \n",
       "2                 0                 0                 0                 0   \n",
       "3                 0                 0                 0                 0   \n",
       "4                 0                 0                 0                 1   \n",
       "\n",
       "   Bldg Type_Duplex  Bldg Type_Twnhs  Bldg Type_TwnhsE  House Style_1.5Unf  \\\n",
       "0                 0                0                 0                   0   \n",
       "1                 0                0                 0                   0   \n",
       "2                 0                1                 0                   0   \n",
       "3                 0                0                 0                   0   \n",
       "4                 0                0                 0                   0   \n",
       "\n",
       "   House Style_1Story  House Style_2.5Fin  House Style_2.5Unf  \\\n",
       "0                   0                   0                   0   \n",
       "1                   1                   0                   0   \n",
       "2                   0                   0                   0   \n",
       "3                   1                   0                   0   \n",
       "4                   0                   0                   1   \n",
       "\n",
       "   House Style_2Story  House Style_SFoyer  House Style_SLvl  \\\n",
       "0                   1                   0                 0   \n",
       "1                   0                   0                 0   \n",
       "2                   1                   0                 0   \n",
       "3                   0                   0                 0   \n",
       "4                   0                   0                 0   \n",
       "\n",
       "   Roof Matl_CompShg  Roof Matl_Membran  Roof Matl_Metal  Roof Matl_Tar&Grv  \\\n",
       "0                  1                  0                0                  0   \n",
       "1                  1                  0                0                  0   \n",
       "2                  1                  0                0                  0   \n",
       "3                  1                  0                0                  0   \n",
       "4                  1                  0                0                  0   \n",
       "\n",
       "   Roof Matl_WdShake  Roof Matl_WdShngl  Exterior 1st_AsphShn  \\\n",
       "0                  0                  0                     0   \n",
       "1                  0                  0                     0   \n",
       "2                  0                  0                     0   \n",
       "3                  0                  0                     0   \n",
       "4                  0                  0                     0   \n",
       "\n",
       "   Exterior 1st_BrkComm  Exterior 1st_BrkFace  Exterior 1st_CBlock  \\\n",
       "0                     0                     0                    0   \n",
       "1                     0                     0                    0   \n",
       "2                     0                     0                    0   \n",
       "3                     0                     1                    0   \n",
       "4                     0                     0                    0   \n",
       "\n",
       "   Exterior 1st_CemntBd  Exterior 1st_HdBoard  Exterior 1st_ImStucc  \\\n",
       "0                     0                     0                     0   \n",
       "1                     0                     0                     0   \n",
       "2                     1                     0                     0   \n",
       "3                     0                     0                     0   \n",
       "4                     0                     0                     0   \n",
       "\n",
       "   Exterior 1st_MetalSd  Exterior 1st_Plywood  Exterior 1st_PreCast  \\\n",
       "0                     0                     0                     0   \n",
       "1                     0                     0                     0   \n",
       "2                     0                     0                     0   \n",
       "3                     0                     0                     0   \n",
       "4                     0                     0                     0   \n",
       "\n",
       "   Exterior 1st_Stone  Exterior 1st_Stucco  Exterior 1st_VinylSd  \\\n",
       "0                   0                    0                     1   \n",
       "1                   0                    0                     0   \n",
       "2                   0                    0                     0   \n",
       "3                   0                    0                     0   \n",
       "4                   0                    0                     0   \n",
       "\n",
       "   Exterior 1st_Wd Sdng  Exterior 1st_WdShing  Exterior 2nd_AsphShn  \\\n",
       "0                     0                     0                     0   \n",
       "1                     1                     0                     0   \n",
       "2                     0                     0                     0   \n",
       "3                     0                     0                     0   \n",
       "4                     1                     0                     0   \n",
       "\n",
       "   Exterior 2nd_Brk Cmn  Exterior 2nd_BrkFace  Exterior 2nd_CBlock  \\\n",
       "0                     0                     0                    0   \n",
       "1                     0                     0                    0   \n",
       "2                     0                     0                    0   \n",
       "3                     0                     1                    0   \n",
       "4                     0                     0                    0   \n",
       "\n",
       "   Exterior 2nd_CmentBd  Exterior 2nd_HdBoard  Exterior 2nd_ImStucc  \\\n",
       "0                     0                     0                     0   \n",
       "1                     0                     0                     0   \n",
       "2                     1                     0                     0   \n",
       "3                     0                     0                     0   \n",
       "4                     0                     0                     0   \n",
       "\n",
       "   Exterior 2nd_MetalSd  Exterior 2nd_Plywood  Exterior 2nd_PreCast  \\\n",
       "0                     0                     0                     0   \n",
       "1                     0                     0                     0   \n",
       "2                     0                     0                     0   \n",
       "3                     0                     0                     0   \n",
       "4                     0                     0                     0   \n",
       "\n",
       "   Exterior 2nd_Stone  Exterior 2nd_Stucco  Exterior 2nd_VinylSd  \\\n",
       "0                   0                    0                     1   \n",
       "1                   0                    0                     0   \n",
       "2                   0                    0                     0   \n",
       "3                   0                    0                     0   \n",
       "4                   0                    0                     0   \n",
       "\n",
       "   Exterior 2nd_Wd Sdng  Exterior 2nd_Wd Shng  Mas Vnr Type_BrkFace  \\\n",
       "0                     0                     0                     0   \n",
       "1                     1                     0                     1   \n",
       "2                     0                     0                     1   \n",
       "3                     0                     0                     0   \n",
       "4                     1                     0                     0   \n",
       "\n",
       "   Mas Vnr Type_CBlock  Mas Vnr Type_None  Mas Vnr Type_Stone  \\\n",
       "0                    0                  1                   0   \n",
       "1                    0                  0                   0   \n",
       "2                    0                  0                   0   \n",
       "3                    0                  1                   0   \n",
       "4                    0                  1                   0   \n",
       "\n",
       "   Foundation_CBlock  Foundation_PConc  Foundation_Slab  Foundation_Stone  \\\n",
       "0                  0                 1                0                 0   \n",
       "1                  1                 0                0                 0   \n",
       "2                  1                 0                0                 0   \n",
       "3                  1                 0                0                 0   \n",
       "4                  1                 0                0                 0   \n",
       "\n",
       "   Foundation_Wood  Heating_GasA  Heating_GasW  Heating_Grav  Heating_OthW  \\\n",
       "0                0             1             0             0             0   \n",
       "1                0             1             0             0             0   \n",
       "2                0             1             0             0             0   \n",
       "3                0             1             0             0             0   \n",
       "4                0             1             0             0             0   \n",
       "\n",
       "   Heating_Wall  Central Air_Y  Garage Type_Attchd  Garage Type_Basment  \\\n",
       "0             0              1                   0                    0   \n",
       "1             0              1                   1                    0   \n",
       "2             0              1                   1                    0   \n",
       "3             0              1                   1                    0   \n",
       "4             0              0                   0                    0   \n",
       "\n",
       "   Garage Type_BuiltIn  Garage Type_CarPort  Garage Type_Detchd  \\\n",
       "0                    1                    0                   0   \n",
       "1                    0                    0                   0   \n",
       "2                    0                    0                   0   \n",
       "3                    0                    0                   0   \n",
       "4                    0                    0                   1   \n",
       "\n",
       "   Garage Type_No Garage  Misc Feature_Gar2  Misc Feature_None  \\\n",
       "0                      0                  0                  1   \n",
       "1                      0                  0                  1   \n",
       "2                      0                  0                  1   \n",
       "3                      0                  0                  1   \n",
       "4                      0                  0                  1   \n",
       "\n",
       "   Misc Feature_Othr  Misc Feature_Shed  Misc Feature_TenC  Sale Type_CWD  \\\n",
       "0                  0                  0                  0              0   \n",
       "1                  0                  0                  0              0   \n",
       "2                  0                  0                  0              0   \n",
       "3                  0                  0                  0              0   \n",
       "4                  0                  0                  0              0   \n",
       "\n",
       "   Sale Type_Con  Sale Type_ConLD  Sale Type_ConLI  Sale Type_ConLw  \\\n",
       "0              0                0                0                0   \n",
       "1              0                0                0                0   \n",
       "2              0                0                0                0   \n",
       "3              0                0                0                0   \n",
       "4              0                0                0                0   \n",
       "\n",
       "   Sale Type_New  Sale Type_Oth  Sale Type_VWD  Sale Type_WD   \\\n",
       "0              0              0              0              1   \n",
       "1              0              0              0              1   \n",
       "2              0              0              0              1   \n",
       "3              0              0              0              1   \n",
       "4              0              0              0              1   \n",
       "\n",
       "   Sale Condition_AdjLand  Sale Condition_Alloca  Sale Condition_Family  \\\n",
       "0                       0                      0                      0   \n",
       "1                       0                      0                      0   \n",
       "2                       0                      0                      0   \n",
       "3                       0                      0                      0   \n",
       "4                       0                      0                      0   \n",
       "\n",
       "   Sale Condition_Normal  Sale Condition_Partial  Roof Style_Gable  \\\n",
       "0                      1                       0                 1   \n",
       "1                      1                       0                 0   \n",
       "2                      1                       0                 1   \n",
       "3                      1                       0                 0   \n",
       "4                      1                       0                 0   \n",
       "\n",
       "   Roof Style_Gambrel  Roof Style_Hip  Roof Style_Mansard  Roof Style_Shed  \\\n",
       "0                   0               0                   0                0   \n",
       "1                   0               1                   0                0   \n",
       "2                   0               0                   0                0   \n",
       "3                   0               1                   0                0   \n",
       "4                   0               1                   0                0   \n",
       "\n",
       "   New or remod_old  Lot Shape_Reg  Land Slope_Mod  Land Slope_Sev  \\\n",
       "0                 1              0               0               0   \n",
       "1                 1              1               0               0   \n",
       "2                 1              1               0               0   \n",
       "3                 1              0               0               0   \n",
       "4                 1              0               0               0   \n",
       "\n",
       "   Electrical_FuseF  Electrical_FuseP  Electrical_Mix  Electrical_SBrkr  \\\n",
       "0                 0                 0               0                 1   \n",
       "1                 0                 0               0                 1   \n",
       "2                 0                 0               0                 1   \n",
       "3                 0                 0               0                 1   \n",
       "4                 1                 0               0                 0   \n",
       "\n",
       "   Paved Drive_P  Paved Drive_Y  Year Built_1890  Year Built_1900  \\\n",
       "0              0              1                0                0   \n",
       "1              0              1                0                0   \n",
       "2              0              1                0                0   \n",
       "3              0              1                0                0   \n",
       "4              0              0                0                0   \n",
       "\n",
       "   Year Built_1910  Year Built_1920  Year Built_1930  Year Built_1940  \\\n",
       "0                0                0                0                0   \n",
       "1                0                0                0                0   \n",
       "2                0                0                0                0   \n",
       "3                0                0                0                0   \n",
       "4                1                0                0                0   \n",
       "\n",
       "   Year Built_1950  Year Built_1960  Year Built_1970  Year Built_1980  \\\n",
       "0                0                0                0                0   \n",
       "1                1                0                0                0   \n",
       "2                0                0                1                0   \n",
       "3                0                1                0                0   \n",
       "4                0                0                0                0   \n",
       "\n",
       "   Year Built_1990  Year Built_2000  Year Built_2010  Year Remod/Add_1960.0  \\\n",
       "0                0                1                0                      0   \n",
       "1                0                0                0                      0   \n",
       "2                0                0                0                      0   \n",
       "3                0                0                0                      1   \n",
       "4                0                0                0                      0   \n",
       "\n",
       "   Year Remod/Add_1970.0  Year Remod/Add_1980.0  Year Remod/Add_1990.0  \\\n",
       "0                      0                      0                      0   \n",
       "1                      0                      0                      0   \n",
       "2                      1                      0                      0   \n",
       "3                      0                      0                      0   \n",
       "4                      0                      0                      0   \n",
       "\n",
       "   Year Remod/Add_2000.0  Year Remod/Add_2010.0  Garage Yr Blt_1910.0  \\\n",
       "0                      1                      0                     0   \n",
       "1                      0                      0                     0   \n",
       "2                      0                      0                     0   \n",
       "3                      0                      0                     0   \n",
       "4                      0                      0                     0   \n",
       "\n",
       "   Garage Yr Blt_1920.0  Garage Yr Blt_1930.0  Garage Yr Blt_1940.0  \\\n",
       "0                     0                     0                     0   \n",
       "1                     0                     0                     0   \n",
       "2                     0                     0                     0   \n",
       "3                     0                     0                     0   \n",
       "4                     0                     0                     0   \n",
       "\n",
       "   Garage Yr Blt_1950.0  Garage Yr Blt_1960.0  Garage Yr Blt_1970.0  \\\n",
       "0                     0                     0                     0   \n",
       "1                     1                     0                     0   \n",
       "2                     0                     0                     1   \n",
       "3                     0                     1                     0   \n",
       "4                     0                     1                     0   \n",
       "\n",
       "   Garage Yr Blt_1980.0  Garage Yr Blt_1990.0  Garage Yr Blt_2000.0  \\\n",
       "0                     0                     0                     1   \n",
       "1                     0                     0                     0   \n",
       "2                     0                     0                     0   \n",
       "3                     0                     0                     0   \n",
       "4                     0                     0                     0   \n",
       "\n",
       "   Garage Yr Blt_2010.0  Mo Sold_2  Mo Sold_3  Mo Sold_4  Mo Sold_5  \\\n",
       "0                     0          0          0          1          0   \n",
       "1                     0          0          0          0          0   \n",
       "2                     0          0          0          0          0   \n",
       "3                     0          0          0          1          0   \n",
       "4                     0          0          0          0          0   \n",
       "\n",
       "   Mo Sold_6  Mo Sold_7  Mo Sold_8  Mo Sold_9  Mo Sold_10  Mo Sold_11  \\\n",
       "0          0          0          0          0           0           0   \n",
       "1          1          0          0          0           0           0   \n",
       "2          0          0          0          0           0           0   \n",
       "3          0          0          0          0           0           0   \n",
       "4          0          0          0          0           0           0   \n",
       "\n",
       "   Mo Sold_12  Yr Sold_2007  Yr Sold_2008  Yr Sold_2009  Yr Sold_2010  \n",
       "0           0             0             0             1             0  \n",
       "1           0             0             0             0             0  \n",
       "2           0             1             0             0             0  \n",
       "3           0             0             0             0             1  \n",
       "4           0             1             0             0             0  "
      ]
     },
     "execution_count": 202,
     "metadata": {},
     "output_type": "execute_result"
    }
   ],
   "source": [
    "pd.set_option('display.max_columns', None)\n",
    "data_preprocessed.head()"
   ]
  },
  {
   "cell_type": "code",
   "execution_count": 203,
   "metadata": {},
   "outputs": [
    {
     "data": {
      "text/plain": [
       "Order                    True\n",
       "PID                      True\n",
       "Lot Frontage             True\n",
       "Lot Area                 True\n",
       "Utilities                True\n",
       "Overall Qual             True\n",
       "Overall Cond             True\n",
       "Mas Vnr Area             True\n",
       "Exter Qual               True\n",
       "Exter Cond               True\n",
       "Bsmt Qual                True\n",
       "Bsmt Cond                True\n",
       "Bsmt Exposure            True\n",
       "BsmtFin Type 1           True\n",
       "BsmtFin SF 1             True\n",
       "BsmtFin Type 2           True\n",
       "BsmtFin SF 2             True\n",
       "Bsmt Unf SF              True\n",
       "Total Bsmt SF            True\n",
       "Heating QC               True\n",
       "Low Qual Fin SF          True\n",
       "Gr Liv Area              True\n",
       "Bedroom AbvGr            True\n",
       "Kitchen AbvGr            True\n",
       "Kitchen Qual             True\n",
       "TotRms AbvGrd            True\n",
       "Functional               True\n",
       "Fireplaces               True\n",
       "Fireplace Qu             True\n",
       "Garage Finish            True\n",
       "                         ... \n",
       "Year Remod/Add_1980.0    True\n",
       "Year Remod/Add_1990.0    True\n",
       "Year Remod/Add_2000.0    True\n",
       "Year Remod/Add_2010.0    True\n",
       "Garage Yr Blt_1910.0     True\n",
       "Garage Yr Blt_1920.0     True\n",
       "Garage Yr Blt_1930.0     True\n",
       "Garage Yr Blt_1940.0     True\n",
       "Garage Yr Blt_1950.0     True\n",
       "Garage Yr Blt_1960.0     True\n",
       "Garage Yr Blt_1970.0     True\n",
       "Garage Yr Blt_1980.0     True\n",
       "Garage Yr Blt_1990.0     True\n",
       "Garage Yr Blt_2000.0     True\n",
       "Garage Yr Blt_2010.0     True\n",
       "Mo Sold_2                True\n",
       "Mo Sold_3                True\n",
       "Mo Sold_4                True\n",
       "Mo Sold_5                True\n",
       "Mo Sold_6                True\n",
       "Mo Sold_7                True\n",
       "Mo Sold_8                True\n",
       "Mo Sold_9                True\n",
       "Mo Sold_10               True\n",
       "Mo Sold_11               True\n",
       "Mo Sold_12               True\n",
       "Yr Sold_2007             True\n",
       "Yr Sold_2008             True\n",
       "Yr Sold_2009             True\n",
       "Yr Sold_2010             True\n",
       "Length: 267, dtype: bool"
      ]
     },
     "execution_count": 203,
     "metadata": {},
     "output_type": "execute_result"
    }
   ],
   "source": [
    "#(np.isnan(data_preprocessed.any())).sum() #and gets False\n",
    "np.isfinite(data_preprocessed.all()) #and gets True"
   ]
  },
  {
   "cell_type": "markdown",
   "metadata": {},
   "source": [
    "## (D) Model fitting"
   ]
  },
  {
   "cell_type": "markdown",
   "metadata": {},
   "source": [
    "### (i) Simple Model and baseline\n",
    "\n",
    "* Decided to select continuous variable with the highest correlation to output variable\n",
    "* Instinctively I would have gone for 'Lot Area' but data show it would be 'Flr SF' (which also makes business sense)\n",
    "\n",
    "**Note:** also testing impact of different share of split for test group with loop. 20% in test seems a good compromise (see line graph at end of section)"
   ]
  },
  {
   "cell_type": "code",
   "execution_count": 204,
   "metadata": {},
   "outputs": [],
   "source": [
    "# removing identified outliers\n",
    "data_final = data_preprocessed[~outlier]"
   ]
  },
  {
   "cell_type": "code",
   "execution_count": 205,
   "metadata": {},
   "outputs": [],
   "source": [
    "#data_preprocessed.corr()[['SalePrice']].sort_values(by=\"SalePrice\",ascending=False).head()"
   ]
  },
  {
   "cell_type": "code",
   "execution_count": 206,
   "metadata": {},
   "outputs": [
    {
     "data": {
      "text/html": [
       "<div>\n",
       "<style scoped>\n",
       "    .dataframe tbody tr th:only-of-type {\n",
       "        vertical-align: middle;\n",
       "    }\n",
       "\n",
       "    .dataframe tbody tr th {\n",
       "        vertical-align: top;\n",
       "    }\n",
       "\n",
       "    .dataframe thead th {\n",
       "        text-align: right;\n",
       "    }\n",
       "</style>\n",
       "<table border=\"1\" class=\"dataframe\">\n",
       "  <thead>\n",
       "    <tr style=\"text-align: right;\">\n",
       "      <th></th>\n",
       "      <th>SalePrice</th>\n",
       "    </tr>\n",
       "  </thead>\n",
       "  <tbody>\n",
       "    <tr>\n",
       "      <th>SalePrice</th>\n",
       "      <td>1.000000</td>\n",
       "    </tr>\n",
       "    <tr>\n",
       "      <th>Overall Qual</th>\n",
       "      <td>0.811812</td>\n",
       "    </tr>\n",
       "    <tr>\n",
       "      <th>Flr SF</th>\n",
       "      <td>0.698397</td>\n",
       "    </tr>\n",
       "    <tr>\n",
       "      <th>Gr Liv Area</th>\n",
       "      <td>0.692258</td>\n",
       "    </tr>\n",
       "    <tr>\n",
       "      <th>Kitchen Qual</th>\n",
       "      <td>0.665684</td>\n",
       "    </tr>\n",
       "  </tbody>\n",
       "</table>\n",
       "</div>"
      ],
      "text/plain": [
       "              SalePrice\n",
       "SalePrice      1.000000\n",
       "Overall Qual   0.811812\n",
       "Flr SF         0.698397\n",
       "Gr Liv Area    0.692258\n",
       "Kitchen Qual   0.665684"
      ]
     },
     "execution_count": 206,
     "metadata": {},
     "output_type": "execute_result"
    }
   ],
   "source": [
    "data_final.corr()[['SalePrice']].sort_values(by=\"SalePrice\",ascending=False).head()"
   ]
  },
  {
   "cell_type": "code",
   "execution_count": 207,
   "metadata": {},
   "outputs": [
    {
     "data": {
      "text/html": [
       "<div>\n",
       "<style scoped>\n",
       "    .dataframe tbody tr th:only-of-type {\n",
       "        vertical-align: middle;\n",
       "    }\n",
       "\n",
       "    .dataframe tbody tr th {\n",
       "        vertical-align: top;\n",
       "    }\n",
       "\n",
       "    .dataframe thead th {\n",
       "        text-align: right;\n",
       "    }\n",
       "</style>\n",
       "<table border=\"1\" class=\"dataframe\">\n",
       "  <thead>\n",
       "    <tr style=\"text-align: right;\">\n",
       "      <th></th>\n",
       "      <th>Overall Qual</th>\n",
       "      <th>Flr SF</th>\n",
       "      <th>Gr Liv Area</th>\n",
       "      <th>Kitchen Qual</th>\n",
       "    </tr>\n",
       "  </thead>\n",
       "  <tbody>\n",
       "    <tr>\n",
       "      <th>0</th>\n",
       "      <td>7</td>\n",
       "      <td>2256</td>\n",
       "      <td>2256</td>\n",
       "      <td>4</td>\n",
       "    </tr>\n",
       "    <tr>\n",
       "      <th>1</th>\n",
       "      <td>6</td>\n",
       "      <td>1575</td>\n",
       "      <td>1575</td>\n",
       "      <td>4</td>\n",
       "    </tr>\n",
       "    <tr>\n",
       "      <th>2</th>\n",
       "      <td>4</td>\n",
       "      <td>1092</td>\n",
       "      <td>1092</td>\n",
       "      <td>3</td>\n",
       "    </tr>\n",
       "    <tr>\n",
       "      <th>3</th>\n",
       "      <td>5</td>\n",
       "      <td>1700</td>\n",
       "      <td>1700</td>\n",
       "      <td>4</td>\n",
       "    </tr>\n",
       "    <tr>\n",
       "      <th>4</th>\n",
       "      <td>7</td>\n",
       "      <td>1889</td>\n",
       "      <td>1889</td>\n",
       "      <td>3</td>\n",
       "    </tr>\n",
       "    <tr>\n",
       "      <th>5</th>\n",
       "      <td>5</td>\n",
       "      <td>1159</td>\n",
       "      <td>1159</td>\n",
       "      <td>3</td>\n",
       "    </tr>\n",
       "    <tr>\n",
       "      <th>6</th>\n",
       "      <td>4</td>\n",
       "      <td>1328</td>\n",
       "      <td>1328</td>\n",
       "      <td>3</td>\n",
       "    </tr>\n",
       "    <tr>\n",
       "      <th>7</th>\n",
       "      <td>5</td>\n",
       "      <td>1749</td>\n",
       "      <td>1869</td>\n",
       "      <td>3</td>\n",
       "    </tr>\n",
       "    <tr>\n",
       "      <th>8</th>\n",
       "      <td>8</td>\n",
       "      <td>1801</td>\n",
       "      <td>1801</td>\n",
       "      <td>4</td>\n",
       "    </tr>\n",
       "    <tr>\n",
       "      <th>9</th>\n",
       "      <td>6</td>\n",
       "      <td>1199</td>\n",
       "      <td>1199</td>\n",
       "      <td>4</td>\n",
       "    </tr>\n",
       "  </tbody>\n",
       "</table>\n",
       "</div>"
      ],
      "text/plain": [
       "   Overall Qual  Flr SF  Gr Liv Area  Kitchen Qual\n",
       "0             7    2256         2256             4\n",
       "1             6    1575         1575             4\n",
       "2             4    1092         1092             3\n",
       "3             5    1700         1700             4\n",
       "4             7    1889         1889             3\n",
       "5             5    1159         1159             3\n",
       "6             4    1328         1328             3\n",
       "7             5    1749         1869             3\n",
       "8             8    1801         1801             4\n",
       "9             6    1199         1199             4"
      ]
     },
     "execution_count": 207,
     "metadata": {},
     "output_type": "execute_result"
    }
   ],
   "source": [
    "data_final[['Overall Qual','Flr SF','Gr Liv Area','Kitchen Qual']].head(10)"
   ]
  },
  {
   "cell_type": "code",
   "execution_count": 208,
   "metadata": {},
   "outputs": [
    {
     "data": {
      "image/png": "[encoded data removed]",
      "text/plain": [
       "<Figure size 432x288 with 1 Axes>"
      ]
     },
     "metadata": {
      "needs_background": "light"
     },
     "output_type": "display_data"
    }
   ],
   "source": [
    "plt.scatter(data_final['Flr SF'],data_final['SalePrice'])\n",
    "plt.xlabel('Floor surface')\n",
    "plt.ylabel('Sale Price')\n",
    "plt.title('SalePrice X Flr SF (outliers removed)')\n",
    "plt.show()"
   ]
  },
  {
   "cell_type": "code",
   "execution_count": 209,
   "metadata": {},
   "outputs": [],
   "source": [
    "from sklearn.model_selection import train_test_split\n",
    "from sklearn.metrics import mean_absolute_error as MAE"
   ]
  },
  {
   "cell_type": "code",
   "execution_count": 210,
   "metadata": {},
   "outputs": [
    {
     "name": "stdout",
     "output_type": "stream",
     "text": [
      "Test_split: 0.1  |  MAE: 30766  |  R2: 0.33\n",
      "Test_split: 0.2  |  MAE: 31636  |  R2: 0.30\n",
      "Test_split: 0.3  |  MAE: 33648  |  R2: 0.29\n",
      "Test_split: 0.4  |  MAE: 34236  |  R2: 0.29\n",
      "Test_split: 0.5  |  MAE: 34068  |  R2: 0.30\n",
      "Test_split: 0.6  |  MAE: 34280  |  R2: 0.30\n",
      "Test_split: 0.7  |  MAE: 34075  |  R2: 0.31\n",
      "Test_split: 0.8  |  MAE: 35001  |  R2: 0.31\n",
      "Test_split: 0.9  |  MAE: 35505  |  R2: 0.30\n"
     ]
    }
   ],
   "source": [
    "# start by splitting train and test sets\n",
    "# Create X, y\n",
    "X = data_final['Flr SF'].values\n",
    "y = np.log10(data_final.SalePrice.values)\n",
    "#y = data_final.SalePrice.values\n",
    "\n",
    "# Split into train/test sets\n",
    "# test difference splits\n",
    "test = [0.1,0.2,0.3,0.4,0.5,0.6,0.7,0.8,0.9]\n",
    "z1 = []\n",
    "z2 = []\n",
    "for t in test:\n",
    "    X_train_s, X_test_s, y_train_s, y_test_s = train_test_split(X, y, test_size = t, train_size = (1-t), random_state=0)\n",
    "    \n",
    "    #print('Train:', X_train.shape, y_train.shape)\n",
    "    #print('Test:', X_test.shape, y_test.shape)\n",
    "\n",
    "    # Try with a linear regression\n",
    "    coef = np.polyfit(X_train_s,y_train_s,deg=1)\n",
    "    #x_values = np.linspace(x.min(),x.max(),n=100)\n",
    "    y_pred_test_s = np.polyval(coef,X_test_s)\n",
    "    #y_base_test = np.median(y_train)\n",
    "\n",
    "    #print('Train MSE: {:.4f}'.format(MSE(y_train, lr.predict(X_train))),'split:',t)\n",
    "    #print('Test MSE: {:.4f}'.format(MSE(y_test, lr.predict(X_test))),'test split:',t)\n",
    "    print('Test_split:',t,' | ', 'MAE: {:.0f}'.format(MAE(10**y_test_s, 10**y_pred_test_s)),' | ',\\\n",
    "          'R2: {:.2f}'.format(1 - MAE(y_test_s, y_pred_test_s)/np.mean(np.abs(y_test_s - np.median(y_train_s)))))\n",
    "    #print('Test MAE: {:.0f}'.format(MAE(y_test, y_pred_test)))\n",
    "    z1.append(MAE(10**y_test_s, 10**y_pred_test_s))\n",
    "    z2.append(np.mean(np.abs(10**y_test_s - np.median(10**y_train_s))))\n",
    "    #print('R2: {:.2f}'.format(1 - MAE(y_test, y_pred_test)/np.mean(np.abs(y_test - np.median(y_train)))))"
   ]
  },
  {
   "cell_type": "code",
   "execution_count": 211,
   "metadata": {},
   "outputs": [],
   "source": [
    "#MAE(y_test,np.median(y_train))\n",
    "# getting error using MAE function"
   ]
  },
  {
   "cell_type": "code",
   "execution_count": 212,
   "metadata": {},
   "outputs": [
    {
     "name": "stdout",
     "output_type": "stream",
     "text": [
      "Base on findings will go with 0.2 test_split as seems to be an inflection point\n"
     ]
    },
    {
     "data": {
      "image/png": "[encoded data removed]",
      "text/plain": [
       "<Figure size 432x288 with 1 Axes>"
      ]
     },
     "metadata": {
      "needs_background": "light"
     },
     "output_type": "display_data"
    }
   ],
   "source": [
    "print('Base on findings will go with 0.2 test_split as seems to be an inflection point')\n",
    "plt.plot(test,z1, label='simple model (Flr SF)')\n",
    "plt.plot(test,z2, label='baseline')\n",
    "plt.title('MAE per test split ratio')\n",
    "plt.ylabel('MAE')\n",
    "plt.xlabel('test_split')\n",
    "plt.legend()\n",
    "plt.show()"
   ]
  },
  {
   "cell_type": "code",
   "execution_count": 213,
   "metadata": {},
   "outputs": [
    {
     "name": "stdout",
     "output_type": "stream",
     "text": [
      "Test_split: 0.9  |  MAE: 35505  |  R2: 0.30\n"
     ]
    }
   ],
   "source": [
    "# start by splitting train and test sets\n",
    "# Create X, y\n",
    "X = data_final['Flr SF'].values\n",
    "y = np.log10(data_final.SalePrice.values)\n",
    "#y = data_final.SalePrice.values\n",
    "\n",
    "# Split into train/test sets\n",
    "# test difference splits\n",
    "test = [0.1,0.2,0.3,0.4,0.5,0.6,0.7,0.8,0.9]\n",
    "\n",
    "X_train_s, X_test_s, y_train_s, y_test_s = train_test_split(X, y, test_size = t, train_size = (1-t), random_state=0)\n",
    "\n",
    "coef = np.polyfit(X_train_s,y_train_s,deg=1)\n",
    "y_pred_test_s = np.polyval(coef,X_test_s)\n",
    "\n",
    "print('Test_split:',t,' | ', 'MAE: {:.0f}'.format(MAE(10**y_test_s, 10**y_pred_test_s)),' | ',\\\n",
    "          'R2: {:.2f}'.format(1 - MAE(y_test_s, y_pred_test_s)/np.mean(np.abs(y_test_s - np.median(y_train_s)))))"
   ]
  },
  {
   "cell_type": "code",
   "execution_count": 214,
   "metadata": {},
   "outputs": [],
   "source": [
    "coef_test = coef"
   ]
  },
  {
   "cell_type": "code",
   "execution_count": 215,
   "metadata": {},
   "outputs": [
    {
     "name": "stdout",
     "output_type": "stream",
     "text": [
      "Simple model MAE: 31636.0\n",
      "Base model MAE: 45259.0\n"
     ]
    }
   ],
   "source": [
    "mae_simple = round(z1[1],0)\n",
    "mae_base = round(z2[1],0)\n",
    "print('Simple model MAE:',mae_simple)\n",
    "print('Base model MAE:',mae_base)"
   ]
  },
  {
   "cell_type": "markdown",
   "metadata": {},
   "source": [
    "### (ii) Intermediate model\n",
    "\n",
    "* Need to do some additional data cleaning on 3 variable which still have 'NaN' which are cresting error when computing model\n",
    "* Also using list of columns in scope for a more efficient a re-usable (not hardcoded) code"
   ]
  },
  {
   "cell_type": "code",
   "execution_count": 216,
   "metadata": {},
   "outputs": [
    {
     "data": {
      "text/html": [
       "<div>\n",
       "<style scoped>\n",
       "    .dataframe tbody tr th:only-of-type {\n",
       "        vertical-align: middle;\n",
       "    }\n",
       "\n",
       "    .dataframe tbody tr th {\n",
       "        vertical-align: top;\n",
       "    }\n",
       "\n",
       "    .dataframe thead th {\n",
       "        text-align: right;\n",
       "    }\n",
       "</style>\n",
       "<table border=\"1\" class=\"dataframe\">\n",
       "  <thead>\n",
       "    <tr style=\"text-align: right;\">\n",
       "      <th></th>\n",
       "      <th>0</th>\n",
       "    </tr>\n",
       "  </thead>\n",
       "  <tbody>\n",
       "    <tr>\n",
       "      <th>Garage Cond</th>\n",
       "      <td>134</td>\n",
       "    </tr>\n",
       "    <tr>\n",
       "      <th>Garage Qual</th>\n",
       "      <td>134</td>\n",
       "    </tr>\n",
       "    <tr>\n",
       "      <th>Garage Finish</th>\n",
       "      <td>134</td>\n",
       "    </tr>\n",
       "    <tr>\n",
       "      <th>Order</th>\n",
       "      <td>0</td>\n",
       "    </tr>\n",
       "    <tr>\n",
       "      <th>Heating_GasA</th>\n",
       "      <td>0</td>\n",
       "    </tr>\n",
       "  </tbody>\n",
       "</table>\n",
       "</div>"
      ],
      "text/plain": [
       "                 0\n",
       "Garage Cond    134\n",
       "Garage Qual    134\n",
       "Garage Finish  134\n",
       "Order            0\n",
       "Heating_GasA     0"
      ]
     },
     "execution_count": 216,
     "metadata": {},
     "output_type": "execute_result"
    }
   ],
   "source": [
    "# identifying columns with NULL values\n",
    "data_final.isnull().sum().to_frame().sort_values(by=0, ascending=False).head()"
   ]
  },
  {
   "cell_type": "code",
   "execution_count": 217,
   "metadata": {},
   "outputs": [
    {
     "name": "stdout",
     "output_type": "stream",
     "text": [
      "[ 3.  1.  2. nan]\n"
     ]
    },
    {
     "name": "stderr",
     "output_type": "stream",
     "text": [
      "C:\\Users\\glaurent\\AppData\\Local\\Continuum\\anaconda3\\envs\\exts-ml\\lib\\site-packages\\pandas\\core\\generic.py:6130: SettingWithCopyWarning: \n",
      "A value is trying to be set on a copy of a slice from a DataFrame\n",
      "\n",
      "See the caveats in the documentation: http://pandas.pydata.org/pandas-docs/stable/indexing.html#indexing-view-versus-copy\n",
      "  self._update_inplace(new_data)\n"
     ]
    }
   ],
   "source": [
    "# Replacing 'NaN' with 0\n",
    "print(data_final['Garage Finish'].unique())\n",
    "data_final['Garage Finish'].fillna(value=0,inplace=True)\n",
    "data_test['Garage Finish'].fillna(value=0,inplace=True) # handle test data"
   ]
  },
  {
   "cell_type": "code",
   "execution_count": 218,
   "metadata": {},
   "outputs": [
    {
     "name": "stdout",
     "output_type": "stream",
     "text": [
      "[ 3. nan  2.  4.  5.  1.]\n"
     ]
    }
   ],
   "source": [
    "# Replacing 'NaN' with 0\n",
    "print(data_final['Garage Cond'].unique())\n",
    "data_final['Garage Cond'].fillna(value=0,inplace=True)\n",
    "data_test['Garage Cond'].fillna(value=0,inplace=True) # handle test data"
   ]
  },
  {
   "cell_type": "code",
   "execution_count": 219,
   "metadata": {},
   "outputs": [
    {
     "name": "stdout",
     "output_type": "stream",
     "text": [
      "[ 3.  2. nan  5.  4.  1.]\n"
     ]
    }
   ],
   "source": [
    "# Replacing 'NaN' with 0\n",
    "print(data_final['Garage Qual'].unique())\n",
    "data_final['Garage Qual'].fillna(value=0,inplace=True)\n",
    "data_test['Garage Qual'].fillna(value=0,inplace=True) # handle test data"
   ]
  },
  {
   "cell_type": "code",
   "execution_count": 220,
   "metadata": {},
   "outputs": [
    {
     "data": {
      "text/html": [
       "<div>\n",
       "<style scoped>\n",
       "    .dataframe tbody tr th:only-of-type {\n",
       "        vertical-align: middle;\n",
       "    }\n",
       "\n",
       "    .dataframe tbody tr th {\n",
       "        vertical-align: top;\n",
       "    }\n",
       "\n",
       "    .dataframe thead th {\n",
       "        text-align: right;\n",
       "    }\n",
       "</style>\n",
       "<table border=\"1\" class=\"dataframe\">\n",
       "  <thead>\n",
       "    <tr style=\"text-align: right;\">\n",
       "      <th></th>\n",
       "      <th>SalePrice</th>\n",
       "    </tr>\n",
       "  </thead>\n",
       "  <tbody>\n",
       "    <tr>\n",
       "      <th>Overall Qual</th>\n",
       "      <td>0.811812</td>\n",
       "    </tr>\n",
       "    <tr>\n",
       "      <th>Flr SF</th>\n",
       "      <td>0.698397</td>\n",
       "    </tr>\n",
       "    <tr>\n",
       "      <th>Gr Liv Area</th>\n",
       "      <td>0.692258</td>\n",
       "    </tr>\n",
       "    <tr>\n",
       "      <th>Kitchen Qual</th>\n",
       "      <td>0.665684</td>\n",
       "    </tr>\n",
       "    <tr>\n",
       "      <th>Garage Cars</th>\n",
       "      <td>0.660251</td>\n",
       "    </tr>\n",
       "    <tr>\n",
       "      <th>Garage Area</th>\n",
       "      <td>0.639482</td>\n",
       "    </tr>\n",
       "    <tr>\n",
       "      <th>Bath</th>\n",
       "      <td>0.631609</td>\n",
       "    </tr>\n",
       "    <tr>\n",
       "      <th>Total Bsmt SF</th>\n",
       "      <td>0.625832</td>\n",
       "    </tr>\n",
       "    <tr>\n",
       "      <th>Bsmt Qual</th>\n",
       "      <td>0.614662</td>\n",
       "    </tr>\n",
       "    <tr>\n",
       "      <th>Garage Finish</th>\n",
       "      <td>0.586231</td>\n",
       "    </tr>\n",
       "    <tr>\n",
       "      <th>Foundation_PConc</th>\n",
       "      <td>0.549068</td>\n",
       "    </tr>\n",
       "    <tr>\n",
       "      <th>Fireplace Qu</th>\n",
       "      <td>0.547978</td>\n",
       "    </tr>\n",
       "    <tr>\n",
       "      <th>Heating QC</th>\n",
       "      <td>0.480846</td>\n",
       "    </tr>\n",
       "    <tr>\n",
       "      <th>Fireplaces</th>\n",
       "      <td>0.475864</td>\n",
       "    </tr>\n",
       "    <tr>\n",
       "      <th>TotRms AbvGrd</th>\n",
       "      <td>0.455997</td>\n",
       "    </tr>\n",
       "    <tr>\n",
       "      <th>Mas Vnr Area</th>\n",
       "      <td>0.443345</td>\n",
       "    </tr>\n",
       "    <tr>\n",
       "      <th>Garage Type_Attchd</th>\n",
       "      <td>0.402544</td>\n",
       "    </tr>\n",
       "    <tr>\n",
       "      <th>Garage Yr Blt_2010.0</th>\n",
       "      <td>0.398516</td>\n",
       "    </tr>\n",
       "    <tr>\n",
       "      <th>Year Built_2000</th>\n",
       "      <td>0.393431</td>\n",
       "    </tr>\n",
       "    <tr>\n",
       "      <th>Neighborhood_NridgHt</th>\n",
       "      <td>0.393072</td>\n",
       "    </tr>\n",
       "  </tbody>\n",
       "</table>\n",
       "</div>"
      ],
      "text/plain": [
       "                      SalePrice\n",
       "Overall Qual           0.811812\n",
       "Flr SF                 0.698397\n",
       "Gr Liv Area            0.692258\n",
       "Kitchen Qual           0.665684\n",
       "Garage Cars            0.660251\n",
       "Garage Area            0.639482\n",
       "Bath                   0.631609\n",
       "Total Bsmt SF          0.625832\n",
       "Bsmt Qual              0.614662\n",
       "Garage Finish          0.586231\n",
       "Foundation_PConc       0.549068\n",
       "Fireplace Qu           0.547978\n",
       "Heating QC             0.480846\n",
       "Fireplaces             0.475864\n",
       "TotRms AbvGrd          0.455997\n",
       "Mas Vnr Area           0.443345\n",
       "Garage Type_Attchd     0.402544\n",
       "Garage Yr Blt_2010.0   0.398516\n",
       "Year Built_2000        0.393431\n",
       "Neighborhood_NridgHt   0.393072"
      ]
     },
     "execution_count": 220,
     "metadata": {},
     "output_type": "execute_result"
    }
   ],
   "source": [
    "# List of 20 most correlated columns\n",
    "data_final.corr()[['SalePrice']].drop('SalePrice').sort_values(by=\"SalePrice\",ascending=False).head(20)"
   ]
  },
  {
   "cell_type": "code",
   "execution_count": 221,
   "metadata": {},
   "outputs": [
    {
     "name": "stdout",
     "output_type": "stream",
     "text": [
      "['Overall Qual' 'Flr SF' 'Gr Liv Area' 'Kitchen Qual' 'Garage Cars'\n",
      " 'Garage Area' 'Bath' 'Total Bsmt SF' 'Bsmt Qual' 'Garage Finish'\n",
      " 'Foundation_PConc' 'Fireplace Qu' 'Heating QC' 'Fireplaces'\n",
      " 'TotRms AbvGrd' 'Mas Vnr Area' 'Garage Type_Attchd'\n",
      " 'Garage Yr Blt_2010.0' 'Year Built_2000' 'Neighborhood_NridgHt']\n"
     ]
    }
   ],
   "source": [
    "# Creating list of 20 most correlated columns\n",
    "print(data_final.corr()[['SalePrice']].drop('SalePrice').sort_values(by=\"SalePrice\",ascending=False).head(20).index.values)\n",
    "columns_int_model = data_final.corr()[['SalePrice']].drop('SalePrice').sort_values(by=\"SalePrice\",ascending=False).head(20).index.values.tolist()"
   ]
  },
  {
   "cell_type": "code",
   "execution_count": 222,
   "metadata": {},
   "outputs": [
    {
     "name": "stdout",
     "output_type": "stream",
     "text": [
      "Index(['Neighborhood_Blueste', 'Neighborhood_BrDale', 'Neighborhood_BrkSide',\n",
      "       'Neighborhood_ClearCr', 'Neighborhood_CollgCr', 'Neighborhood_Crawfor',\n",
      "       'Neighborhood_Edwards', 'Neighborhood_Gilbert', 'Neighborhood_Greens',\n",
      "       'Neighborhood_GrnHill', 'Neighborhood_IDOTRR', 'Neighborhood_Landmrk',\n",
      "       'Neighborhood_MeadowV', 'Neighborhood_Mitchel', 'Neighborhood_NAmes',\n",
      "       'Neighborhood_NPkVill', 'Neighborhood_NWAmes', 'Neighborhood_NoRidge',\n",
      "       'Neighborhood_NridgHt', 'Neighborhood_OldTown', 'Neighborhood_SWISU',\n",
      "       'Neighborhood_Sawyer', 'Neighborhood_SawyerW', 'Neighborhood_Somerst',\n",
      "       'Neighborhood_StoneBr', 'Neighborhood_Timber', 'Neighborhood_Veenker',\n",
      "       'Garage Type_Attchd', 'Garage Type_Basment', 'Garage Type_BuiltIn',\n",
      "       'Garage Type_CarPort', 'Garage Type_Detchd', 'Garage Type_No Garage',\n",
      "       'Year Built_1890', 'Year Built_1900', 'Year Built_1910',\n",
      "       'Year Built_1920', 'Year Built_1930', 'Year Built_1940',\n",
      "       'Year Built_1950', 'Year Built_1960', 'Year Built_1970',\n",
      "       'Year Built_1980', 'Year Built_1990', 'Year Built_2000',\n",
      "       'Year Built_2010', 'Garage Yr Blt_1910.0', 'Garage Yr Blt_1920.0',\n",
      "       'Garage Yr Blt_1930.0', 'Garage Yr Blt_1940.0', 'Garage Yr Blt_1950.0',\n",
      "       'Garage Yr Blt_1960.0', 'Garage Yr Blt_1970.0', 'Garage Yr Blt_1980.0',\n",
      "       'Garage Yr Blt_1990.0', 'Garage Yr Blt_2000.0', 'Garage Yr Blt_2010.0'],\n",
      "      dtype='object')\n"
     ]
    }
   ],
   "source": [
    "# merging both lists\n",
    "print(data_final.filter(regex='Garage Yr|Garage Type|Year Built|Neighborhood').columns)\n",
    "columns_int_model.extend(data_final.filter(regex='Garage Yr|Garage Type|Year Built|Neighborhood').columns)"
   ]
  },
  {
   "cell_type": "code",
   "execution_count": 223,
   "metadata": {},
   "outputs": [],
   "source": [
    "# removing the duplicates\n",
    "columns_int_model_clean = list(dict.fromkeys(columns_int_model))"
   ]
  },
  {
   "cell_type": "code",
   "execution_count": 224,
   "metadata": {},
   "outputs": [
    {
     "data": {
      "text/html": [
       "<div>\n",
       "<style scoped>\n",
       "    .dataframe tbody tr th:only-of-type {\n",
       "        vertical-align: middle;\n",
       "    }\n",
       "\n",
       "    .dataframe tbody tr th {\n",
       "        vertical-align: top;\n",
       "    }\n",
       "\n",
       "    .dataframe thead th {\n",
       "        text-align: right;\n",
       "    }\n",
       "</style>\n",
       "<table border=\"1\" class=\"dataframe\">\n",
       "  <thead>\n",
       "    <tr style=\"text-align: right;\">\n",
       "      <th></th>\n",
       "      <th>Overall Qual</th>\n",
       "      <th>Flr SF</th>\n",
       "      <th>Gr Liv Area</th>\n",
       "      <th>Kitchen Qual</th>\n",
       "      <th>Garage Cars</th>\n",
       "      <th>Garage Area</th>\n",
       "      <th>Bath</th>\n",
       "      <th>Total Bsmt SF</th>\n",
       "      <th>Bsmt Qual</th>\n",
       "      <th>Garage Finish</th>\n",
       "      <th>Foundation_PConc</th>\n",
       "      <th>Fireplace Qu</th>\n",
       "      <th>Heating QC</th>\n",
       "      <th>Fireplaces</th>\n",
       "      <th>TotRms AbvGrd</th>\n",
       "      <th>Mas Vnr Area</th>\n",
       "      <th>Garage Type_Attchd</th>\n",
       "      <th>Garage Yr Blt_2010.0</th>\n",
       "      <th>Year Built_2000</th>\n",
       "      <th>Neighborhood_NridgHt</th>\n",
       "      <th>Neighborhood_Blueste</th>\n",
       "      <th>Neighborhood_BrDale</th>\n",
       "      <th>Neighborhood_BrkSide</th>\n",
       "      <th>Neighborhood_ClearCr</th>\n",
       "      <th>Neighborhood_CollgCr</th>\n",
       "      <th>Neighborhood_Crawfor</th>\n",
       "      <th>Neighborhood_Edwards</th>\n",
       "      <th>Neighborhood_Gilbert</th>\n",
       "      <th>Neighborhood_Greens</th>\n",
       "      <th>Neighborhood_GrnHill</th>\n",
       "      <th>Neighborhood_IDOTRR</th>\n",
       "      <th>Neighborhood_Landmrk</th>\n",
       "      <th>Neighborhood_MeadowV</th>\n",
       "      <th>Neighborhood_Mitchel</th>\n",
       "      <th>Neighborhood_NAmes</th>\n",
       "      <th>Neighborhood_NPkVill</th>\n",
       "      <th>Neighborhood_NWAmes</th>\n",
       "      <th>Neighborhood_NoRidge</th>\n",
       "      <th>Neighborhood_OldTown</th>\n",
       "      <th>Neighborhood_SWISU</th>\n",
       "      <th>Neighborhood_Sawyer</th>\n",
       "      <th>Neighborhood_SawyerW</th>\n",
       "      <th>Neighborhood_Somerst</th>\n",
       "      <th>Neighborhood_StoneBr</th>\n",
       "      <th>Neighborhood_Timber</th>\n",
       "      <th>Neighborhood_Veenker</th>\n",
       "      <th>Garage Type_Basment</th>\n",
       "      <th>Garage Type_BuiltIn</th>\n",
       "      <th>Garage Type_CarPort</th>\n",
       "      <th>Garage Type_Detchd</th>\n",
       "      <th>Garage Type_No Garage</th>\n",
       "      <th>Year Built_1890</th>\n",
       "      <th>Year Built_1900</th>\n",
       "      <th>Year Built_1910</th>\n",
       "      <th>Year Built_1920</th>\n",
       "      <th>Year Built_1930</th>\n",
       "      <th>Year Built_1940</th>\n",
       "      <th>Year Built_1950</th>\n",
       "      <th>Year Built_1960</th>\n",
       "      <th>Year Built_1970</th>\n",
       "      <th>Year Built_1980</th>\n",
       "      <th>Year Built_1990</th>\n",
       "      <th>Year Built_2010</th>\n",
       "      <th>Garage Yr Blt_1910.0</th>\n",
       "      <th>Garage Yr Blt_1920.0</th>\n",
       "      <th>Garage Yr Blt_1930.0</th>\n",
       "      <th>Garage Yr Blt_1940.0</th>\n",
       "      <th>Garage Yr Blt_1950.0</th>\n",
       "      <th>Garage Yr Blt_1960.0</th>\n",
       "      <th>Garage Yr Blt_1970.0</th>\n",
       "      <th>Garage Yr Blt_1980.0</th>\n",
       "      <th>Garage Yr Blt_1990.0</th>\n",
       "      <th>Garage Yr Blt_2000.0</th>\n",
       "    </tr>\n",
       "  </thead>\n",
       "  <tbody>\n",
       "    <tr>\n",
       "      <th>0</th>\n",
       "      <td>7</td>\n",
       "      <td>2256</td>\n",
       "      <td>2256</td>\n",
       "      <td>4</td>\n",
       "      <td>2.0</td>\n",
       "      <td>554.0</td>\n",
       "      <td>2.5</td>\n",
       "      <td>952.0</td>\n",
       "      <td>4.0</td>\n",
       "      <td>3.0</td>\n",
       "      <td>1</td>\n",
       "      <td>3.0</td>\n",
       "      <td>5</td>\n",
       "      <td>1</td>\n",
       "      <td>8</td>\n",
       "      <td>0.0</td>\n",
       "      <td>0</td>\n",
       "      <td>0</td>\n",
       "      <td>1</td>\n",
       "      <td>0</td>\n",
       "      <td>0</td>\n",
       "      <td>0</td>\n",
       "      <td>0</td>\n",
       "      <td>0</td>\n",
       "      <td>0</td>\n",
       "      <td>0</td>\n",
       "      <td>0</td>\n",
       "      <td>1</td>\n",
       "      <td>0</td>\n",
       "      <td>0</td>\n",
       "      <td>0</td>\n",
       "      <td>0</td>\n",
       "      <td>0</td>\n",
       "      <td>0</td>\n",
       "      <td>0</td>\n",
       "      <td>0</td>\n",
       "      <td>0</td>\n",
       "      <td>0</td>\n",
       "      <td>0</td>\n",
       "      <td>0</td>\n",
       "      <td>0</td>\n",
       "      <td>0</td>\n",
       "      <td>0</td>\n",
       "      <td>0</td>\n",
       "      <td>0</td>\n",
       "      <td>0</td>\n",
       "      <td>0</td>\n",
       "      <td>1</td>\n",
       "      <td>0</td>\n",
       "      <td>0</td>\n",
       "      <td>0</td>\n",
       "      <td>0</td>\n",
       "      <td>0</td>\n",
       "      <td>0</td>\n",
       "      <td>0</td>\n",
       "      <td>0</td>\n",
       "      <td>0</td>\n",
       "      <td>0</td>\n",
       "      <td>0</td>\n",
       "      <td>0</td>\n",
       "      <td>0</td>\n",
       "      <td>0</td>\n",
       "      <td>0</td>\n",
       "      <td>0</td>\n",
       "      <td>0</td>\n",
       "      <td>0</td>\n",
       "      <td>0</td>\n",
       "      <td>0</td>\n",
       "      <td>0</td>\n",
       "      <td>0</td>\n",
       "      <td>0</td>\n",
       "      <td>0</td>\n",
       "      <td>1</td>\n",
       "    </tr>\n",
       "    <tr>\n",
       "      <th>1</th>\n",
       "      <td>6</td>\n",
       "      <td>1575</td>\n",
       "      <td>1575</td>\n",
       "      <td>4</td>\n",
       "      <td>2.0</td>\n",
       "      <td>400.0</td>\n",
       "      <td>1.5</td>\n",
       "      <td>216.0</td>\n",
       "      <td>3.0</td>\n",
       "      <td>1.0</td>\n",
       "      <td>0</td>\n",
       "      <td>4.0</td>\n",
       "      <td>3</td>\n",
       "      <td>1</td>\n",
       "      <td>5</td>\n",
       "      <td>522.0</td>\n",
       "      <td>1</td>\n",
       "      <td>0</td>\n",
       "      <td>0</td>\n",
       "      <td>0</td>\n",
       "      <td>0</td>\n",
       "      <td>0</td>\n",
       "      <td>0</td>\n",
       "      <td>0</td>\n",
       "      <td>0</td>\n",
       "      <td>0</td>\n",
       "      <td>0</td>\n",
       "      <td>0</td>\n",
       "      <td>0</td>\n",
       "      <td>0</td>\n",
       "      <td>0</td>\n",
       "      <td>0</td>\n",
       "      <td>0</td>\n",
       "      <td>0</td>\n",
       "      <td>1</td>\n",
       "      <td>0</td>\n",
       "      <td>0</td>\n",
       "      <td>0</td>\n",
       "      <td>0</td>\n",
       "      <td>0</td>\n",
       "      <td>0</td>\n",
       "      <td>0</td>\n",
       "      <td>0</td>\n",
       "      <td>0</td>\n",
       "      <td>0</td>\n",
       "      <td>0</td>\n",
       "      <td>0</td>\n",
       "      <td>0</td>\n",
       "      <td>0</td>\n",
       "      <td>0</td>\n",
       "      <td>0</td>\n",
       "      <td>0</td>\n",
       "      <td>0</td>\n",
       "      <td>0</td>\n",
       "      <td>0</td>\n",
       "      <td>0</td>\n",
       "      <td>0</td>\n",
       "      <td>1</td>\n",
       "      <td>0</td>\n",
       "      <td>0</td>\n",
       "      <td>0</td>\n",
       "      <td>0</td>\n",
       "      <td>0</td>\n",
       "      <td>0</td>\n",
       "      <td>0</td>\n",
       "      <td>0</td>\n",
       "      <td>0</td>\n",
       "      <td>1</td>\n",
       "      <td>0</td>\n",
       "      <td>0</td>\n",
       "      <td>0</td>\n",
       "      <td>0</td>\n",
       "      <td>0</td>\n",
       "    </tr>\n",
       "    <tr>\n",
       "      <th>2</th>\n",
       "      <td>4</td>\n",
       "      <td>1092</td>\n",
       "      <td>1092</td>\n",
       "      <td>3</td>\n",
       "      <td>1.0</td>\n",
       "      <td>286.0</td>\n",
       "      <td>1.5</td>\n",
       "      <td>546.0</td>\n",
       "      <td>3.0</td>\n",
       "      <td>1.0</td>\n",
       "      <td>0</td>\n",
       "      <td>0.0</td>\n",
       "      <td>2</td>\n",
       "      <td>0</td>\n",
       "      <td>6</td>\n",
       "      <td>80.0</td>\n",
       "      <td>1</td>\n",
       "      <td>0</td>\n",
       "      <td>0</td>\n",
       "      <td>0</td>\n",
       "      <td>0</td>\n",
       "      <td>0</td>\n",
       "      <td>0</td>\n",
       "      <td>0</td>\n",
       "      <td>0</td>\n",
       "      <td>0</td>\n",
       "      <td>0</td>\n",
       "      <td>0</td>\n",
       "      <td>0</td>\n",
       "      <td>0</td>\n",
       "      <td>0</td>\n",
       "      <td>0</td>\n",
       "      <td>1</td>\n",
       "      <td>0</td>\n",
       "      <td>0</td>\n",
       "      <td>0</td>\n",
       "      <td>0</td>\n",
       "      <td>0</td>\n",
       "      <td>0</td>\n",
       "      <td>0</td>\n",
       "      <td>0</td>\n",
       "      <td>0</td>\n",
       "      <td>0</td>\n",
       "      <td>0</td>\n",
       "      <td>0</td>\n",
       "      <td>0</td>\n",
       "      <td>0</td>\n",
       "      <td>0</td>\n",
       "      <td>0</td>\n",
       "      <td>0</td>\n",
       "      <td>0</td>\n",
       "      <td>0</td>\n",
       "      <td>0</td>\n",
       "      <td>0</td>\n",
       "      <td>0</td>\n",
       "      <td>0</td>\n",
       "      <td>0</td>\n",
       "      <td>0</td>\n",
       "      <td>0</td>\n",
       "      <td>1</td>\n",
       "      <td>0</td>\n",
       "      <td>0</td>\n",
       "      <td>0</td>\n",
       "      <td>0</td>\n",
       "      <td>0</td>\n",
       "      <td>0</td>\n",
       "      <td>0</td>\n",
       "      <td>0</td>\n",
       "      <td>0</td>\n",
       "      <td>1</td>\n",
       "      <td>0</td>\n",
       "      <td>0</td>\n",
       "      <td>0</td>\n",
       "    </tr>\n",
       "    <tr>\n",
       "      <th>3</th>\n",
       "      <td>5</td>\n",
       "      <td>1700</td>\n",
       "      <td>1700</td>\n",
       "      <td>4</td>\n",
       "      <td>2.0</td>\n",
       "      <td>447.0</td>\n",
       "      <td>2.0</td>\n",
       "      <td>1398.0</td>\n",
       "      <td>3.0</td>\n",
       "      <td>2.0</td>\n",
       "      <td>0</td>\n",
       "      <td>4.0</td>\n",
       "      <td>4</td>\n",
       "      <td>1</td>\n",
       "      <td>6</td>\n",
       "      <td>0.0</td>\n",
       "      <td>1</td>\n",
       "      <td>0</td>\n",
       "      <td>0</td>\n",
       "      <td>0</td>\n",
       "      <td>0</td>\n",
       "      <td>0</td>\n",
       "      <td>0</td>\n",
       "      <td>0</td>\n",
       "      <td>0</td>\n",
       "      <td>0</td>\n",
       "      <td>0</td>\n",
       "      <td>0</td>\n",
       "      <td>0</td>\n",
       "      <td>0</td>\n",
       "      <td>0</td>\n",
       "      <td>0</td>\n",
       "      <td>0</td>\n",
       "      <td>0</td>\n",
       "      <td>1</td>\n",
       "      <td>0</td>\n",
       "      <td>0</td>\n",
       "      <td>0</td>\n",
       "      <td>0</td>\n",
       "      <td>0</td>\n",
       "      <td>0</td>\n",
       "      <td>0</td>\n",
       "      <td>0</td>\n",
       "      <td>0</td>\n",
       "      <td>0</td>\n",
       "      <td>0</td>\n",
       "      <td>0</td>\n",
       "      <td>0</td>\n",
       "      <td>0</td>\n",
       "      <td>0</td>\n",
       "      <td>0</td>\n",
       "      <td>0</td>\n",
       "      <td>0</td>\n",
       "      <td>0</td>\n",
       "      <td>0</td>\n",
       "      <td>0</td>\n",
       "      <td>0</td>\n",
       "      <td>0</td>\n",
       "      <td>1</td>\n",
       "      <td>0</td>\n",
       "      <td>0</td>\n",
       "      <td>0</td>\n",
       "      <td>0</td>\n",
       "      <td>0</td>\n",
       "      <td>0</td>\n",
       "      <td>0</td>\n",
       "      <td>0</td>\n",
       "      <td>0</td>\n",
       "      <td>1</td>\n",
       "      <td>0</td>\n",
       "      <td>0</td>\n",
       "      <td>0</td>\n",
       "      <td>0</td>\n",
       "    </tr>\n",
       "    <tr>\n",
       "      <th>4</th>\n",
       "      <td>7</td>\n",
       "      <td>1889</td>\n",
       "      <td>1889</td>\n",
       "      <td>3</td>\n",
       "      <td>1.0</td>\n",
       "      <td>308.0</td>\n",
       "      <td>1.5</td>\n",
       "      <td>925.0</td>\n",
       "      <td>3.0</td>\n",
       "      <td>1.0</td>\n",
       "      <td>0</td>\n",
       "      <td>4.0</td>\n",
       "      <td>3</td>\n",
       "      <td>1</td>\n",
       "      <td>9</td>\n",
       "      <td>0.0</td>\n",
       "      <td>0</td>\n",
       "      <td>0</td>\n",
       "      <td>0</td>\n",
       "      <td>0</td>\n",
       "      <td>0</td>\n",
       "      <td>0</td>\n",
       "      <td>0</td>\n",
       "      <td>0</td>\n",
       "      <td>0</td>\n",
       "      <td>0</td>\n",
       "      <td>0</td>\n",
       "      <td>0</td>\n",
       "      <td>0</td>\n",
       "      <td>0</td>\n",
       "      <td>0</td>\n",
       "      <td>0</td>\n",
       "      <td>0</td>\n",
       "      <td>0</td>\n",
       "      <td>0</td>\n",
       "      <td>0</td>\n",
       "      <td>0</td>\n",
       "      <td>0</td>\n",
       "      <td>1</td>\n",
       "      <td>0</td>\n",
       "      <td>0</td>\n",
       "      <td>0</td>\n",
       "      <td>0</td>\n",
       "      <td>0</td>\n",
       "      <td>0</td>\n",
       "      <td>0</td>\n",
       "      <td>0</td>\n",
       "      <td>0</td>\n",
       "      <td>0</td>\n",
       "      <td>1</td>\n",
       "      <td>0</td>\n",
       "      <td>0</td>\n",
       "      <td>0</td>\n",
       "      <td>1</td>\n",
       "      <td>0</td>\n",
       "      <td>0</td>\n",
       "      <td>0</td>\n",
       "      <td>0</td>\n",
       "      <td>0</td>\n",
       "      <td>0</td>\n",
       "      <td>0</td>\n",
       "      <td>0</td>\n",
       "      <td>0</td>\n",
       "      <td>0</td>\n",
       "      <td>0</td>\n",
       "      <td>0</td>\n",
       "      <td>0</td>\n",
       "      <td>0</td>\n",
       "      <td>1</td>\n",
       "      <td>0</td>\n",
       "      <td>0</td>\n",
       "      <td>0</td>\n",
       "      <td>0</td>\n",
       "    </tr>\n",
       "  </tbody>\n",
       "</table>\n",
       "</div>"
      ],
      "text/plain": [
       "   Overall Qual  Flr SF  Gr Liv Area  Kitchen Qual  Garage Cars  Garage Area  \\\n",
       "0             7    2256         2256             4          2.0        554.0   \n",
       "1             6    1575         1575             4          2.0        400.0   \n",
       "2             4    1092         1092             3          1.0        286.0   \n",
       "3             5    1700         1700             4          2.0        447.0   \n",
       "4             7    1889         1889             3          1.0        308.0   \n",
       "\n",
       "   Bath  Total Bsmt SF  Bsmt Qual  Garage Finish  Foundation_PConc  \\\n",
       "0   2.5          952.0        4.0            3.0                 1   \n",
       "1   1.5          216.0        3.0            1.0                 0   \n",
       "2   1.5          546.0        3.0            1.0                 0   \n",
       "3   2.0         1398.0        3.0            2.0                 0   \n",
       "4   1.5          925.0        3.0            1.0                 0   \n",
       "\n",
       "   Fireplace Qu  Heating QC  Fireplaces  TotRms AbvGrd  Mas Vnr Area  \\\n",
       "0           3.0           5           1              8           0.0   \n",
       "1           4.0           3           1              5         522.0   \n",
       "2           0.0           2           0              6          80.0   \n",
       "3           4.0           4           1              6           0.0   \n",
       "4           4.0           3           1              9           0.0   \n",
       "\n",
       "   Garage Type_Attchd  Garage Yr Blt_2010.0  Year Built_2000  \\\n",
       "0                   0                     0                1   \n",
       "1                   1                     0                0   \n",
       "2                   1                     0                0   \n",
       "3                   1                     0                0   \n",
       "4                   0                     0                0   \n",
       "\n",
       "   Neighborhood_NridgHt  Neighborhood_Blueste  Neighborhood_BrDale  \\\n",
       "0                     0                     0                    0   \n",
       "1                     0                     0                    0   \n",
       "2                     0                     0                    0   \n",
       "3                     0                     0                    0   \n",
       "4                     0                     0                    0   \n",
       "\n",
       "   Neighborhood_BrkSide  Neighborhood_ClearCr  Neighborhood_CollgCr  \\\n",
       "0                     0                     0                     0   \n",
       "1                     0                     0                     0   \n",
       "2                     0                     0                     0   \n",
       "3                     0                     0                     0   \n",
       "4                     0                     0                     0   \n",
       "\n",
       "   Neighborhood_Crawfor  Neighborhood_Edwards  Neighborhood_Gilbert  \\\n",
       "0                     0                     0                     1   \n",
       "1                     0                     0                     0   \n",
       "2                     0                     0                     0   \n",
       "3                     0                     0                     0   \n",
       "4                     0                     0                     0   \n",
       "\n",
       "   Neighborhood_Greens  Neighborhood_GrnHill  Neighborhood_IDOTRR  \\\n",
       "0                    0                     0                    0   \n",
       "1                    0                     0                    0   \n",
       "2                    0                     0                    0   \n",
       "3                    0                     0                    0   \n",
       "4                    0                     0                    0   \n",
       "\n",
       "   Neighborhood_Landmrk  Neighborhood_MeadowV  Neighborhood_Mitchel  \\\n",
       "0                     0                     0                     0   \n",
       "1                     0                     0                     0   \n",
       "2                     0                     1                     0   \n",
       "3                     0                     0                     0   \n",
       "4                     0                     0                     0   \n",
       "\n",
       "   Neighborhood_NAmes  Neighborhood_NPkVill  Neighborhood_NWAmes  \\\n",
       "0                   0                     0                    0   \n",
       "1                   1                     0                    0   \n",
       "2                   0                     0                    0   \n",
       "3                   1                     0                    0   \n",
       "4                   0                     0                    0   \n",
       "\n",
       "   Neighborhood_NoRidge  Neighborhood_OldTown  Neighborhood_SWISU  \\\n",
       "0                     0                     0                   0   \n",
       "1                     0                     0                   0   \n",
       "2                     0                     0                   0   \n",
       "3                     0                     0                   0   \n",
       "4                     0                     1                   0   \n",
       "\n",
       "   Neighborhood_Sawyer  Neighborhood_SawyerW  Neighborhood_Somerst  \\\n",
       "0                    0                     0                     0   \n",
       "1                    0                     0                     0   \n",
       "2                    0                     0                     0   \n",
       "3                    0                     0                     0   \n",
       "4                    0                     0                     0   \n",
       "\n",
       "   Neighborhood_StoneBr  Neighborhood_Timber  Neighborhood_Veenker  \\\n",
       "0                     0                    0                     0   \n",
       "1                     0                    0                     0   \n",
       "2                     0                    0                     0   \n",
       "3                     0                    0                     0   \n",
       "4                     0                    0                     0   \n",
       "\n",
       "   Garage Type_Basment  Garage Type_BuiltIn  Garage Type_CarPort  \\\n",
       "0                    0                    1                    0   \n",
       "1                    0                    0                    0   \n",
       "2                    0                    0                    0   \n",
       "3                    0                    0                    0   \n",
       "4                    0                    0                    0   \n",
       "\n",
       "   Garage Type_Detchd  Garage Type_No Garage  Year Built_1890  \\\n",
       "0                   0                      0                0   \n",
       "1                   0                      0                0   \n",
       "2                   0                      0                0   \n",
       "3                   0                      0                0   \n",
       "4                   1                      0                0   \n",
       "\n",
       "   Year Built_1900  Year Built_1910  Year Built_1920  Year Built_1930  \\\n",
       "0                0                0                0                0   \n",
       "1                0                0                0                0   \n",
       "2                0                0                0                0   \n",
       "3                0                0                0                0   \n",
       "4                0                1                0                0   \n",
       "\n",
       "   Year Built_1940  Year Built_1950  Year Built_1960  Year Built_1970  \\\n",
       "0                0                0                0                0   \n",
       "1                0                1                0                0   \n",
       "2                0                0                0                1   \n",
       "3                0                0                1                0   \n",
       "4                0                0                0                0   \n",
       "\n",
       "   Year Built_1980  Year Built_1990  Year Built_2010  Garage Yr Blt_1910.0  \\\n",
       "0                0                0                0                     0   \n",
       "1                0                0                0                     0   \n",
       "2                0                0                0                     0   \n",
       "3                0                0                0                     0   \n",
       "4                0                0                0                     0   \n",
       "\n",
       "   Garage Yr Blt_1920.0  Garage Yr Blt_1930.0  Garage Yr Blt_1940.0  \\\n",
       "0                     0                     0                     0   \n",
       "1                     0                     0                     0   \n",
       "2                     0                     0                     0   \n",
       "3                     0                     0                     0   \n",
       "4                     0                     0                     0   \n",
       "\n",
       "   Garage Yr Blt_1950.0  Garage Yr Blt_1960.0  Garage Yr Blt_1970.0  \\\n",
       "0                     0                     0                     0   \n",
       "1                     1                     0                     0   \n",
       "2                     0                     0                     1   \n",
       "3                     0                     1                     0   \n",
       "4                     0                     1                     0   \n",
       "\n",
       "   Garage Yr Blt_1980.0  Garage Yr Blt_1990.0  Garage Yr Blt_2000.0  \n",
       "0                     0                     0                     1  \n",
       "1                     0                     0                     0  \n",
       "2                     0                     0                     0  \n",
       "3                     0                     0                     0  \n",
       "4                     0                     0                     0  "
      ]
     },
     "execution_count": 224,
     "metadata": {},
     "output_type": "execute_result"
    }
   ],
   "source": [
    "data_final[columns_int_model_clean].head()"
   ]
  },
  {
   "cell_type": "code",
   "execution_count": 225,
   "metadata": {},
   "outputs": [],
   "source": [
    "#data_final[data_final.filter(regex='Garage Yr|Garage Type|Year Built').columns]"
   ]
  },
  {
   "cell_type": "code",
   "execution_count": 226,
   "metadata": {},
   "outputs": [
    {
     "name": "stdout",
     "output_type": "stream",
     "text": [
      "Train MAE: 14660\n",
      "Test MAE: 15542\n"
     ]
    }
   ],
   "source": [
    "# start by splitting train and test sets\n",
    "from sklearn.model_selection import train_test_split\n",
    "from sklearn.linear_model import LinearRegression\n",
    "from sklearn.metrics import mean_squared_error as MSE\n",
    "from sklearn.metrics import mean_absolute_error as MAE\n",
    "\n",
    "# Create X, y\n",
    "X = data_final[columns_int_model_clean].values\n",
    "y = np.log10(data_final.SalePrice).values\n",
    "#y = data_final.SalePrice.values\n",
    "\n",
    "# Split into train/test sets\n",
    "X_train_i, X_test_i, y_train_i, y_test_i = train_test_split(X, y, test_size = 0.2, train_size = 0.8, random_state=0)\n",
    "\n",
    "#print('Train:', X_train.shape, y_train.shape)\n",
    "#print('Test:', X_test.shape, y_test.shape)\n",
    "\n",
    "# Try with a linear regression\n",
    "lr_int = LinearRegression()\n",
    "lr_int.fit(X_train_i, y_train_i)\n",
    "\n",
    "#print('Train MSE: {:.4f}'.format(MSE(y_train, lr.predict(X_train))),'split:',t)\n",
    "#print('Test MSE: {:.4f}'.format(MSE(y_test, lr.predict(X_test))),'test split:',t)\n",
    "print('Train MAE: {:.0f}'.format(MAE(10**y_train_i, 10**lr_int.predict(X_train_i))))\n",
    "print('Test MAE: {:.0f}'.format(MAE(10**y_test_i, 10**lr_int.predict(X_test_i))))"
   ]
  },
  {
   "cell_type": "code",
   "execution_count": 227,
   "metadata": {},
   "outputs": [
    {
     "name": "stdout",
     "output_type": "stream",
     "text": [
      "Intermediate model MAE: 15542.0\n",
      "Simple model MAE: 31636.0\n",
      "Base model MAE: 45259.0\n"
     ]
    }
   ],
   "source": [
    "mae_intermediate = round(MAE(10**y_test_i, 10**lr_int.predict(X_test_i)),0)\n",
    "print('Intermediate model MAE:',mae_intermediate)\n",
    "print('Simple model MAE:',mae_simple)\n",
    "print('Base model MAE:',mae_base)"
   ]
  },
  {
   "cell_type": "markdown",
   "metadata": {},
   "source": [
    "### (iii) Complex model"
   ]
  },
  {
   "cell_type": "code",
   "execution_count": 228,
   "metadata": {},
   "outputs": [
    {
     "name": "stdout",
     "output_type": "stream",
     "text": [
      "Train: (1860, 265) (1860,)\n",
      "Test: (466, 265) (466,)\n"
     ]
    }
   ],
   "source": [
    "# start by splitting train and test sets\n",
    "from sklearn.model_selection import train_test_split\n",
    "\n",
    "# Create X, y\n",
    "X = data_final.drop(['SalePrice','PID'], axis=1).values\n",
    "y = np.log10(data_final.SalePrice).values\n",
    "#y = data_final.SalePrice.values\n",
    "\n",
    "# Split into train/test sets\n",
    "X_train_c, X_test_c, y_train_c, y_test_c = train_test_split(X, y, test_size = 0.2, train_size = 0.8, random_state=0)\n",
    "\n",
    "print('Train:', X_train_c.shape, y_train_c.shape)\n",
    "print('Test:', X_test_c.shape, y_test_c.shape)"
   ]
  },
  {
   "cell_type": "code",
   "execution_count": 229,
   "metadata": {},
   "outputs": [
    {
     "name": "stdout",
     "output_type": "stream",
     "text": [
      "Train MAE (log): 10672\n",
      "Test MAE (log): 11694\n"
     ]
    }
   ],
   "source": [
    "from sklearn.linear_model import LinearRegression\n",
    "from sklearn.metrics import mean_squared_error as MSE\n",
    "from sklearn.metrics import mean_absolute_error as MAE\n",
    "\n",
    "# Try with a linear regression\n",
    "lr = LinearRegression()\n",
    "lr.fit(X_train_c, y_train_c)\n",
    "\n",
    "#print('Train MSE: {:.4f}'.format(MSE(y_train, lr.predict(X_train))))\n",
    "#print('Test MSE: {:.4f}'.format(MSE(y_test, lr.predict(X_test))))\n",
    "#print('Train MAE: {:.0f}'.format(MAE(y_train_c, lr.predict(X_train_c))))\n",
    "#print('Test MAE: {:.0f}'.format(MAE(y_test_c, lr.predict(X_test_c))))\n",
    "\n",
    "# below prints when using log\n",
    "print('Train MAE (log): {:.0f}'.format(MAE(10**y_train_c, 10**lr.predict(X_train_c))))\n",
    "print('Test MAE (log): {:.0f}'.format(MAE(10**y_test_c, 10**lr.predict(X_test_c))))"
   ]
  },
  {
   "cell_type": "code",
   "execution_count": 230,
   "metadata": {},
   "outputs": [
    {
     "name": "stdout",
     "output_type": "stream",
     "text": [
      "Complex lr model MAE: 11694.0\n",
      "Intermediate lr model MAE: 15542.0\n",
      "Simple lr model MAE: 31636.0\n",
      "Base model MAE: 45259.0\n"
     ]
    }
   ],
   "source": [
    "mae_complex_lr = round(MAE(10**y_test_c, 10**lr.predict(X_test_c)),0)\n",
    "print('Complex lr model MAE:',mae_complex_lr)\n",
    "print('Intermediate lr model MAE:',mae_intermediate)\n",
    "print('Simple lr model MAE:',mae_simple)\n",
    "print('Base model MAE:',mae_base)"
   ]
  },
  {
   "cell_type": "markdown",
   "metadata": {},
   "source": [
    "### Lasso regression"
   ]
  },
  {
   "cell_type": "code",
   "execution_count": 231,
   "metadata": {},
   "outputs": [
    {
     "name": "stdout",
     "output_type": "stream",
     "text": [
      "Train Lasso MAE: 24735\n",
      "Test Lasso MAE: 23351\n"
     ]
    }
   ],
   "source": [
    "# tried with Lasso which is supposed to better optimized MAE function but get to much higher results\n",
    "from sklearn.linear_model import Lasso\n",
    "lasso = Lasso(alpha=1,max_iter=10000)\n",
    "lasso.fit(X_train_c, y_train_c)\n",
    "\n",
    "#print('Train MSE: {:.4f}'.format(MSE(y_train, lr.predict(X_train))))\n",
    "#print('Test MSE: {:.4f}'.format(MSE(y_test, lr.predict(X_test))))\n",
    "print('Train Lasso MAE: {:.0f}'.format(MAE(10**y_train_c, 10**lasso.predict(X_train_c))))\n",
    "print('Test Lasso MAE: {:.0f}'.format(MAE(10**y_test_c, 10**lasso.predict(X_test_c))))"
   ]
  },
  {
   "cell_type": "markdown",
   "metadata": {},
   "source": [
    "### Ridge regression\n",
    "\n",
    "Let's first create the list of  𝑎𝑙𝑝ℎ𝑎  values and evaluate a ridge regression model for each one. Regularization strength affects the generization error on a log-scale. So we will use  𝑛𝑝.𝑙𝑜𝑔𝑠𝑝𝑎𝑐𝑒(𝑎,𝑏)  to generate sample  𝑎𝑙𝑝ℎ𝑎  values i.e. instead of  𝑛𝑝.𝑙𝑖𝑛𝑠𝑝𝑎𝑐𝑒(𝑎,𝑏) .\n",
    "\n",
    "*It's frequent to start with a range between  𝑎=1𝑒−4  and  𝑏=1𝑒4  for this hyperparameter, but we will use a larger range this time to see the effect of regularization with very large/small values.*"
   ]
  },
  {
   "cell_type": "code",
   "execution_count": 232,
   "metadata": {},
   "outputs": [
    {
     "name": "stdout",
     "output_type": "stream",
     "text": [
      "Train Ridge MAE: 10919\n",
      "Test Ridge MAE: 11903\n"
     ]
    }
   ],
   "source": [
    "from sklearn.linear_model import Ridge\n",
    "# Try with a linear regression\n",
    "ridge = Ridge()\n",
    "ridge.fit(X_train_c, y_train_c)\n",
    "\n",
    "#print('Train MSE: {:.4f}'.format(MSE(y_train, lr.predict(X_train))))\n",
    "#print('Test MSE: {:.4f}'.format(MSE(y_test, lr.predict(X_test))))\n",
    "print('Train Ridge MAE: {:.0f}'.format(MAE(10**y_train_c, 10**ridge.predict(X_train_c))))\n",
    "print('Test Ridge MAE: {:.0f}'.format(MAE(10**y_test_c, 10**ridge.predict(X_test_c))))"
   ]
  },
  {
   "cell_type": "markdown",
   "metadata": {},
   "source": [
    "### Grid search"
   ]
  },
  {
   "cell_type": "code",
   "execution_count": 233,
   "metadata": {},
   "outputs": [
    {
     "name": "stderr",
     "output_type": "stream",
     "text": [
      "C:\\Users\\glaurent\\AppData\\Local\\Continuum\\anaconda3\\envs\\exts-ml\\lib\\site-packages\\sklearn\\utils\\validation.py:595: DataConversionWarning: Data with input dtype object was converted to float64 by StandardScaler.\n",
      "  warnings.warn(msg, DataConversionWarning)\n",
      "C:\\Users\\glaurent\\AppData\\Local\\Continuum\\anaconda3\\envs\\exts-ml\\lib\\site-packages\\sklearn\\utils\\validation.py:595: DataConversionWarning: Data with input dtype object was converted to float64 by StandardScaler.\n",
      "  warnings.warn(msg, DataConversionWarning)\n",
      "C:\\Users\\glaurent\\AppData\\Local\\Continuum\\anaconda3\\envs\\exts-ml\\lib\\site-packages\\sklearn\\utils\\validation.py:595: DataConversionWarning: Data with input dtype object was converted to float64 by StandardScaler.\n",
      "  warnings.warn(msg, DataConversionWarning)\n"
     ]
    }
   ],
   "source": [
    "# standardize data\n",
    "from sklearn.preprocessing import StandardScaler\n",
    "\n",
    "# Standardize features\n",
    "scaler = StandardScaler()\n",
    "X_train_rescaled = scaler.fit_transform(X_train_c)\n",
    "X_test_rescaled = scaler.transform(X_test_c)"
   ]
  },
  {
   "cell_type": "code",
   "execution_count": 234,
   "metadata": {},
   "outputs": [
    {
     "data": {
      "text/html": [
       "<div>\n",
       "<style scoped>\n",
       "    .dataframe tbody tr th:only-of-type {\n",
       "        vertical-align: middle;\n",
       "    }\n",
       "\n",
       "    .dataframe tbody tr th {\n",
       "        vertical-align: top;\n",
       "    }\n",
       "\n",
       "    .dataframe thead th {\n",
       "        text-align: right;\n",
       "    }\n",
       "</style>\n",
       "<table border=\"1\" class=\"dataframe\">\n",
       "  <thead>\n",
       "    <tr style=\"text-align: right;\">\n",
       "      <th></th>\n",
       "      <th>alpha</th>\n",
       "      <th>test_mae</th>\n",
       "      <th>test_mse</th>\n",
       "      <th>train_mae</th>\n",
       "      <th>train_mse</th>\n",
       "    </tr>\n",
       "  </thead>\n",
       "  <tbody>\n",
       "    <tr>\n",
       "      <th>0</th>\n",
       "      <td>1.000000e-10</td>\n",
       "      <td>11694.417096</td>\n",
       "      <td>0.003199</td>\n",
       "      <td>10672.030593</td>\n",
       "      <td>0.001589</td>\n",
       "    </tr>\n",
       "    <tr>\n",
       "      <th>1</th>\n",
       "      <td>1.592283e-10</td>\n",
       "      <td>11694.371047</td>\n",
       "      <td>0.003199</td>\n",
       "      <td>10672.030593</td>\n",
       "      <td>0.001589</td>\n",
       "    </tr>\n",
       "    <tr>\n",
       "      <th>2</th>\n",
       "      <td>2.535364e-10</td>\n",
       "      <td>11694.349318</td>\n",
       "      <td>0.003199</td>\n",
       "      <td>10672.030593</td>\n",
       "      <td>0.001589</td>\n",
       "    </tr>\n",
       "    <tr>\n",
       "      <th>3</th>\n",
       "      <td>4.037017e-10</td>\n",
       "      <td>11694.361272</td>\n",
       "      <td>0.003199</td>\n",
       "      <td>10672.030593</td>\n",
       "      <td>0.001589</td>\n",
       "    </tr>\n",
       "    <tr>\n",
       "      <th>4</th>\n",
       "      <td>6.428073e-10</td>\n",
       "      <td>11694.366983</td>\n",
       "      <td>0.003199</td>\n",
       "      <td>10672.030593</td>\n",
       "      <td>0.001589</td>\n",
       "    </tr>\n",
       "  </tbody>\n",
       "</table>\n",
       "</div>"
      ],
      "text/plain": [
       "          alpha      test_mae  test_mse     train_mae  train_mse\n",
       "0  1.000000e-10  11694.417096  0.003199  10672.030593   0.001589\n",
       "1  1.592283e-10  11694.371047  0.003199  10672.030593   0.001589\n",
       "2  2.535364e-10  11694.349318  0.003199  10672.030593   0.001589\n",
       "3  4.037017e-10  11694.361272  0.003199  10672.030593   0.001589\n",
       "4  6.428073e-10  11694.366983  0.003199  10672.030593   0.001589"
      ]
     },
     "execution_count": 234,
     "metadata": {},
     "output_type": "execute_result"
    }
   ],
   "source": [
    "from sklearn.linear_model import Ridge\n",
    "from sklearn.metrics import mean_absolute_error as MAE\n",
    "\n",
    "# Variable to store the results\n",
    "gs_results = []\n",
    "\n",
    "# Grid search\n",
    "for alpha in np.logspace(-10, 10, num=100):\n",
    "    # Create and fit ridge regression\n",
    "    ridge = Ridge(alpha=alpha)\n",
    "    ridge.fit(X_train_rescaled, y_train_c)\n",
    "    \n",
    "    # Save model and its performance on train/test sets\n",
    "    gs_results.append({\n",
    "        'alpha': alpha,\n",
    "        'train_mse': MSE(y_train_c, ridge.predict(X_train_rescaled)),\n",
    "        'train_mae': MAE(10**y_train_c, 10**ridge.predict(X_train_rescaled)),\n",
    "        'test_mse': MSE(y_test_c, ridge.predict(X_test_rescaled)),\n",
    "        'test_mae': MAE(10**y_test_c, 10**ridge.predict(X_test_rescaled)),\n",
    "    })\n",
    "\n",
    "# Convert results to DataFrame\n",
    "gs_results = pd.DataFrame(gs_results)\n",
    "gs_results.head()"
   ]
  },
  {
   "cell_type": "markdown",
   "metadata": {},
   "source": [
    "### Validation curves"
   ]
  },
  {
   "cell_type": "code",
   "execution_count": 235,
   "metadata": {},
   "outputs": [
    {
     "data": {
      "image/png": "[encoded data removed]",
      "text/plain": [
       "<Figure size 432x288 with 1 Axes>"
      ]
     },
     "metadata": {
      "needs_background": "light"
     },
     "output_type": "display_data"
    }
   ],
   "source": [
    "# Plot the validation curves\n",
    "plt.semilogx(gs_results['alpha'], gs_results['train_mae'], label='train curve')\n",
    "plt.semilogx(gs_results['alpha'], gs_results['test_mae'], label='test curve')\n",
    "plt.xlabel('$log_{10}(alpha)$')\n",
    "plt.ylabel('MAE')\n",
    "plt.legend()\n",
    "plt.show()"
   ]
  },
  {
   "cell_type": "code",
   "execution_count": 236,
   "metadata": {},
   "outputs": [
    {
     "name": "stdout",
     "output_type": "stream",
     "text": [
      "Best alpha: 1.3e+00\n",
      "Test MSE: 0.0032\n",
      "Test MAE: 11,741$\n"
     ]
    }
   ],
   "source": [
    "#Let's retrieve the alpha with the best generalization i.e. the one that minimizes the test score.\n",
    "\n",
    "# Get entry with the best test MSE\n",
    "best_result = gs_results.loc[gs_results.test_mse.idxmin()]\n",
    "\n",
    "# Print the details\n",
    "print('Best alpha: {:.1e}'.format(best_result.alpha))\n",
    "print('Test MSE: {:.4f}'.format(best_result.test_mse))\n",
    "print('Test MAE: {:,.0f}$'.format(best_result.test_mae))"
   ]
  },
  {
   "cell_type": "code",
   "execution_count": 237,
   "metadata": {},
   "outputs": [
    {
     "name": "stdout",
     "output_type": "stream",
     "text": [
      "Complex Ridge model MAE: 11741.0\n",
      "Complex lr model MAE: 11694.0\n",
      "Intermediate lr model MAE: 15542.0\n",
      "Simple lr model MAE: 31636.0\n",
      "Base model MAE: 45259.0\n"
     ]
    }
   ],
   "source": [
    "mae_complex_ridge = round(best_result.test_mae,0)\n",
    "print('Complex Ridge model MAE:',mae_complex_ridge)\n",
    "print('Complex lr model MAE:',mae_complex_lr)\n",
    "print('Intermediate lr model MAE:',mae_intermediate)\n",
    "print('Simple lr model MAE:',mae_simple)\n",
    "print('Base model MAE:',mae_base)"
   ]
  },
  {
   "cell_type": "code",
   "execution_count": 238,
   "metadata": {},
   "outputs": [
    {
     "data": {
      "image/png": "[encoded data removed]",
      "text/plain": [
       "<Figure size 432x288 with 1 Axes>"
      ]
     },
     "metadata": {
      "needs_background": "light"
     },
     "output_type": "display_data"
    }
   ],
   "source": [
    "plt.bar(x=['Base','Simple','Intermediate','Complex lr','Complex ridge'],height=[mae_base,mae_simple,mae_intermediate,mae_complex_lr,mae_complex_ridge],color=['orange','lightblue','lightblue','green','green'])\n",
    "plt.title('Models MAE comparison')\n",
    "plt.ylabel('MAE ($)')\n",
    "plt.xlabel('Models')\n",
    "plt.show()"
   ]
  },
  {
   "cell_type": "markdown",
   "metadata": {},
   "source": [
    "# Results"
   ]
  },
  {
   "cell_type": "markdown",
   "metadata": {},
   "source": [
    "### Communicate\n",
    "\n",
    "Both complex models are over-performing the Base/Simple/Intermdiate models:\n",
    "* However Intermedia model with 20 variable is already getting pretty decent results with +- 15.5K dollars from house price on average\n",
    "* Complex models are both perdicting house prices +- 11.6K dollars\n",
    "\n",
    "Would it make sense to go with the Intermdiate model in this scenario? Based on Occam's razor we shouldn't go for over-complex models if there is not important added value"
   ]
  },
  {
   "cell_type": "markdown",
   "metadata": {},
   "source": [
    "### Compute"
   ]
  },
  {
   "cell_type": "code",
   "execution_count": 239,
   "metadata": {},
   "outputs": [
    {
     "data": {
      "text/html": [
       "<div>\n",
       "<style scoped>\n",
       "    .dataframe tbody tr th:only-of-type {\n",
       "        vertical-align: middle;\n",
       "    }\n",
       "\n",
       "    .dataframe tbody tr th {\n",
       "        vertical-align: top;\n",
       "    }\n",
       "\n",
       "    .dataframe thead th {\n",
       "        text-align: right;\n",
       "    }\n",
       "</style>\n",
       "<table border=\"1\" class=\"dataframe\">\n",
       "  <thead>\n",
       "    <tr style=\"text-align: right;\">\n",
       "      <th></th>\n",
       "      <th>Order</th>\n",
       "      <th>PID</th>\n",
       "      <th>Lot Frontage</th>\n",
       "      <th>Lot Area</th>\n",
       "      <th>Utilities</th>\n",
       "      <th>Overall Qual</th>\n",
       "      <th>Overall Cond</th>\n",
       "      <th>Mas Vnr Area</th>\n",
       "      <th>Exter Qual</th>\n",
       "      <th>Exter Cond</th>\n",
       "      <th>Bsmt Qual</th>\n",
       "      <th>Bsmt Cond</th>\n",
       "      <th>Bsmt Exposure</th>\n",
       "      <th>BsmtFin Type 1</th>\n",
       "      <th>BsmtFin SF 1</th>\n",
       "      <th>BsmtFin Type 2</th>\n",
       "      <th>BsmtFin SF 2</th>\n",
       "      <th>Bsmt Unf SF</th>\n",
       "      <th>Total Bsmt SF</th>\n",
       "      <th>Heating QC</th>\n",
       "      <th>Low Qual Fin SF</th>\n",
       "      <th>Gr Liv Area</th>\n",
       "      <th>Bedroom AbvGr</th>\n",
       "      <th>Kitchen AbvGr</th>\n",
       "      <th>Kitchen Qual</th>\n",
       "      <th>TotRms AbvGrd</th>\n",
       "      <th>Functional</th>\n",
       "      <th>Fireplaces</th>\n",
       "      <th>Fireplace Qu</th>\n",
       "      <th>Garage Finish</th>\n",
       "      <th>Garage Cars</th>\n",
       "      <th>Garage Area</th>\n",
       "      <th>Garage Qual</th>\n",
       "      <th>Garage Cond</th>\n",
       "      <th>Wood Deck SF</th>\n",
       "      <th>Open Porch SF</th>\n",
       "      <th>Enclosed Porch</th>\n",
       "      <th>3Ssn Porch</th>\n",
       "      <th>Screen Porch</th>\n",
       "      <th>Pool Area</th>\n",
       "      <th>Pool QC</th>\n",
       "      <th>Fence</th>\n",
       "      <th>Misc Val</th>\n",
       "      <th>Condition Count</th>\n",
       "      <th>Bath</th>\n",
       "      <th>Flr SF</th>\n",
       "      <th>MS SubClass_30</th>\n",
       "      <th>MS SubClass_40</th>\n",
       "      <th>MS SubClass_45</th>\n",
       "      <th>MS SubClass_50</th>\n",
       "      <th>MS SubClass_60</th>\n",
       "      <th>MS SubClass_70</th>\n",
       "      <th>MS SubClass_75</th>\n",
       "      <th>MS SubClass_80</th>\n",
       "      <th>MS SubClass_85</th>\n",
       "      <th>MS SubClass_90</th>\n",
       "      <th>MS SubClass_120</th>\n",
       "      <th>MS SubClass_160</th>\n",
       "      <th>MS SubClass_180</th>\n",
       "      <th>MS SubClass_190</th>\n",
       "      <th>MS Zoning_FV</th>\n",
       "      <th>MS Zoning_RH</th>\n",
       "      <th>MS Zoning_RL</th>\n",
       "      <th>MS Zoning_RM</th>\n",
       "      <th>Street_Pave</th>\n",
       "      <th>Alley_No access</th>\n",
       "      <th>Alley_Pave</th>\n",
       "      <th>Land Contour_HLS</th>\n",
       "      <th>Land Contour_Low</th>\n",
       "      <th>Land Contour_Lvl</th>\n",
       "      <th>Lot Config_CulDSac</th>\n",
       "      <th>Lot Config_FR2</th>\n",
       "      <th>Lot Config_FR3</th>\n",
       "      <th>Lot Config_Inside</th>\n",
       "      <th>Neighborhood_Blueste</th>\n",
       "      <th>Neighborhood_BrDale</th>\n",
       "      <th>Neighborhood_BrkSide</th>\n",
       "      <th>Neighborhood_ClearCr</th>\n",
       "      <th>Neighborhood_CollgCr</th>\n",
       "      <th>Neighborhood_Crawfor</th>\n",
       "      <th>Neighborhood_Edwards</th>\n",
       "      <th>Neighborhood_Gilbert</th>\n",
       "      <th>Neighborhood_IDOTRR</th>\n",
       "      <th>Neighborhood_MeadowV</th>\n",
       "      <th>Neighborhood_Mitchel</th>\n",
       "      <th>Neighborhood_NAmes</th>\n",
       "      <th>Neighborhood_NPkVill</th>\n",
       "      <th>Neighborhood_NWAmes</th>\n",
       "      <th>Neighborhood_NoRidge</th>\n",
       "      <th>Neighborhood_NridgHt</th>\n",
       "      <th>Neighborhood_OldTown</th>\n",
       "      <th>Neighborhood_SWISU</th>\n",
       "      <th>Neighborhood_Sawyer</th>\n",
       "      <th>Neighborhood_SawyerW</th>\n",
       "      <th>Neighborhood_Somerst</th>\n",
       "      <th>Neighborhood_StoneBr</th>\n",
       "      <th>Neighborhood_Timber</th>\n",
       "      <th>Neighborhood_Veenker</th>\n",
       "      <th>Condition 1_Feedr</th>\n",
       "      <th>Condition 1_Norm</th>\n",
       "      <th>Condition 1_PosA</th>\n",
       "      <th>Condition 1_PosN</th>\n",
       "      <th>Condition 1_RRAe</th>\n",
       "      <th>Condition 1_RRAn</th>\n",
       "      <th>Condition 1_RRNe</th>\n",
       "      <th>Condition 1_RRNn</th>\n",
       "      <th>Condition 2_Norm</th>\n",
       "      <th>Condition 2_PosN</th>\n",
       "      <th>Bldg Type_2fmCon</th>\n",
       "      <th>Bldg Type_Duplex</th>\n",
       "      <th>Bldg Type_Twnhs</th>\n",
       "      <th>Bldg Type_TwnhsE</th>\n",
       "      <th>House Style_1.5Unf</th>\n",
       "      <th>House Style_1Story</th>\n",
       "      <th>House Style_2.5Fin</th>\n",
       "      <th>House Style_2.5Unf</th>\n",
       "      <th>House Style_2Story</th>\n",
       "      <th>House Style_SFoyer</th>\n",
       "      <th>House Style_SLvl</th>\n",
       "      <th>Roof Matl_Roll</th>\n",
       "      <th>Roof Matl_Tar&amp;Grv</th>\n",
       "      <th>Roof Matl_WdShake</th>\n",
       "      <th>Exterior 1st_BrkFace</th>\n",
       "      <th>Exterior 1st_CemntBd</th>\n",
       "      <th>Exterior 1st_HdBoard</th>\n",
       "      <th>Exterior 1st_MetalSd</th>\n",
       "      <th>Exterior 1st_Plywood</th>\n",
       "      <th>Exterior 1st_Stucco</th>\n",
       "      <th>Exterior 1st_VinylSd</th>\n",
       "      <th>Exterior 1st_Wd Sdng</th>\n",
       "      <th>Exterior 1st_WdShing</th>\n",
       "      <th>Exterior 2nd_Brk Cmn</th>\n",
       "      <th>Exterior 2nd_BrkFace</th>\n",
       "      <th>Exterior 2nd_CBlock</th>\n",
       "      <th>Exterior 2nd_CmentBd</th>\n",
       "      <th>Exterior 2nd_HdBoard</th>\n",
       "      <th>Exterior 2nd_ImStucc</th>\n",
       "      <th>Exterior 2nd_MetalSd</th>\n",
       "      <th>Exterior 2nd_Other</th>\n",
       "      <th>Exterior 2nd_Plywood</th>\n",
       "      <th>Exterior 2nd_Stone</th>\n",
       "      <th>Exterior 2nd_Stucco</th>\n",
       "      <th>Exterior 2nd_VinylSd</th>\n",
       "      <th>Exterior 2nd_Wd Sdng</th>\n",
       "      <th>Exterior 2nd_Wd Shng</th>\n",
       "      <th>Mas Vnr Type_BrkFace</th>\n",
       "      <th>Mas Vnr Type_None</th>\n",
       "      <th>Mas Vnr Type_Stone</th>\n",
       "      <th>Foundation_CBlock</th>\n",
       "      <th>Foundation_PConc</th>\n",
       "      <th>Foundation_Slab</th>\n",
       "      <th>Foundation_Stone</th>\n",
       "      <th>Heating_GasW</th>\n",
       "      <th>Heating_Grav</th>\n",
       "      <th>Heating_OthW</th>\n",
       "      <th>Heating_Wall</th>\n",
       "      <th>Central Air_Y</th>\n",
       "      <th>Garage Type_Attchd</th>\n",
       "      <th>Garage Type_Basment</th>\n",
       "      <th>Garage Type_BuiltIn</th>\n",
       "      <th>Garage Type_CarPort</th>\n",
       "      <th>Garage Type_Detchd</th>\n",
       "      <th>Garage Type_No Garage</th>\n",
       "      <th>Misc Feature_Othr</th>\n",
       "      <th>Misc Feature_Shed</th>\n",
       "      <th>Sale Type_CWD</th>\n",
       "      <th>Sale Type_ConLD</th>\n",
       "      <th>Sale Type_ConLI</th>\n",
       "      <th>Sale Type_ConLw</th>\n",
       "      <th>Sale Type_New</th>\n",
       "      <th>Sale Type_Oth</th>\n",
       "      <th>Sale Type_WD</th>\n",
       "      <th>Sale Condition_AdjLand</th>\n",
       "      <th>Sale Condition_Alloca</th>\n",
       "      <th>Sale Condition_Family</th>\n",
       "      <th>Sale Condition_Normal</th>\n",
       "      <th>Sale Condition_Partial</th>\n",
       "      <th>Roof Style_Gable</th>\n",
       "      <th>Roof Style_Gambrel</th>\n",
       "      <th>Roof Style_Hip</th>\n",
       "      <th>Roof Style_Mansard</th>\n",
       "      <th>New or remod_old</th>\n",
       "      <th>Lot Shape_Reg</th>\n",
       "      <th>Land Slope_Mod</th>\n",
       "      <th>Electrical_FuseF</th>\n",
       "      <th>Electrical_FuseP</th>\n",
       "      <th>Electrical_SBrkr</th>\n",
       "      <th>Paved Drive_P</th>\n",
       "      <th>Paved Drive_Y</th>\n",
       "      <th>Year Built_1880</th>\n",
       "      <th>Year Built_1890</th>\n",
       "      <th>Year Built_1900</th>\n",
       "      <th>Year Built_1910</th>\n",
       "      <th>Year Built_1920</th>\n",
       "      <th>Year Built_1930</th>\n",
       "      <th>Year Built_1940</th>\n",
       "      <th>Year Built_1950</th>\n",
       "      <th>Year Built_1960</th>\n",
       "      <th>Year Built_1970</th>\n",
       "      <th>Year Built_1980</th>\n",
       "      <th>Year Built_1990</th>\n",
       "      <th>Year Built_2000</th>\n",
       "      <th>Year Built_2010</th>\n",
       "      <th>Year Remod/Add_1960.0</th>\n",
       "      <th>Year Remod/Add_1970.0</th>\n",
       "      <th>Year Remod/Add_1980.0</th>\n",
       "      <th>Year Remod/Add_1990.0</th>\n",
       "      <th>Year Remod/Add_2000.0</th>\n",
       "      <th>Year Remod/Add_2010.0</th>\n",
       "      <th>Garage Yr Blt_1910.0</th>\n",
       "      <th>Garage Yr Blt_1920.0</th>\n",
       "      <th>Garage Yr Blt_1930.0</th>\n",
       "      <th>Garage Yr Blt_1940.0</th>\n",
       "      <th>Garage Yr Blt_1950.0</th>\n",
       "      <th>Garage Yr Blt_1960.0</th>\n",
       "      <th>Garage Yr Blt_1970.0</th>\n",
       "      <th>Garage Yr Blt_1980.0</th>\n",
       "      <th>Garage Yr Blt_1990.0</th>\n",
       "      <th>Garage Yr Blt_2000.0</th>\n",
       "      <th>Garage Yr Blt_2010.0</th>\n",
       "      <th>Mo Sold_2</th>\n",
       "      <th>Mo Sold_3</th>\n",
       "      <th>Mo Sold_4</th>\n",
       "      <th>Mo Sold_5</th>\n",
       "      <th>Mo Sold_6</th>\n",
       "      <th>Mo Sold_7</th>\n",
       "      <th>Mo Sold_8</th>\n",
       "      <th>Mo Sold_9</th>\n",
       "      <th>Mo Sold_10</th>\n",
       "      <th>Mo Sold_11</th>\n",
       "      <th>Mo Sold_12</th>\n",
       "      <th>Yr Sold_2007</th>\n",
       "      <th>Yr Sold_2008</th>\n",
       "      <th>Yr Sold_2009</th>\n",
       "      <th>Yr Sold_2010</th>\n",
       "    </tr>\n",
       "  </thead>\n",
       "  <tbody>\n",
       "    <tr>\n",
       "      <th>0</th>\n",
       "      <td>2217</td>\n",
       "      <td>909279080</td>\n",
       "      <td>69.20199</td>\n",
       "      <td>9.330343</td>\n",
       "      <td>5</td>\n",
       "      <td>6</td>\n",
       "      <td>7</td>\n",
       "      <td>480.0</td>\n",
       "      <td>3</td>\n",
       "      <td>3</td>\n",
       "      <td>3.0</td>\n",
       "      <td>3.0</td>\n",
       "      <td>2.0</td>\n",
       "      <td>3.0</td>\n",
       "      <td>297.0</td>\n",
       "      <td>2.0</td>\n",
       "      <td>557.0</td>\n",
       "      <td>0.0</td>\n",
       "      <td>854.0</td>\n",
       "      <td>3</td>\n",
       "      <td>0</td>\n",
       "      <td>1991</td>\n",
       "      <td>3</td>\n",
       "      <td>1</td>\n",
       "      <td>3</td>\n",
       "      <td>7</td>\n",
       "      <td>8</td>\n",
       "      <td>1</td>\n",
       "      <td>4.0</td>\n",
       "      <td>1.0</td>\n",
       "      <td>2.0</td>\n",
       "      <td>432.0</td>\n",
       "      <td>3</td>\n",
       "      <td>2</td>\n",
       "      <td>0</td>\n",
       "      <td>0</td>\n",
       "      <td>19</td>\n",
       "      <td>0</td>\n",
       "      <td>0</td>\n",
       "      <td>0</td>\n",
       "      <td>0</td>\n",
       "      <td>0.0</td>\n",
       "      <td>0</td>\n",
       "      <td>1</td>\n",
       "      <td>1.5</td>\n",
       "      <td>1991</td>\n",
       "      <td>0</td>\n",
       "      <td>0</td>\n",
       "      <td>0</td>\n",
       "      <td>1</td>\n",
       "      <td>0</td>\n",
       "      <td>0</td>\n",
       "      <td>0</td>\n",
       "      <td>0</td>\n",
       "      <td>0</td>\n",
       "      <td>0</td>\n",
       "      <td>0</td>\n",
       "      <td>0</td>\n",
       "      <td>0</td>\n",
       "      <td>0</td>\n",
       "      <td>0</td>\n",
       "      <td>0</td>\n",
       "      <td>1</td>\n",
       "      <td>0</td>\n",
       "      <td>1</td>\n",
       "      <td>1</td>\n",
       "      <td>0</td>\n",
       "      <td>1</td>\n",
       "      <td>0</td>\n",
       "      <td>0</td>\n",
       "      <td>0</td>\n",
       "      <td>0</td>\n",
       "      <td>0</td>\n",
       "      <td>0</td>\n",
       "      <td>0</td>\n",
       "      <td>0</td>\n",
       "      <td>0</td>\n",
       "      <td>0</td>\n",
       "      <td>0</td>\n",
       "      <td>1</td>\n",
       "      <td>0</td>\n",
       "      <td>0</td>\n",
       "      <td>0</td>\n",
       "      <td>0</td>\n",
       "      <td>0</td>\n",
       "      <td>0</td>\n",
       "      <td>0</td>\n",
       "      <td>0</td>\n",
       "      <td>0</td>\n",
       "      <td>0</td>\n",
       "      <td>0</td>\n",
       "      <td>0</td>\n",
       "      <td>0</td>\n",
       "      <td>0</td>\n",
       "      <td>0</td>\n",
       "      <td>0</td>\n",
       "      <td>0</td>\n",
       "      <td>0</td>\n",
       "      <td>0</td>\n",
       "      <td>1</td>\n",
       "      <td>0</td>\n",
       "      <td>0</td>\n",
       "      <td>0</td>\n",
       "      <td>0</td>\n",
       "      <td>0</td>\n",
       "      <td>0</td>\n",
       "      <td>1</td>\n",
       "      <td>0</td>\n",
       "      <td>0</td>\n",
       "      <td>0</td>\n",
       "      <td>0</td>\n",
       "      <td>0</td>\n",
       "      <td>0</td>\n",
       "      <td>0</td>\n",
       "      <td>0</td>\n",
       "      <td>0</td>\n",
       "      <td>0</td>\n",
       "      <td>0</td>\n",
       "      <td>0</td>\n",
       "      <td>0</td>\n",
       "      <td>0</td>\n",
       "      <td>0</td>\n",
       "      <td>0</td>\n",
       "      <td>0</td>\n",
       "      <td>0</td>\n",
       "      <td>1</td>\n",
       "      <td>0</td>\n",
       "      <td>0</td>\n",
       "      <td>0</td>\n",
       "      <td>0</td>\n",
       "      <td>0</td>\n",
       "      <td>0</td>\n",
       "      <td>0</td>\n",
       "      <td>0</td>\n",
       "      <td>0</td>\n",
       "      <td>0</td>\n",
       "      <td>0</td>\n",
       "      <td>1</td>\n",
       "      <td>0</td>\n",
       "      <td>0</td>\n",
       "      <td>0</td>\n",
       "      <td>0</td>\n",
       "      <td>0</td>\n",
       "      <td>0</td>\n",
       "      <td>0</td>\n",
       "      <td>1</td>\n",
       "      <td>0</td>\n",
       "      <td>0</td>\n",
       "      <td>1</td>\n",
       "      <td>0</td>\n",
       "      <td>0</td>\n",
       "      <td>0</td>\n",
       "      <td>0</td>\n",
       "      <td>0</td>\n",
       "      <td>0</td>\n",
       "      <td>0</td>\n",
       "      <td>1</td>\n",
       "      <td>0</td>\n",
       "      <td>0</td>\n",
       "      <td>0</td>\n",
       "      <td>0</td>\n",
       "      <td>1</td>\n",
       "      <td>0</td>\n",
       "      <td>0</td>\n",
       "      <td>0</td>\n",
       "      <td>0</td>\n",
       "      <td>0</td>\n",
       "      <td>0</td>\n",
       "      <td>0</td>\n",
       "      <td>0</td>\n",
       "      <td>0</td>\n",
       "      <td>1</td>\n",
       "      <td>0</td>\n",
       "      <td>0</td>\n",
       "      <td>0</td>\n",
       "      <td>1</td>\n",
       "      <td>0</td>\n",
       "      <td>1</td>\n",
       "      <td>0</td>\n",
       "      <td>0</td>\n",
       "      <td>0</td>\n",
       "      <td>1</td>\n",
       "      <td>0</td>\n",
       "      <td>1</td>\n",
       "      <td>0</td>\n",
       "      <td>0</td>\n",
       "      <td>1</td>\n",
       "      <td>0</td>\n",
       "      <td>1</td>\n",
       "      <td>0</td>\n",
       "      <td>0</td>\n",
       "      <td>0</td>\n",
       "      <td>0</td>\n",
       "      <td>0</td>\n",
       "      <td>1</td>\n",
       "      <td>0</td>\n",
       "      <td>0</td>\n",
       "      <td>0</td>\n",
       "      <td>0</td>\n",
       "      <td>0</td>\n",
       "      <td>0</td>\n",
       "      <td>0</td>\n",
       "      <td>0</td>\n",
       "      <td>0</td>\n",
       "      <td>0</td>\n",
       "      <td>0</td>\n",
       "      <td>0</td>\n",
       "      <td>0</td>\n",
       "      <td>0</td>\n",
       "      <td>0</td>\n",
       "      <td>0</td>\n",
       "      <td>0</td>\n",
       "      <td>0</td>\n",
       "      <td>0</td>\n",
       "      <td>0</td>\n",
       "      <td>0</td>\n",
       "      <td>1</td>\n",
       "      <td>0</td>\n",
       "      <td>0</td>\n",
       "      <td>0</td>\n",
       "      <td>0</td>\n",
       "      <td>1</td>\n",
       "      <td>0</td>\n",
       "      <td>0</td>\n",
       "      <td>0</td>\n",
       "      <td>0</td>\n",
       "      <td>0</td>\n",
       "      <td>0</td>\n",
       "      <td>0</td>\n",
       "      <td>0</td>\n",
       "      <td>0</td>\n",
       "      <td>1</td>\n",
       "      <td>0</td>\n",
       "      <td>0</td>\n",
       "      <td>0</td>\n",
       "    </tr>\n",
       "    <tr>\n",
       "      <th>1</th>\n",
       "      <td>837</td>\n",
       "      <td>907126050</td>\n",
       "      <td>65.00000</td>\n",
       "      <td>9.185740</td>\n",
       "      <td>5</td>\n",
       "      <td>5</td>\n",
       "      <td>7</td>\n",
       "      <td>0.0</td>\n",
       "      <td>3</td>\n",
       "      <td>4</td>\n",
       "      <td>3.0</td>\n",
       "      <td>3.0</td>\n",
       "      <td>1.0</td>\n",
       "      <td>5.0</td>\n",
       "      <td>755.0</td>\n",
       "      <td>1.0</td>\n",
       "      <td>0.0</td>\n",
       "      <td>235.0</td>\n",
       "      <td>990.0</td>\n",
       "      <td>5</td>\n",
       "      <td>0</td>\n",
       "      <td>990</td>\n",
       "      <td>3</td>\n",
       "      <td>1</td>\n",
       "      <td>3</td>\n",
       "      <td>5</td>\n",
       "      <td>8</td>\n",
       "      <td>0</td>\n",
       "      <td>0.0</td>\n",
       "      <td>2.0</td>\n",
       "      <td>1.0</td>\n",
       "      <td>440.0</td>\n",
       "      <td>3</td>\n",
       "      <td>3</td>\n",
       "      <td>66</td>\n",
       "      <td>0</td>\n",
       "      <td>0</td>\n",
       "      <td>0</td>\n",
       "      <td>92</td>\n",
       "      <td>0</td>\n",
       "      <td>0</td>\n",
       "      <td>0.0</td>\n",
       "      <td>0</td>\n",
       "      <td>1</td>\n",
       "      <td>2.0</td>\n",
       "      <td>990</td>\n",
       "      <td>0</td>\n",
       "      <td>0</td>\n",
       "      <td>0</td>\n",
       "      <td>0</td>\n",
       "      <td>0</td>\n",
       "      <td>0</td>\n",
       "      <td>0</td>\n",
       "      <td>0</td>\n",
       "      <td>0</td>\n",
       "      <td>0</td>\n",
       "      <td>0</td>\n",
       "      <td>0</td>\n",
       "      <td>0</td>\n",
       "      <td>0</td>\n",
       "      <td>0</td>\n",
       "      <td>0</td>\n",
       "      <td>1</td>\n",
       "      <td>0</td>\n",
       "      <td>1</td>\n",
       "      <td>1</td>\n",
       "      <td>0</td>\n",
       "      <td>0</td>\n",
       "      <td>1</td>\n",
       "      <td>0</td>\n",
       "      <td>0</td>\n",
       "      <td>0</td>\n",
       "      <td>0</td>\n",
       "      <td>1</td>\n",
       "      <td>0</td>\n",
       "      <td>0</td>\n",
       "      <td>0</td>\n",
       "      <td>0</td>\n",
       "      <td>1</td>\n",
       "      <td>0</td>\n",
       "      <td>0</td>\n",
       "      <td>0</td>\n",
       "      <td>0</td>\n",
       "      <td>0</td>\n",
       "      <td>0</td>\n",
       "      <td>0</td>\n",
       "      <td>0</td>\n",
       "      <td>0</td>\n",
       "      <td>0</td>\n",
       "      <td>0</td>\n",
       "      <td>0</td>\n",
       "      <td>0</td>\n",
       "      <td>0</td>\n",
       "      <td>0</td>\n",
       "      <td>0</td>\n",
       "      <td>0</td>\n",
       "      <td>0</td>\n",
       "      <td>0</td>\n",
       "      <td>0</td>\n",
       "      <td>1</td>\n",
       "      <td>0</td>\n",
       "      <td>0</td>\n",
       "      <td>0</td>\n",
       "      <td>0</td>\n",
       "      <td>0</td>\n",
       "      <td>0</td>\n",
       "      <td>1</td>\n",
       "      <td>0</td>\n",
       "      <td>0</td>\n",
       "      <td>0</td>\n",
       "      <td>0</td>\n",
       "      <td>0</td>\n",
       "      <td>0</td>\n",
       "      <td>1</td>\n",
       "      <td>0</td>\n",
       "      <td>0</td>\n",
       "      <td>0</td>\n",
       "      <td>0</td>\n",
       "      <td>0</td>\n",
       "      <td>0</td>\n",
       "      <td>0</td>\n",
       "      <td>0</td>\n",
       "      <td>0</td>\n",
       "      <td>0</td>\n",
       "      <td>0</td>\n",
       "      <td>0</td>\n",
       "      <td>0</td>\n",
       "      <td>0</td>\n",
       "      <td>1</td>\n",
       "      <td>0</td>\n",
       "      <td>0</td>\n",
       "      <td>0</td>\n",
       "      <td>0</td>\n",
       "      <td>0</td>\n",
       "      <td>0</td>\n",
       "      <td>0</td>\n",
       "      <td>0</td>\n",
       "      <td>0</td>\n",
       "      <td>0</td>\n",
       "      <td>0</td>\n",
       "      <td>0</td>\n",
       "      <td>0</td>\n",
       "      <td>1</td>\n",
       "      <td>0</td>\n",
       "      <td>0</td>\n",
       "      <td>0</td>\n",
       "      <td>1</td>\n",
       "      <td>0</td>\n",
       "      <td>0</td>\n",
       "      <td>1</td>\n",
       "      <td>0</td>\n",
       "      <td>0</td>\n",
       "      <td>0</td>\n",
       "      <td>0</td>\n",
       "      <td>0</td>\n",
       "      <td>0</td>\n",
       "      <td>1</td>\n",
       "      <td>1</td>\n",
       "      <td>0</td>\n",
       "      <td>0</td>\n",
       "      <td>0</td>\n",
       "      <td>0</td>\n",
       "      <td>0</td>\n",
       "      <td>0</td>\n",
       "      <td>0</td>\n",
       "      <td>0</td>\n",
       "      <td>0</td>\n",
       "      <td>0</td>\n",
       "      <td>0</td>\n",
       "      <td>0</td>\n",
       "      <td>0</td>\n",
       "      <td>1</td>\n",
       "      <td>0</td>\n",
       "      <td>0</td>\n",
       "      <td>0</td>\n",
       "      <td>1</td>\n",
       "      <td>0</td>\n",
       "      <td>1</td>\n",
       "      <td>0</td>\n",
       "      <td>0</td>\n",
       "      <td>0</td>\n",
       "      <td>1</td>\n",
       "      <td>1</td>\n",
       "      <td>1</td>\n",
       "      <td>0</td>\n",
       "      <td>0</td>\n",
       "      <td>1</td>\n",
       "      <td>0</td>\n",
       "      <td>1</td>\n",
       "      <td>0</td>\n",
       "      <td>0</td>\n",
       "      <td>0</td>\n",
       "      <td>0</td>\n",
       "      <td>0</td>\n",
       "      <td>0</td>\n",
       "      <td>0</td>\n",
       "      <td>0</td>\n",
       "      <td>0</td>\n",
       "      <td>0</td>\n",
       "      <td>0</td>\n",
       "      <td>1</td>\n",
       "      <td>0</td>\n",
       "      <td>0</td>\n",
       "      <td>0</td>\n",
       "      <td>0</td>\n",
       "      <td>0</td>\n",
       "      <td>1</td>\n",
       "      <td>0</td>\n",
       "      <td>0</td>\n",
       "      <td>0</td>\n",
       "      <td>0</td>\n",
       "      <td>0</td>\n",
       "      <td>0</td>\n",
       "      <td>0</td>\n",
       "      <td>0</td>\n",
       "      <td>0</td>\n",
       "      <td>0</td>\n",
       "      <td>0</td>\n",
       "      <td>1</td>\n",
       "      <td>0</td>\n",
       "      <td>0</td>\n",
       "      <td>0</td>\n",
       "      <td>0</td>\n",
       "      <td>0</td>\n",
       "      <td>0</td>\n",
       "      <td>0</td>\n",
       "      <td>0</td>\n",
       "      <td>0</td>\n",
       "      <td>1</td>\n",
       "      <td>0</td>\n",
       "      <td>0</td>\n",
       "      <td>0</td>\n",
       "      <td>0</td>\n",
       "      <td>1</td>\n",
       "      <td>0</td>\n",
       "    </tr>\n",
       "    <tr>\n",
       "      <th>2</th>\n",
       "      <td>2397</td>\n",
       "      <td>528144030</td>\n",
       "      <td>86.00000</td>\n",
       "      <td>9.311542</td>\n",
       "      <td>5</td>\n",
       "      <td>8</td>\n",
       "      <td>5</td>\n",
       "      <td>788.0</td>\n",
       "      <td>4</td>\n",
       "      <td>3</td>\n",
       "      <td>4.0</td>\n",
       "      <td>3.0</td>\n",
       "      <td>2.0</td>\n",
       "      <td>1.0</td>\n",
       "      <td>0.0</td>\n",
       "      <td>1.0</td>\n",
       "      <td>0.0</td>\n",
       "      <td>1085.0</td>\n",
       "      <td>1085.0</td>\n",
       "      <td>5</td>\n",
       "      <td>0</td>\n",
       "      <td>1970</td>\n",
       "      <td>3</td>\n",
       "      <td>1</td>\n",
       "      <td>5</td>\n",
       "      <td>8</td>\n",
       "      <td>8</td>\n",
       "      <td>1</td>\n",
       "      <td>4.0</td>\n",
       "      <td>3.0</td>\n",
       "      <td>3.0</td>\n",
       "      <td>753.0</td>\n",
       "      <td>3</td>\n",
       "      <td>3</td>\n",
       "      <td>177</td>\n",
       "      <td>74</td>\n",
       "      <td>0</td>\n",
       "      <td>0</td>\n",
       "      <td>0</td>\n",
       "      <td>0</td>\n",
       "      <td>0</td>\n",
       "      <td>0.0</td>\n",
       "      <td>0</td>\n",
       "      <td>1</td>\n",
       "      <td>2.5</td>\n",
       "      <td>1970</td>\n",
       "      <td>0</td>\n",
       "      <td>0</td>\n",
       "      <td>0</td>\n",
       "      <td>0</td>\n",
       "      <td>1</td>\n",
       "      <td>0</td>\n",
       "      <td>0</td>\n",
       "      <td>0</td>\n",
       "      <td>0</td>\n",
       "      <td>0</td>\n",
       "      <td>0</td>\n",
       "      <td>0</td>\n",
       "      <td>0</td>\n",
       "      <td>0</td>\n",
       "      <td>0</td>\n",
       "      <td>0</td>\n",
       "      <td>1</td>\n",
       "      <td>0</td>\n",
       "      <td>1</td>\n",
       "      <td>1</td>\n",
       "      <td>0</td>\n",
       "      <td>0</td>\n",
       "      <td>0</td>\n",
       "      <td>1</td>\n",
       "      <td>0</td>\n",
       "      <td>0</td>\n",
       "      <td>0</td>\n",
       "      <td>1</td>\n",
       "      <td>0</td>\n",
       "      <td>0</td>\n",
       "      <td>0</td>\n",
       "      <td>0</td>\n",
       "      <td>0</td>\n",
       "      <td>0</td>\n",
       "      <td>0</td>\n",
       "      <td>0</td>\n",
       "      <td>0</td>\n",
       "      <td>0</td>\n",
       "      <td>0</td>\n",
       "      <td>0</td>\n",
       "      <td>0</td>\n",
       "      <td>0</td>\n",
       "      <td>0</td>\n",
       "      <td>1</td>\n",
       "      <td>0</td>\n",
       "      <td>0</td>\n",
       "      <td>0</td>\n",
       "      <td>0</td>\n",
       "      <td>0</td>\n",
       "      <td>0</td>\n",
       "      <td>0</td>\n",
       "      <td>0</td>\n",
       "      <td>0</td>\n",
       "      <td>1</td>\n",
       "      <td>0</td>\n",
       "      <td>0</td>\n",
       "      <td>0</td>\n",
       "      <td>0</td>\n",
       "      <td>0</td>\n",
       "      <td>0</td>\n",
       "      <td>1</td>\n",
       "      <td>0</td>\n",
       "      <td>0</td>\n",
       "      <td>0</td>\n",
       "      <td>0</td>\n",
       "      <td>0</td>\n",
       "      <td>0</td>\n",
       "      <td>0</td>\n",
       "      <td>0</td>\n",
       "      <td>0</td>\n",
       "      <td>1</td>\n",
       "      <td>0</td>\n",
       "      <td>0</td>\n",
       "      <td>0</td>\n",
       "      <td>0</td>\n",
       "      <td>0</td>\n",
       "      <td>0</td>\n",
       "      <td>0</td>\n",
       "      <td>0</td>\n",
       "      <td>0</td>\n",
       "      <td>0</td>\n",
       "      <td>0</td>\n",
       "      <td>1</td>\n",
       "      <td>0</td>\n",
       "      <td>0</td>\n",
       "      <td>0</td>\n",
       "      <td>0</td>\n",
       "      <td>0</td>\n",
       "      <td>0</td>\n",
       "      <td>0</td>\n",
       "      <td>0</td>\n",
       "      <td>0</td>\n",
       "      <td>0</td>\n",
       "      <td>0</td>\n",
       "      <td>0</td>\n",
       "      <td>0</td>\n",
       "      <td>1</td>\n",
       "      <td>0</td>\n",
       "      <td>0</td>\n",
       "      <td>0</td>\n",
       "      <td>0</td>\n",
       "      <td>1</td>\n",
       "      <td>0</td>\n",
       "      <td>1</td>\n",
       "      <td>0</td>\n",
       "      <td>0</td>\n",
       "      <td>0</td>\n",
       "      <td>0</td>\n",
       "      <td>0</td>\n",
       "      <td>0</td>\n",
       "      <td>1</td>\n",
       "      <td>0</td>\n",
       "      <td>0</td>\n",
       "      <td>1</td>\n",
       "      <td>0</td>\n",
       "      <td>0</td>\n",
       "      <td>0</td>\n",
       "      <td>0</td>\n",
       "      <td>0</td>\n",
       "      <td>0</td>\n",
       "      <td>0</td>\n",
       "      <td>0</td>\n",
       "      <td>0</td>\n",
       "      <td>1</td>\n",
       "      <td>0</td>\n",
       "      <td>0</td>\n",
       "      <td>0</td>\n",
       "      <td>0</td>\n",
       "      <td>0</td>\n",
       "      <td>0</td>\n",
       "      <td>1</td>\n",
       "      <td>1</td>\n",
       "      <td>0</td>\n",
       "      <td>0</td>\n",
       "      <td>0</td>\n",
       "      <td>0</td>\n",
       "      <td>0</td>\n",
       "      <td>0</td>\n",
       "      <td>0</td>\n",
       "      <td>0</td>\n",
       "      <td>1</td>\n",
       "      <td>0</td>\n",
       "      <td>1</td>\n",
       "      <td>0</td>\n",
       "      <td>0</td>\n",
       "      <td>0</td>\n",
       "      <td>0</td>\n",
       "      <td>0</td>\n",
       "      <td>0</td>\n",
       "      <td>0</td>\n",
       "      <td>0</td>\n",
       "      <td>0</td>\n",
       "      <td>0</td>\n",
       "      <td>0</td>\n",
       "      <td>0</td>\n",
       "      <td>0</td>\n",
       "      <td>1</td>\n",
       "      <td>0</td>\n",
       "      <td>0</td>\n",
       "      <td>0</td>\n",
       "      <td>0</td>\n",
       "      <td>0</td>\n",
       "      <td>1</td>\n",
       "      <td>0</td>\n",
       "      <td>0</td>\n",
       "      <td>0</td>\n",
       "      <td>0</td>\n",
       "      <td>0</td>\n",
       "      <td>0</td>\n",
       "      <td>0</td>\n",
       "      <td>0</td>\n",
       "      <td>0</td>\n",
       "      <td>0</td>\n",
       "      <td>1</td>\n",
       "      <td>0</td>\n",
       "      <td>0</td>\n",
       "      <td>0</td>\n",
       "      <td>0</td>\n",
       "      <td>0</td>\n",
       "      <td>0</td>\n",
       "      <td>0</td>\n",
       "      <td>0</td>\n",
       "      <td>1</td>\n",
       "      <td>0</td>\n",
       "      <td>0</td>\n",
       "      <td>0</td>\n",
       "      <td>0</td>\n",
       "      <td>0</td>\n",
       "      <td>0</td>\n",
       "    </tr>\n",
       "    <tr>\n",
       "      <th>3</th>\n",
       "      <td>1963</td>\n",
       "      <td>535452060</td>\n",
       "      <td>70.00000</td>\n",
       "      <td>8.853665</td>\n",
       "      <td>5</td>\n",
       "      <td>5</td>\n",
       "      <td>7</td>\n",
       "      <td>45.0</td>\n",
       "      <td>3</td>\n",
       "      <td>3</td>\n",
       "      <td>3.0</td>\n",
       "      <td>3.0</td>\n",
       "      <td>1.0</td>\n",
       "      <td>3.0</td>\n",
       "      <td>588.0</td>\n",
       "      <td>1.0</td>\n",
       "      <td>0.0</td>\n",
       "      <td>422.0</td>\n",
       "      <td>1010.0</td>\n",
       "      <td>5</td>\n",
       "      <td>0</td>\n",
       "      <td>1134</td>\n",
       "      <td>2</td>\n",
       "      <td>1</td>\n",
       "      <td>3</td>\n",
       "      <td>6</td>\n",
       "      <td>8</td>\n",
       "      <td>0</td>\n",
       "      <td>0.0</td>\n",
       "      <td>2.0</td>\n",
       "      <td>1.0</td>\n",
       "      <td>254.0</td>\n",
       "      <td>3</td>\n",
       "      <td>3</td>\n",
       "      <td>0</td>\n",
       "      <td>16</td>\n",
       "      <td>0</td>\n",
       "      <td>0</td>\n",
       "      <td>0</td>\n",
       "      <td>0</td>\n",
       "      <td>0</td>\n",
       "      <td>1.0</td>\n",
       "      <td>0</td>\n",
       "      <td>1</td>\n",
       "      <td>1.0</td>\n",
       "      <td>1134</td>\n",
       "      <td>0</td>\n",
       "      <td>0</td>\n",
       "      <td>0</td>\n",
       "      <td>0</td>\n",
       "      <td>0</td>\n",
       "      <td>0</td>\n",
       "      <td>0</td>\n",
       "      <td>0</td>\n",
       "      <td>0</td>\n",
       "      <td>0</td>\n",
       "      <td>0</td>\n",
       "      <td>0</td>\n",
       "      <td>0</td>\n",
       "      <td>0</td>\n",
       "      <td>0</td>\n",
       "      <td>0</td>\n",
       "      <td>1</td>\n",
       "      <td>0</td>\n",
       "      <td>1</td>\n",
       "      <td>1</td>\n",
       "      <td>0</td>\n",
       "      <td>0</td>\n",
       "      <td>0</td>\n",
       "      <td>1</td>\n",
       "      <td>0</td>\n",
       "      <td>0</td>\n",
       "      <td>0</td>\n",
       "      <td>1</td>\n",
       "      <td>0</td>\n",
       "      <td>0</td>\n",
       "      <td>0</td>\n",
       "      <td>0</td>\n",
       "      <td>0</td>\n",
       "      <td>0</td>\n",
       "      <td>0</td>\n",
       "      <td>0</td>\n",
       "      <td>0</td>\n",
       "      <td>0</td>\n",
       "      <td>0</td>\n",
       "      <td>1</td>\n",
       "      <td>0</td>\n",
       "      <td>0</td>\n",
       "      <td>0</td>\n",
       "      <td>0</td>\n",
       "      <td>0</td>\n",
       "      <td>0</td>\n",
       "      <td>0</td>\n",
       "      <td>0</td>\n",
       "      <td>0</td>\n",
       "      <td>0</td>\n",
       "      <td>0</td>\n",
       "      <td>0</td>\n",
       "      <td>0</td>\n",
       "      <td>1</td>\n",
       "      <td>0</td>\n",
       "      <td>0</td>\n",
       "      <td>0</td>\n",
       "      <td>0</td>\n",
       "      <td>0</td>\n",
       "      <td>0</td>\n",
       "      <td>1</td>\n",
       "      <td>0</td>\n",
       "      <td>0</td>\n",
       "      <td>0</td>\n",
       "      <td>0</td>\n",
       "      <td>0</td>\n",
       "      <td>0</td>\n",
       "      <td>1</td>\n",
       "      <td>0</td>\n",
       "      <td>0</td>\n",
       "      <td>0</td>\n",
       "      <td>0</td>\n",
       "      <td>0</td>\n",
       "      <td>0</td>\n",
       "      <td>0</td>\n",
       "      <td>0</td>\n",
       "      <td>0</td>\n",
       "      <td>0</td>\n",
       "      <td>0</td>\n",
       "      <td>0</td>\n",
       "      <td>0</td>\n",
       "      <td>0</td>\n",
       "      <td>0</td>\n",
       "      <td>1</td>\n",
       "      <td>0</td>\n",
       "      <td>0</td>\n",
       "      <td>0</td>\n",
       "      <td>0</td>\n",
       "      <td>0</td>\n",
       "      <td>0</td>\n",
       "      <td>0</td>\n",
       "      <td>0</td>\n",
       "      <td>0</td>\n",
       "      <td>0</td>\n",
       "      <td>0</td>\n",
       "      <td>0</td>\n",
       "      <td>0</td>\n",
       "      <td>1</td>\n",
       "      <td>0</td>\n",
       "      <td>1</td>\n",
       "      <td>0</td>\n",
       "      <td>0</td>\n",
       "      <td>1</td>\n",
       "      <td>0</td>\n",
       "      <td>0</td>\n",
       "      <td>0</td>\n",
       "      <td>0</td>\n",
       "      <td>0</td>\n",
       "      <td>0</td>\n",
       "      <td>0</td>\n",
       "      <td>1</td>\n",
       "      <td>1</td>\n",
       "      <td>0</td>\n",
       "      <td>0</td>\n",
       "      <td>0</td>\n",
       "      <td>0</td>\n",
       "      <td>0</td>\n",
       "      <td>0</td>\n",
       "      <td>0</td>\n",
       "      <td>0</td>\n",
       "      <td>0</td>\n",
       "      <td>0</td>\n",
       "      <td>0</td>\n",
       "      <td>0</td>\n",
       "      <td>0</td>\n",
       "      <td>1</td>\n",
       "      <td>0</td>\n",
       "      <td>0</td>\n",
       "      <td>1</td>\n",
       "      <td>0</td>\n",
       "      <td>0</td>\n",
       "      <td>1</td>\n",
       "      <td>0</td>\n",
       "      <td>0</td>\n",
       "      <td>0</td>\n",
       "      <td>1</td>\n",
       "      <td>1</td>\n",
       "      <td>0</td>\n",
       "      <td>0</td>\n",
       "      <td>0</td>\n",
       "      <td>1</td>\n",
       "      <td>0</td>\n",
       "      <td>1</td>\n",
       "      <td>0</td>\n",
       "      <td>0</td>\n",
       "      <td>0</td>\n",
       "      <td>0</td>\n",
       "      <td>0</td>\n",
       "      <td>0</td>\n",
       "      <td>0</td>\n",
       "      <td>0</td>\n",
       "      <td>1</td>\n",
       "      <td>0</td>\n",
       "      <td>0</td>\n",
       "      <td>0</td>\n",
       "      <td>0</td>\n",
       "      <td>0</td>\n",
       "      <td>0</td>\n",
       "      <td>0</td>\n",
       "      <td>0</td>\n",
       "      <td>0</td>\n",
       "      <td>1</td>\n",
       "      <td>0</td>\n",
       "      <td>0</td>\n",
       "      <td>0</td>\n",
       "      <td>0</td>\n",
       "      <td>0</td>\n",
       "      <td>0</td>\n",
       "      <td>1</td>\n",
       "      <td>0</td>\n",
       "      <td>0</td>\n",
       "      <td>0</td>\n",
       "      <td>0</td>\n",
       "      <td>0</td>\n",
       "      <td>0</td>\n",
       "      <td>0</td>\n",
       "      <td>1</td>\n",
       "      <td>0</td>\n",
       "      <td>0</td>\n",
       "      <td>0</td>\n",
       "      <td>0</td>\n",
       "      <td>0</td>\n",
       "      <td>0</td>\n",
       "      <td>0</td>\n",
       "      <td>0</td>\n",
       "      <td>1</td>\n",
       "      <td>0</td>\n",
       "      <td>0</td>\n",
       "      <td>0</td>\n",
       "    </tr>\n",
       "    <tr>\n",
       "      <th>4</th>\n",
       "      <td>306</td>\n",
       "      <td>911202100</td>\n",
       "      <td>66.00000</td>\n",
       "      <td>9.072457</td>\n",
       "      <td>5</td>\n",
       "      <td>4</td>\n",
       "      <td>7</td>\n",
       "      <td>0.0</td>\n",
       "      <td>3</td>\n",
       "      <td>3</td>\n",
       "      <td>3.0</td>\n",
       "      <td>3.0</td>\n",
       "      <td>2.0</td>\n",
       "      <td>1.0</td>\n",
       "      <td>0.0</td>\n",
       "      <td>1.0</td>\n",
       "      <td>0.0</td>\n",
       "      <td>859.0</td>\n",
       "      <td>859.0</td>\n",
       "      <td>4</td>\n",
       "      <td>0</td>\n",
       "      <td>1178</td>\n",
       "      <td>2</td>\n",
       "      <td>1</td>\n",
       "      <td>3</td>\n",
       "      <td>7</td>\n",
       "      <td>8</td>\n",
       "      <td>0</td>\n",
       "      <td>0.0</td>\n",
       "      <td>2.0</td>\n",
       "      <td>1.0</td>\n",
       "      <td>384.0</td>\n",
       "      <td>3</td>\n",
       "      <td>3</td>\n",
       "      <td>68</td>\n",
       "      <td>0</td>\n",
       "      <td>98</td>\n",
       "      <td>0</td>\n",
       "      <td>0</td>\n",
       "      <td>0</td>\n",
       "      <td>0</td>\n",
       "      <td>0.0</td>\n",
       "      <td>0</td>\n",
       "      <td>1</td>\n",
       "      <td>1.0</td>\n",
       "      <td>1178</td>\n",
       "      <td>0</td>\n",
       "      <td>0</td>\n",
       "      <td>0</td>\n",
       "      <td>1</td>\n",
       "      <td>0</td>\n",
       "      <td>0</td>\n",
       "      <td>0</td>\n",
       "      <td>0</td>\n",
       "      <td>0</td>\n",
       "      <td>0</td>\n",
       "      <td>0</td>\n",
       "      <td>0</td>\n",
       "      <td>0</td>\n",
       "      <td>0</td>\n",
       "      <td>0</td>\n",
       "      <td>0</td>\n",
       "      <td>0</td>\n",
       "      <td>0</td>\n",
       "      <td>1</td>\n",
       "      <td>0</td>\n",
       "      <td>1</td>\n",
       "      <td>1</td>\n",
       "      <td>0</td>\n",
       "      <td>0</td>\n",
       "      <td>0</td>\n",
       "      <td>0</td>\n",
       "      <td>0</td>\n",
       "      <td>1</td>\n",
       "      <td>0</td>\n",
       "      <td>0</td>\n",
       "      <td>0</td>\n",
       "      <td>0</td>\n",
       "      <td>0</td>\n",
       "      <td>0</td>\n",
       "      <td>0</td>\n",
       "      <td>0</td>\n",
       "      <td>1</td>\n",
       "      <td>0</td>\n",
       "      <td>0</td>\n",
       "      <td>0</td>\n",
       "      <td>0</td>\n",
       "      <td>0</td>\n",
       "      <td>0</td>\n",
       "      <td>0</td>\n",
       "      <td>0</td>\n",
       "      <td>0</td>\n",
       "      <td>0</td>\n",
       "      <td>0</td>\n",
       "      <td>0</td>\n",
       "      <td>0</td>\n",
       "      <td>0</td>\n",
       "      <td>0</td>\n",
       "      <td>0</td>\n",
       "      <td>1</td>\n",
       "      <td>0</td>\n",
       "      <td>0</td>\n",
       "      <td>0</td>\n",
       "      <td>0</td>\n",
       "      <td>0</td>\n",
       "      <td>0</td>\n",
       "      <td>1</td>\n",
       "      <td>0</td>\n",
       "      <td>0</td>\n",
       "      <td>0</td>\n",
       "      <td>0</td>\n",
       "      <td>0</td>\n",
       "      <td>0</td>\n",
       "      <td>0</td>\n",
       "      <td>0</td>\n",
       "      <td>0</td>\n",
       "      <td>0</td>\n",
       "      <td>0</td>\n",
       "      <td>0</td>\n",
       "      <td>0</td>\n",
       "      <td>0</td>\n",
       "      <td>0</td>\n",
       "      <td>0</td>\n",
       "      <td>0</td>\n",
       "      <td>0</td>\n",
       "      <td>1</td>\n",
       "      <td>0</td>\n",
       "      <td>0</td>\n",
       "      <td>0</td>\n",
       "      <td>0</td>\n",
       "      <td>0</td>\n",
       "      <td>0</td>\n",
       "      <td>0</td>\n",
       "      <td>0</td>\n",
       "      <td>0</td>\n",
       "      <td>0</td>\n",
       "      <td>0</td>\n",
       "      <td>1</td>\n",
       "      <td>0</td>\n",
       "      <td>0</td>\n",
       "      <td>0</td>\n",
       "      <td>0</td>\n",
       "      <td>0</td>\n",
       "      <td>0</td>\n",
       "      <td>0</td>\n",
       "      <td>0</td>\n",
       "      <td>1</td>\n",
       "      <td>0</td>\n",
       "      <td>0</td>\n",
       "      <td>0</td>\n",
       "      <td>0</td>\n",
       "      <td>1</td>\n",
       "      <td>0</td>\n",
       "      <td>0</td>\n",
       "      <td>0</td>\n",
       "      <td>0</td>\n",
       "      <td>1</td>\n",
       "      <td>0</td>\n",
       "      <td>0</td>\n",
       "      <td>0</td>\n",
       "      <td>0</td>\n",
       "      <td>1</td>\n",
       "      <td>0</td>\n",
       "      <td>0</td>\n",
       "      <td>0</td>\n",
       "      <td>0</td>\n",
       "      <td>0</td>\n",
       "      <td>0</td>\n",
       "      <td>0</td>\n",
       "      <td>0</td>\n",
       "      <td>0</td>\n",
       "      <td>1</td>\n",
       "      <td>0</td>\n",
       "      <td>0</td>\n",
       "      <td>0</td>\n",
       "      <td>0</td>\n",
       "      <td>0</td>\n",
       "      <td>1</td>\n",
       "      <td>0</td>\n",
       "      <td>0</td>\n",
       "      <td>0</td>\n",
       "      <td>1</td>\n",
       "      <td>1</td>\n",
       "      <td>1</td>\n",
       "      <td>0</td>\n",
       "      <td>0</td>\n",
       "      <td>1</td>\n",
       "      <td>0</td>\n",
       "      <td>0</td>\n",
       "      <td>0</td>\n",
       "      <td>0</td>\n",
       "      <td>1</td>\n",
       "      <td>0</td>\n",
       "      <td>0</td>\n",
       "      <td>0</td>\n",
       "      <td>0</td>\n",
       "      <td>0</td>\n",
       "      <td>0</td>\n",
       "      <td>0</td>\n",
       "      <td>0</td>\n",
       "      <td>0</td>\n",
       "      <td>0</td>\n",
       "      <td>0</td>\n",
       "      <td>0</td>\n",
       "      <td>0</td>\n",
       "      <td>0</td>\n",
       "      <td>0</td>\n",
       "      <td>0</td>\n",
       "      <td>0</td>\n",
       "      <td>0</td>\n",
       "      <td>0</td>\n",
       "      <td>0</td>\n",
       "      <td>0</td>\n",
       "      <td>0</td>\n",
       "      <td>1</td>\n",
       "      <td>0</td>\n",
       "      <td>0</td>\n",
       "      <td>0</td>\n",
       "      <td>0</td>\n",
       "      <td>0</td>\n",
       "      <td>0</td>\n",
       "      <td>0</td>\n",
       "      <td>0</td>\n",
       "      <td>0</td>\n",
       "      <td>0</td>\n",
       "      <td>0</td>\n",
       "      <td>0</td>\n",
       "      <td>0</td>\n",
       "      <td>0</td>\n",
       "      <td>0</td>\n",
       "      <td>0</td>\n",
       "      <td>0</td>\n",
       "      <td>0</td>\n",
       "      <td>0</td>\n",
       "      <td>1</td>\n",
       "    </tr>\n",
       "  </tbody>\n",
       "</table>\n",
       "</div>"
      ],
      "text/plain": [
       "   Order        PID  Lot Frontage  Lot Area Utilities  Overall Qual  \\\n",
       "0   2217  909279080      69.20199  9.330343         5             6   \n",
       "1    837  907126050      65.00000  9.185740         5             5   \n",
       "2   2397  528144030      86.00000  9.311542         5             8   \n",
       "3   1963  535452060      70.00000  8.853665         5             5   \n",
       "4    306  911202100      66.00000  9.072457         5             4   \n",
       "\n",
       "   Overall Cond  Mas Vnr Area Exter Qual Exter Cond  Bsmt Qual  Bsmt Cond  \\\n",
       "0             7         480.0          3          3        3.0        3.0   \n",
       "1             7           0.0          3          4        3.0        3.0   \n",
       "2             5         788.0          4          3        4.0        3.0   \n",
       "3             7          45.0          3          3        3.0        3.0   \n",
       "4             7           0.0          3          3        3.0        3.0   \n",
       "\n",
       "   Bsmt Exposure  BsmtFin Type 1  BsmtFin SF 1  BsmtFin Type 2  BsmtFin SF 2  \\\n",
       "0            2.0             3.0         297.0             2.0         557.0   \n",
       "1            1.0             5.0         755.0             1.0           0.0   \n",
       "2            2.0             1.0           0.0             1.0           0.0   \n",
       "3            1.0             3.0         588.0             1.0           0.0   \n",
       "4            2.0             1.0           0.0             1.0           0.0   \n",
       "\n",
       "   Bsmt Unf SF  Total Bsmt SF  Heating QC  Low Qual Fin SF  Gr Liv Area  \\\n",
       "0          0.0          854.0           3                0         1991   \n",
       "1        235.0          990.0           5                0          990   \n",
       "2       1085.0         1085.0           5                0         1970   \n",
       "3        422.0         1010.0           5                0         1134   \n",
       "4        859.0          859.0           4                0         1178   \n",
       "\n",
       "   Bedroom AbvGr  Kitchen AbvGr Kitchen Qual  TotRms AbvGrd  Functional  \\\n",
       "0              3              1            3              7           8   \n",
       "1              3              1            3              5           8   \n",
       "2              3              1            5              8           8   \n",
       "3              2              1            3              6           8   \n",
       "4              2              1            3              7           8   \n",
       "\n",
       "   Fireplaces  Fireplace Qu  Garage Finish  Garage Cars  Garage Area  \\\n",
       "0           1           4.0            1.0          2.0        432.0   \n",
       "1           0           0.0            2.0          1.0        440.0   \n",
       "2           1           4.0            3.0          3.0        753.0   \n",
       "3           0           0.0            2.0          1.0        254.0   \n",
       "4           0           0.0            2.0          1.0        384.0   \n",
       "\n",
       "   Garage Qual  Garage Cond  Wood Deck SF  Open Porch SF  Enclosed Porch  \\\n",
       "0            3            2             0              0              19   \n",
       "1            3            3            66              0               0   \n",
       "2            3            3           177             74               0   \n",
       "3            3            3             0             16               0   \n",
       "4            3            3            68              0              98   \n",
       "\n",
       "   3Ssn Porch  Screen Porch  Pool Area  Pool QC  Fence  Misc Val  \\\n",
       "0           0             0          0        0    0.0         0   \n",
       "1           0            92          0        0    0.0         0   \n",
       "2           0             0          0        0    0.0         0   \n",
       "3           0             0          0        0    1.0         0   \n",
       "4           0             0          0        0    0.0         0   \n",
       "\n",
       "   Condition Count  Bath  Flr SF  MS SubClass_30  MS SubClass_40  \\\n",
       "0                1   1.5    1991               0               0   \n",
       "1                1   2.0     990               0               0   \n",
       "2                1   2.5    1970               0               0   \n",
       "3                1   1.0    1134               0               0   \n",
       "4                1   1.0    1178               0               0   \n",
       "\n",
       "   MS SubClass_45  MS SubClass_50  MS SubClass_60  MS SubClass_70  \\\n",
       "0               0               1               0               0   \n",
       "1               0               0               0               0   \n",
       "2               0               0               1               0   \n",
       "3               0               0               0               0   \n",
       "4               0               1               0               0   \n",
       "\n",
       "   MS SubClass_75  MS SubClass_80  MS SubClass_85  MS SubClass_90  \\\n",
       "0               0               0               0               0   \n",
       "1               0               0               0               0   \n",
       "2               0               0               0               0   \n",
       "3               0               0               0               0   \n",
       "4               0               0               0               0   \n",
       "\n",
       "   MS SubClass_120  MS SubClass_160  MS SubClass_180  MS SubClass_190  \\\n",
       "0                0                0                0                0   \n",
       "1                0                0                0                0   \n",
       "2                0                0                0                0   \n",
       "3                0                0                0                0   \n",
       "4                0                0                0                0   \n",
       "\n",
       "   MS Zoning_FV  MS Zoning_RH  MS Zoning_RL  MS Zoning_RM  Street_Pave  \\\n",
       "0             0             0             1             0            1   \n",
       "1             0             0             1             0            1   \n",
       "2             0             0             1             0            1   \n",
       "3             0             0             1             0            1   \n",
       "4             0             0             0             0            1   \n",
       "\n",
       "   Alley_No access  Alley_Pave  Land Contour_HLS  Land Contour_Low  \\\n",
       "0                1           0                 1                 0   \n",
       "1                1           0                 0                 1   \n",
       "2                1           0                 0                 0   \n",
       "3                1           0                 0                 0   \n",
       "4                0           1                 1                 0   \n",
       "\n",
       "   Land Contour_Lvl  Lot Config_CulDSac  Lot Config_FR2  Lot Config_FR3  \\\n",
       "0                 0                   0               0               0   \n",
       "1                 0                   0               0               0   \n",
       "2                 1                   0               0               0   \n",
       "3                 1                   0               0               0   \n",
       "4                 0                   0               0               0   \n",
       "\n",
       "   Lot Config_Inside  Neighborhood_Blueste  Neighborhood_BrDale  \\\n",
       "0                  0                     0                    0   \n",
       "1                  1                     0                    0   \n",
       "2                  1                     0                    0   \n",
       "3                  1                     0                    0   \n",
       "4                  1                     0                    0   \n",
       "\n",
       "   Neighborhood_BrkSide  Neighborhood_ClearCr  Neighborhood_CollgCr  \\\n",
       "0                     0                     0                     0   \n",
       "1                     0                     0                     1   \n",
       "2                     0                     0                     0   \n",
       "3                     0                     0                     0   \n",
       "4                     0                     0                     0   \n",
       "\n",
       "   Neighborhood_Crawfor  Neighborhood_Edwards  Neighborhood_Gilbert  \\\n",
       "0                     1                     0                     0   \n",
       "1                     0                     0                     0   \n",
       "2                     0                     0                     0   \n",
       "3                     0                     0                     0   \n",
       "4                     0                     0                     0   \n",
       "\n",
       "   Neighborhood_IDOTRR  Neighborhood_MeadowV  Neighborhood_Mitchel  \\\n",
       "0                    0                     0                     0   \n",
       "1                    0                     0                     0   \n",
       "2                    0                     0                     0   \n",
       "3                    0                     0                     0   \n",
       "4                    1                     0                     0   \n",
       "\n",
       "   Neighborhood_NAmes  Neighborhood_NPkVill  Neighborhood_NWAmes  \\\n",
       "0                   0                     0                    0   \n",
       "1                   0                     0                    0   \n",
       "2                   0                     0                    0   \n",
       "3                   1                     0                    0   \n",
       "4                   0                     0                    0   \n",
       "\n",
       "   Neighborhood_NoRidge  Neighborhood_NridgHt  Neighborhood_OldTown  \\\n",
       "0                     0                     0                     0   \n",
       "1                     0                     0                     0   \n",
       "2                     0                     1                     0   \n",
       "3                     0                     0                     0   \n",
       "4                     0                     0                     0   \n",
       "\n",
       "   Neighborhood_SWISU  Neighborhood_Sawyer  Neighborhood_SawyerW  \\\n",
       "0                   0                    0                     0   \n",
       "1                   0                    0                     0   \n",
       "2                   0                    0                     0   \n",
       "3                   0                    0                     0   \n",
       "4                   0                    0                     0   \n",
       "\n",
       "   Neighborhood_Somerst  Neighborhood_StoneBr  Neighborhood_Timber  \\\n",
       "0                     0                     0                    0   \n",
       "1                     0                     0                    0   \n",
       "2                     0                     0                    0   \n",
       "3                     0                     0                    0   \n",
       "4                     0                     0                    0   \n",
       "\n",
       "   Neighborhood_Veenker  Condition 1_Feedr  Condition 1_Norm  \\\n",
       "0                     0                  0                 1   \n",
       "1                     0                  0                 1   \n",
       "2                     0                  0                 1   \n",
       "3                     0                  0                 1   \n",
       "4                     0                  0                 1   \n",
       "\n",
       "   Condition 1_PosA  Condition 1_PosN  Condition 1_RRAe  Condition 1_RRAn  \\\n",
       "0                 0                 0                 0                 0   \n",
       "1                 0                 0                 0                 0   \n",
       "2                 0                 0                 0                 0   \n",
       "3                 0                 0                 0                 0   \n",
       "4                 0                 0                 0                 0   \n",
       "\n",
       "   Condition 1_RRNe  Condition 1_RRNn  Condition 2_Norm  Condition 2_PosN  \\\n",
       "0                 0                 0                 1                 0   \n",
       "1                 0                 0                 1                 0   \n",
       "2                 0                 0                 1                 0   \n",
       "3                 0                 0                 1                 0   \n",
       "4                 0                 0                 1                 0   \n",
       "\n",
       "   Bldg Type_2fmCon  Bldg Type_Duplex  Bldg Type_Twnhs  Bldg Type_TwnhsE  \\\n",
       "0                 0                 0                0                 0   \n",
       "1                 0                 0                0                 0   \n",
       "2                 0                 0                0                 0   \n",
       "3                 0                 0                0                 0   \n",
       "4                 0                 0                0                 0   \n",
       "\n",
       "   House Style_1.5Unf  House Style_1Story  House Style_2.5Fin  \\\n",
       "0                   0                   0                   0   \n",
       "1                   0                   1                   0   \n",
       "2                   0                   0                   0   \n",
       "3                   0                   1                   0   \n",
       "4                   0                   0                   0   \n",
       "\n",
       "   House Style_2.5Unf  House Style_2Story  House Style_SFoyer  \\\n",
       "0                   0                   0                   0   \n",
       "1                   0                   0                   0   \n",
       "2                   0                   1                   0   \n",
       "3                   0                   0                   0   \n",
       "4                   0                   0                   0   \n",
       "\n",
       "   House Style_SLvl  Roof Matl_Roll  Roof Matl_Tar&Grv  Roof Matl_WdShake  \\\n",
       "0                 0               0                  0                  0   \n",
       "1                 0               0                  0                  0   \n",
       "2                 0               0                  0                  0   \n",
       "3                 0               0                  0                  0   \n",
       "4                 0               0                  0                  0   \n",
       "\n",
       "   Exterior 1st_BrkFace  Exterior 1st_CemntBd  Exterior 1st_HdBoard  \\\n",
       "0                     0                     0                     0   \n",
       "1                     0                     0                     0   \n",
       "2                     0                     0                     0   \n",
       "3                     0                     0                     0   \n",
       "4                     0                     0                     0   \n",
       "\n",
       "   Exterior 1st_MetalSd  Exterior 1st_Plywood  Exterior 1st_Stucco  \\\n",
       "0                     1                     0                    0   \n",
       "1                     0                     0                    0   \n",
       "2                     0                     0                    0   \n",
       "3                     0                     0                    0   \n",
       "4                     1                     0                    0   \n",
       "\n",
       "   Exterior 1st_VinylSd  Exterior 1st_Wd Sdng  Exterior 1st_WdShing  \\\n",
       "0                     0                     0                     0   \n",
       "1                     1                     0                     0   \n",
       "2                     1                     0                     0   \n",
       "3                     0                     1                     0   \n",
       "4                     0                     0                     0   \n",
       "\n",
       "   Exterior 2nd_Brk Cmn  Exterior 2nd_BrkFace  Exterior 2nd_CBlock  \\\n",
       "0                     0                     0                    0   \n",
       "1                     0                     0                    0   \n",
       "2                     0                     0                    0   \n",
       "3                     0                     0                    0   \n",
       "4                     0                     0                    0   \n",
       "\n",
       "   Exterior 2nd_CmentBd  Exterior 2nd_HdBoard  Exterior 2nd_ImStucc  \\\n",
       "0                     0                     0                     0   \n",
       "1                     0                     0                     0   \n",
       "2                     0                     0                     0   \n",
       "3                     0                     0                     0   \n",
       "4                     0                     0                     0   \n",
       "\n",
       "   Exterior 2nd_MetalSd  Exterior 2nd_Other  Exterior 2nd_Plywood  \\\n",
       "0                     1                   0                     0   \n",
       "1                     0                   0                     0   \n",
       "2                     0                   0                     0   \n",
       "3                     0                   0                     0   \n",
       "4                     1                   0                     0   \n",
       "\n",
       "   Exterior 2nd_Stone  Exterior 2nd_Stucco  Exterior 2nd_VinylSd  \\\n",
       "0                   0                    0                     0   \n",
       "1                   0                    0                     1   \n",
       "2                   0                    0                     1   \n",
       "3                   0                    0                     0   \n",
       "4                   0                    0                     0   \n",
       "\n",
       "   Exterior 2nd_Wd Sdng  Exterior 2nd_Wd Shng  Mas Vnr Type_BrkFace  \\\n",
       "0                     0                     0                     1   \n",
       "1                     0                     0                     0   \n",
       "2                     0                     0                     0   \n",
       "3                     1                     0                     1   \n",
       "4                     0                     0                     0   \n",
       "\n",
       "   Mas Vnr Type_None  Mas Vnr Type_Stone  Foundation_CBlock  Foundation_PConc  \\\n",
       "0                  0                   0                  1                 0   \n",
       "1                  1                   0                  0                 1   \n",
       "2                  0                   1                  0                 1   \n",
       "3                  0                   0                  1                 0   \n",
       "4                  1                   0                  0                 0   \n",
       "\n",
       "   Foundation_Slab  Foundation_Stone  Heating_GasW  Heating_Grav  \\\n",
       "0                0                 0             0             0   \n",
       "1                0                 0             0             0   \n",
       "2                0                 0             0             0   \n",
       "3                0                 0             0             0   \n",
       "4                0                 1             0             0   \n",
       "\n",
       "   Heating_OthW  Heating_Wall  Central Air_Y  Garage Type_Attchd  \\\n",
       "0             0             0              1                   0   \n",
       "1             0             0              1                   1   \n",
       "2             0             0              1                   0   \n",
       "3             0             0              1                   1   \n",
       "4             0             0              1                   0   \n",
       "\n",
       "   Garage Type_Basment  Garage Type_BuiltIn  Garage Type_CarPort  \\\n",
       "0                    0                    0                    0   \n",
       "1                    0                    0                    0   \n",
       "2                    0                    1                    0   \n",
       "3                    0                    0                    0   \n",
       "4                    0                    0                    0   \n",
       "\n",
       "   Garage Type_Detchd  Garage Type_No Garage  Misc Feature_Othr  \\\n",
       "0                   1                      0                  0   \n",
       "1                   0                      0                  0   \n",
       "2                   0                      0                  0   \n",
       "3                   0                      0                  0   \n",
       "4                   1                      0                  0   \n",
       "\n",
       "   Misc Feature_Shed  Sale Type_CWD  Sale Type_ConLD  Sale Type_ConLI  \\\n",
       "0                  0              0                0                0   \n",
       "1                  0              0                0                0   \n",
       "2                  0              0                0                0   \n",
       "3                  0              0                0                0   \n",
       "4                  0              0                0                0   \n",
       "\n",
       "   Sale Type_ConLw  Sale Type_New  Sale Type_Oth  Sale Type_WD   \\\n",
       "0                0              0              0              1   \n",
       "1                0              0              0              1   \n",
       "2                0              1              0              0   \n",
       "3                0              0              0              1   \n",
       "4                0              0              0              1   \n",
       "\n",
       "   Sale Condition_AdjLand  Sale Condition_Alloca  Sale Condition_Family  \\\n",
       "0                       0                      0                      0   \n",
       "1                       0                      0                      0   \n",
       "2                       0                      0                      0   \n",
       "3                       0                      0                      1   \n",
       "4                       0                      0                      0   \n",
       "\n",
       "   Sale Condition_Normal  Sale Condition_Partial  Roof Style_Gable  \\\n",
       "0                      1                       0                 1   \n",
       "1                      1                       0                 1   \n",
       "2                      0                       1                 1   \n",
       "3                      0                       0                 1   \n",
       "4                      0                       0                 1   \n",
       "\n",
       "   Roof Style_Gambrel  Roof Style_Hip  Roof Style_Mansard  New or remod_old  \\\n",
       "0                   0               0                   0                 1   \n",
       "1                   0               0                   0                 1   \n",
       "2                   0               0                   0                 0   \n",
       "3                   0               0                   0                 1   \n",
       "4                   0               0                   0                 1   \n",
       "\n",
       "   Lot Shape_Reg  Land Slope_Mod  Electrical_FuseF  Electrical_FuseP  \\\n",
       "0              0               1                 0                 0   \n",
       "1              1               1                 0                 0   \n",
       "2              0               0                 0                 0   \n",
       "3              1               0                 0                 0   \n",
       "4              1               1                 0                 0   \n",
       "\n",
       "   Electrical_SBrkr  Paved Drive_P  Paved Drive_Y  Year Built_1880  \\\n",
       "0                 1              0              1                0   \n",
       "1                 1              0              1                0   \n",
       "2                 1              0              1                0   \n",
       "3                 1              0              1                0   \n",
       "4                 1              0              0                0   \n",
       "\n",
       "   Year Built_1890  Year Built_1900  Year Built_1910  Year Built_1920  \\\n",
       "0                0                0                0                0   \n",
       "1                0                0                0                0   \n",
       "2                0                0                0                0   \n",
       "3                0                0                0                0   \n",
       "4                0                1                0                0   \n",
       "\n",
       "   Year Built_1930  Year Built_1940  Year Built_1950  Year Built_1960  \\\n",
       "0                1                0                0                0   \n",
       "1                0                0                0                0   \n",
       "2                0                0                0                0   \n",
       "3                0                0                0                1   \n",
       "4                0                0                0                0   \n",
       "\n",
       "   Year Built_1970  Year Built_1980  Year Built_1990  Year Built_2000  \\\n",
       "0                0                0                0                0   \n",
       "1                0                0                1                0   \n",
       "2                0                0                0                0   \n",
       "3                0                0                0                0   \n",
       "4                0                0                0                0   \n",
       "\n",
       "   Year Built_2010  Year Remod/Add_1960.0  Year Remod/Add_1970.0  \\\n",
       "0                0                      0                      0   \n",
       "1                0                      0                      0   \n",
       "2                1                      0                      0   \n",
       "3                0                      0                      0   \n",
       "4                0                      0                      0   \n",
       "\n",
       "   Year Remod/Add_1980.0  Year Remod/Add_1990.0  Year Remod/Add_2000.0  \\\n",
       "0                      0                      0                      0   \n",
       "1                      0                      1                      0   \n",
       "2                      0                      0                      0   \n",
       "3                      0                      0                      1   \n",
       "4                      0                      0                      0   \n",
       "\n",
       "   Year Remod/Add_2010.0  Garage Yr Blt_1910.0  Garage Yr Blt_1920.0  \\\n",
       "0                      0                     0                     0   \n",
       "1                      0                     0                     0   \n",
       "2                      1                     0                     0   \n",
       "3                      0                     0                     0   \n",
       "4                      0                     0                     0   \n",
       "\n",
       "   Garage Yr Blt_1930.0  Garage Yr Blt_1940.0  Garage Yr Blt_1950.0  \\\n",
       "0                     0                     0                     0   \n",
       "1                     0                     0                     0   \n",
       "2                     0                     0                     0   \n",
       "3                     0                     0                     0   \n",
       "4                     0                     0                     0   \n",
       "\n",
       "   Garage Yr Blt_1960.0  Garage Yr Blt_1970.0  Garage Yr Blt_1980.0  \\\n",
       "0                     0                     0                     1   \n",
       "1                     0                     0                     0   \n",
       "2                     0                     0                     0   \n",
       "3                     1                     0                     0   \n",
       "4                     1                     0                     0   \n",
       "\n",
       "   Garage Yr Blt_1990.0  Garage Yr Blt_2000.0  Garage Yr Blt_2010.0  \\\n",
       "0                     0                     0                     0   \n",
       "1                     0                     1                     0   \n",
       "2                     0                     0                     1   \n",
       "3                     0                     0                     0   \n",
       "4                     0                     0                     0   \n",
       "\n",
       "   Mo Sold_2  Mo Sold_3  Mo Sold_4  Mo Sold_5  Mo Sold_6  Mo Sold_7  \\\n",
       "0          0          1          0          0          0          0   \n",
       "1          0          0          0          0          0          0   \n",
       "2          0          0          0          0          0          0   \n",
       "3          0          0          1          0          0          0   \n",
       "4          0          0          0          0          0          0   \n",
       "\n",
       "   Mo Sold_8  Mo Sold_9  Mo Sold_10  Mo Sold_11  Mo Sold_12  Yr Sold_2007  \\\n",
       "0          0          0           0           0           0             1   \n",
       "1          0          0           1           0           0             0   \n",
       "2          0          0           1           0           0             0   \n",
       "3          0          0           0           0           0             1   \n",
       "4          0          0           0           0           0             0   \n",
       "\n",
       "   Yr Sold_2008  Yr Sold_2009  Yr Sold_2010  \n",
       "0             0             0             0  \n",
       "1             0             1             0  \n",
       "2             0             0             0  \n",
       "3             0             0             0  \n",
       "4             0             0             1  "
      ]
     },
     "execution_count": 239,
     "metadata": {},
     "output_type": "execute_result"
    }
   ],
   "source": [
    "data_test.head()"
   ]
  },
  {
   "cell_type": "code",
   "execution_count": 240,
   "metadata": {},
   "outputs": [],
   "source": [
    "# simple model\n",
    "X_test_simple = data_test['Flr SF']\n",
    "data_test['pred_simple'] = np.round(10**np.polyval(coef_test,X_test_simple),0)"
   ]
  },
  {
   "cell_type": "code",
   "execution_count": 241,
   "metadata": {},
   "outputs": [],
   "source": [
    "data_test['Neighborhood_Greens'] = 0\n",
    "data_test['Neighborhood_GrnHill'] = 0\n",
    "data_test['Neighborhood_Landmrk'] = 0"
   ]
  },
  {
   "cell_type": "code",
   "execution_count": 242,
   "metadata": {},
   "outputs": [],
   "source": [
    "# create columns with 0 instead\n",
    "#columns_int_model_clean.remove('Neighborhood_Greens')\n",
    "#columns_int_model_clean.remove('Neighborhood_GrnHill')\n",
    "#columns_int_model_clean.remove('Neighborhood_Landmrk')\n",
    "X_test_int = data_test[columns_int_model_clean].values"
   ]
  },
  {
   "cell_type": "code",
   "execution_count": 243,
   "metadata": {},
   "outputs": [
    {
     "data": {
      "text/html": [
       "<div>\n",
       "<style scoped>\n",
       "    .dataframe tbody tr th:only-of-type {\n",
       "        vertical-align: middle;\n",
       "    }\n",
       "\n",
       "    .dataframe tbody tr th {\n",
       "        vertical-align: top;\n",
       "    }\n",
       "\n",
       "    .dataframe thead th {\n",
       "        text-align: right;\n",
       "    }\n",
       "</style>\n",
       "<table border=\"1\" class=\"dataframe\">\n",
       "  <thead>\n",
       "    <tr style=\"text-align: right;\">\n",
       "      <th></th>\n",
       "      <th>Order</th>\n",
       "      <th>PID</th>\n",
       "      <th>pred_simple</th>\n",
       "      <th>pred_int</th>\n",
       "    </tr>\n",
       "  </thead>\n",
       "  <tbody>\n",
       "    <tr>\n",
       "      <th>0</th>\n",
       "      <td>2217</td>\n",
       "      <td>909279080</td>\n",
       "      <td>230491.0</td>\n",
       "      <td>166914.0</td>\n",
       "    </tr>\n",
       "    <tr>\n",
       "      <th>1</th>\n",
       "      <td>837</td>\n",
       "      <td>907126050</td>\n",
       "      <td>120626.0</td>\n",
       "      <td>137245.0</td>\n",
       "    </tr>\n",
       "    <tr>\n",
       "      <th>2</th>\n",
       "      <td>2397</td>\n",
       "      <td>528144030</td>\n",
       "      <td>227381.0</td>\n",
       "      <td>277060.0</td>\n",
       "    </tr>\n",
       "    <tr>\n",
       "      <th>3</th>\n",
       "      <td>1963</td>\n",
       "      <td>535452060</td>\n",
       "      <td>132403.0</td>\n",
       "      <td>129548.0</td>\n",
       "    </tr>\n",
       "    <tr>\n",
       "      <th>4</th>\n",
       "      <td>306</td>\n",
       "      <td>911202100</td>\n",
       "      <td>136225.0</td>\n",
       "      <td>88047.0</td>\n",
       "    </tr>\n",
       "  </tbody>\n",
       "</table>\n",
       "</div>"
      ],
      "text/plain": [
       "   Order        PID  pred_simple  pred_int\n",
       "0   2217  909279080     230491.0  166914.0\n",
       "1    837  907126050     120626.0  137245.0\n",
       "2   2397  528144030     227381.0  277060.0\n",
       "3   1963  535452060     132403.0  129548.0\n",
       "4    306  911202100     136225.0   88047.0"
      ]
     },
     "execution_count": 243,
     "metadata": {},
     "output_type": "execute_result"
    }
   ],
   "source": [
    "# intermediate model\n",
    "data_test['pred_int'] = np.round(10**lr_int.predict(X_test_int),0)\n",
    "data_test[['Order','PID','pred_simple','pred_int']].head()"
   ]
  },
  {
   "cell_type": "code",
   "execution_count": 244,
   "metadata": {},
   "outputs": [],
   "source": [
    "# complex model => some columns missing in data_test"
   ]
  },
  {
   "cell_type": "code",
   "execution_count": 245,
   "metadata": {},
   "outputs": [
    {
     "name": "stdout",
     "output_type": "stream",
     "text": [
      "Shape test: (500, 240)\n",
      "Shape final: (2326, 267)\n"
     ]
    }
   ],
   "source": [
    "print('Shape test:',data_test.shape)\n",
    "print('Shape final:',data_final.shape)"
   ]
  },
  {
   "cell_type": "code",
   "execution_count": 246,
   "metadata": {},
   "outputs": [],
   "source": [
    "test_list = data_test.drop(columns=['pred_simple','pred_int']).columns.tolist()\n",
    "train_list = data_final.columns.tolist()"
   ]
  },
  {
   "cell_type": "code",
   "execution_count": 247,
   "metadata": {},
   "outputs": [
    {
     "name": "stdout",
     "output_type": "stream",
     "text": [
      "Roof Matl_Roll\n",
      "Exterior 2nd_Other\n",
      "Year Built_1880\n"
     ]
    }
   ],
   "source": [
    "# remove columns which are in test list but not in initial data used to fit LinearRegression\n",
    "to_drop = []\n",
    "for x in test_list:\n",
    "    if x in train_list: continue\n",
    "    else:\n",
    "        print(x)\n",
    "        to_drop.append(x)\n",
    "data_test.drop(columns=to_drop,inplace=True)"
   ]
  },
  {
   "cell_type": "code",
   "execution_count": 248,
   "metadata": {},
   "outputs": [
    {
     "name": "stdout",
     "output_type": "stream",
     "text": [
      "SalePrice\n",
      "MS SubClass_150\n",
      "MS Zoning_C (all)\n",
      "MS Zoning_I (all)\n",
      "Condition 2_Feedr\n",
      "Condition 2_PosA\n",
      "Condition 2_RRAe\n",
      "Condition 2_RRAn\n",
      "Condition 2_RRNn\n",
      "Roof Matl_CompShg\n",
      "Roof Matl_Membran\n",
      "Roof Matl_Metal\n",
      "Roof Matl_WdShngl\n",
      "Exterior 1st_AsphShn\n",
      "Exterior 1st_BrkComm\n",
      "Exterior 1st_CBlock\n",
      "Exterior 1st_ImStucc\n",
      "Exterior 1st_PreCast\n",
      "Exterior 1st_Stone\n",
      "Exterior 2nd_AsphShn\n",
      "Exterior 2nd_PreCast\n",
      "Mas Vnr Type_CBlock\n",
      "Foundation_Wood\n",
      "Heating_GasA\n",
      "Misc Feature_Gar2\n",
      "Misc Feature_None\n",
      "Misc Feature_TenC\n",
      "Sale Type_Con\n",
      "Sale Type_VWD\n",
      "Roof Style_Shed\n",
      "Land Slope_Sev\n",
      "Electrical_Mix\n"
     ]
    }
   ],
   "source": [
    "# add variables which are in data used to fit LinearRegression but not in test sample\n",
    "for x in train_list:\n",
    "    if x in test_list: continue\n",
    "    else:\n",
    "        print(x)\n",
    "        data_test[x] = 0"
   ]
  },
  {
   "cell_type": "code",
   "execution_count": 249,
   "metadata": {},
   "outputs": [
    {
     "name": "stdout",
     "output_type": "stream",
     "text": [
      "Shape test: (500, 269)\n",
      "Shape final: (2326, 267)\n"
     ]
    }
   ],
   "source": [
    "print('Shape test:',data_test.shape)\n",
    "print('Shape final:',data_final.shape)"
   ]
  },
  {
   "cell_type": "code",
   "execution_count": 250,
   "metadata": {},
   "outputs": [],
   "source": [
    "X_test_complex = data_test.drop(columns=['SalePrice','pred_simple','pred_int','PID']).values\n",
    "data_test['pred_complex'] = np.round(10**lr.predict(X_test_complex),0)"
   ]
  },
  {
   "cell_type": "code",
   "execution_count": 251,
   "metadata": {},
   "outputs": [
    {
     "data": {
      "text/plain": [
       "array([[263, 68.0, 8.919988070968524, ..., 0, 0, 1],\n",
       "       [1031, 80.0, 9.257223957875032, ..., 1, 0, 0],\n",
       "       [2194, 60.0, 9.010669176847115, ..., 0, 0, 0],\n",
       "       ...,\n",
       "       [1288, 80.0, 8.476371196895983, ..., 1, 0, 0],\n",
       "       [1646, 78.0, 9.400133943608838, ..., 0, 0, 0],\n",
       "       [1150, 70.0, 9.116029692504942, ..., 1, 0, 0]], dtype=object)"
      ]
     },
     "execution_count": 251,
     "metadata": {},
     "output_type": "execute_result"
    }
   ],
   "source": [
    "X_test_c"
   ]
  },
  {
   "cell_type": "code",
   "execution_count": 252,
   "metadata": {},
   "outputs": [
    {
     "data": {
      "text/plain": [
       "0.9299475560031472"
      ]
     },
     "execution_count": 252,
     "metadata": {},
     "output_type": "execute_result"
    }
   ],
   "source": [
    "lr.score(X,y)"
   ]
  },
  {
   "cell_type": "code",
   "execution_count": 253,
   "metadata": {},
   "outputs": [
    {
     "data": {
      "text/plain": [
       "array([ 3246009.99290708,  2958138.26006762,  3211856.59463418,\n",
       "        4192276.54335245,   546479.37503011,  3847268.18968743,\n",
       "         406350.15085191,  2488928.77027231,  3795001.6514822 ,\n",
       "        3019579.07761673,  4454897.93620023,  3189645.74947916,\n",
       "        6444800.93141445,  1599505.38636637,  1080391.52294465,\n",
       "        2842245.47277251,   518135.28737593,  2073029.92749322,\n",
       "        4000571.44966828,  2442200.35751275,   813694.55602751,\n",
       "        4668476.35032149,  4218435.33326747,  2363855.61822564,\n",
       "        2409679.24789661,  2653075.40341193,  4014629.09116943,\n",
       "        3118593.59394748,   762924.58444422,  4835656.62317382,\n",
       "        4188340.92770287,  5988900.94016485,  2508404.24867183,\n",
       "        2022739.40758795,  2647131.56230116,  1266945.01350595,\n",
       "        3671332.25901588,   504393.84808511,  7508903.19159764,\n",
       "        3925215.38061196,  2933786.89206487,  3033512.62389516,\n",
       "        1709964.82893517,  5435824.77325916,  5881649.88977431,\n",
       "        6333928.71179383,  3789452.62262815,  3600823.50516359,\n",
       "        2706010.95558067,  3988484.76362736,  2625404.22065711,\n",
       "         584796.24290944,  3347986.6684943 ,  4060005.98023661,\n",
       "        3686512.54137662,  2561844.22547533,  5176494.05076377,\n",
       "         438229.66233556,  2569968.39011862,  5167369.21985758,\n",
       "         761864.28608875,  3164219.74096898,  2106602.84525228,\n",
       "        3902101.57544105,  2942940.94718539,  3801750.53453641,\n",
       "        2516612.5538145 ,  3171714.03753245,  4241532.76701389,\n",
       "        3588610.3305707 ,  4151036.83432976,   878578.91010233,\n",
       "        4274658.96751583,  4293407.46226444,  3166544.49856491,\n",
       "        9328059.63821266,   774633.74917977,  3586583.41937806,\n",
       "        3607847.06087054,  3727497.20741348,  3469667.01788798,\n",
       "        2822071.13837058,  4206314.3525617 ,  3165534.44183966,\n",
       "         489835.24779943,  2510198.65223358,  3126453.22038957,\n",
       "        3695653.14501284,  2636613.88391346,  7245528.9626056 ,\n",
       "        3595926.60566095,  2374785.99454623,  4151814.73170066,\n",
       "        4172022.73387038,  4814628.49925802,  2336079.04159668,\n",
       "        4164578.17194224,  2992447.51115474,  4407678.59522672,\n",
       "        5033068.03211271,  1340798.06494623,  2027843.68857742,\n",
       "         704427.40674909,  5293741.35588061,  3513875.95365614,\n",
       "        3968310.37512632,  4662957.56714217,  4094771.01916712,\n",
       "        2527117.85456331,  2928887.61303542,  2509555.85986901,\n",
       "        7365784.9323703 ,  4741432.32826398,  5044796.16209427,\n",
       "        1479405.60430412,  4938741.40834088,  2312133.93549943,\n",
       "        3187226.52780223,  1818260.75579538,  2571791.43028706,\n",
       "        3351006.11919258,  5070765.06445148,   714088.75532405,\n",
       "        4824445.24203988,  3564152.20896705,  3093129.95389602,\n",
       "        2727748.30774508,  2861896.33415205,  4462718.62692591,\n",
       "        2282823.1871104 ,  2961267.0230989 ,  3593422.26387468,\n",
       "        1876472.491559  ,  4799240.32235703,  3807021.61479555,\n",
       "        1789282.41004859,  4759819.02107666,  4461759.6408709 ,\n",
       "        7405589.83358628,  7194220.42286592,  1763424.223132  ,\n",
       "        4568014.81582101,  4991296.12750423,  4413420.19452369,\n",
       "        2186910.69950721,  3417294.60428663,  4238294.91949818,\n",
       "        2985770.15325556,  1896380.86095327,  2547378.2756445 ,\n",
       "        4020232.32813506,  3036383.76800532,  2999621.33363751,\n",
       "        2421610.12138577,  2961616.03314594,  2948753.73825891,\n",
       "        2176232.3130871 ,  3285102.72472896,  6750622.16254103,\n",
       "        2113117.72117342,  2429318.32511378,  3127366.7841483 ,\n",
       "        3104594.33374318,  3448161.54473025,  2959259.48480608,\n",
       "        2628476.12204353,   144268.00801879,  4488622.88381772,\n",
       "        1996362.55507092,  2817459.46962667,  3381822.97170276,\n",
       "        1671158.0683779 ,  5733633.75740572,   689110.68995568,\n",
       "        3654653.26829716,  9279773.45983853,  3640879.2646327 ,\n",
       "        1238476.7218872 ,  4429462.71910632,  3186831.25079329,\n",
       "        5604546.31637289, 10535367.78064029,  5020728.6905801 ,\n",
       "        4566832.15392381,   508278.97272117,  3367570.47662029,\n",
       "        3923066.45201201,  1591134.3271051 ,   930038.80720164,\n",
       "         759655.12725758,  3475679.85350168,  3190559.27958389,\n",
       "        2629518.66399918,  3583556.9961614 , 15640001.5328375 ,\n",
       "        4233537.00829512,  2049682.81670682,  1239710.49897097,\n",
       "        4123835.61235541,  3542767.67511773,  3984052.23997116,\n",
       "        2191542.07000077,  3668063.8510958 ,  2680388.07251734,\n",
       "        5381084.47276327,  4772156.34473103,  2767925.27297627,\n",
       "        4509353.56775095,  3443177.04274506,  3759327.79224499,\n",
       "        7194169.17587268,  4655823.00775421,  2690652.06186574,\n",
       "        5195161.92932104,  2284751.46646933,  5813390.20975335,\n",
       "        3165236.06848396,  4130172.56839932,  3320086.80913478,\n",
       "        3462870.50681492,  3936332.9766701 ,  3541186.39610133,\n",
       "        3964667.99849184,  3438702.44551667,  6390524.32087707,\n",
       "        3389618.62022889,  6751240.50360771,   870994.40469358,\n",
       "        3227573.04719698,  3557501.5541708 ,  2091548.8802847 ,\n",
       "        2294340.99060719,  5153864.55280009,  3157790.54829744,\n",
       "        3431938.68117397,  3665379.98214453,  3005862.22130611,\n",
       "        2336576.8550298 ,  1991459.73137474,  3206026.90087069,\n",
       "         476045.28586739,  2799430.02881961,  2192679.35495949,\n",
       "        3969099.41696982,  3394625.53321126,  1567046.58871605,\n",
       "        1855451.96245394,   836696.7309946 ,  5334036.87097056,\n",
       "        4921838.17562153,  3855316.32252085,  3128980.6319312 ,\n",
       "        1798066.74715068,  2207249.25013443,  2956093.47608307,\n",
       "        4056346.77693712,  3488568.97114821,  3857696.26536454,\n",
       "        3353919.61447635,  4821938.23607039,  4347034.46294884,\n",
       "        2646460.4544127 ,  5294813.67192305,  4038692.04210009,\n",
       "        3980850.24486431,  6272805.70835657,  3528270.16821298,\n",
       "        4193243.61115824,  1153979.92159815,  4549966.29668542,\n",
       "        2790946.36837452,  3079960.32709352,  2779864.13006283,\n",
       "        2346384.15501607,  2946343.38514925,   716210.7655455 ,\n",
       "        3857981.68756755,  1971294.21572152,  7303189.08773072,\n",
       "        3026886.90677639,  3083539.51258878,  2395391.59614112,\n",
       "        2619035.56919748,  5009346.77597983,   803620.18872324,\n",
       "        4511846.84297238,  3474226.90929575,  4541258.10045759,\n",
       "        2970063.28338103,  3886815.31625167,  2595397.60705181,\n",
       "        2486897.87693416,  4263441.07577386,  2570351.64926647,\n",
       "         752873.54919969,  5717095.91472448,  4217904.07200302,\n",
       "        3929936.50161369,  4656113.87845148,  4355690.40125066,\n",
       "        4450050.73894853,  2433620.22054718,  1282128.82203496,\n",
       "        3553970.07101909,  2687516.87635518,  2356312.86344281,\n",
       "        6150353.29488747,   477796.47082076,  3766878.53288545,\n",
       "        1645604.16962127,  6430479.07537855,  2941465.99564762,\n",
       "        2746959.59133123,  2842292.63015595,  3656976.17239277,\n",
       "         670103.67635477,  4337446.04205747,  2107261.86940217,\n",
       "        3661024.27674913,  2860542.841243  ,  2666491.65240695,\n",
       "        2528796.07464109,  2894491.81614   ,  3720323.11392244,\n",
       "        3737636.59515514,  5140502.14701869,  2571373.62123687,\n",
       "        2949683.69854585,  3078872.42565139,  2227399.97868016,\n",
       "        4224401.32998018,  2666016.48995809,  2417041.60094176,\n",
       "        3205995.6332268 ,  3904689.00224734,  2062211.97532869,\n",
       "        2480190.5870636 ,  1790856.58250954,   415144.59392822,\n",
       "        3216656.88599457,  1062091.22498127,  8337921.45455341,\n",
       "        2254677.8808653 ,  1526748.2695633 ,  2466453.76595276,\n",
       "        3621411.3087904 ,  2082159.63708232,  4868813.5005654 ,\n",
       "        5395740.89428783,  3052861.4710163 ,  3758356.89132372,\n",
       "         707839.25603282,  5143964.21283755,  4221554.98785612,\n",
       "        2050005.67737921,   754574.03239338,  4257336.32386398,\n",
       "        5280371.04197649,  3290622.82099106,  6935208.27263067,\n",
       "        3054322.01893817,  3324726.55105339,   605037.75542935,\n",
       "        3834249.04543751,  1881357.20956005,  2754236.16621179,\n",
       "        2165614.58619819,  5655368.37146261,  2342663.0983354 ,\n",
       "        2620114.03399188,  3131012.76487442,  6020511.64580612,\n",
       "        9170184.96821507,   828327.92999601,  5467042.52223088,\n",
       "        5341200.86145016,  4456739.3053272 ,  2972230.50647271,\n",
       "         975972.01271385,  5046160.80053665,  3714115.59108395,\n",
       "        4559853.01154368,  2207654.73461258,  3957896.23602869,\n",
       "        3330014.22726938,  3417306.5121421 ,  4397972.92628841,\n",
       "        1620921.2803769 ,  1845381.73677358,  5684317.69188913,\n",
       "        6186630.32760417,  4050735.72864479,  2265210.86712593,\n",
       "        1931710.93217485,  3828955.20800097,  2539989.53451146,\n",
       "        1890437.26834393,  7211292.99939888,  4561633.70332382,\n",
       "        3602316.38336091,  2757290.40268531,  3174598.11523341,\n",
       "        4501400.87119148,  3002809.45004252,  3310445.33009315,\n",
       "        5370393.57390206,  3916768.63087663,  3004229.50922585,\n",
       "        3853385.95420791,  4854481.55016301,   576036.61850038,\n",
       "        2317999.35752514,  5473710.58204926,  5622360.00475742,\n",
       "        1840168.67497985,  5452423.48142838,  3118366.24905128,\n",
       "        2000907.1995945 ,   636834.55506146,  3715681.61813535,\n",
       "        1090501.15740835,  4409248.78256356,  2354484.96575008,\n",
       "        3968152.3975571 ,  2650735.41193904,  1762018.30316775,\n",
       "        4968078.0937561 ,  4265021.78230642,   631229.7884794 ,\n",
       "        4928818.7629689 ,  2506240.694982  ,  1631956.60652901,\n",
       "        2242732.73085049,  2485058.46305954,  3710343.43123688,\n",
       "        2060929.0840488 ,  3937782.19597765,  5793515.12064727,\n",
       "        2891957.47196139,  3259556.93190605,  1369100.87955054,\n",
       "        2886590.24852344,  3865321.25179478,  4722793.72584947,\n",
       "        4456987.81210831,  2805078.22562984,  2275820.6208589 ,\n",
       "        5205900.28520055,  2905631.46952353,  2364680.81433906,\n",
       "         555662.59163214,  4210534.05086057,   768709.21727552,\n",
       "        3043235.14851195,  3112306.62103781,  1951181.4699127 ,\n",
       "        4513485.84982736,  4536085.59609661,  3020527.87792244,\n",
       "        4005414.24587421,  3418941.72012456,  2482854.67641927,\n",
       "        5410024.06846628,  4012094.49092921,  2796528.9893675 ,\n",
       "        2383772.10299009,  2689853.885149  ,  2692739.39241243,\n",
       "        5004663.7038191 ,  4289327.75978292,  3489839.39710074,\n",
       "        2282523.36000097,  3922217.92361994,  4859007.97186704,\n",
       "        2358387.47445219,  2563579.60537071, 14503782.61398588,\n",
       "        8660378.49553593,  3841332.7241287 ,  4739992.05475439,\n",
       "        2680870.55269275,  3162427.35236631,   479439.42687444,\n",
       "        3724712.68810213,  3408891.71053995,  3783464.16243264,\n",
       "        4417345.15582306,  6289741.08889109,  4552139.11366082,\n",
       "        4221163.38939509,  1619293.1163903 ,   926701.89798316,\n",
       "        4303245.33120455,  2773196.2346425 ,  4457431.31818119,\n",
       "        2803390.38160723,  3079862.84976414,  7872373.70933374,\n",
       "        4617549.70295268,  3523174.20568898])"
      ]
     },
     "execution_count": 253,
     "metadata": {},
     "output_type": "execute_result"
    }
   ],
   "source": [
    "10**lr.predict(X_test_complex)"
   ]
  },
  {
   "cell_type": "code",
   "execution_count": 254,
   "metadata": {},
   "outputs": [
    {
     "data": {
      "text/html": [
       "<div>\n",
       "<style scoped>\n",
       "    .dataframe tbody tr th:only-of-type {\n",
       "        vertical-align: middle;\n",
       "    }\n",
       "\n",
       "    .dataframe tbody tr th {\n",
       "        vertical-align: top;\n",
       "    }\n",
       "\n",
       "    .dataframe thead th {\n",
       "        text-align: right;\n",
       "    }\n",
       "</style>\n",
       "<table border=\"1\" class=\"dataframe\">\n",
       "  <thead>\n",
       "    <tr style=\"text-align: right;\">\n",
       "      <th></th>\n",
       "      <th>PID</th>\n",
       "      <th>pred_simple</th>\n",
       "      <th>pred_int</th>\n",
       "      <th>pred_complex</th>\n",
       "    </tr>\n",
       "  </thead>\n",
       "  <tbody>\n",
       "    <tr>\n",
       "      <th>0</th>\n",
       "      <td>909279080</td>\n",
       "      <td>230491.0</td>\n",
       "      <td>166914.0</td>\n",
       "      <td>3246010.0</td>\n",
       "    </tr>\n",
       "    <tr>\n",
       "      <th>1</th>\n",
       "      <td>907126050</td>\n",
       "      <td>120626.0</td>\n",
       "      <td>137245.0</td>\n",
       "      <td>2958138.0</td>\n",
       "    </tr>\n",
       "    <tr>\n",
       "      <th>2</th>\n",
       "      <td>528144030</td>\n",
       "      <td>227381.0</td>\n",
       "      <td>277060.0</td>\n",
       "      <td>3211857.0</td>\n",
       "    </tr>\n",
       "    <tr>\n",
       "      <th>3</th>\n",
       "      <td>535452060</td>\n",
       "      <td>132403.0</td>\n",
       "      <td>129548.0</td>\n",
       "      <td>4192277.0</td>\n",
       "    </tr>\n",
       "    <tr>\n",
       "      <th>4</th>\n",
       "      <td>911202100</td>\n",
       "      <td>136225.0</td>\n",
       "      <td>88047.0</td>\n",
       "      <td>546479.0</td>\n",
       "    </tr>\n",
       "    <tr>\n",
       "      <th>5</th>\n",
       "      <td>531382090</td>\n",
       "      <td>180027.0</td>\n",
       "      <td>171583.0</td>\n",
       "      <td>3847268.0</td>\n",
       "    </tr>\n",
       "    <tr>\n",
       "      <th>6</th>\n",
       "      <td>902477130</td>\n",
       "      <td>106469.0</td>\n",
       "      <td>60124.0</td>\n",
       "      <td>406350.0</td>\n",
       "    </tr>\n",
       "    <tr>\n",
       "      <th>7</th>\n",
       "      <td>527402150</td>\n",
       "      <td>119926.0</td>\n",
       "      <td>137591.0</td>\n",
       "      <td>2488929.0</td>\n",
       "    </tr>\n",
       "    <tr>\n",
       "      <th>8</th>\n",
       "      <td>908102320</td>\n",
       "      <td>164122.0</td>\n",
       "      <td>149734.0</td>\n",
       "      <td>3795002.0</td>\n",
       "    </tr>\n",
       "    <tr>\n",
       "      <th>9</th>\n",
       "      <td>908276140</td>\n",
       "      <td>138536.0</td>\n",
       "      <td>104009.0</td>\n",
       "      <td>3019579.0</td>\n",
       "    </tr>\n",
       "  </tbody>\n",
       "</table>\n",
       "</div>"
      ],
      "text/plain": [
       "         PID  pred_simple  pred_int  pred_complex\n",
       "0  909279080     230491.0  166914.0     3246010.0\n",
       "1  907126050     120626.0  137245.0     2958138.0\n",
       "2  528144030     227381.0  277060.0     3211857.0\n",
       "3  535452060     132403.0  129548.0     4192277.0\n",
       "4  911202100     136225.0   88047.0      546479.0\n",
       "5  531382090     180027.0  171583.0     3847268.0\n",
       "6  902477130     106469.0   60124.0      406350.0\n",
       "7  527402150     119926.0  137591.0     2488929.0\n",
       "8  908102320     164122.0  149734.0     3795002.0\n",
       "9  908276140     138536.0  104009.0     3019579.0"
      ]
     },
     "execution_count": 254,
     "metadata": {},
     "output_type": "execute_result"
    }
   ],
   "source": [
    "data_test[['PID','pred_simple','pred_int','pred_complex']].head(10)"
   ]
  },
  {
   "cell_type": "code",
   "execution_count": 255,
   "metadata": {},
   "outputs": [],
   "source": [
    "data_test[['PID','pred_simple']].rename(columns={'pred_simple':'SalePrice'}).to_csv(r'house-price\\predictions-simple-model.csv',index=False)\n",
    "data_test[['PID','pred_int']].rename(columns={'pred_int':'SalePrice'}).to_csv(r'house-price\\predictions-intermediate-model.csv',index=False)\n",
    "data_test[['PID','pred_complex']].rename(columns={'pred_complex':'SalePrice'}).to_csv(r'house-price\\predictions-complex-model.csv',index=False)\n",
    "data_test[['PID','pred_simple','pred_int','pred_complex']].to_csv(r'house-price\\predictions-all-model.csv',index=False)"
   ]
  },
  {
   "cell_type": "code",
   "execution_count": 256,
   "metadata": {},
   "outputs": [
    {
     "data": {
      "text/html": [
       "<div>\n",
       "<style scoped>\n",
       "    .dataframe tbody tr th:only-of-type {\n",
       "        vertical-align: middle;\n",
       "    }\n",
       "\n",
       "    .dataframe tbody tr th {\n",
       "        vertical-align: top;\n",
       "    }\n",
       "\n",
       "    .dataframe thead th {\n",
       "        text-align: right;\n",
       "    }\n",
       "</style>\n",
       "<table border=\"1\" class=\"dataframe\">\n",
       "  <thead>\n",
       "    <tr style=\"text-align: right;\">\n",
       "      <th></th>\n",
       "      <th>0</th>\n",
       "    </tr>\n",
       "  </thead>\n",
       "  <tbody>\n",
       "    <tr>\n",
       "      <th>Heating_GasA</th>\n",
       "      <td>1.000000e+00</td>\n",
       "    </tr>\n",
       "    <tr>\n",
       "      <th>House Style_1Story</th>\n",
       "      <td>1.000000e+00</td>\n",
       "    </tr>\n",
       "    <tr>\n",
       "      <th>Misc Feature_None</th>\n",
       "      <td>1.000000e+00</td>\n",
       "    </tr>\n",
       "    <tr>\n",
       "      <th>SalePrice</th>\n",
       "      <td>1.000000e+00</td>\n",
       "    </tr>\n",
       "    <tr>\n",
       "      <th>Roof Matl_CompShg</th>\n",
       "      <td>1.000000e+00</td>\n",
       "    </tr>\n",
       "    <tr>\n",
       "      <th>BsmtFin SF 1</th>\n",
       "      <td>4.861111e-02</td>\n",
       "    </tr>\n",
       "    <tr>\n",
       "      <th>Order</th>\n",
       "      <td>3.452991e-02</td>\n",
       "    </tr>\n",
       "    <tr>\n",
       "      <th>Lot Area</th>\n",
       "      <td>1.961288e-03</td>\n",
       "    </tr>\n",
       "    <tr>\n",
       "      <th>PID</th>\n",
       "      <td>5.313228e-06</td>\n",
       "    </tr>\n",
       "    <tr>\n",
       "      <th>Lot Frontage</th>\n",
       "      <td>2.053533e-16</td>\n",
       "    </tr>\n",
       "  </tbody>\n",
       "</table>\n",
       "</div>"
      ],
      "text/plain": [
       "                               0\n",
       "Heating_GasA        1.000000e+00\n",
       "House Style_1Story  1.000000e+00\n",
       "Misc Feature_None   1.000000e+00\n",
       "SalePrice           1.000000e+00\n",
       "Roof Matl_CompShg   1.000000e+00\n",
       "BsmtFin SF 1        4.861111e-02\n",
       "Order               3.452991e-02\n",
       "Lot Area            1.961288e-03\n",
       "PID                 5.313228e-06\n",
       "Lot Frontage        2.053533e-16"
      ]
     },
     "execution_count": 256,
     "metadata": {},
     "output_type": "execute_result"
    }
   ],
   "source": [
    "((data_final.median() - data_test.median()) / data_final.median()).to_frame().sort_values(by=0,ascending=False).head(10)"
   ]
  },
  {
   "cell_type": "code",
   "execution_count": 257,
   "metadata": {},
   "outputs": [
    {
     "name": "stdout",
     "output_type": "stream",
     "text": [
      "69.20199004975125\n"
     ]
    },
    {
     "data": {
      "image/png": "[encoded data removed]",
      "text/plain": [
       "<Figure size 432x288 with 1 Axes>"
      ]
     },
     "metadata": {
      "needs_background": "light"
     },
     "output_type": "display_data"
    }
   ],
   "source": [
    "data_final['Lot Frontage'].hist()\n",
    "print(data_final['Lot Frontage'].median())\n",
    "plt.show()"
   ]
  },
  {
   "cell_type": "code",
   "execution_count": 258,
   "metadata": {},
   "outputs": [
    {
     "name": "stdout",
     "output_type": "stream",
     "text": [
      "69.20199004975123\n"
     ]
    },
    {
     "data": {
      "image/png": "[encoded data removed]",
      "text/plain": [
       "<Figure size 432x288 with 1 Axes>"
      ]
     },
     "metadata": {
      "needs_background": "light"
     },
     "output_type": "display_data"
    }
   ],
   "source": [
    "data_test['Lot Frontage'].hist()\n",
    "print(data_test['Lot Frontage'].median())\n",
    "plt.show()"
   ]
  },
  {
   "cell_type": "code",
   "execution_count": 259,
   "metadata": {},
   "outputs": [
    {
     "name": "stdout",
     "output_type": "stream",
     "text": [
      "535453170.0\n"
     ]
    },
    {
     "data": {
      "image/png": "[encoded data removed]",
      "text/plain": [
       "<Figure size 432x288 with 1 Axes>"
      ]
     },
     "metadata": {
      "needs_background": "light"
     },
     "output_type": "display_data"
    }
   ],
   "source": [
    "data_test['PID'].hist()\n",
    "print(data_test['PID'].median())\n",
    "plt.show()"
   ]
  },
  {
   "cell_type": "code",
   "execution_count": 260,
   "metadata": {},
   "outputs": [
    {
     "name": "stdout",
     "output_type": "stream",
     "text": [
      "535456015.0\n"
     ]
    },
    {
     "data": {
      "image/png": "[encoded data removed]",
      "text/plain": [
       "<Figure size 432x288 with 1 Axes>"
      ]
     },
     "metadata": {
      "needs_background": "light"
     },
     "output_type": "display_data"
    }
   ],
   "source": [
    "data_final['PID'].hist()\n",
    "print(data_final['PID'].median())\n",
    "plt.show()"
   ]
  },
  {
   "cell_type": "code",
   "execution_count": null,
   "metadata": {},
   "outputs": [],
   "source": []
  },
  {
   "cell_type": "markdown",
   "metadata": {},
   "source": [
    "## Questions (Greg notes)\n",
    "* Shall I overwrite 'data' each time I do an update (handling outliers and NA)? Or shall I create a copy or new df each time?\n",
    "* How to deal with Year build and renovation? Maybe buckets?\n",
    "* For some cases I assign NaN to most frequent value. I am doing this manually. Shall I be automating it in case the data set gets refresh en enhanced? Shall I create a code to pick most frequent?\n",
    "* How to handle Type 1 (+Type 2)? Or two floors? Feature Engineering?\n",
    "* What happens if we keep Nans in variable data? Example of Garage?\n",
    "* Shall I also clean outliers for SalePrice (output variable)?\n",
    "* How shall I deal with Discrete variable in Feature encoding or engineering\n",
    "* Number of rooms or bathrooms is discrete or can be considered continuous?\n",
    "* Shouldn't the feature engineering step come before feature encoding to be able to encode feature engineered?\n",
    "* Feature engineering needs to be applied to data_test as well?\n",
    "* How to choose on which variable to apply polynomial?\n",
    "* how to deal with NaN values in cases where for example Garage don't exist and i don't want to put 0? Keeping Nan seems to break Linear Regression model\n",
    "* Is it correct to preprocessed test data with train data value and same arrangements?\n",
    "* how to deal with variable not equal between train and test sets?"
   ]
  },
  {
   "cell_type": "code",
   "execution_count": null,
   "metadata": {},
   "outputs": [],
   "source": []
  },
  {
   "cell_type": "code",
   "execution_count": null,
   "metadata": {},
   "outputs": [],
   "source": []
  },
  {
   "cell_type": "code",
   "execution_count": null,
   "metadata": {},
   "outputs": [],
   "source": []
  }
 ],
 "metadata": {
  "kernelspec": {
   "display_name": "Python 3",
   "language": "python",
   "name": "python3"
  },
  "language_info": {
   "codemirror_mode": {
    "name": "ipython",
    "version": 3
   },
   "file_extension": ".py",
   "mimetype": "text/x-python",
   "name": "python",
   "nbconvert_exporter": "python",
   "pygments_lexer": "ipython3",
   "version": "3.6.10"
  }
 },
 "nbformat": 4,
 "nbformat_minor": 4
}
