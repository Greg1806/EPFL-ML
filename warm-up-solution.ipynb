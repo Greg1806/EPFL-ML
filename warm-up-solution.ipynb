{
 "cells": [
  {
   "cell_type": "markdown",
   "metadata": {},
   "source": [
    "## 1. Course project - Introduction\n",
    "\n",
    "**Congratulation!** You've completed all subjects of this course and can now work on the course project which consists of two parts.\n",
    "\n",
    "* **Warm-up** - Solve a set of short tasks on synthetic data sets\n",
    "* **House prices** - Predict house prices using a real data set with 2,930 observations and 82 variables\n",
    "\n",
    "### Warm-up tasks\n",
    "The goal of the warm-up is to test your global understanding of the main concepts and tools presented in this course. It consists of two short tasks that we describe in the next unit.\n",
    "\n",
    "### House prices\n",
    "This is the main part of the project. We already worked with this data set in the last units, but never built a full model with all the data cleaning, preprocessing and new predictions-making steps. Also, the goal is to build several models of varying complexity and compare the results."
   ]
  },
  {
   "cell_type": "markdown",
   "metadata": {},
   "source": [
    "## 2. Part 1 - Warm-up\n",
    "\n",
    "The first part of the project consists of two small tasks. You can find a $.csv$ file for each one in the $warm-up.zip$ archive from the resource section. Write the solution for all the tasks in a $warm-up-solution.ipynb$ notebook that should run with the $exts-ml$ course environment.\n",
    "\n",
    "### Task 1\n",
    "The first task consists of fitting the following equation to a set of 50 x/y data points.\n",
    "\n",
    "$y\n",
    "=\n",
    "a\n",
    "∗\n",
    "log\n",
    "(\n",
    "x\n",
    ")\n",
    "+\n",
    "b$\n",
    "\n",
    "Here is a plot of the data points with the desired model curve.\n",
    "\n",
    "https://d7whxh71cqykp.cloudfront.net/uploads/image/data/3782/task1-model.svg\n",
    "\n",
    "Your curve should be optimal with respect to the residual sum of squares metric (RSS). Perform the following steps\n",
    "\n",
    "1. Fit the curve, plot it\n",
    "2. Compute the RSS and \n",
    "$R\n",
    "2$\n",
    " measures\n",
    "3. Discuss the results, is it a good \n",
    "$R\n",
    "2$\n",
    " score?"
   ]
  },
  {
   "cell_type": "markdown",
   "metadata": {},
   "source": [
    "#### Starting Task 1\n",
    "\n",
    "1. Importing data set\n",
    "2. Plotting x and y in scatter plot\n",
    "3. Using log(x) instead of x in polyfit function\n",
    "4. Apply coefs from polyfit function to create fit line plot\n",
    "5. Calculate RSS for both polyfit and mean baseline\n",
    "6. Calculate R2 and comment"
   ]
  },
  {
   "cell_type": "code",
   "execution_count": 1,
   "metadata": {},
   "outputs": [],
   "source": [
    "import pandas as pd\n",
    "import numpy as np"
   ]
  },
  {
   "cell_type": "code",
   "execution_count": 2,
   "metadata": {},
   "outputs": [
    {
     "data": {
      "text/plain": [
       "(50, 2)"
      ]
     },
     "execution_count": 2,
     "metadata": {},
     "output_type": "execute_result"
    }
   ],
   "source": [
    "# Importing data set\n",
    "data_task1 = pd.read_csv('task-1.csv')\n",
    "data_task1.shape"
   ]
  },
  {
   "cell_type": "code",
   "execution_count": 3,
   "metadata": {},
   "outputs": [],
   "source": [
    "%matplotlib inline\n",
    "import matplotlib.pyplot as plt"
   ]
  },
  {
   "cell_type": "code",
   "execution_count": 4,
   "metadata": {},
   "outputs": [],
   "source": [
    "x = data_task1.x.values\n",
    "y = data_task1.y.values"
   ]
  },
  {
   "cell_type": "code",
   "execution_count": 5,
   "metadata": {},
   "outputs": [
    {
     "data": {
      "image/png": "[encoded data removed]",
      "text/plain": [
       "<Figure size 432x288 with 1 Axes>"
      ]
     },
     "metadata": {
      "needs_background": "light"
     },
     "output_type": "display_data"
    }
   ],
   "source": [
    "# Plotting x and y in scatter plot\n",
    "plt.scatter(x,y)\n",
    "plt.xlabel('x-values')\n",
    "plt.ylabel('y-values')\n",
    "plt.show()"
   ]
  },
  {
   "cell_type": "code",
   "execution_count": 6,
   "metadata": {},
   "outputs": [
    {
     "name": "stdout",
     "output_type": "stream",
     "text": [
      "a: 3.3902409977137995\n",
      "b: 31.52920121929614\n"
     ]
    }
   ],
   "source": [
    "# Using log(x) instead of x in polyfit function\n",
    "coefs = np.polyfit(np.log(x),y,deg=1)\n",
    "a, b = coefs\n",
    "print('a:',a)\n",
    "print('b:',b)"
   ]
  },
  {
   "cell_type": "code",
   "execution_count": 7,
   "metadata": {},
   "outputs": [
    {
     "data": {
      "image/png": "[encoded data removed]",
      "text/plain": [
       "<Figure size 432x288 with 1 Axes>"
      ]
     },
     "metadata": {
      "needs_background": "light"
     },
     "output_type": "display_data"
    }
   ],
   "source": [
    "# Apply coefs from polyfit function to create fit line plot\n",
    "x_values = np.linspace(x.min(),x.max(),num=100)\n",
    "y_values = np.polyval(coefs, np.log(x_values))\n",
    "\n",
    "plt.scatter(x,y)\n",
    "plt.plot(x_values, y_values,c='red',label='Polyfit(log(x),y,deg=1)')\n",
    "plt.xlabel('x-values')\n",
    "plt.ylabel('y-values')\n",
    "plt.legend()\n",
    "plt.show()"
   ]
  },
  {
   "cell_type": "code",
   "execution_count": 8,
   "metadata": {},
   "outputs": [],
   "source": [
    "# Calculate RSS for both polyfit and mean baseline\n",
    "def RSS(y, y_pred):\n",
    "    return np.sum(np.square(y - y_pred))"
   ]
  },
  {
   "cell_type": "code",
   "execution_count": 9,
   "metadata": {},
   "outputs": [],
   "source": [
    "y_pred = np.polyval(coefs, np.log(x))"
   ]
  },
  {
   "cell_type": "code",
   "execution_count": 10,
   "metadata": {},
   "outputs": [
    {
     "data": {
      "text/plain": [
       "31.842651752756687"
      ]
     },
     "execution_count": 10,
     "metadata": {},
     "output_type": "execute_result"
    }
   ],
   "source": [
    "rss_poly = RSS(y, y_pred)\n",
    "rss_poly"
   ]
  },
  {
   "cell_type": "code",
   "execution_count": 11,
   "metadata": {},
   "outputs": [
    {
     "data": {
      "text/plain": [
       "541.1432872199999"
      ]
     },
     "execution_count": 11,
     "metadata": {},
     "output_type": "execute_result"
    }
   ],
   "source": [
    "# compute baseline\n",
    "rss_base= RSS(y, np.mean(y))\n",
    "rss_base"
   ]
  },
  {
   "cell_type": "code",
   "execution_count": 12,
   "metadata": {},
   "outputs": [
    {
     "name": "stdout",
     "output_type": "stream",
     "text": [
      "R2 coefficient: 0.9411567093138288\n"
     ]
    }
   ],
   "source": [
    "# Calculate R2 and comment\n",
    "R2 = 1 - (rss_poly / rss_base)\n",
    "print('R2 coefficient:', R2)"
   ]
  },
  {
   "cell_type": "markdown",
   "metadata": {},
   "source": [
    "#### Comments on R2\n",
    "\n",
    "R2 is very **high** which means a high share of the variation can be explained by the model which is over-performing the baseline. Looking at the scatter plot it seems to make sense that the line plotted is more accurate than mean of target values"
   ]
  },
  {
   "cell_type": "markdown",
   "metadata": {},
   "source": [
    "## Task 2\n",
    "The second task consists of fitting a model to a set of data points that contains outliers. Here are the first five entries\n",
    "\n",
    "https://d7whxh71cqykp.cloudfront.net/uploads/image/data/3783/task2-df.png\n",
    "\n",
    "The goal is to try and compare different approaches to handle outliers. Use the train/test split methodology (ex. 80-20 splits) and compare the test MAE score for each one of the following approaches\n",
    "\n",
    "1. Fit a linear regression with the outliers\n",
    "2. Fit a huber regression with the outliers\n",
    "3. Fit a linear regression without the outliers\n",
    "\n",
    "The linear regression without outliers and huber regression models should both perform better than the linear regression with outliers."
   ]
  },
  {
   "cell_type": "markdown",
   "metadata": {},
   "source": [
    "### Starting Task 2\n",
    "\n",
    "1. Import data\n",
    "2. Vizualize data to identify potential outliers\n",
    "3. Use z-scores to identify outliers and add outliers column to data frame (49 outliers identified)\n",
    "4. Split data in train test data sets using sklearn\n",
    "5. LinearRegression and HuberRegressor used with full data set (including outliers): create object, fit and predict\n",
    "6. Import MAE function to compare models\n",
    "7. LinearRegression without outliers. Decided to remove outliers before doing the test-train split\n",
    "8. Use MAE function to compare to both models including outliers\n",
    "9. Plot MAE of three models to have a vizualiation comparson"
   ]
  },
  {
   "cell_type": "code",
   "execution_count": 13,
   "metadata": {},
   "outputs": [
    {
     "data": {
      "text/html": [
       "<div>\n",
       "<style scoped>\n",
       "    .dataframe tbody tr th:only-of-type {\n",
       "        vertical-align: middle;\n",
       "    }\n",
       "\n",
       "    .dataframe tbody tr th {\n",
       "        vertical-align: top;\n",
       "    }\n",
       "\n",
       "    .dataframe thead th {\n",
       "        text-align: right;\n",
       "    }\n",
       "</style>\n",
       "<table border=\"1\" class=\"dataframe\">\n",
       "  <thead>\n",
       "    <tr style=\"text-align: right;\">\n",
       "      <th></th>\n",
       "      <th>x1</th>\n",
       "      <th>x2</th>\n",
       "      <th>x3</th>\n",
       "      <th>y</th>\n",
       "    </tr>\n",
       "  </thead>\n",
       "  <tbody>\n",
       "    <tr>\n",
       "      <th>0</th>\n",
       "      <td>7.892</td>\n",
       "      <td>318.818</td>\n",
       "      <td>162.970</td>\n",
       "      <td>2112.420</td>\n",
       "    </tr>\n",
       "    <tr>\n",
       "      <th>1</th>\n",
       "      <td>8.830</td>\n",
       "      <td>303.180</td>\n",
       "      <td>181.399</td>\n",
       "      <td>2096.231</td>\n",
       "    </tr>\n",
       "    <tr>\n",
       "      <th>2</th>\n",
       "      <td>13.811</td>\n",
       "      <td>296.231</td>\n",
       "      <td>145.849</td>\n",
       "      <td>2067.045</td>\n",
       "    </tr>\n",
       "    <tr>\n",
       "      <th>3</th>\n",
       "      <td>12.863</td>\n",
       "      <td>325.830</td>\n",
       "      <td>167.996</td>\n",
       "      <td>2269.262</td>\n",
       "    </tr>\n",
       "    <tr>\n",
       "      <th>4</th>\n",
       "      <td>13.698</td>\n",
       "      <td>254.035</td>\n",
       "      <td>171.892</td>\n",
       "      <td>1966.604</td>\n",
       "    </tr>\n",
       "  </tbody>\n",
       "</table>\n",
       "</div>"
      ],
      "text/plain": [
       "       x1       x2       x3         y\n",
       "0   7.892  318.818  162.970  2112.420\n",
       "1   8.830  303.180  181.399  2096.231\n",
       "2  13.811  296.231  145.849  2067.045\n",
       "3  12.863  325.830  167.996  2269.262\n",
       "4  13.698  254.035  171.892  1966.604"
      ]
     },
     "execution_count": 13,
     "metadata": {},
     "output_type": "execute_result"
    }
   ],
   "source": [
    "#Import data\n",
    "data_task2 = pd.read_csv('task-2.csv')\n",
    "data_task2.head()"
   ]
  },
  {
   "cell_type": "code",
   "execution_count": 14,
   "metadata": {},
   "outputs": [
    {
     "data": {
      "image/png": "[encoded data removed]",
      "text/plain": [
       "<Figure size 432x288 with 1 Axes>"
      ]
     },
     "metadata": {
      "needs_background": "light"
     },
     "output_type": "display_data"
    }
   ],
   "source": [
    "#Vizualize data to identify potential outliers (example below with 'X1')\n",
    "plt.scatter('x1','y',data=data_task2)\n",
    "plt.xlabel('X-values')\n",
    "plt.ylabel('Y-values')\n",
    "plt.show()"
   ]
  },
  {
   "cell_type": "code",
   "execution_count": 15,
   "metadata": {},
   "outputs": [],
   "source": [
    "# Use z-scores to identify outliers and add outliers column to data frame (49 outliers identified) \n",
    "# Decision to take values that are over or below 2 (which means they are more than 2 std away from mean)\n",
    "z_score_x1 = (data_task2['x1'] - data_task2['x1'].mean()) / data_task2['x1'].std()\n",
    "idx_x1 = np.abs(z_score_x1) > 2"
   ]
  },
  {
   "cell_type": "code",
   "execution_count": 16,
   "metadata": {},
   "outputs": [
    {
     "data": {
      "image/png": "[encoded data removed]",
      "text/plain": [
       "<Figure size 432x288 with 1 Axes>"
      ]
     },
     "metadata": {
      "needs_background": "light"
     },
     "output_type": "display_data"
    }
   ],
   "source": [
    "# Vizusalization for 'x1'\n",
    "plt.scatter('x1','y',data=data_task2,c=idx_x1)\n",
    "plt.xlabel('X-values')\n",
    "plt.ylabel('Y-values')\n",
    "plt.show()"
   ]
  },
  {
   "cell_type": "code",
   "execution_count": 17,
   "metadata": {},
   "outputs": [],
   "source": [
    "z_score_x1 = (data_task2['x1'] - data_task2['x1'].mean()) / data_task2['x1'].std()\n",
    "z_score_x2 = (data_task2['x2'] - data_task2['x2'].mean()) / data_task2['x2'].std()\n",
    "z_score_x3 = (data_task2['x3'] - data_task2['x3'].mean()) / data_task2['x3'].std()\n",
    "idx = (np.abs(z_score_x1) > 2) | (np.abs(z_score_x2) > 2) | (np.abs(z_score_x3) > 2)"
   ]
  },
  {
   "cell_type": "code",
   "execution_count": 18,
   "metadata": {},
   "outputs": [
    {
     "name": "stdout",
     "output_type": "stream",
     "text": [
      "49 rows are identified as outliers\n"
     ]
    }
   ],
   "source": [
    "# Adding column to dataframe\n",
    "data_task2['outliers'] = idx\n",
    "print(idx.sum(), 'rows are identified as outliers')"
   ]
  },
  {
   "cell_type": "code",
   "execution_count": 19,
   "metadata": {},
   "outputs": [
    {
     "data": {
      "text/html": [
       "<div>\n",
       "<style scoped>\n",
       "    .dataframe tbody tr th:only-of-type {\n",
       "        vertical-align: middle;\n",
       "    }\n",
       "\n",
       "    .dataframe tbody tr th {\n",
       "        vertical-align: top;\n",
       "    }\n",
       "\n",
       "    .dataframe thead th {\n",
       "        text-align: right;\n",
       "    }\n",
       "</style>\n",
       "<table border=\"1\" class=\"dataframe\">\n",
       "  <thead>\n",
       "    <tr style=\"text-align: right;\">\n",
       "      <th></th>\n",
       "      <th>x1</th>\n",
       "      <th>x2</th>\n",
       "      <th>x3</th>\n",
       "      <th>y</th>\n",
       "      <th>outliers</th>\n",
       "    </tr>\n",
       "  </thead>\n",
       "  <tbody>\n",
       "    <tr>\n",
       "      <th>0</th>\n",
       "      <td>7.892</td>\n",
       "      <td>318.818</td>\n",
       "      <td>162.970</td>\n",
       "      <td>2112.420</td>\n",
       "      <td>False</td>\n",
       "    </tr>\n",
       "    <tr>\n",
       "      <th>1</th>\n",
       "      <td>8.830</td>\n",
       "      <td>303.180</td>\n",
       "      <td>181.399</td>\n",
       "      <td>2096.231</td>\n",
       "      <td>False</td>\n",
       "    </tr>\n",
       "    <tr>\n",
       "      <th>2</th>\n",
       "      <td>13.811</td>\n",
       "      <td>296.231</td>\n",
       "      <td>145.849</td>\n",
       "      <td>2067.045</td>\n",
       "      <td>False</td>\n",
       "    </tr>\n",
       "    <tr>\n",
       "      <th>3</th>\n",
       "      <td>12.863</td>\n",
       "      <td>325.830</td>\n",
       "      <td>167.996</td>\n",
       "      <td>2269.262</td>\n",
       "      <td>False</td>\n",
       "    </tr>\n",
       "    <tr>\n",
       "      <th>4</th>\n",
       "      <td>13.698</td>\n",
       "      <td>254.035</td>\n",
       "      <td>171.892</td>\n",
       "      <td>1966.604</td>\n",
       "      <td>False</td>\n",
       "    </tr>\n",
       "  </tbody>\n",
       "</table>\n",
       "</div>"
      ],
      "text/plain": [
       "       x1       x2       x3         y  outliers\n",
       "0   7.892  318.818  162.970  2112.420     False\n",
       "1   8.830  303.180  181.399  2096.231     False\n",
       "2  13.811  296.231  145.849  2067.045     False\n",
       "3  12.863  325.830  167.996  2269.262     False\n",
       "4  13.698  254.035  171.892  1966.604     False"
      ]
     },
     "execution_count": 19,
     "metadata": {},
     "output_type": "execute_result"
    }
   ],
   "source": [
    "data_task2.head()"
   ]
  },
  {
   "cell_type": "code",
   "execution_count": 20,
   "metadata": {},
   "outputs": [],
   "source": [
    "# Split train and test groups using sklearn module\n",
    "from sklearn.model_selection import train_test_split\n",
    "\n",
    "X = data_task2.drop(['y','outliers'], axis=1).values\n",
    "y = data_task2.y.values\n",
    "\n",
    "X_train, X_test, y_train, y_test = train_test_split(X, y, test_size = 0.2, random_state=0)"
   ]
  },
  {
   "cell_type": "code",
   "execution_count": 21,
   "metadata": {},
   "outputs": [
    {
     "name": "stdout",
     "output_type": "stream",
     "text": [
      "Coefficients: [ 3.18946219  0.72611244 -0.29586984]\n",
      "Intercept: 1982.1964160299176\n"
     ]
    }
   ],
   "source": [
    "# Linear regression with outliers\n",
    "from sklearn.linear_model import LinearRegression\n",
    "\n",
    "# Create object\n",
    "lr = LinearRegression()\n",
    "\n",
    "# Fit the model\n",
    "lr.fit(X_train,y_train)\n",
    "\n",
    "# Print the coefficients\n",
    "print('Coefficients:', lr.coef_)\n",
    "print('Intercept:', lr.intercept_)"
   ]
  },
  {
   "cell_type": "code",
   "execution_count": 22,
   "metadata": {},
   "outputs": [
    {
     "name": "stdout",
     "output_type": "stream",
     "text": [
      "Coefficients: [11.70103538  2.21157022 -0.35049233]\n",
      "Intercept: 1413.3620036562397\n"
     ]
    }
   ],
   "source": [
    "# Huber Loss\n",
    "from sklearn.linear_model import HuberRegressor\n",
    "\n",
    "# Create object\n",
    "huber = HuberRegressor(epsilon=1.35)\n",
    "\n",
    "# Fit the model\n",
    "huber.fit(X_train, y_train)\n",
    "\n",
    "# Print the coefficients\n",
    "print('Coefficients:', huber.coef_)\n",
    "print('Intercept:', huber.intercept_)"
   ]
  },
  {
   "cell_type": "code",
   "execution_count": 23,
   "metadata": {},
   "outputs": [
    {
     "name": "stdout",
     "output_type": "stream",
     "text": [
      "MAE LinearRegression: 105\n",
      "MAE HuberRegressor: 84\n"
     ]
    }
   ],
   "source": [
    "# Import MAE function to compare models\n",
    "from sklearn.metrics import mean_absolute_error as MAE\n",
    "print('MAE LinearRegression: {:.0f}'.format(MAE(y_test,lr.predict(X_test))))\n",
    "print('MAE HuberRegressor: {:.0f}'.format(MAE(y_test,huber.predict(X_test))))"
   ]
  },
  {
   "cell_type": "code",
   "execution_count": 24,
   "metadata": {},
   "outputs": [],
   "source": [
    "# LinearRegression without outliers. Decided to remove outliers before doing the test-train split. Is it the best way of doing it?\n",
    "from sklearn.model_selection import train_test_split\n",
    "\n",
    "X_clean = data_task2[~idx].drop(['y','outliers'], axis=1).values\n",
    "y_clean = data_task2[~idx].y.values\n",
    "\n",
    "X_train_clean, X_test_clean, y_train_clean, y_test_clean = train_test_split(X_clean, y_clean, test_size = 0.2, random_state=0)"
   ]
  },
  {
   "cell_type": "code",
   "execution_count": 25,
   "metadata": {},
   "outputs": [
    {
     "name": "stdout",
     "output_type": "stream",
     "text": [
      "Coefficients: [28.02082578  3.71773567  2.55320976]\n",
      "Intercept: 272.75877596699956\n",
      "MAE LinearRegression clean: 51\n"
     ]
    }
   ],
   "source": [
    "# Linear regression without outliers\n",
    "from sklearn.linear_model import LinearRegression\n",
    "\n",
    "# Create object\n",
    "lr_clean = LinearRegression()\n",
    "\n",
    "# Fit the model\n",
    "lr_clean.fit(X_train_clean,y_train_clean)\n",
    "\n",
    "# Print the coefficients\n",
    "print('Coefficients:', lr_clean.coef_)\n",
    "print('Intercept:', lr_clean.intercept_)\n",
    "\n",
    "# MAE\n",
    "print('MAE LinearRegression clean: {:.0f}'.format(MAE(y_test_clean,lr_clean.predict(X_test_clean))))"
   ]
  },
  {
   "cell_type": "code",
   "execution_count": 26,
   "metadata": {},
   "outputs": [],
   "source": [
    "baseline = np.mean(np.abs(y_test_clean - np.median(y_train_clean)))\n",
    "#MAE(y_test_clean,np.median(y_train_clean))\n",
    "# getting error using MAE function"
   ]
  },
  {
   "cell_type": "code",
   "execution_count": 27,
   "metadata": {},
   "outputs": [
    {
     "data": {
      "image/png": "[encoded data removed]",
      "text/plain": [
       "<Figure size 432x288 with 1 Axes>"
      ]
     },
     "metadata": {
      "needs_background": "light"
     },
     "output_type": "display_data"
    }
   ],
   "source": [
    "# Bar chart of MAE of three models to have a vizualiation comparson\n",
    "plt.bar([1, 2, 3, 4], [baseline,MAE(y_test,lr.predict(X_test)),MAE(y_test,huber.predict(X_test)), MAE(y_test_clean,lr_clean.predict(X_test_clean))])\n",
    "plt.xticks([1, 2, 3, 4], ['baseline (median)','lr wiht outliers', 'huber with outliers', 'lr without outliers'])\n",
    "plt.show()"
   ]
  },
  {
   "cell_type": "markdown",
   "metadata": {},
   "source": [
    "**We can indeed see that $HuberRegressor$ and $LinearRegression$ without outliers are both performing better than the $LinearRegression$ with outliers. The best solution which is the $LinearRegression$ without outliers is able to predict house prices with ±50 dollars of errors**"
   ]
  }
 ],
 "metadata": {
  "kernelspec": {
   "display_name": "Python 3",
   "language": "python",
   "name": "python3"
  },
  "language_info": {
   "codemirror_mode": {
    "name": "ipython",
    "version": 3
   },
   "file_extension": ".py",
   "mimetype": "text/x-python",
   "name": "python",
   "nbconvert_exporter": "python",
   "pygments_lexer": "ipython3",
   "version": "3.6.10"
  }
 },
 "nbformat": 4,
 "nbformat_minor": 4
}
